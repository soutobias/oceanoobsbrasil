{
 "cells": [
  {
   "cell_type": "code",
   "execution_count": 60,
   "id": "6c9739c0",
   "metadata": {
    "scrolled": true
   },
   "outputs": [
    {
     "name": "stdout",
     "output_type": "stream",
     "text": [
      "The autoreload extension is already loaded. To reload it, use:\n",
      "  %reload_ext autoreload\n"
     ]
    }
   ],
   "source": [
    "import pandas as pd\n",
    "import numpy as np\n",
    "\n",
    "from selenium import webdriver\n",
    "from selenium.webdriver.common.keys import Keys\n",
    "from selenium.webdriver.common.by import By\n",
    "from selenium.webdriver.support.ui import WebDriverWait\n",
    "from selenium.webdriver.support import expected_conditions as ec\n",
    "from selenium.webdriver.chrome.options import Options\n",
    "from datetime import datetime, timedelta\n",
    "from oceanoobsbrasil.db import GetData\n",
    "from oceanoobsbrasil.utils import *\n",
    "from oceanoobsbrasil.buoys.aqualink import AqualinkBuoy\n",
    "\n",
    "import os\n",
    "from dotenv import load_dotenv\n",
    "\n",
    "from bs4 import BeautifulSoup\n",
    "import re\n",
    "import chromedriver_binary\n",
    "import time\n",
    "\n",
    "%load_ext autoreload\n",
    "%autoreload 2"
   ]
  },
  {
   "cell_type": "code",
   "execution_count": 61,
   "id": "f64defc4",
   "metadata": {},
   "outputs": [],
   "source": [
    "a = AqualinkBuoy()"
   ]
  },
  {
   "cell_type": "code",
   "execution_count": 62,
   "id": "0cc25559",
   "metadata": {},
   "outputs": [
    {
     "name": "stdout",
     "output_type": "stream",
     "text": [
      "       wspd wdir swvht  tp wvdir   sst            date_time station_id\n",
      "0  5.453566  185   1.0  10   160  28.0  2021-11-25 22:00:00       1110\n",
      "driver is running\n",
      "chrome is still running, we can quit\n",
      "driver has died\n"
     ]
    }
   ],
   "source": [
    "a.get()"
   ]
  },
  {
   "cell_type": "code",
   "execution_count": 11,
   "id": "2f36f6bc",
   "metadata": {},
   "outputs": [
    {
     "data": {
      "text/plain": [
       "'https://aqualink.org/sites/1186'"
      ]
     },
     "execution_count": 11,
     "metadata": {},
     "output_type": "execute_result"
    }
   ],
   "source": [
    "url=f\"{a.url}{a.stations.iloc[0].url}\"\n",
    "url"
   ]
  },
  {
   "cell_type": "code",
   "execution_count": 12,
   "id": "17a49dbe",
   "metadata": {},
   "outputs": [],
   "source": [
    "url=f\"{a.url}{a.stations.iloc[0].url}\"\n",
    "a.driver.get(url)\n",
    "time.sleep(10)"
   ]
  },
  {
   "cell_type": "code",
   "execution_count": 13,
   "id": "5f79aa36",
   "metadata": {},
   "outputs": [],
   "source": [
    "soup=BeautifulSoup(a.driver.page_source, 'html.parser')\n"
   ]
  },
  {
   "cell_type": "code",
   "execution_count": 21,
   "id": "bc39895b",
   "metadata": {},
   "outputs": [],
   "source": [
    "l = soup.find(attrs={'class': 'jss138'})"
   ]
  },
  {
   "cell_type": "code",
   "execution_count": 40,
   "id": "3eb81e27",
   "metadata": {},
   "outputs": [
    {
     "data": {
      "text/plain": [
       "'2021-11-25 21:00:00'"
      ]
     },
     "execution_count": 40,
     "metadata": {},
     "output_type": "execute_result"
    }
   ],
   "source": [
    "datetime.now().strftime(\"%Y-%m-%d %H:00:00\")"
   ]
  },
  {
   "cell_type": "code",
   "execution_count": 51,
   "id": "97cb34df",
   "metadata": {},
   "outputs": [
    {
     "data": {
      "text/plain": [
       "'28.0'"
      ]
     },
     "execution_count": 51,
     "metadata": {},
     "output_type": "execute_result"
    }
   ],
   "source": [
    "l = soup.find(attrs={'class': 'jss103'})\n",
    "l.text[0:-2]"
   ]
  },
  {
   "cell_type": "code",
   "execution_count": 29,
   "id": "97ef8c2b",
   "metadata": {},
   "outputs": [
    {
     "data": {
      "text/plain": [
       "'WINDSPEED5.8km/hDIRECTION208°WAVESHEIGHT1.1mPERIOD10sDIRECTION162°Last data received 56 min. agoUpdated hourlyLIVE'"
      ]
     },
     "execution_count": 29,
     "metadata": {},
     "output_type": "execute_result"
    }
   ],
   "source": [
    "text = l.text\n",
    "text"
   ]
  },
  {
   "cell_type": "code",
   "execution_count": 35,
   "id": "85a3de30",
   "metadata": {},
   "outputs": [],
   "source": [
    "text = l.text\n",
    "text = text.replace('WINDSPEED', '')\n",
    "text = text.replace('km/hDIRECTION', ',')\n",
    "text = text.replace('°WAVESHEIGHT', ',')\n",
    "text = text.replace('mPERIOD', ',')\n",
    "text = text.replace('sDIRECTION', ',')\n",
    "text = text.replace('°Last data received ', ',')\n",
    "text = text.replace(' ',',')\n",
    "text = text.split(',')[0:7]"
   ]
  },
  {
   "cell_type": "code",
   "execution_count": 36,
   "id": "5e38e5f5",
   "metadata": {},
   "outputs": [
    {
     "data": {
      "text/plain": [
       "'min.'"
      ]
     },
     "execution_count": 36,
     "metadata": {},
     "output_type": "execute_result"
    }
   ],
   "source": [
    "text[-1]"
   ]
  },
  {
   "cell_type": "code",
   "execution_count": null,
   "id": "18f2a3d6",
   "metadata": {},
   "outputs": [],
   "source": [
    "options = Options()\n",
    "self.options = def_args_prefs(self.options, self.args, self.preferences)\n",
    "self.driver = webdriver.Chrome(options=self.options)\n",
    "\n",
    "self.db = GetData()\n",
    "self.equip = equip\n",
    "self.stations = self.db.get(table='stations', institution=['=', 'aqualink'], data_type=['=', self.equip])\n",
    "\n",
    "self.url='https://aqualink.org/sites/'"
   ]
  },
  {
   "cell_type": "code",
   "execution_count": null,
   "id": "4e846fd5",
   "metadata": {},
   "outputs": [],
   "source": []
  },
  {
   "cell_type": "code",
   "execution_count": 34,
   "id": "ba76978a",
   "metadata": {
    "scrolled": true
   },
   "outputs": [],
   "source": [
    "p = PEBuoy()"
   ]
  },
  {
   "cell_type": "code",
   "execution_count": 35,
   "id": "6fffe408",
   "metadata": {},
   "outputs": [
    {
     "name": "stdout",
     "output_type": "stream",
     "text": [
      "354.99750039428926\n",
      "driver is running\n",
      "chrome is still running, we can quit\n",
      "driver has died\n"
     ]
    }
   ],
   "source": [
    "p.get()"
   ]
  },
  {
   "cell_type": "code",
   "execution_count": 62,
   "id": "c78bb091",
   "metadata": {},
   "outputs": [
    {
     "data": {
      "text/html": [
       "<div>\n",
       "<style scoped>\n",
       "    .dataframe tbody tr th:only-of-type {\n",
       "        vertical-align: middle;\n",
       "    }\n",
       "\n",
       "    .dataframe tbody tr th {\n",
       "        vertical-align: top;\n",
       "    }\n",
       "\n",
       "    .dataframe thead th {\n",
       "        text-align: right;\n",
       "    }\n",
       "</style>\n",
       "<table border=\"1\" class=\"dataframe\">\n",
       "  <thead>\n",
       "    <tr style=\"text-align: right;\">\n",
       "      <th></th>\n",
       "      <th>date_time</th>\n",
       "      <th>wvdir</th>\n",
       "      <th>swvht</th>\n",
       "      <th>wvdir_sea</th>\n",
       "      <th>swvht_sea</th>\n",
       "      <th>wvdir_swell</th>\n",
       "      <th>swvht_swell</th>\n",
       "      <th>wspd</th>\n",
       "      <th>gust</th>\n",
       "      <th>wdir</th>\n",
       "      <th>station_id</th>\n",
       "    </tr>\n",
       "  </thead>\n",
       "  <tbody>\n",
       "    <tr>\n",
       "      <th>0</th>\n",
       "      <td>2021-09-12 19:50:00</td>\n",
       "      <td>125</td>\n",
       "      <td>1.52</td>\n",
       "      <td>102</td>\n",
       "      <td>1.36</td>\n",
       "      <td>138</td>\n",
       "      <td>0.69</td>\n",
       "      <td>5.19</td>\n",
       "      <td>5.96</td>\n",
       "      <td>203</td>\n",
       "      <td>895</td>\n",
       "    </tr>\n",
       "  </tbody>\n",
       "</table>\n",
       "</div>"
      ],
      "text/plain": [
       "            date_time wvdir swvht wvdir_sea swvht_sea wvdir_swell swvht_swell  \\\n",
       "0 2021-09-12 19:50:00   125  1.52       102      1.36         138        0.69   \n",
       "\n",
       "   wspd  gust wdir station_id  \n",
       "0  5.19  5.96  203        895  "
      ]
     },
     "execution_count": 62,
     "metadata": {},
     "output_type": "execute_result"
    }
   ],
   "source": [
    "p.result"
   ]
  },
  {
   "cell_type": "code",
   "execution_count": 63,
   "id": "c0172710",
   "metadata": {},
   "outputs": [
    {
     "data": {
      "text/plain": [
       "'Senhachata1!'"
      ]
     },
     "execution_count": 63,
     "metadata": {},
     "output_type": "execute_result"
    }
   ],
   "source": [
    "os.getenv('SE_PWD')"
   ]
  },
  {
   "cell_type": "code",
   "execution_count": null,
   "id": "ca09d78d",
   "metadata": {},
   "outputs": [],
   "source": []
  }
 ],
 "metadata": {
  "kernelspec": {
   "display_name": "Python 3 (ipykernel)",
   "language": "python",
   "name": "python3"
  },
  "language_info": {
   "codemirror_mode": {
    "name": "ipython",
    "version": 3
   },
   "file_extension": ".py",
   "mimetype": "text/x-python",
   "name": "python",
   "nbconvert_exporter": "python",
   "pygments_lexer": "ipython3",
   "version": "3.8.6"
  },
  "toc": {
   "base_numbering": 1,
   "nav_menu": {},
   "number_sections": true,
   "sideBar": true,
   "skip_h1_title": false,
   "title_cell": "Table of Contents",
   "title_sidebar": "Contents",
   "toc_cell": false,
   "toc_position": {},
   "toc_section_display": true,
   "toc_window_display": false
  }
 },
 "nbformat": 4,
 "nbformat_minor": 5
}
