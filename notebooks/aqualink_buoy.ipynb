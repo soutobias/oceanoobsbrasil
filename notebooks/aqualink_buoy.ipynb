{
 "cells": [
  {
   "cell_type": "code",
   "execution_count": 3,
   "id": "6c9739c0",
   "metadata": {
    "scrolled": true
   },
   "outputs": [
    {
     "name": "stdout",
     "output_type": "stream",
     "text": [
      "The autoreload extension is already loaded. To reload it, use:\n",
      "  %reload_ext autoreload\n"
     ]
    }
   ],
   "source": [
    "import pandas as pd\n",
    "import numpy as np\n",
    "\n",
    "from selenium import webdriver\n",
    "from selenium.webdriver.common.keys import Keys\n",
    "from selenium.webdriver.common.by import By\n",
    "from selenium.webdriver.support.ui import WebDriverWait\n",
    "from selenium.webdriver.support import expected_conditions as ec\n",
    "from selenium.webdriver.chrome.options import Options\n",
    "from datetime import datetime, timedelta\n",
    "from oceanoobsbrasil.db import GetData\n",
    "from oceanoobsbrasil.utils import *\n",
    "from oceanoobsbrasil.buoys.aqualink import AqualinkBuoy\n",
    "\n",
    "import os\n",
    "from dotenv import load_dotenv\n",
    "\n",
    "from bs4 import BeautifulSoup\n",
    "import re\n",
    "import chromedriver_binary\n",
    "import time\n",
    "\n",
    "%load_ext autoreload\n",
    "%autoreload 2"
   ]
  },
  {
   "cell_type": "code",
   "execution_count": 34,
   "id": "f64defc4",
   "metadata": {},
   "outputs": [],
   "source": [
    "a = AqualinkBuoy()"
   ]
  },
  {
   "cell_type": "code",
   "execution_count": 35,
   "id": "a45c82e9",
   "metadata": {},
   "outputs": [
    {
     "data": {
      "text/html": [
       "<div>\n",
       "<style scoped>\n",
       "    .dataframe tbody tr th:only-of-type {\n",
       "        vertical-align: middle;\n",
       "    }\n",
       "\n",
       "    .dataframe tbody tr th {\n",
       "        vertical-align: top;\n",
       "    }\n",
       "\n",
       "    .dataframe thead th {\n",
       "        text-align: right;\n",
       "    }\n",
       "</style>\n",
       "<table border=\"1\" class=\"dataframe\">\n",
       "  <thead>\n",
       "    <tr style=\"text-align: right;\">\n",
       "      <th></th>\n",
       "      <th>id</th>\n",
       "      <th>name</th>\n",
       "      <th>lat</th>\n",
       "      <th>lon</th>\n",
       "      <th>data_type</th>\n",
       "      <th>institution</th>\n",
       "      <th>url</th>\n",
       "      <th>flag</th>\n",
       "    </tr>\n",
       "  </thead>\n",
       "  <tbody>\n",
       "    <tr>\n",
       "      <th>0</th>\n",
       "      <td>1217</td>\n",
       "      <td>Ilha do Farol</td>\n",
       "      <td>-23.001</td>\n",
       "      <td>-42.007</td>\n",
       "      <td>buoy</td>\n",
       "      <td>aqualink</td>\n",
       "      <td>1187</td>\n",
       "      <td>True</td>\n",
       "    </tr>\n",
       "    <tr>\n",
       "      <th>1</th>\n",
       "      <td>1230</td>\n",
       "      <td>Fernando de Noronha</td>\n",
       "      <td>-3.859</td>\n",
       "      <td>-32.449</td>\n",
       "      <td>buoy</td>\n",
       "      <td>aqualink</td>\n",
       "      <td>1186</td>\n",
       "      <td>True</td>\n",
       "    </tr>\n",
       "  </tbody>\n",
       "</table>\n",
       "</div>"
      ],
      "text/plain": [
       "     id                 name     lat     lon data_type institution   url  flag\n",
       "0  1217        Ilha do Farol -23.001 -42.007      buoy    aqualink  1187  True\n",
       "1  1230  Fernando de Noronha  -3.859 -32.449      buoy    aqualink  1186  True"
      ]
     },
     "execution_count": 35,
     "metadata": {},
     "output_type": "execute_result"
    }
   ],
   "source": [
    "a.stations"
   ]
  },
  {
   "cell_type": "code",
   "execution_count": 36,
   "id": "0cc25559",
   "metadata": {},
   "outputs": [
    {
     "name": "stdout",
     "output_type": "stream",
     "text": [
      "https://aqualink.org/sites/1187\n",
      "WINDSPEED4.3km/hDIRECTION125°WAVESHEIGHT0.3mPERIOD5sDIRECTION320°Last data received 20 min. agoUpdated hourlyLIVE\n",
      "['4.3', '125', '0.3', '5', '320', '20', 'min.']\n",
      "       wspd wdir swvht tp wvdir   sst            date_time station_id\n",
      "0  2.321815  125   0.3  5   320  24.9  2024-01-21 18:00:00       1217\n",
      "https://aqualink.org/sites/1186\n",
      "WINDSPEED11.5km/hDIRECTION17°WAVESHEIGHT1.3mPERIOD8sDIRECTION343°Last data received 29 min. agoUpdated hourlyLIVE\n",
      "['11.5', '17', '1.3', '8', '343', '29', 'min.']\n",
      "       wspd wdir swvht tp wvdir   sst            date_time station_id\n",
      "0  6.209506   17   1.3  8   343  28.8  2024-01-21 18:00:00       1230\n",
      "driver is running\n",
      "chrome is still running, we can quit\n",
      "driver has died\n"
     ]
    }
   ],
   "source": [
    "a.get()"
   ]
  },
  {
   "cell_type": "code",
   "execution_count": 16,
   "id": "8c8d6b04",
   "metadata": {},
   "outputs": [],
   "source": [
    "a.driver = webdriver.Chrome(options=a.options)\n",
    "a.driver.get('https://aqualink.org/sites/1187')"
   ]
  },
  {
   "cell_type": "code",
   "execution_count": 17,
   "id": "ad1f2bcb",
   "metadata": {},
   "outputs": [],
   "source": [
    "soup=BeautifulSoup(a.driver.page_source, 'html.parser')"
   ]
  },
  {
   "cell_type": "code",
   "execution_count": 18,
   "id": "ef479be6-1355-4991-a7f2-95c53c1ef930",
   "metadata": {},
   "outputs": [],
   "source": [
    "elements = soup.find_all(attrs={'class': 'MuiCard-root'})"
   ]
  },
  {
   "cell_type": "code",
   "execution_count": 28,
   "id": "b4a7cd12-e3b2-424d-87ba-838e742d1240",
   "metadata": {},
   "outputs": [
    {
     "data": {
      "text/plain": [
       "'HEAT STRESS ALERT LEVELLast data received 6 days agoUpdated dailyNOAA CRW'"
      ]
     },
     "execution_count": 28,
     "metadata": {},
     "output_type": "execute_result"
    }
   ],
   "source": [
    "elements[3].text"
   ]
  },
  {
   "cell_type": "code",
   "execution_count": 29,
   "id": "dc73fdf4-af7d-4385-8c80-ece6b8a8931a",
   "metadata": {},
   "outputs": [
    {
     "data": {
      "text/plain": [
       "True"
      ]
     },
     "execution_count": 29,
     "metadata": {},
     "output_type": "execute_result"
    }
   ],
   "source": [
    "'WIND' in elements[4].text"
   ]
  },
  {
   "cell_type": "code",
   "execution_count": 30,
   "id": "062d4332-5b24-4305-83f9-f9c8640dda3c",
   "metadata": {},
   "outputs": [],
   "source": [
    "text = elements[4].text"
   ]
  },
  {
   "cell_type": "code",
   "execution_count": 31,
   "id": "a50ed612-88a7-4967-8ed0-ffe01fcb558f",
   "metadata": {},
   "outputs": [
    {
     "data": {
      "text/plain": [
       "'WINDSPEED4.3km/hDIRECTION120°WAVESHEIGHT0.3mPERIOD5sDIRECTION324°Last data received 2 hours agoUpdated hourlyLIVE'"
      ]
     },
     "execution_count": 31,
     "metadata": {},
     "output_type": "execute_result"
    }
   ],
   "source": [
    "text"
   ]
  },
  {
   "cell_type": "code",
   "execution_count": 32,
   "id": "4b8c0621-387e-4598-9c2c-e41a9b293171",
   "metadata": {},
   "outputs": [],
   "source": [
    "text = text.replace(\"WINDSPEED\", \"\")\n",
    "text = text.replace(\"km/hDIRECTION\", \",\")\n",
    "text = text.replace(\"°WAVESHEIGHT\", \",\")\n",
    "text = text.replace(\"mPERIOD\", \",\")\n",
    "text = text.replace(\"sDIRECTION\", \",\")\n",
    "text = text.replace(\"°Last data received \", \",\")\n",
    "text = text.replace(\" \", \",\")"
   ]
  },
  {
   "cell_type": "code",
   "execution_count": 33,
   "id": "ceb0b73d-e49f-44b0-b19a-42d868a6dc91",
   "metadata": {},
   "outputs": [
    {
     "data": {
      "text/plain": [
       "'4.3,120,0.3,5,324,2,hours,agoUpdated,hourlyLIVE'"
      ]
     },
     "execution_count": 33,
     "metadata": {},
     "output_type": "execute_result"
    }
   ],
   "source": [
    "text"
   ]
  },
  {
   "cell_type": "code",
   "execution_count": null,
   "id": "a1d39518-3e0d-4595-a3b2-7aa4e7bed5ed",
   "metadata": {},
   "outputs": [],
   "source": [
    "columns = [\"wspd\", \"wdir\", \"swvht\", \"tp\", \"wvdir\"]\n",
    "values = np.array(elements[2].text[0:5])"
   ]
  },
  {
   "cell_type": "code",
   "execution_count": 24,
   "id": "54020928-5b3d-4756-a662-b23ba570f20c",
   "metadata": {},
   "outputs": [
    {
     "data": {
      "text/plain": [
       "'BUOY OBSERVATIONTEMP AT 1m25.0°CTEMP AT 6m24.6°CLast data received 42 min. agoUpdated hourlyLIVE'"
      ]
     },
     "execution_count": 24,
     "metadata": {},
     "output_type": "execute_result"
    }
   ],
   "source": [
    "elements[2].text\n",
    "        "
   ]
  },
  {
   "cell_type": "code",
   "execution_count": 20,
   "id": "5a86c587",
   "metadata": {},
   "outputs": [
    {
     "data": {
      "text/plain": [
       "'WINDSPEED34.7km/hDIRECTION56°WAVESHEIGHT1.3mPERIOD5sDIRECTION82°Valid 1 hour agoUpdated every 6 hoursSOFAR MODEL'"
      ]
     },
     "execution_count": 20,
     "metadata": {},
     "output_type": "execute_result"
    }
   ],
   "source": [
    "soup.find_all(attrs={'class': 'MuiCard-root'})[4].text"
   ]
  },
  {
   "cell_type": "code",
   "execution_count": 15,
   "id": "4c263905",
   "metadata": {},
   "outputs": [
    {
     "data": {
      "text/plain": [
       "'SATELLITE OBSERVATIONSURFACE TEMP24.3°CHISTORICAL MAX25.4°CDEGREE HEATING WEEKS0.0SST ANOMALY-1.0°C0246810121416182025Last data received 1 day agoUpdated dailyNOAA'"
      ]
     },
     "execution_count": 15,
     "metadata": {},
     "output_type": "execute_result"
    }
   ],
   "source": [
    "soup.find_all(attrs={'class': 'MuiCard-root'})[1].text"
   ]
  },
  {
   "cell_type": "code",
   "execution_count": 40,
   "id": "bc9cda8d",
   "metadata": {},
   "outputs": [
    {
     "data": {
      "text/plain": [
       "'27.8'"
      ]
     },
     "execution_count": 40,
     "metadata": {},
     "output_type": "execute_result"
    }
   ],
   "source": [
    "text = a.soup.find_all(attrs={'class': 'MuiCard-root'})[1].text\n",
    "text = text.replace('BUOY OBSERVATIONTEMP AT 1m', '')\n",
    "text = text.split('°')[0]\n",
    "text"
   ]
  },
  {
   "cell_type": "code",
   "execution_count": 26,
   "id": "8edcc53d",
   "metadata": {},
   "outputs": [],
   "source": [
    "text = x\n",
    "text = text.replace('WINDSPEED', '')\n",
    "text = text.replace('km/hDIRECTION', ',')\n",
    "text = text.replace('°WAVESHEIGHT', ',')\n",
    "text = text.replace('mPERIOD', ',')\n",
    "text = text.replace('sDIRECTION', ',')\n",
    "text = text.replace('°Last data received ', ',')\n",
    "text = text.replace(' ',',')\n",
    "text = text.split(',')[0:7]"
   ]
  },
  {
   "cell_type": "code",
   "execution_count": 28,
   "id": "b1dcf68c",
   "metadata": {},
   "outputs": [
    {
     "data": {
      "text/plain": [
       "'WINDSPEED5.8km/hDIRECTION302°WAVESHEIGHT0.8mPERIOD9sDIRECTION340°Last data received 59 min. agoUpdated hourlyLIVE'"
      ]
     },
     "execution_count": 28,
     "metadata": {},
     "output_type": "execute_result"
    }
   ],
   "source": [
    "x"
   ]
  },
  {
   "cell_type": "code",
   "execution_count": 11,
   "id": "2f36f6bc",
   "metadata": {},
   "outputs": [
    {
     "data": {
      "text/plain": [
       "'https://aqualink.org/sites/1186'"
      ]
     },
     "execution_count": 11,
     "metadata": {},
     "output_type": "execute_result"
    }
   ],
   "source": [
    "url=f\"{a.url}{a.stations.iloc[0].url}\"\n",
    "url"
   ]
  },
  {
   "cell_type": "code",
   "execution_count": 12,
   "id": "17a49dbe",
   "metadata": {},
   "outputs": [],
   "source": [
    "url=f\"{a.url}{a.stations.iloc[0].url}\"\n",
    "a.driver.get(url)\n",
    "time.sleep(10)"
   ]
  },
  {
   "cell_type": "code",
   "execution_count": 13,
   "id": "5f79aa36",
   "metadata": {},
   "outputs": [],
   "source": [
    "soup=BeautifulSoup(a.driver.page_source, 'html.parser')\n"
   ]
  },
  {
   "cell_type": "code",
   "execution_count": 21,
   "id": "bc39895b",
   "metadata": {},
   "outputs": [],
   "source": [
    "l = soup.find(attrs={'class': 'jss138'})"
   ]
  },
  {
   "cell_type": "code",
   "execution_count": 40,
   "id": "3eb81e27",
   "metadata": {},
   "outputs": [
    {
     "data": {
      "text/plain": [
       "'2021-11-25 21:00:00'"
      ]
     },
     "execution_count": 40,
     "metadata": {},
     "output_type": "execute_result"
    }
   ],
   "source": [
    "datetime.now().strftime(\"%Y-%m-%d %H:00:00\")"
   ]
  },
  {
   "cell_type": "code",
   "execution_count": 51,
   "id": "97cb34df",
   "metadata": {},
   "outputs": [
    {
     "data": {
      "text/plain": [
       "'28.0'"
      ]
     },
     "execution_count": 51,
     "metadata": {},
     "output_type": "execute_result"
    }
   ],
   "source": [
    "l = soup.find(attrs={'class': 'jss103'})\n",
    "l.text[0:-2]"
   ]
  },
  {
   "cell_type": "code",
   "execution_count": 29,
   "id": "97ef8c2b",
   "metadata": {},
   "outputs": [
    {
     "data": {
      "text/plain": [
       "'WINDSPEED5.8km/hDIRECTION208°WAVESHEIGHT1.1mPERIOD10sDIRECTION162°Last data received 56 min. agoUpdated hourlyLIVE'"
      ]
     },
     "execution_count": 29,
     "metadata": {},
     "output_type": "execute_result"
    }
   ],
   "source": [
    "text = l.text\n",
    "text"
   ]
  },
  {
   "cell_type": "code",
   "execution_count": 35,
   "id": "85a3de30",
   "metadata": {},
   "outputs": [],
   "source": [
    "text = l.text\n",
    "text = text.replace('WINDSPEED', '')\n",
    "text = text.replace('km/hDIRECTION', ',')\n",
    "text = text.replace('°WAVESHEIGHT', ',')\n",
    "text = text.replace('mPERIOD', ',')\n",
    "text = text.replace('sDIRECTION', ',')\n",
    "text = text.replace('°Last data received ', ',')\n",
    "text = text.replace(' ',',')\n",
    "text = text.split(',')[0:7]"
   ]
  },
  {
   "cell_type": "code",
   "execution_count": 36,
   "id": "5e38e5f5",
   "metadata": {},
   "outputs": [
    {
     "data": {
      "text/plain": [
       "'min.'"
      ]
     },
     "execution_count": 36,
     "metadata": {},
     "output_type": "execute_result"
    }
   ],
   "source": [
    "text[-1]"
   ]
  },
  {
   "cell_type": "code",
   "execution_count": null,
   "id": "18f2a3d6",
   "metadata": {},
   "outputs": [],
   "source": [
    "options = Options()\n",
    "self.options = def_args_prefs(self.options, self.args, self.preferences)\n",
    "self.driver = webdriver.Chrome(options=self.options)\n",
    "\n",
    "self.db = GetData()\n",
    "self.equip = equip\n",
    "self.stations = self.db.get(table='stations', institution=['=', 'aqualink'], data_type=['=', self.equip])\n",
    "\n",
    "self.url='https://aqualink.org/sites/'"
   ]
  },
  {
   "cell_type": "code",
   "execution_count": null,
   "id": "4e846fd5",
   "metadata": {},
   "outputs": [],
   "source": []
  },
  {
   "cell_type": "code",
   "execution_count": 34,
   "id": "ba76978a",
   "metadata": {
    "scrolled": true
   },
   "outputs": [],
   "source": [
    "p = PEBuoy()"
   ]
  },
  {
   "cell_type": "code",
   "execution_count": 35,
   "id": "6fffe408",
   "metadata": {},
   "outputs": [
    {
     "name": "stdout",
     "output_type": "stream",
     "text": [
      "354.99750039428926\n",
      "driver is running\n",
      "chrome is still running, we can quit\n",
      "driver has died\n"
     ]
    }
   ],
   "source": [
    "p.get()"
   ]
  },
  {
   "cell_type": "code",
   "execution_count": 62,
   "id": "c78bb091",
   "metadata": {},
   "outputs": [
    {
     "data": {
      "text/html": [
       "<div>\n",
       "<style scoped>\n",
       "    .dataframe tbody tr th:only-of-type {\n",
       "        vertical-align: middle;\n",
       "    }\n",
       "\n",
       "    .dataframe tbody tr th {\n",
       "        vertical-align: top;\n",
       "    }\n",
       "\n",
       "    .dataframe thead th {\n",
       "        text-align: right;\n",
       "    }\n",
       "</style>\n",
       "<table border=\"1\" class=\"dataframe\">\n",
       "  <thead>\n",
       "    <tr style=\"text-align: right;\">\n",
       "      <th></th>\n",
       "      <th>date_time</th>\n",
       "      <th>wvdir</th>\n",
       "      <th>swvht</th>\n",
       "      <th>wvdir_sea</th>\n",
       "      <th>swvht_sea</th>\n",
       "      <th>wvdir_swell</th>\n",
       "      <th>swvht_swell</th>\n",
       "      <th>wspd</th>\n",
       "      <th>gust</th>\n",
       "      <th>wdir</th>\n",
       "      <th>station_id</th>\n",
       "    </tr>\n",
       "  </thead>\n",
       "  <tbody>\n",
       "    <tr>\n",
       "      <th>0</th>\n",
       "      <td>2021-09-12 19:50:00</td>\n",
       "      <td>125</td>\n",
       "      <td>1.52</td>\n",
       "      <td>102</td>\n",
       "      <td>1.36</td>\n",
       "      <td>138</td>\n",
       "      <td>0.69</td>\n",
       "      <td>5.19</td>\n",
       "      <td>5.96</td>\n",
       "      <td>203</td>\n",
       "      <td>895</td>\n",
       "    </tr>\n",
       "  </tbody>\n",
       "</table>\n",
       "</div>"
      ],
      "text/plain": [
       "            date_time wvdir swvht wvdir_sea swvht_sea wvdir_swell swvht_swell  \\\n",
       "0 2021-09-12 19:50:00   125  1.52       102      1.36         138        0.69   \n",
       "\n",
       "   wspd  gust wdir station_id  \n",
       "0  5.19  5.96  203        895  "
      ]
     },
     "execution_count": 62,
     "metadata": {},
     "output_type": "execute_result"
    }
   ],
   "source": [
    "p.result"
   ]
  },
  {
   "cell_type": "code",
   "execution_count": null,
   "id": "ca09d78d",
   "metadata": {},
   "outputs": [],
   "source": []
  }
 ],
 "metadata": {
  "kernelspec": {
   "display_name": "Python 3 (ipykernel)",
   "language": "python",
   "name": "python3"
  },
  "language_info": {
   "codemirror_mode": {
    "name": "ipython",
    "version": 3
   },
   "file_extension": ".py",
   "mimetype": "text/x-python",
   "name": "python",
   "nbconvert_exporter": "python",
   "pygments_lexer": "ipython3",
   "version": "3.8.12"
  },
  "toc": {
   "base_numbering": 1,
   "nav_menu": {},
   "number_sections": true,
   "sideBar": true,
   "skip_h1_title": false,
   "title_cell": "Table of Contents",
   "title_sidebar": "Contents",
   "toc_cell": false,
   "toc_position": {},
   "toc_section_display": true,
   "toc_window_display": false
  }
 },
 "nbformat": 4,
 "nbformat_minor": 5
}
