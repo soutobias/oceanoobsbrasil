{
 "cells": [
  {
   "cell_type": "code",
   "execution_count": 149,
   "id": "f215703f",
   "metadata": {},
   "outputs": [
    {
     "name": "stdout",
     "output_type": "stream",
     "text": [
      "The autoreload extension is already loaded. To reload it, use:\n",
      "  %reload_ext autoreload\n"
     ]
    }
   ],
   "source": [
    "import pandas as pd\n",
    "from datetime import datetime, timedelta\n",
    "from oceanoobsbrasil.db import GetData\n",
    "import podaac.podaac as podaac\n",
    "from pprint import pprint\n",
    "from podaac import podaac_utils as utils\n",
    "from podaac import drive as drive\n",
    "import xarray as xr\n",
    "import xmltodict\n",
    "%load_ext autoreload\n",
    "%autoreload 2\n",
    "import time\n",
    "import re\n",
    "import ftplib\n",
    "from netCDF4 import Dataset\n",
    "import numpy as np\n",
    "from oceanoobsbrasil.get_altimeter import Altimeter\n"
   ]
  },
  {
   "cell_type": "code",
   "execution_count": 198,
   "id": "7b2d29fd",
   "metadata": {},
   "outputs": [],
   "source": [
    "a = Altimeter()"
   ]
  },
  {
   "cell_type": "code",
   "execution_count": 200,
   "id": "86e87ae1",
   "metadata": {},
   "outputs": [],
   "source": [
    "a.get()"
   ]
  },
  {
   "cell_type": "code",
   "execution_count": null,
   "id": "7091a3dd",
   "metadata": {},
   "outputs": [],
   "source": []
  }
 ],
 "metadata": {
  "kernelspec": {
   "display_name": "Python 3 (ipykernel)",
   "language": "python",
   "name": "python3"
  },
  "language_info": {
   "codemirror_mode": {
    "name": "ipython",
    "version": 3
   },
   "file_extension": ".py",
   "mimetype": "text/x-python",
   "name": "python",
   "nbconvert_exporter": "python",
   "pygments_lexer": "ipython3",
   "version": "3.8.6"
  },
  "toc": {
   "base_numbering": 1,
   "nav_menu": {},
   "number_sections": true,
   "sideBar": true,
   "skip_h1_title": false,
   "title_cell": "Table of Contents",
   "title_sidebar": "Contents",
   "toc_cell": false,
   "toc_position": {},
   "toc_section_display": true,
   "toc_window_display": false
  }
 },
 "nbformat": 4,
 "nbformat_minor": 5
}
