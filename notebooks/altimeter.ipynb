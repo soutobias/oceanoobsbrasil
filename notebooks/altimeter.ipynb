{
 "cells": [
  {
   "cell_type": "code",
   "execution_count": 15,
   "id": "f215703f",
   "metadata": {},
   "outputs": [
    {
     "name": "stdout",
     "output_type": "stream",
     "text": [
      "The autoreload extension is already loaded. To reload it, use:\n",
      "  %reload_ext autoreload\n"
     ]
    }
   ],
   "source": [
    "\n",
    "import pandas as pd\n",
    "from datetime import datetime, timedelta\n",
    "from oceanoobsbrasil.bd import GetData\n",
    "import podaac.podaac as podaac\n",
    "from pprint import pprint\n",
    "from podaac import podaac_utils as utils\n",
    "from podaac import drive as drive\n",
    "\n",
    "import xmltodict\n",
    "%load_ext autoreload\n",
    "%autoreload 2"
   ]
  },
  {
   "cell_type": "code",
   "execution_count": 19,
   "id": "eabb37f7",
   "metadata": {},
   "outputs": [
    {
     "name": "stdout",
     "output_type": "stream",
     "text": [
      "/home/soutobias/code/soutobias/personal_codes/remobs/oceanoobsbrasil/notebooks\r\n"
     ]
    }
   ],
   "source": [
    "!pwd"
   ]
  },
  {
   "cell_type": "code",
   "execution_count": null,
   "id": "d2deb870",
   "metadata": {},
   "outputs": [],
   "source": [
    "[drive]\n",
    "urs_username = podaacpy\n",
    "urs_password = hZHYQ17yuag25zivK8F\n",
    "webdav_url = https://podaac-tools.jpl.nasa.gov/drive/files\n"
   ]
  },
  {
   "cell_type": "code",
   "execution_count": 21,
   "id": "69f37462",
   "metadata": {},
   "outputs": [],
   "source": [
    "p = podaac.Podaac()\n",
    "u = utils.PodaacUtils()\n",
    "d = drive.Drive(None, \"podaacpy\", \"hZHYQ17yuag25zivK8F\")"
   ]
  },
  {
   "cell_type": "code",
   "execution_count": null,
   "id": "af595fa8",
   "metadata": {},
   "outputs": [],
   "source": [
    "        lat=[-36, 8],\n",
    "        lat_step=4,\n",
    "        lon=[-50, -20],"
   ]
  },
  {
   "cell_type": "code",
   "execution_count": 47,
   "id": "23ea0821",
   "metadata": {},
   "outputs": [
    {
     "name": "stdout",
     "output_type": "stream",
     "text": [
      "<?xml version=\"1.0\" ?>\n",
      "<feed xmlns=\"http://www.w3.org/2005/Atom\" xmlns:dc=\"http://purl.org/dc/terms/\" xmlns:georss=\"http://www.georss.org/georss\" xmlns:gml=\"http://www.opengis.net/gml\" xmlns:opensearch=\"http://a9.com/-/spec/opensearch/1.1/\" xmlns:podaac=\"https://podaac.jpl.nasa.gov/opensearch/\" xmlns:time=\"http://a9.com/-/opensearch/extensions/time/1.0/\">\n",
      "\t<title>PO.DAAC Dataset Search Results</title>\n",
      "\t<updated>2021-10-04T22:57:08.989004Z</updated>\n",
      "\t<id>tag:podaac.jpl.nasa.gov:8890,2021-10-04</id>\n",
      "\t<author>\n",
      "\t\t<name>PO.DAAC Dataset Search Service</name>\n",
      "\t</author>\n",
      "\t<link href=\"https://podaac.jpl.nasa.gov/ws/search/podaac-granule-osd.xml\" rel=\"search\" type=\"application/opensearchdescription+xml\"/>\n",
      "\t<link href=\"https://podaac.jpl.nasa.gov/ws/search/dataset?full=true&amp;format=atom&amp;startTime=2021-09-12T00%3A00%3A01Z&amp;endTime=2021-09-14T11%3A59%3A59Z&amp;shortName=JASON_3_L2_OST_OGDR_GPS&amp;processLevel=2&amp;bbox=-50%2C-36%2C-20%2C8&amp;startIndex=0\" rel=\"self\" type=\"application/atom+xml\"/>\n",
      "\t<link href=\"https://podaac.jpl.nasa.gov/ws/search/dataset?full=true&amp;format=atom&amp;startTime=2021-09-12T00%3A00%3A01Z&amp;endTime=2021-09-14T11%3A59%3A59Z&amp;shortName=JASON_3_L2_OST_OGDR_GPS&amp;processLevel=2&amp;bbox=-50%2C-36%2C-20%2C8&amp;startIndex=0\" rel=\"first\" type=\"application/atom+xml\"/>\n",
      "\t<opensearch:totalResults>1</opensearch:totalResults>\n",
      "\t<opensearch:startIndex>0</opensearch:startIndex>\n",
      "\t<opensearch:itemsPerPage>50</opensearch:itemsPerPage>\n",
      "\t<entry>\n",
      "\t\t<title>Jason-3 GPS based orbit and SSHA OGDR</title>\n",
      "\t\t<content>This is a near real time dataset that provides a GPS based orbit and Sea Surface Height Anomalies (SSHA) from that orbit. It is similar to the Jason-3 Operation Geophysical Data Record (OGDR) that is distributed at NOAA (http://www.nodc.noaa.gov/sog/jason/), but includes the GPS orbit and SSHA as two additional variables. It has a 5 hour time lag due to the time needed to calculate the GPS orbit and SSHA.  The GPS orbits have been shown to be more accurate than the DORIS orbits on a near real time scale and therefore produces a more accurate SSHA.</content>\n",
      "\t\t<link href=\"https://podaac.jpl.nasa.gov/ws/search/dataset?datasetId=PODAAC-J2OGR-GPSHA&amp;full=true\" rel=\"enclosure\" title=\"PO.DAAC Metadata\" type=\"application/atom+xml\"/>\n",
      "\t\t<link href=\"https://podaac.jpl.nasa.gov/ws/metadata/dataset?datasetId=PODAAC-J2OGR-GPSHA&amp;format=iso\" rel=\"enclosure\" title=\"ISO-19115 Metadata\" type=\"text/xml\"/>\n",
      "\t\t<link href=\"https://podaac.jpl.nasa.gov/ws/metadata/dataset?datasetId=PODAAC-J2OGR-GPSHA&amp;format=gcmd\" rel=\"enclosure\" title=\"GCMD Metadata\" type=\"text/xml\"/>\n",
      "\t\t<link href=\"https://podaac.jpl.nasa.gov/ws/search/granule?startTime=2021-09-12T00%3A00%3A01Z&amp;endTime=2021-09-14T11%3A59%3A59Z&amp;bbox=-50%2C-36%2C-20%2C8&amp;datasetId=PODAAC-J2OGR-GPSHA\" rel=\"search\" title=\"Granule Search\" type=\"application/atom+xml\"/>\n",
      "\t\t<link href=\"https://podaac.jpl.nasa.gov/Podaac/thumbnails/JASON_3_L2_OST_OGDR_GPS.jpg\" rel=\"enclosure\" title=\"Thumbnail\" type=\"image/jpg\"/>\n",
      "\t\t<link href=\"https://podaac-opendap.jpl.nasa.gov/opendap/allData/jason3/preview/L2/GPS-OGDR/\" rel=\"enclosure\" title=\"OPeNDAP URL\" type=\"text/html\"/>\n",
      "\t\t<link href=\"https://podaac-tools.jpl.nasa.gov/drive/files/allData/jason3/preview/L2/GPS-OGDR\" rel=\"enclosure\" title=\"HTTP URL\" type=\"text/plain\"/>\n",
      "\t\t<link href=\"https://podaac.jpl.nasa.gov/dataset/JASON_3_L2_OST_OGDR_GPS\" rel=\"enclosure\" title=\"Dataset Information\" type=\"text/html\"/>\n",
      "\t\t<updated>2017-04-28T05:01:46Z</updated>\n",
      "\t\t<id>PODAAC-J2OGR-GPSHA</id>\n",
      "\t\t<podaac:datasetId>PODAAC-J2OGR-GPSHA</podaac:datasetId>\n",
      "\t\t<podaac:shortName>JASON_3_L2_OST_OGDR_GPS</podaac:shortName>\n",
      "\t\t<georss:box>-66 -180 66 180</georss:box>\n",
      "\t\t<georss:where>\n",
      "\t\t\t<gml:Envelope>\n",
      "\t\t\t\t<gml:lowerCorner>-180 -66</gml:lowerCorner>\n",
      "\t\t\t\t<gml:upperCorner>180 66</gml:upperCorner>\n",
      "\t\t\t</gml:Envelope>\n",
      "\t\t</georss:where>\n",
      "\t\t<time:start>2016-09-30T19:19:49Z</time:start>\n",
      "\t\t<dc:identifier>PODAAC-J2OGR-GPSHA</dc:identifier>\n",
      "\t\t<dc:date>2016-09-30T19:19:49Z/</dc:date>\n",
      "\t\t<podaac:localOpendap>https://podaac-opendap.jpl.nasa.gov/opendap/allData/jason3/preview/L2/GPS-OGDR/</podaac:localOpendap>\n",
      "\t\t<podaac:archivePreview>file:///store/jason3/preview/L2/GPS-OGDR</podaac:archivePreview>\n",
      "\t\t<podaac:localHttp>https://podaac-tools.jpl.nasa.gov/drive/files/allData/jason3/preview/L2/GPS-OGDR</podaac:localHttp>\n",
      "\t\t<podaac:datasetAscendingNodeTime></podaac:datasetAscendingNodeTime>\n",
      "\t\t<podaac:datasetEllipsoidType></podaac:datasetEllipsoidType>\n",
      "\t\t<podaac:datasetMonthlyPopularity>2147483647</podaac:datasetMonthlyPopularity>\n",
      "\t\t<podaac:datasetDepthResolution>N/A</podaac:datasetDepthResolution>\n",
      "\t\t<podaac:datasetAltitudeResolution>N/A</podaac:datasetAltitudeResolution>\n",
      "\t\t<podaac:datasetTemporalRepeat>10 Day</podaac:datasetTemporalRepeat>\n",
      "\t\t<podaac:datasetSecondaryDoi></podaac:datasetSecondaryDoi>\n",
      "\t\t<podaac:datasetShortName>JASON_3_L2_OST_OGDR_GPS</podaac:datasetShortName>\n",
      "\t\t<podaac:datasetAcrossTrackResolution>5100</podaac:datasetAcrossTrackResolution>\n",
      "\t\t<podaac:datasetSampleFrequency>1</podaac:datasetSampleFrequency>\n",
      "\t\t<podaac:datasetProjectionDetail>N/A</podaac:datasetProjectionDetail>\n",
      "\t\t<podaac:datasetLongName>Jason-3 GPS based orbit and SSHA OGDR</podaac:datasetLongName>\n",
      "\t\t<podaac:datasetDescription>This is a near real time dataset that provides a GPS based orbit and Sea Surface Height Anomalies (SSHA) from that orbit. It is similar to the Jason-3 Operation Geophysical Data Record (OGDR) that is distributed at NOAA (http://www.nodc.noaa.gov/sog/jason/), but includes the GPS orbit and SSHA as two additional variables. It has a 5 hour time lag due to the time needed to calculate the GPS orbit and SSHA.  The GPS orbits have been shown to be more accurate than the DORIS orbits on a near real time scale and therefore produces a more accurate SSHA.</podaac:datasetDescription>\n",
      "\t\t<podaac:datasetSatelliteSpatialResolution>8.0</podaac:datasetSatelliteSpatialResolution>\n",
      "\t\t<podaac:datasetProviderDatasetName>Jason-3 GPS-OGDR</podaac:datasetProviderDatasetName>\n",
      "\t\t<podaac:datasetNote></podaac:datasetNote>\n",
      "\t\t<podaac:datasetAcrossTrackResolutionDouble>5.1</podaac:datasetAcrossTrackResolutionDouble>\n",
      "\t\t<podaac:datasetReference></podaac:datasetReference>\n",
      "\t\t<podaac:datasetOriginalProvider>NASA/JPL</podaac:datasetOriginalProvider>\n",
      "\t\t<podaac:datasetProjectionType>Swath</podaac:datasetProjectionType>\n",
      "\t\t<podaac:datasetLongitudeResolution></podaac:datasetLongitudeResolution>\n",
      "\t\t<podaac:datasetSwathWidth></podaac:datasetSwathWidth>\n",
      "\t\t<podaac:datasetDoi></podaac:datasetDoi>\n",
      "\t\t<podaac:datasetImageUrl>https://podaac.jpl.nasa.gov/Podaac/thumbnails/JASON_3_L2_OST_OGDR_GPS.jpg</podaac:datasetImageUrl>\n",
      "\t\t<podaac:datasetTemporalResolutionGroup>Weekly</podaac:datasetTemporalResolutionGroup>\n",
      "\t\t<podaac:datasetPersistentId>PODAAC-J2OGR-GPSHA</podaac:datasetPersistentId>\n",
      "\t\t<podaac:datasetTemporalRepeatMin></podaac:datasetTemporalRepeatMin>\n",
      "\t\t<podaac:datasetProcessingLevel>2</podaac:datasetProcessingLevel>\n",
      "\t\t<podaac:datasetHorizontalResolutionRange></podaac:datasetHorizontalResolutionRange>\n",
      "\t\t<podaac:datasetAlongTrackResolution>11200</podaac:datasetAlongTrackResolution>\n",
      "\t\t<podaac:datasetLatitudeResolution></podaac:datasetLatitudeResolution>\n",
      "\t\t<podaac:datasetId>2626</podaac:datasetId>\n",
      "\t\t<podaac:datasetTemporalResolutionRange>N/A</podaac:datasetTemporalResolutionRange>\n",
      "\t\t<podaac:datasetUserPopularity>2147483647</podaac:datasetUserPopularity>\n",
      "\t\t<podaac:datasetTemporalResolution></podaac:datasetTemporalResolution>\n",
      "\t\t<podaac:datasetAllTimePopularity>2147483647</podaac:datasetAllTimePopularity>\n",
      "\t\t<podaac:datasetTemporalRepeatMax></podaac:datasetTemporalRepeatMax>\n",
      "\t\t<podaac:datasetProviderLongName>Jet Propulsion Laboratory</podaac:datasetProviderLongName>\n",
      "\t\t<podaac:datasetProviderType>DATA-PROVIDER</podaac:datasetProviderType>\n",
      "\t\t<podaac:datasetProviderShortName>NASA/JPL</podaac:datasetProviderShortName>\n",
      "\t\t<podaac:datasetProviderProviderResourcePath>\n",
      "\t\t\t<podaac:value>http://podaac.jpl.nasa.gov</podaac:value>\n",
      "\t\t\t<podaac:value>http://ghrsst.jpl.nasa.gov</podaac:value>\n",
      "\t\t</podaac:datasetProviderProviderResourcePath>\n",
      "\t\t<podaac:datasetDatasetCoverageStopTimeLong></podaac:datasetDatasetCoverageStopTimeLong>\n",
      "\t\t<podaac:datasetDatasetCoverageStartTimeLong>1475263189000</podaac:datasetDatasetCoverageStartTimeLong>\n",
      "\t\t<podaac:datasetDatasetCoverageTimeSpan>1830</podaac:datasetDatasetCoverageTimeSpan>\n",
      "\t\t<podaac:granuleStopTimeLong>1633358052027</podaac:granuleStopTimeLong>\n",
      "\t\t<podaac:granuleStartTimeLong>1475263189000</podaac:granuleStartTimeLong>\n",
      "\t\t<podaac:collectionDatasetGranuleRange360>Y</podaac:collectionDatasetGranuleRange360>\n",
      "\t\t<podaac:datasetCoverageMaxDepth></podaac:datasetCoverageMaxDepth>\n",
      "\t\t<podaac:datasetCoverageStopTimeLong></podaac:datasetCoverageStopTimeLong>\n",
      "\t\t<podaac:datasetCoverageNorthLat>66</podaac:datasetCoverageNorthLat>\n",
      "\t\t<podaac:datasetCoverageMaxAltitude></podaac:datasetCoverageMaxAltitude>\n",
      "\t\t<podaac:datasetCoverageSouthLat>-66</podaac:datasetCoverageSouthLat>\n",
      "\t\t<podaac:datasetCoverageStartTimeLong>1475263189000</podaac:datasetCoverageStartTimeLong>\n",
      "\t\t<podaac:datasetCoverageWestLon>-180</podaac:datasetCoverageWestLon>\n",
      "\t\t<podaac:datasetCoverageMinDepth></podaac:datasetCoverageMinDepth>\n",
      "\t\t<podaac:datasetCoverageMinAltitude></podaac:datasetCoverageMinAltitude>\n",
      "\t\t<podaac:datasetCoverageEastLon>180</podaac:datasetCoverageEastLon>\n",
      "\t\t<podaac:datasetMetaHistoryVersionId>1</podaac:datasetMetaHistoryVersionId>\n",
      "\t\t<podaac:datasetMetaHistoryRevisionHistory>Dataset Creation via Metadata Tool</podaac:datasetMetaHistoryRevisionHistory>\n",
      "\t\t<podaac:datasetMetaHistoryCreationDateLong>1474464917502</podaac:datasetMetaHistoryCreationDateLong>\n",
      "\t\t<podaac:datasetMetaHistoryLastRevisionDateLong>1493355706000</podaac:datasetMetaHistoryLastRevisionDateLong>\n",
      "\t\t<podaac:datasetPolicyDataDuration>180</podaac:datasetPolicyDataDuration>\n",
      "\t\t<podaac:datasetPolicyDataFormat>NETCDF</podaac:datasetPolicyDataFormat>\n",
      "\t\t<podaac:datasetPolicyDataLatency>5</podaac:datasetPolicyDataLatency>\n",
      "\t\t<podaac:datasetPolicyViewOnline>Y</podaac:datasetPolicyViewOnline>\n",
      "\t\t<podaac:datasetPolicyDataClass>ROLLING-STORE</podaac:datasetPolicyDataClass>\n",
      "\t\t<podaac:datasetPolicyDataFrequency>4</podaac:datasetPolicyDataFrequency>\n",
      "\t\t<podaac:datasetPolicyBasePathAppendType>CYCLE</podaac:datasetPolicyBasePathAppendType>\n",
      "\t\t<podaac:datasetPolicyChecksumType>MD5</podaac:datasetPolicyChecksumType>\n",
      "\t\t<podaac:datasetPolicyAvailability>NEAR_REAL_TIME</podaac:datasetPolicyAvailability>\n",
      "\t\t<podaac:datasetPolicyCompressType>NONE</podaac:datasetPolicyCompressType>\n",
      "\t\t<podaac:datasetPolicyAccessType>PREVIEW</podaac:datasetPolicyAccessType>\n",
      "\t\t<podaac:datasetPolicyUseConstraint>none</podaac:datasetPolicyUseConstraint>\n",
      "\t\t<podaac:datasetPolicyDataVolume>2</podaac:datasetPolicyDataVolume>\n",
      "\t\t<podaac:datasetPolicySpatialType>BACKTRACK</podaac:datasetPolicySpatialType>\n",
      "\t\t<podaac:datasetPolicyAccessConstraint>none</podaac:datasetPolicyAccessConstraint>\n",
      "\t\t<podaac:_version_>1712731055169994752</podaac:_version_>\n",
      "\t\t<podaac:datasetRegion>\n",
      "\t\t\t<podaac:regionDetail>N/A</podaac:regionDetail>\n",
      "\t\t\t<podaac:region>Global</podaac:region>\n",
      "\t\t</podaac:datasetRegion>\n",
      "\t\t<podaac:datasetCitation>\n",
      "\t\t\t<podaac:publisher>JPL</podaac:publisher>\n",
      "\t\t\t<podaac:seriesName>Jason-3 GPS based orbit and SSHA OGDR</podaac:seriesName>\n",
      "\t\t\t<podaac:onlineResource></podaac:onlineResource>\n",
      "\t\t\t<podaac:creator>Desai, Shailen</podaac:creator>\n",
      "\t\t\t<podaac:version>A</podaac:version>\n",
      "\t\t\t<podaac:title>JASON_3_L2_OST_OGDR_GPS</podaac:title>\n",
      "\t\t\t<podaac:releaseDateLong>1476057600000</podaac:releaseDateLong>\n",
      "\t\t\t<podaac:releasePlace>JPL</podaac:releasePlace>\n",
      "\t\t\t<podaac:citationDetail>Jason-3 GPS based orbit and SSHA OGDR</podaac:citationDetail>\n",
      "\t\t</podaac:datasetCitation>\n",
      "\t\t<podaac:datasetContact>\n",
      "\t\t\t<podaac:role>Technical Contact</podaac:role>\n",
      "\t\t\t<podaac:phone>818-354-4588</podaac:phone>\n",
      "\t\t\t<podaac:address>4800 Oak Grove Drive Pasadena, CA 91109-8099</podaac:address>\n",
      "\t\t\t<podaac:notifyType>none</podaac:notifyType>\n",
      "\t\t\t<podaac:middleName>none</podaac:middleName>\n",
      "\t\t\t<podaac:lastName>Hausman</podaac:lastName>\n",
      "\t\t\t<podaac:email>Jessica.K.Hausman@jpl.nasa.gov</podaac:email>\n",
      "\t\t\t<podaac:fax>818-393-2718</podaac:fax>\n",
      "\t\t\t<podaac:firstName>Jessica</podaac:firstName>\n",
      "\t\t\t<podaac:providerLongName>Physical Oceanography Distributed Active Archive Center, Jet Propulsion Laboratory, NASA</podaac:providerLongName>\n",
      "\t\t\t<podaac:providerType>DATA-CENTER</podaac:providerType>\n",
      "\t\t\t<podaac:providerShortName>NASA/JPL/PODAAC</podaac:providerShortName>\n",
      "\t\t</podaac:datasetContact>\n",
      "\t\t<podaac:datasetParameter>\n",
      "\t\t\t<podaac:variableDetail>NONE</podaac:variableDetail>\n",
      "\t\t\t<podaac:category>EARTH SCIENCE</podaac:category>\n",
      "\t\t\t<podaac:variable>SIGNIFICANT WAVE HEIGHT</podaac:variable>\n",
      "\t\t\t<podaac:topic>OCEANS</podaac:topic>\n",
      "\t\t\t<podaac:term>OCEAN WAVES</podaac:term>\n",
      "\t\t</podaac:datasetParameter>\n",
      "\t\t<podaac:datasetParameter>\n",
      "\t\t\t<podaac:variableDetail>NONE</podaac:variableDetail>\n",
      "\t\t\t<podaac:category>EARTH SCIENCE</podaac:category>\n",
      "\t\t\t<podaac:variable>SEA SURFACE HEIGHT</podaac:variable>\n",
      "\t\t\t<podaac:topic>OCEANS</podaac:topic>\n",
      "\t\t\t<podaac:term>SEA SURFACE TOPOGRAPHY</podaac:term>\n",
      "\t\t</podaac:datasetParameter>\n",
      "\t\t<podaac:datasetProject>\n",
      "\t\t\t<podaac:projectLongName>JASON-3</podaac:projectLongName>\n",
      "\t\t\t<podaac:projectShortName>JASON-3</podaac:projectShortName>\n",
      "\t\t</podaac:datasetProject>\n",
      "\t\t<podaac:datasetResource>\n",
      "\t\t\t<podaac:path>https://podaac-tools.jpl.nasa.gov/drive/files/allData/jason3/preview/L2/GPS-OGDR/docs/j3_user_handbook.pdf</podaac:path>\n",
      "\t\t\t<podaac:description></podaac:description>\n",
      "\t\t\t<podaac:type>PORTAL_DOC_USERS_GUIDE</podaac:type>\n",
      "\t\t\t<podaac:name>Jason-3 User's Guide</podaac:name>\n",
      "\t\t</podaac:datasetResource>\n",
      "\t\t<podaac:datasetResource>\n",
      "\t\t\t<podaac:path>https://podaac-tools.jpl.nasa.gov/drive/files/allData/jason3/preview/L2/GPS-OGDR/docs/README_JASON3_GPSOGDR.txt</podaac:path>\n",
      "\t\t\t<podaac:description></podaac:description>\n",
      "\t\t\t<podaac:type>PORTAL_DOC_USERS_GUIDE</podaac:type>\n",
      "\t\t\t<podaac:name>Jason-3 GPS OGDR User's Guide Addendum</podaac:name>\n",
      "\t\t</podaac:datasetResource>\n",
      "\t\t<podaac:datasetResource>\n",
      "\t\t\t<podaac:path>/data/export/web/thumbnails</podaac:path>\n",
      "\t\t\t<podaac:description>Thumbnail image for Website</podaac:description>\n",
      "\t\t\t<podaac:type>Thumbnail</podaac:type>\n",
      "\t\t\t<podaac:name>JASON_3_L2_OST_OGDR_GPS.jpg</podaac:name>\n",
      "\t\t</podaac:datasetResource>\n",
      "\t\t<podaac:datasetSource>\n",
      "\t\t\t<podaac:sourceLongName>Jason-3</podaac:sourceLongName>\n",
      "\t\t\t<podaac:sourceDescription>Jason-3 is a satellite in the TOPEX/Posiedon and Jason series. The main mission is to measure changes in sea level</podaac:sourceDescription>\n",
      "\t\t\t<podaac:sourceOrbitPeriod>112</podaac:sourceOrbitPeriod>\n",
      "\t\t\t<podaac:sourceInclAngle>66.05</podaac:sourceInclAngle>\n",
      "\t\t\t<podaac:sourceType>Earth Observation Satellites</podaac:sourceType>\n",
      "\t\t\t<podaac:sourceShortName>JASON-3</podaac:sourceShortName>\n",
      "\t\t\t<podaac:sensorLongName>OSTM/Jason-2 RADAR alitmieter</podaac:sensorLongName>\n",
      "\t\t\t<podaac:sensorDescription>The Poseidon-3 altimeter, operating at 13.575 GHz (Ku band) and 5.3 GHz (C band), is the primary sensor for the OSTM mission.  The measurements made at the two frequencies are combined to obtain measurements of the altimeter range, wind speed, significant wave height, and the ionoshperic correction.  The Poseidon-3 package consists of dual redundant altimeter units each of which has low mass and low power consumption.</podaac:sensorDescription>\n",
      "\t\t\t<podaac:sensorShortName>POSEIDON-3</podaac:sensorShortName>\n",
      "\t\t\t<podaac:sensorSwathWidth>5.1</podaac:sensorSwathWidth>\n",
      "\t\t</podaac:datasetSource>\n",
      "\t\t<podaac:datasetSource>\n",
      "\t\t\t<podaac:sourceLongName>Jason-3</podaac:sourceLongName>\n",
      "\t\t\t<podaac:sourceDescription>Jason-3 is a satellite in the TOPEX/Posiedon and Jason series. The main mission is to measure changes in sea level</podaac:sourceDescription>\n",
      "\t\t\t<podaac:sourceOrbitPeriod>112</podaac:sourceOrbitPeriod>\n",
      "\t\t\t<podaac:sourceInclAngle>66.05</podaac:sourceInclAngle>\n",
      "\t\t\t<podaac:sourceType>Earth Observation Satellites</podaac:sourceType>\n",
      "\t\t\t<podaac:sourceShortName>JASON-3</podaac:sourceShortName>\n",
      "\t\t\t<podaac:sensorLongName>Advanced Microwave Radiometer</podaac:sensorLongName>\n",
      "\t\t\t<podaac:sensorDescription></podaac:sensorDescription>\n",
      "\t\t\t<podaac:sensorShortName>AMR</podaac:sensorShortName>\n",
      "\t\t\t<podaac:sensorSwathWidth></podaac:sensorSwathWidth>\n",
      "\t\t</podaac:datasetSource>\n",
      "\t\t<podaac:datasetSource>\n",
      "\t\t\t<podaac:sourceLongName>Jason-3</podaac:sourceLongName>\n",
      "\t\t\t<podaac:sourceDescription>Jason-3 is a satellite in the TOPEX/Posiedon and Jason series. The main mission is to measure changes in sea level</podaac:sourceDescription>\n",
      "\t\t\t<podaac:sourceOrbitPeriod>112</podaac:sourceOrbitPeriod>\n",
      "\t\t\t<podaac:sourceInclAngle>66.05</podaac:sourceInclAngle>\n",
      "\t\t\t<podaac:sourceType>Earth Observation Satellites</podaac:sourceType>\n",
      "\t\t\t<podaac:sourceShortName>JASON-3</podaac:sourceShortName>\n",
      "\t\t\t<podaac:sensorLongName>Global Positioning System Payload</podaac:sensorLongName>\n",
      "\t\t\t<podaac:sensorDescription>GPSP</podaac:sensorDescription>\n",
      "\t\t\t<podaac:sensorShortName>GPSP</podaac:sensorShortName>\n",
      "\t\t\t<podaac:sensorSwathWidth>5.2</podaac:sensorSwathWidth>\n",
      "\t\t</podaac:datasetSource>\n",
      "\t\t<podaac:datasetVersion>\n",
      "\t\t\t<podaac:versionId>1</podaac:versionId>\n",
      "\t\t\t<podaac:versionDateLong>1474464917502</podaac:versionDateLong>\n",
      "\t\t\t<podaac:description>Creation of Dataset via Metadata Tool.</podaac:description>\n",
      "\t\t\t<podaac:version>1</podaac:version>\n",
      "\t\t</podaac:datasetVersion>\n",
      "\t\t<podaac:datasetCharacter>\n",
      "\t\t\t<podaac:datasetElementMaxLength>NULL</podaac:datasetElementMaxLength>\n",
      "\t\t\t<podaac:datasetElementObligationFlag>NULL</podaac:datasetElementObligationFlag>\n",
      "\t\t\t<podaac:datasetElementScope>NULL</podaac:datasetElementScope>\n",
      "\t\t\t<podaac:datasetElementLongName>NULL</podaac:datasetElementLongName>\n",
      "\t\t\t<podaac:datasetElementType>NULL</podaac:datasetElementType>\n",
      "\t\t\t<podaac:datasetElementScope>NULL</podaac:datasetElementScope>\n",
      "\t\t\t<podaac:value>NULL</podaac:value>\n",
      "\t\t\t<podaac:datasetElementShortName>NULL</podaac:datasetElementShortName>\n",
      "\t\t\t<podaac:datasetElementDescription>NULL</podaac:datasetElementDescription>\n",
      "\t\t</podaac:datasetCharacter>\n",
      "\t</entry>\n",
      "</feed>\n",
      "\n"
     ]
    }
   ],
   "source": [
    "ds_result = p.dataset_search(start_time='2021-09-12T00:00:01Z', \n",
    "                             end_time='2021-09-14T11:59:59Z', \n",
    "                             short_name='JASON_3_L2_OST_OGDR_GPS', \n",
    "                             process_level='2', \n",
    "                             bbox='-50,-36,-20,8', \n",
    "                             _format='atom', \n",
    "                             full='True')\n",
    "print(ds_result)"
   ]
  },
  {
   "cell_type": "code",
   "execution_count": 48,
   "id": "670b69c4",
   "metadata": {},
   "outputs": [
    {
     "name": "stdout",
     "output_type": "stream",
     "text": [
      "\"https://podaac-tools.jpl.nasa.gov/drive/files/allData/jason3/preview/L2/GPS-OGDR\"\n"
     ]
    }
   ],
   "source": [
    "search_str = 'https://podaac-tools.jpl.nasa.gov/drive/files/'\n",
    "drive_path = [ str(i) for i in ds_result.strip().split() if search_str in i ][0]\n",
    "print(drive_path[5:])"
   ]
  },
  {
   "cell_type": "code",
   "execution_count": 54,
   "id": "3c2762b6",
   "metadata": {},
   "outputs": [
    {
     "name": "stdout",
     "output_type": "stream",
     "text": [
      "['<opensearch:totalResults>32</opensearch:totalResults>']\n"
     ]
    }
   ],
   "source": [
    "result = p.granule_search(start_time='2021-09-12T00:00:01Z', \n",
    "                             end_time='2021-09-14T11:59:59Z', \n",
    "                             dataset_id='PODAAC-J2OGR-GPSHA', \n",
    "                             sort_by='timeAsc',\n",
    "                             items_per_page='700',\n",
    "                             bbox='-50,-36,-20,8', \n",
    "                             _format='atom')\n",
    "\n",
    "#print(result)\n",
    "searchStr = 'totalResults'\n",
    "numResultsStr = [ str(i) for i in result.strip().split() if searchStr in i ]\n",
    "print(numResultsStr)"
   ]
  },
  {
   "cell_type": "code",
   "execution_count": 55,
   "id": "5d8cb4f1",
   "metadata": {},
   "outputs": [
    {
     "name": "stdout",
     "output_type": "stream",
     "text": [
      "['JA3_GPSOPR_2PfS206_021_20210911_225331_20210912_004811.nc',\n",
      " 'JA3_GPSOPR_2PfS206_023_20210912_004810_20210912_030130.nc',\n",
      " 'JA3_GPSOPR_2PfS206_026_20210912_030130_20210912_044042.nc',\n",
      " 'JA3_GPSOPR_2PfS206_027_20210912_044041_20210912_063626.nc',\n",
      " 'JA3_GPSOPR_2PfS206_029_20210912_063625_20210912_083244.nc',\n",
      " 'JA3_GPSOPR_2PfS206_032_20210912_083243_20210912_100323.nc',\n",
      " 'JA3_GPSOPR_2PfS206_033_20210912_100322_20210912_115730.nc',\n",
      " 'JA3_GPSOPR_2PfS206_035_20210912_115730_20210912_135522.nc',\n",
      " 'JA3_GPSOPR_2PfS206_037_20210912_135521_20210912_155419.nc',\n",
      " 'JA3_GPSOPR_2PfS206_039_20210912_155419_20210912_175138.nc',\n",
      " 'JA3_GPSOPR_2PfS206_042_20210912_175137_20210912_194754.nc',\n",
      " 'JA3_GPSOPR_2PfS206_044_20210912_194753_20210912_214514.nc',\n",
      " 'JA3_GPSOPR_2PfS206_046_20210912_214514_20210912_231554.nc',\n",
      " 'JA3_GPSOPR_2PfS206_047_20210912_231553_20210913_011207.nc',\n",
      " 'JA3_GPSOPR_2PfS206_049_20210913_011206_20210913_032458.nc',\n",
      " 'JA3_GPSOPR_2PfS206_052_20210913_032457_20210913_050306.nc',\n",
      " 'JA3_GPSOPR_2PfS206_053_20210913_050305_20210913_065923.nc',\n",
      " 'JA3_GPSOPR_2PfS206_056_20210913_065922_20210913_102441.nc',\n",
      " 'JA3_GPSOPR_2PfS206_059_20210913_102441_20210913_122026.nc',\n",
      " 'JA3_GPSOPR_2PfS206_061_20210913_122025_20210913_141850.nc',\n",
      " 'JA3_GPSOPR_2PfS206_063_20210913_141849_20210913_161747.nc',\n",
      " 'JA3_GPSOPR_2PfS206_065_20210913_161746_20210913_181434.nc',\n",
      " 'JA3_GPSOPR_2PfS206_068_20210913_181433_20210913_201049.nc',\n",
      " 'JA3_GPSOPR_2PfS206_070_20210913_201048_20210913_214338.nc',\n",
      " 'JA3_GPSOPR_2PfS206_071_20210913_214337_20210913_233747.nc',\n",
      " 'JA3_GPSOPR_2PfS206_073_20210913_233746_20210914_013534.nc',\n",
      " 'JA3_GPSOPR_2PfS206_075_20210914_013533_20210914_034827.nc',\n",
      " 'JA3_GPSOPR_2PfS206_078_20210914_034826_20210914_052602.nc',\n",
      " 'JA3_GPSOPR_2PfS206_079_20210914_052601_20210914_072218.nc',\n",
      " 'JA3_GPSOPR_2PfS206_082_20210914_072217_20210914_085539.nc',\n",
      " 'JA3_GPSOPR_2PfS206_083_20210914_085539_20210914_104705.nc',\n",
      " 'JA3_GPSOPR_2PfS206_085_20210914_104704_20210914_124322.nc']\n"
     ]
    }
   ],
   "source": [
    "pprint(u.mine_granules_from_granule_search(granule_search_response=str(result)))"
   ]
  },
  {
   "cell_type": "code",
   "execution_count": 28,
   "id": "74f73ad7",
   "metadata": {},
   "outputs": [
    {
     "name": "stdout",
     "output_type": "stream",
     "text": [
      "['https://podaac-tools.jpl.nasa.gov/drive/files/allData/ascat/preview/L2/metop_a/coastal_opt/2018/256/ascat_20180913_134800_metopa_61756_eps_o_coa_2401_ovw.l2.nc.gz',\n",
      " 'https://podaac-tools.jpl.nasa.gov/drive/files/allData/ascat/preview/L2/metop_a/coastal_opt/2018/257/ascat_20180914_013900_metopa_61763_eps_o_coa_2401_ovw.l2.nc.gz',\n",
      " 'https://podaac-tools.jpl.nasa.gov/drive/files/allData/ascat/preview/L2/metop_a/coastal_opt/2018/256/ascat_20180913_020000_metopa_61749_eps_o_coa_2401_ovw.l2.nc.gz',\n",
      " 'https://podaac-tools.jpl.nasa.gov/drive/files/allData/ascat/preview/L2/metop_a/coastal_opt/2018/255/ascat_20180912_140900_metopa_61742_eps_o_coa_2401_ovw.l2.nc.gz',\n",
      " 'https://podaac-tools.jpl.nasa.gov/drive/files/allData/ascat/preview/L2/metop_a/coastal_opt/2018/255/ascat_20180912_022100_metopa_61735_eps_o_coa_2401_ovw.l2.nc.gz',\n",
      " 'https://podaac-tools.jpl.nasa.gov/drive/files/allData/ascat/preview/L2/metop_a/coastal_opt/2018/255/ascat_20180912_003900_metopa_61734_eps_o_coa_2401_ovw.l2.nc.gz']\n"
     ]
    }
   ],
   "source": [
    "granules = d.mine_drive_urls_from_granule_search(granule_search_response=(str(result)))\n",
    "pprint(granules)"
   ]
  },
  {
   "cell_type": "code",
   "execution_count": 29,
   "id": "e589933c",
   "metadata": {},
   "outputs": [],
   "source": [
    "d.download_granules(granule_collection=granules, path='./dummy')"
   ]
  },
  {
   "cell_type": "code",
   "execution_count": 44,
   "id": "ffbe35c0",
   "metadata": {},
   "outputs": [],
   "source": [
    "import glob, os, subprocess, shlex\n",
    "nc_files = []\n",
    "for file in glob.glob(\"**/*.nc\", recursive=True):\n",
    "    nc_files.append(os.path.abspath(file))\n",
    "str_nc_files = ' '.join(nc_files)"
   ]
  },
  {
   "cell_type": "code",
   "execution_count": 46,
   "id": "b7a063fc",
   "metadata": {},
   "outputs": [
    {
     "data": {
      "text/plain": [
       "['/home/soutobias/code/soutobias/personal_codes/remobs/oceanoobsbrasil/notebooks/dummy/allData/ascat/preview/L2/metop_a/coastal_opt/2018/257/ascat_20180914_013900_metopa_61763_eps_o_coa_2401_ovw.l2.nc',\n",
       " '/home/soutobias/code/soutobias/personal_codes/remobs/oceanoobsbrasil/notebooks/dummy/allData/ascat/preview/L2/metop_a/coastal_opt/2018/256/ascat_20180913_134800_metopa_61756_eps_o_coa_2401_ovw.l2.nc',\n",
       " '/home/soutobias/code/soutobias/personal_codes/remobs/oceanoobsbrasil/notebooks/dummy/allData/ascat/preview/L2/metop_a/coastal_opt/2018/256/ascat_20180913_020000_metopa_61749_eps_o_coa_2401_ovw.l2.nc',\n",
       " '/home/soutobias/code/soutobias/personal_codes/remobs/oceanoobsbrasil/notebooks/dummy/allData/ascat/preview/L2/metop_a/coastal_opt/2018/255/ascat_20180912_022100_metopa_61735_eps_o_coa_2401_ovw.l2.nc',\n",
       " '/home/soutobias/code/soutobias/personal_codes/remobs/oceanoobsbrasil/notebooks/dummy/allData/ascat/preview/L2/metop_a/coastal_opt/2018/255/ascat_20180912_003900_metopa_61734_eps_o_coa_2401_ovw.l2.nc',\n",
       " '/home/soutobias/code/soutobias/personal_codes/remobs/oceanoobsbrasil/notebooks/dummy/allData/ascat/preview/L2/metop_a/coastal_opt/2018/255/ascat_20180912_140900_metopa_61742_eps_o_coa_2401_ovw.l2.nc']"
      ]
     },
     "execution_count": 46,
     "metadata": {},
     "output_type": "execute_result"
    }
   ],
   "source": [
    "nc_files"
   ]
  },
  {
   "cell_type": "code",
   "execution_count": null,
   "id": "a5d02875",
   "metadata": {},
   "outputs": [],
   "source": [
    "#Finally, let's subset the granule using L2SS\n",
    "#and download only the area of interest.\n",
    "from podaac import l2ss as l2ss\n",
    "l = l2ss.L2SS()\n",
    "granule_id = 'ascat_20180913_134800_metopa_61756_eps_o_coa_2401_ovw.l2.nc'\n",
    "query = {\n",
    "        \"email\": \"your_email@here.com\",\n",
    "        \"query\":\n",
    "        [\n",
    "            {\n",
    "                \"compact\": \"true\",\n",
    "                \"datasetId\": \"PODAAC-ASOP2-12C01\",\n",
    "                \"bbox\": \"-81,28,-67,40\",\n",
    "                \"variables\": [\"lat\", \"lon\", \"time\", \"wind_speed\"],\n",
    "                \"granuleIds\": [\"ascat_20180913_134800_metopa_61756_eps_o_coa_2401_ovw.l2.nc\"]\n",
    "            }\n",
    "        ]\n",
    "    }\n",
    "l.granule_download(query_string=query)\n",
    "ss_granule = os.path.abspath('subsetted-' + granule_id)\n",
    "print(ss_granule)\n",
    "# Finally let's make a call to Panoply to open the subsetted granule.\n",
    "args = shlex.split('/Applications/Panoply.app/Contents/MacOS/Panoply ' + ss_granule)\n",
    "subprocess.Popen(args)"
   ]
  },
  {
   "cell_type": "code",
   "execution_count": null,
   "id": "eaaeafc9",
   "metadata": {},
   "outputs": [],
   "source": []
  },
  {
   "cell_type": "code",
   "execution_count": 14,
   "id": "2ab38c2d",
   "metadata": {},
   "outputs": [
    {
     "name": "stdout",
     "output_type": "stream",
     "text": [
      "404 Client Error: Unknown Reason for url: https://podaac.jpl.nasa.gov/ws/search/granule/?datasetId=JASON_3_L2_OST_OGDR_GPS&sortBy=timeAsc&itemsPerPage=50&format=atom\n"
     ]
    },
    {
     "ename": "HTTPError",
     "evalue": "404 Client Error: Unknown Reason for url: https://podaac.jpl.nasa.gov/ws/search/granule/?datasetId=JASON_3_L2_OST_OGDR_GPS&sortBy=timeAsc&itemsPerPage=50&format=atom",
     "output_type": "error",
     "traceback": [
      "\u001b[0;31m---------------------------------------------------------------------------\u001b[0m",
      "\u001b[0;31mHTTPError\u001b[0m                                 Traceback (most recent call last)",
      "\u001b[0;32m/tmp/ipykernel_15868/2826060190.py\u001b[0m in \u001b[0;36m<module>\u001b[0;34m\u001b[0m\n\u001b[0;32m----> 1\u001b[0;31m \u001b[0mp\u001b[0m\u001b[0;34m.\u001b[0m\u001b[0mdataset_variables\u001b[0m\u001b[0;34m(\u001b[0m\u001b[0mdataset_id\u001b[0m\u001b[0;34m=\u001b[0m\u001b[0;34m'JASON_3_L2_OST_OGDR_GPS'\u001b[0m\u001b[0;34m)\u001b[0m\u001b[0;34m\u001b[0m\u001b[0;34m\u001b[0m\u001b[0m\n\u001b[0m",
      "\u001b[0;32m~/.pyenv/versions/3.8.6/envs/obsocean/lib/python3.8/site-packages/podaac/podaac.py\u001b[0m in \u001b[0;36mdataset_variables\u001b[0;34m(self, dataset_id)\u001b[0m\n\u001b[1;32m    216\u001b[0m         \u001b[0mdataset_url\u001b[0m \u001b[0;34m=\u001b[0m \u001b[0;34m\"\"\u001b[0m\u001b[0;34m\u001b[0m\u001b[0;34m\u001b[0m\u001b[0m\n\u001b[1;32m    217\u001b[0m         \u001b[0mdataset_variables\u001b[0m \u001b[0;34m=\u001b[0m \u001b[0;34m[\u001b[0m\u001b[0;34m]\u001b[0m\u001b[0;34m\u001b[0m\u001b[0;34m\u001b[0m\u001b[0m\n\u001b[0;32m--> 218\u001b[0;31m         \u001b[0mdataset\u001b[0m \u001b[0;34m=\u001b[0m \u001b[0mself\u001b[0m\u001b[0;34m.\u001b[0m\u001b[0mgranule_search\u001b[0m\u001b[0;34m(\u001b[0m\u001b[0mdataset_id\u001b[0m\u001b[0;34m=\u001b[0m\u001b[0mdataset_id\u001b[0m\u001b[0;34m)\u001b[0m\u001b[0;34m\u001b[0m\u001b[0;34m\u001b[0m\u001b[0m\n\u001b[0m\u001b[1;32m    219\u001b[0m         \u001b[0mroot\u001b[0m \u001b[0;34m=\u001b[0m \u001b[0mET\u001b[0m\u001b[0;34m.\u001b[0m\u001b[0mfromstring\u001b[0m\u001b[0;34m(\u001b[0m\u001b[0mdataset\u001b[0m\u001b[0;34m.\u001b[0m\u001b[0mencode\u001b[0m\u001b[0;34m(\u001b[0m\u001b[0;34m'utf-8'\u001b[0m\u001b[0;34m)\u001b[0m\u001b[0;34m)\u001b[0m\u001b[0;34m\u001b[0m\u001b[0;34m\u001b[0m\u001b[0m\n\u001b[1;32m    220\u001b[0m         \u001b[0mdataset_entry\u001b[0m \u001b[0;34m=\u001b[0m \u001b[0mroot\u001b[0m\u001b[0;34m.\u001b[0m\u001b[0mfindall\u001b[0m\u001b[0;34m(\u001b[0m\u001b[0;34m\"./{http://www.w3.org/2005/Atom}entry\"\u001b[0m\u001b[0;34m)\u001b[0m\u001b[0;34m[\u001b[0m\u001b[0;36m0\u001b[0m\u001b[0;34m]\u001b[0m\u001b[0;34m\u001b[0m\u001b[0;34m\u001b[0m\u001b[0m\n",
      "\u001b[0;32m~/.pyenv/versions/3.8.6/envs/obsocean/lib/python3.8/site-packages/podaac/podaac.py\u001b[0m in \u001b[0;36mgranule_search\u001b[0;34m(self, dataset_id, start_time, end_time, bbox, start_index, sort_by, items_per_page, _format)\u001b[0m\n\u001b[1;32m    416\u001b[0m             \u001b[0mstatus_codes\u001b[0m \u001b[0;34m=\u001b[0m \u001b[0;34m[\u001b[0m\u001b[0;36m404\u001b[0m\u001b[0;34m,\u001b[0m \u001b[0;36m400\u001b[0m\u001b[0;34m,\u001b[0m \u001b[0;36m503\u001b[0m\u001b[0;34m,\u001b[0m \u001b[0;36m408\u001b[0m\u001b[0;34m]\u001b[0m\u001b[0;34m\u001b[0m\u001b[0;34m\u001b[0m\u001b[0m\n\u001b[1;32m    417\u001b[0m             \u001b[0;32mif\u001b[0m \u001b[0mgranules\u001b[0m\u001b[0;34m.\u001b[0m\u001b[0mstatus_code\u001b[0m \u001b[0;32min\u001b[0m \u001b[0mstatus_codes\u001b[0m\u001b[0;34m:\u001b[0m\u001b[0;34m\u001b[0m\u001b[0;34m\u001b[0m\u001b[0m\n\u001b[0;32m--> 418\u001b[0;31m                 \u001b[0mgranules\u001b[0m\u001b[0;34m.\u001b[0m\u001b[0mraise_for_status\u001b[0m\u001b[0;34m(\u001b[0m\u001b[0;34m)\u001b[0m\u001b[0;34m\u001b[0m\u001b[0;34m\u001b[0m\u001b[0m\n\u001b[0m\u001b[1;32m    419\u001b[0m \u001b[0;34m\u001b[0m\u001b[0m\n\u001b[1;32m    420\u001b[0m         \u001b[0;32mexcept\u001b[0m \u001b[0mrequests\u001b[0m\u001b[0;34m.\u001b[0m\u001b[0mexceptions\u001b[0m\u001b[0;34m.\u001b[0m\u001b[0mHTTPError\u001b[0m \u001b[0;32mas\u001b[0m \u001b[0merror\u001b[0m\u001b[0;34m:\u001b[0m\u001b[0;34m\u001b[0m\u001b[0;34m\u001b[0m\u001b[0m\n",
      "\u001b[0;32m~/.pyenv/versions/3.8.6/envs/obsocean/lib/python3.8/site-packages/requests/models.py\u001b[0m in \u001b[0;36mraise_for_status\u001b[0;34m(self)\u001b[0m\n\u001b[1;32m    951\u001b[0m \u001b[0;34m\u001b[0m\u001b[0m\n\u001b[1;32m    952\u001b[0m         \u001b[0;32mif\u001b[0m \u001b[0mhttp_error_msg\u001b[0m\u001b[0;34m:\u001b[0m\u001b[0;34m\u001b[0m\u001b[0;34m\u001b[0m\u001b[0m\n\u001b[0;32m--> 953\u001b[0;31m             \u001b[0;32mraise\u001b[0m \u001b[0mHTTPError\u001b[0m\u001b[0;34m(\u001b[0m\u001b[0mhttp_error_msg\u001b[0m\u001b[0;34m,\u001b[0m \u001b[0mresponse\u001b[0m\u001b[0;34m=\u001b[0m\u001b[0mself\u001b[0m\u001b[0;34m)\u001b[0m\u001b[0;34m\u001b[0m\u001b[0;34m\u001b[0m\u001b[0m\n\u001b[0m\u001b[1;32m    954\u001b[0m \u001b[0;34m\u001b[0m\u001b[0m\n\u001b[1;32m    955\u001b[0m     \u001b[0;32mdef\u001b[0m \u001b[0mclose\u001b[0m\u001b[0;34m(\u001b[0m\u001b[0mself\u001b[0m\u001b[0;34m)\u001b[0m\u001b[0;34m:\u001b[0m\u001b[0;34m\u001b[0m\u001b[0;34m\u001b[0m\u001b[0m\n",
      "\u001b[0;31mHTTPError\u001b[0m: 404 Client Error: Unknown Reason for url: https://podaac.jpl.nasa.gov/ws/search/granule/?datasetId=JASON_3_L2_OST_OGDR_GPS&sortBy=timeAsc&itemsPerPage=50&format=atom"
     ]
    }
   ],
   "source": [
    "p.dataset_variables(dataset_id='JASON_3_L2_OST_OGDR_GPS')"
   ]
  },
  {
   "cell_type": "code",
   "execution_count": 12,
   "id": "4daf078d",
   "metadata": {},
   "outputs": [
    {
     "data": {
      "text/plain": [
       "OrderedDict([('feed',\n",
       "              OrderedDict([('@xmlns', 'http://www.w3.org/2005/Atom'),\n",
       "                           ('@xmlns:dc', 'http://purl.org/dc/terms/'),\n",
       "                           ('@xmlns:georss', 'http://www.georss.org/georss'),\n",
       "                           ('@xmlns:gml', 'http://www.opengis.net/gml'),\n",
       "                           ('@xmlns:opensearch',\n",
       "                            'http://a9.com/-/spec/opensearch/1.1/'),\n",
       "                           ('@xmlns:podaac',\n",
       "                            'https://podaac.jpl.nasa.gov/opensearch/'),\n",
       "                           ('@xmlns:time',\n",
       "                            'http://a9.com/-/opensearch/extensions/time/1.0/'),\n",
       "                           ('title', 'PO.DAAC Dataset Search Results'),\n",
       "                           ('updated', '2021-10-04T22:05:32.571740Z'),\n",
       "                           ('id', 'tag:podaac.jpl.nasa.gov:8890,2021-10-04'),\n",
       "                           ('author',\n",
       "                            OrderedDict([('name',\n",
       "                                          'PO.DAAC Dataset Search Service')])),\n",
       "                           ('link',\n",
       "                            [OrderedDict([('@href',\n",
       "                                           'https://podaac.jpl.nasa.gov/ws/search/podaac-granule-osd.xml'),\n",
       "                                          ('@rel', 'search'),\n",
       "                                          ('@type',\n",
       "                                           'application/opensearchdescription+xml')]),\n",
       "                             OrderedDict([('@href',\n",
       "                                           'https://podaac.jpl.nasa.gov/ws/search/dataset?format=atom&keyword=jason&startIndex=0'),\n",
       "                                          ('@rel', 'self'),\n",
       "                                          ('@type', 'application/atom+xml')]),\n",
       "                             OrderedDict([('@href',\n",
       "                                           'https://podaac.jpl.nasa.gov/ws/search/dataset?format=atom&keyword=jason&startIndex=0'),\n",
       "                                          ('@rel', 'first'),\n",
       "                                          ('@type',\n",
       "                                           'application/atom+xml')])]),\n",
       "                           ('opensearch:totalResults', '0'),\n",
       "                           ('opensearch:startIndex', '0'),\n",
       "                           ('opensearch:itemsPerPage', '50')]))])"
      ]
     },
     "execution_count": 12,
     "metadata": {},
     "output_type": "execute_result"
    }
   ],
   "source": [
    "result = p.dataset_search(keyword='jason')\n",
    "xmltodict.parse(result)"
   ]
  },
  {
   "cell_type": "code",
   "execution_count": 3,
   "id": "7660c497",
   "metadata": {},
   "outputs": [],
   "source": [
    "m = Metop()"
   ]
  },
  {
   "cell_type": "code",
   "execution_count": 4,
   "id": "e20188b4",
   "metadata": {},
   "outputs": [
    {
     "ename": "ConnectionError",
     "evalue": "HTTPSConnectionPool(host='coastwatch.pfeg.noaa.gov', port=443): Max retries exceeded with url: /erddap/griddap/erdQMwind1day_LonPM180.dds (Caused by NewConnectionError('<urllib3.connection.HTTPSConnection object at 0x7f42db492670>: Failed to establish a new connection: [Errno 111] Connection refused'))",
     "output_type": "error",
     "traceback": [
      "\u001b[0;31m---------------------------------------------------------------------------\u001b[0m",
      "\u001b[0;31mConnectionRefusedError\u001b[0m                    Traceback (most recent call last)",
      "\u001b[0;32m~/.pyenv/versions/3.8.6/envs/obsocean/lib/python3.8/site-packages/urllib3/connection.py\u001b[0m in \u001b[0;36m_new_conn\u001b[0;34m(self)\u001b[0m\n\u001b[1;32m    168\u001b[0m         \u001b[0;32mtry\u001b[0m\u001b[0;34m:\u001b[0m\u001b[0;34m\u001b[0m\u001b[0;34m\u001b[0m\u001b[0m\n\u001b[0;32m--> 169\u001b[0;31m             conn = connection.create_connection(\n\u001b[0m\u001b[1;32m    170\u001b[0m                 \u001b[0;34m(\u001b[0m\u001b[0mself\u001b[0m\u001b[0;34m.\u001b[0m\u001b[0m_dns_host\u001b[0m\u001b[0;34m,\u001b[0m \u001b[0mself\u001b[0m\u001b[0;34m.\u001b[0m\u001b[0mport\u001b[0m\u001b[0;34m)\u001b[0m\u001b[0;34m,\u001b[0m \u001b[0mself\u001b[0m\u001b[0;34m.\u001b[0m\u001b[0mtimeout\u001b[0m\u001b[0;34m,\u001b[0m \u001b[0;34m**\u001b[0m\u001b[0mextra_kw\u001b[0m\u001b[0;34m\u001b[0m\u001b[0;34m\u001b[0m\u001b[0m\n",
      "\u001b[0;32m~/.pyenv/versions/3.8.6/envs/obsocean/lib/python3.8/site-packages/urllib3/util/connection.py\u001b[0m in \u001b[0;36mcreate_connection\u001b[0;34m(address, timeout, source_address, socket_options)\u001b[0m\n\u001b[1;32m     95\u001b[0m     \u001b[0;32mif\u001b[0m \u001b[0merr\u001b[0m \u001b[0;32mis\u001b[0m \u001b[0;32mnot\u001b[0m \u001b[0;32mNone\u001b[0m\u001b[0;34m:\u001b[0m\u001b[0;34m\u001b[0m\u001b[0;34m\u001b[0m\u001b[0m\n\u001b[0;32m---> 96\u001b[0;31m         \u001b[0;32mraise\u001b[0m \u001b[0merr\u001b[0m\u001b[0;34m\u001b[0m\u001b[0;34m\u001b[0m\u001b[0m\n\u001b[0m\u001b[1;32m     97\u001b[0m \u001b[0;34m\u001b[0m\u001b[0m\n",
      "\u001b[0;32m~/.pyenv/versions/3.8.6/envs/obsocean/lib/python3.8/site-packages/urllib3/util/connection.py\u001b[0m in \u001b[0;36mcreate_connection\u001b[0;34m(address, timeout, source_address, socket_options)\u001b[0m\n\u001b[1;32m     85\u001b[0m                 \u001b[0msock\u001b[0m\u001b[0;34m.\u001b[0m\u001b[0mbind\u001b[0m\u001b[0;34m(\u001b[0m\u001b[0msource_address\u001b[0m\u001b[0;34m)\u001b[0m\u001b[0;34m\u001b[0m\u001b[0;34m\u001b[0m\u001b[0m\n\u001b[0;32m---> 86\u001b[0;31m             \u001b[0msock\u001b[0m\u001b[0;34m.\u001b[0m\u001b[0mconnect\u001b[0m\u001b[0;34m(\u001b[0m\u001b[0msa\u001b[0m\u001b[0;34m)\u001b[0m\u001b[0;34m\u001b[0m\u001b[0;34m\u001b[0m\u001b[0m\n\u001b[0m\u001b[1;32m     87\u001b[0m             \u001b[0;32mreturn\u001b[0m \u001b[0msock\u001b[0m\u001b[0;34m\u001b[0m\u001b[0;34m\u001b[0m\u001b[0m\n",
      "\u001b[0;31mConnectionRefusedError\u001b[0m: [Errno 111] Connection refused",
      "\nDuring handling of the above exception, another exception occurred:\n",
      "\u001b[0;31mNewConnectionError\u001b[0m                        Traceback (most recent call last)",
      "\u001b[0;32m~/.pyenv/versions/3.8.6/envs/obsocean/lib/python3.8/site-packages/urllib3/connectionpool.py\u001b[0m in \u001b[0;36murlopen\u001b[0;34m(self, method, url, body, headers, retries, redirect, assert_same_host, timeout, pool_timeout, release_conn, chunked, body_pos, **response_kw)\u001b[0m\n\u001b[1;32m    698\u001b[0m             \u001b[0;31m# Make the request on the httplib connection object.\u001b[0m\u001b[0;34m\u001b[0m\u001b[0;34m\u001b[0m\u001b[0;34m\u001b[0m\u001b[0m\n\u001b[0;32m--> 699\u001b[0;31m             httplib_response = self._make_request(\n\u001b[0m\u001b[1;32m    700\u001b[0m                 \u001b[0mconn\u001b[0m\u001b[0;34m,\u001b[0m\u001b[0;34m\u001b[0m\u001b[0;34m\u001b[0m\u001b[0m\n",
      "\u001b[0;32m~/.pyenv/versions/3.8.6/envs/obsocean/lib/python3.8/site-packages/urllib3/connectionpool.py\u001b[0m in \u001b[0;36m_make_request\u001b[0;34m(self, conn, method, url, timeout, chunked, **httplib_request_kw)\u001b[0m\n\u001b[1;32m    381\u001b[0m         \u001b[0;32mtry\u001b[0m\u001b[0;34m:\u001b[0m\u001b[0;34m\u001b[0m\u001b[0;34m\u001b[0m\u001b[0m\n\u001b[0;32m--> 382\u001b[0;31m             \u001b[0mself\u001b[0m\u001b[0;34m.\u001b[0m\u001b[0m_validate_conn\u001b[0m\u001b[0;34m(\u001b[0m\u001b[0mconn\u001b[0m\u001b[0;34m)\u001b[0m\u001b[0;34m\u001b[0m\u001b[0;34m\u001b[0m\u001b[0m\n\u001b[0m\u001b[1;32m    383\u001b[0m         \u001b[0;32mexcept\u001b[0m \u001b[0;34m(\u001b[0m\u001b[0mSocketTimeout\u001b[0m\u001b[0;34m,\u001b[0m \u001b[0mBaseSSLError\u001b[0m\u001b[0;34m)\u001b[0m \u001b[0;32mas\u001b[0m \u001b[0me\u001b[0m\u001b[0;34m:\u001b[0m\u001b[0;34m\u001b[0m\u001b[0;34m\u001b[0m\u001b[0m\n",
      "\u001b[0;32m~/.pyenv/versions/3.8.6/envs/obsocean/lib/python3.8/site-packages/urllib3/connectionpool.py\u001b[0m in \u001b[0;36m_validate_conn\u001b[0;34m(self, conn)\u001b[0m\n\u001b[1;32m   1009\u001b[0m         \u001b[0;32mif\u001b[0m \u001b[0;32mnot\u001b[0m \u001b[0mgetattr\u001b[0m\u001b[0;34m(\u001b[0m\u001b[0mconn\u001b[0m\u001b[0;34m,\u001b[0m \u001b[0;34m\"sock\"\u001b[0m\u001b[0;34m,\u001b[0m \u001b[0;32mNone\u001b[0m\u001b[0;34m)\u001b[0m\u001b[0;34m:\u001b[0m  \u001b[0;31m# AppEngine might not have  `.sock`\u001b[0m\u001b[0;34m\u001b[0m\u001b[0;34m\u001b[0m\u001b[0m\n\u001b[0;32m-> 1010\u001b[0;31m             \u001b[0mconn\u001b[0m\u001b[0;34m.\u001b[0m\u001b[0mconnect\u001b[0m\u001b[0;34m(\u001b[0m\u001b[0;34m)\u001b[0m\u001b[0;34m\u001b[0m\u001b[0;34m\u001b[0m\u001b[0m\n\u001b[0m\u001b[1;32m   1011\u001b[0m \u001b[0;34m\u001b[0m\u001b[0m\n",
      "\u001b[0;32m~/.pyenv/versions/3.8.6/envs/obsocean/lib/python3.8/site-packages/urllib3/connection.py\u001b[0m in \u001b[0;36mconnect\u001b[0;34m(self)\u001b[0m\n\u001b[1;32m    352\u001b[0m         \u001b[0;31m# Add certificate verification\u001b[0m\u001b[0;34m\u001b[0m\u001b[0;34m\u001b[0m\u001b[0;34m\u001b[0m\u001b[0m\n\u001b[0;32m--> 353\u001b[0;31m         \u001b[0mconn\u001b[0m \u001b[0;34m=\u001b[0m \u001b[0mself\u001b[0m\u001b[0;34m.\u001b[0m\u001b[0m_new_conn\u001b[0m\u001b[0;34m(\u001b[0m\u001b[0;34m)\u001b[0m\u001b[0;34m\u001b[0m\u001b[0;34m\u001b[0m\u001b[0m\n\u001b[0m\u001b[1;32m    354\u001b[0m         \u001b[0mhostname\u001b[0m \u001b[0;34m=\u001b[0m \u001b[0mself\u001b[0m\u001b[0;34m.\u001b[0m\u001b[0mhost\u001b[0m\u001b[0;34m\u001b[0m\u001b[0;34m\u001b[0m\u001b[0m\n",
      "\u001b[0;32m~/.pyenv/versions/3.8.6/envs/obsocean/lib/python3.8/site-packages/urllib3/connection.py\u001b[0m in \u001b[0;36m_new_conn\u001b[0;34m(self)\u001b[0m\n\u001b[1;32m    180\u001b[0m         \u001b[0;32mexcept\u001b[0m \u001b[0mSocketError\u001b[0m \u001b[0;32mas\u001b[0m \u001b[0me\u001b[0m\u001b[0;34m:\u001b[0m\u001b[0;34m\u001b[0m\u001b[0;34m\u001b[0m\u001b[0m\n\u001b[0;32m--> 181\u001b[0;31m             raise NewConnectionError(\n\u001b[0m\u001b[1;32m    182\u001b[0m                 \u001b[0mself\u001b[0m\u001b[0;34m,\u001b[0m \u001b[0;34m\"Failed to establish a new connection: %s\"\u001b[0m \u001b[0;34m%\u001b[0m \u001b[0me\u001b[0m\u001b[0;34m\u001b[0m\u001b[0;34m\u001b[0m\u001b[0m\n",
      "\u001b[0;31mNewConnectionError\u001b[0m: <urllib3.connection.HTTPSConnection object at 0x7f42db492670>: Failed to establish a new connection: [Errno 111] Connection refused",
      "\nDuring handling of the above exception, another exception occurred:\n",
      "\u001b[0;31mMaxRetryError\u001b[0m                             Traceback (most recent call last)",
      "\u001b[0;32m~/.pyenv/versions/3.8.6/envs/obsocean/lib/python3.8/site-packages/requests/adapters.py\u001b[0m in \u001b[0;36msend\u001b[0;34m(self, request, stream, timeout, verify, cert, proxies)\u001b[0m\n\u001b[1;32m    438\u001b[0m             \u001b[0;32mif\u001b[0m \u001b[0;32mnot\u001b[0m \u001b[0mchunked\u001b[0m\u001b[0;34m:\u001b[0m\u001b[0;34m\u001b[0m\u001b[0;34m\u001b[0m\u001b[0m\n\u001b[0;32m--> 439\u001b[0;31m                 resp = conn.urlopen(\n\u001b[0m\u001b[1;32m    440\u001b[0m                     \u001b[0mmethod\u001b[0m\u001b[0;34m=\u001b[0m\u001b[0mrequest\u001b[0m\u001b[0;34m.\u001b[0m\u001b[0mmethod\u001b[0m\u001b[0;34m,\u001b[0m\u001b[0;34m\u001b[0m\u001b[0;34m\u001b[0m\u001b[0m\n",
      "\u001b[0;32m~/.pyenv/versions/3.8.6/envs/obsocean/lib/python3.8/site-packages/urllib3/connectionpool.py\u001b[0m in \u001b[0;36murlopen\u001b[0;34m(self, method, url, body, headers, retries, redirect, assert_same_host, timeout, pool_timeout, release_conn, chunked, body_pos, **response_kw)\u001b[0m\n\u001b[1;32m    754\u001b[0m \u001b[0;34m\u001b[0m\u001b[0m\n\u001b[0;32m--> 755\u001b[0;31m             retries = retries.increment(\n\u001b[0m\u001b[1;32m    756\u001b[0m                 \u001b[0mmethod\u001b[0m\u001b[0;34m,\u001b[0m \u001b[0murl\u001b[0m\u001b[0;34m,\u001b[0m \u001b[0merror\u001b[0m\u001b[0;34m=\u001b[0m\u001b[0me\u001b[0m\u001b[0;34m,\u001b[0m \u001b[0m_pool\u001b[0m\u001b[0;34m=\u001b[0m\u001b[0mself\u001b[0m\u001b[0;34m,\u001b[0m \u001b[0m_stacktrace\u001b[0m\u001b[0;34m=\u001b[0m\u001b[0msys\u001b[0m\u001b[0;34m.\u001b[0m\u001b[0mexc_info\u001b[0m\u001b[0;34m(\u001b[0m\u001b[0;34m)\u001b[0m\u001b[0;34m[\u001b[0m\u001b[0;36m2\u001b[0m\u001b[0;34m]\u001b[0m\u001b[0;34m\u001b[0m\u001b[0;34m\u001b[0m\u001b[0m\n",
      "\u001b[0;32m~/.pyenv/versions/3.8.6/envs/obsocean/lib/python3.8/site-packages/urllib3/util/retry.py\u001b[0m in \u001b[0;36mincrement\u001b[0;34m(self, method, url, response, error, _pool, _stacktrace)\u001b[0m\n\u001b[1;32m    573\u001b[0m         \u001b[0;32mif\u001b[0m \u001b[0mnew_retry\u001b[0m\u001b[0;34m.\u001b[0m\u001b[0mis_exhausted\u001b[0m\u001b[0;34m(\u001b[0m\u001b[0;34m)\u001b[0m\u001b[0;34m:\u001b[0m\u001b[0;34m\u001b[0m\u001b[0;34m\u001b[0m\u001b[0m\n\u001b[0;32m--> 574\u001b[0;31m             \u001b[0;32mraise\u001b[0m \u001b[0mMaxRetryError\u001b[0m\u001b[0;34m(\u001b[0m\u001b[0m_pool\u001b[0m\u001b[0;34m,\u001b[0m \u001b[0murl\u001b[0m\u001b[0;34m,\u001b[0m \u001b[0merror\u001b[0m \u001b[0;32mor\u001b[0m \u001b[0mResponseError\u001b[0m\u001b[0;34m(\u001b[0m\u001b[0mcause\u001b[0m\u001b[0;34m)\u001b[0m\u001b[0;34m)\u001b[0m\u001b[0;34m\u001b[0m\u001b[0;34m\u001b[0m\u001b[0m\n\u001b[0m\u001b[1;32m    575\u001b[0m \u001b[0;34m\u001b[0m\u001b[0m\n",
      "\u001b[0;31mMaxRetryError\u001b[0m: HTTPSConnectionPool(host='coastwatch.pfeg.noaa.gov', port=443): Max retries exceeded with url: /erddap/griddap/erdQMwind1day_LonPM180.dds (Caused by NewConnectionError('<urllib3.connection.HTTPSConnection object at 0x7f42db492670>: Failed to establish a new connection: [Errno 111] Connection refused'))",
      "\nDuring handling of the above exception, another exception occurred:\n",
      "\u001b[0;31mConnectionError\u001b[0m                           Traceback (most recent call last)",
      "\u001b[0;32m/tmp/ipykernel_27324/2590737257.py\u001b[0m in \u001b[0;36m<module>\u001b[0;34m\u001b[0m\n\u001b[0;32m----> 1\u001b[0;31m \u001b[0mm\u001b[0m\u001b[0;34m.\u001b[0m\u001b[0mget\u001b[0m\u001b[0;34m(\u001b[0m\u001b[0;34m)\u001b[0m\u001b[0;34m\u001b[0m\u001b[0;34m\u001b[0m\u001b[0m\n\u001b[0m",
      "\u001b[0;32m~/code/soutobias/personal_codes/remobs/oceanoobsbrasil/oceanoobsbrasil/get_metop.py\u001b[0m in \u001b[0;36mget\u001b[0;34m(self, save_bd)\u001b[0m\n\u001b[1;32m     49\u001b[0m         \u001b[0;31m# Adjust parameters to download\u001b[0m\u001b[0;34m\u001b[0m\u001b[0;34m\u001b[0m\u001b[0;34m\u001b[0m\u001b[0m\n\u001b[1;32m     50\u001b[0m         \u001b[0me\u001b[0m\u001b[0;34m.\u001b[0m\u001b[0mdataset_id\u001b[0m \u001b[0;34m=\u001b[0m \u001b[0mself\u001b[0m\u001b[0;34m.\u001b[0m\u001b[0mdataset_id\u001b[0m\u001b[0;34m\u001b[0m\u001b[0;34m\u001b[0m\u001b[0m\n\u001b[0;32m---> 51\u001b[0;31m         \u001b[0me\u001b[0m\u001b[0;34m.\u001b[0m\u001b[0mgriddap_initialize\u001b[0m\u001b[0;34m(\u001b[0m\u001b[0;34m)\u001b[0m\u001b[0;34m\u001b[0m\u001b[0;34m\u001b[0m\u001b[0m\n\u001b[0m\u001b[1;32m     52\u001b[0m         \u001b[0me\u001b[0m\u001b[0;34m.\u001b[0m\u001b[0mresponse\u001b[0m \u001b[0;34m=\u001b[0m \u001b[0;34m\"csv\"\u001b[0m\u001b[0;34m\u001b[0m\u001b[0;34m\u001b[0m\u001b[0m\n\u001b[1;32m     53\u001b[0m \u001b[0;34m\u001b[0m\u001b[0m\n",
      "\u001b[0;32m~/.pyenv/versions/3.8.6/envs/obsocean/lib/python3.8/site-packages/erddapy/erddapy.py\u001b[0m in \u001b[0;36mgriddap_initialize\u001b[0;34m(self, dataset_id, step)\u001b[0m\n\u001b[1;32m    249\u001b[0m             \u001b[0mself\u001b[0m\u001b[0;34m.\u001b[0m\u001b[0mdim_names\u001b[0m\u001b[0;34m,\u001b[0m\u001b[0;34m\u001b[0m\u001b[0;34m\u001b[0m\u001b[0m\n\u001b[1;32m    250\u001b[0m             \u001b[0mself\u001b[0m\u001b[0;34m.\u001b[0m\u001b[0mvariables\u001b[0m\u001b[0;34m,\u001b[0m\u001b[0;34m\u001b[0m\u001b[0;34m\u001b[0m\u001b[0m\n\u001b[0;32m--> 251\u001b[0;31m         ) = _griddap_get_constraints(metadata_url, step)\n\u001b[0m\u001b[1;32m    252\u001b[0m         \u001b[0mself\u001b[0m\u001b[0;34m.\u001b[0m\u001b[0m_constraints_original\u001b[0m \u001b[0;34m=\u001b[0m \u001b[0mself\u001b[0m\u001b[0;34m.\u001b[0m\u001b[0mconstraints\u001b[0m\u001b[0;34m.\u001b[0m\u001b[0mcopy\u001b[0m\u001b[0;34m(\u001b[0m\u001b[0;34m)\u001b[0m\u001b[0;34m\u001b[0m\u001b[0;34m\u001b[0m\u001b[0m\n\u001b[1;32m    253\u001b[0m         \u001b[0mself\u001b[0m\u001b[0;34m.\u001b[0m\u001b[0m_variables_original\u001b[0m \u001b[0;34m=\u001b[0m \u001b[0mself\u001b[0m\u001b[0;34m.\u001b[0m\u001b[0mvariables\u001b[0m\u001b[0;34m.\u001b[0m\u001b[0mcopy\u001b[0m\u001b[0;34m(\u001b[0m\u001b[0;34m)\u001b[0m\u001b[0;34m\u001b[0m\u001b[0;34m\u001b[0m\u001b[0m\n",
      "\u001b[0;32m~/.pyenv/versions/3.8.6/envs/obsocean/lib/python3.8/site-packages/erddapy/erddapy.py\u001b[0m in \u001b[0;36m_griddap_get_constraints\u001b[0;34m(dataset_url, step)\u001b[0m\n\u001b[1;32m     77\u001b[0m \u001b[0;34m\u001b[0m\u001b[0m\n\u001b[1;32m     78\u001b[0m     \u001b[0mdds_url\u001b[0m \u001b[0;34m=\u001b[0m \u001b[0;34mf\"{dataset_url}.dds\"\u001b[0m\u001b[0;34m\u001b[0m\u001b[0;34m\u001b[0m\u001b[0m\n\u001b[0;32m---> 79\u001b[0;31m     \u001b[0murl\u001b[0m \u001b[0;34m=\u001b[0m \u001b[0murlopen\u001b[0m\u001b[0;34m(\u001b[0m\u001b[0mdds_url\u001b[0m\u001b[0;34m)\u001b[0m\u001b[0;34m\u001b[0m\u001b[0;34m\u001b[0m\u001b[0m\n\u001b[0m\u001b[1;32m     80\u001b[0m     \u001b[0mdata\u001b[0m \u001b[0;34m=\u001b[0m \u001b[0murl\u001b[0m\u001b[0;34m.\u001b[0m\u001b[0mread\u001b[0m\u001b[0;34m(\u001b[0m\u001b[0;34m)\u001b[0m\u001b[0;34m.\u001b[0m\u001b[0mdecode\u001b[0m\u001b[0;34m(\u001b[0m\u001b[0;34m)\u001b[0m\u001b[0;34m\u001b[0m\u001b[0;34m\u001b[0m\u001b[0m\n\u001b[1;32m     81\u001b[0m     \u001b[0mdims\u001b[0m\u001b[0;34m,\u001b[0m \u001b[0;34m*\u001b[0m\u001b[0mvariables\u001b[0m \u001b[0;34m=\u001b[0m \u001b[0mdata\u001b[0m\u001b[0;34m.\u001b[0m\u001b[0msplit\u001b[0m\u001b[0;34m(\u001b[0m\u001b[0;34m\"GRID\"\u001b[0m\u001b[0;34m)\u001b[0m\u001b[0;34m\u001b[0m\u001b[0;34m\u001b[0m\u001b[0m\n",
      "\u001b[0;32m~/.pyenv/versions/3.8.6/envs/obsocean/lib/python3.8/site-packages/erddapy/url_handling.py\u001b[0m in \u001b[0;36murlopen\u001b[0;34m(url, auth, **kwargs)\u001b[0m\n\u001b[1;32m     29\u001b[0m     \"\"\"\n\u001b[1;32m     30\u001b[0m     \u001b[0;31m# Ignoring type checks here b/c mypy does not support decorated functions.\u001b[0m\u001b[0;34m\u001b[0m\u001b[0;34m\u001b[0m\u001b[0;34m\u001b[0m\u001b[0m\n\u001b[0;32m---> 31\u001b[0;31m     \u001b[0mdata\u001b[0m \u001b[0;34m=\u001b[0m \u001b[0m_urlopen\u001b[0m\u001b[0;34m(\u001b[0m\u001b[0murl\u001b[0m\u001b[0;34m=\u001b[0m\u001b[0murl\u001b[0m\u001b[0;34m,\u001b[0m \u001b[0mauth\u001b[0m\u001b[0;34m=\u001b[0m\u001b[0mauth\u001b[0m\u001b[0;34m,\u001b[0m \u001b[0;34m**\u001b[0m\u001b[0mkwargs\u001b[0m\u001b[0;34m)\u001b[0m  \u001b[0;31m# type: ignore\u001b[0m\u001b[0;34m\u001b[0m\u001b[0;34m\u001b[0m\u001b[0m\n\u001b[0m\u001b[1;32m     32\u001b[0m     \u001b[0mdata\u001b[0m\u001b[0;34m.\u001b[0m\u001b[0mseek\u001b[0m\u001b[0;34m(\u001b[0m\u001b[0;36m0\u001b[0m\u001b[0;34m)\u001b[0m\u001b[0;34m\u001b[0m\u001b[0;34m\u001b[0m\u001b[0m\n\u001b[1;32m     33\u001b[0m     \u001b[0;32mreturn\u001b[0m \u001b[0mdata\u001b[0m\u001b[0;34m\u001b[0m\u001b[0;34m\u001b[0m\u001b[0m\n",
      "\u001b[0;32m~/.pyenv/versions/3.8.6/envs/obsocean/lib/python3.8/site-packages/erddapy/url_handling.py\u001b[0m in \u001b[0;36m_urlopen\u001b[0;34m(url, auth, **kwargs)\u001b[0m\n\u001b[1;32m     14\u001b[0m \u001b[0;34m@\u001b[0m\u001b[0mfunctools\u001b[0m\u001b[0;34m.\u001b[0m\u001b[0mlru_cache\u001b[0m\u001b[0;34m(\u001b[0m\u001b[0mmaxsize\u001b[0m\u001b[0;34m=\u001b[0m\u001b[0;36m256\u001b[0m\u001b[0;34m)\u001b[0m\u001b[0;34m\u001b[0m\u001b[0;34m\u001b[0m\u001b[0m\n\u001b[1;32m     15\u001b[0m \u001b[0;32mdef\u001b[0m \u001b[0m_urlopen\u001b[0m\u001b[0;34m(\u001b[0m\u001b[0murl\u001b[0m\u001b[0;34m:\u001b[0m \u001b[0mstr\u001b[0m\u001b[0;34m,\u001b[0m \u001b[0mauth\u001b[0m\u001b[0;34m:\u001b[0m \u001b[0mOptional\u001b[0m\u001b[0;34m[\u001b[0m\u001b[0mtuple\u001b[0m\u001b[0;34m]\u001b[0m \u001b[0;34m=\u001b[0m \u001b[0;32mNone\u001b[0m\u001b[0;34m,\u001b[0m \u001b[0;34m**\u001b[0m\u001b[0mkwargs\u001b[0m\u001b[0;34m:\u001b[0m \u001b[0mDict\u001b[0m\u001b[0;34m)\u001b[0m \u001b[0;34m->\u001b[0m \u001b[0mBinaryIO\u001b[0m\u001b[0;34m:\u001b[0m\u001b[0;34m\u001b[0m\u001b[0;34m\u001b[0m\u001b[0m\n\u001b[0;32m---> 16\u001b[0;31m     \u001b[0mresponse\u001b[0m \u001b[0;34m=\u001b[0m \u001b[0mrequests\u001b[0m\u001b[0;34m.\u001b[0m\u001b[0mget\u001b[0m\u001b[0;34m(\u001b[0m\u001b[0murl\u001b[0m\u001b[0;34m,\u001b[0m \u001b[0mallow_redirects\u001b[0m\u001b[0;34m=\u001b[0m\u001b[0;32mTrue\u001b[0m\u001b[0;34m,\u001b[0m \u001b[0mauth\u001b[0m\u001b[0;34m=\u001b[0m\u001b[0mauth\u001b[0m\u001b[0;34m,\u001b[0m \u001b[0;34m**\u001b[0m\u001b[0mkwargs\u001b[0m\u001b[0;34m)\u001b[0m\u001b[0;34m\u001b[0m\u001b[0;34m\u001b[0m\u001b[0m\n\u001b[0m\u001b[1;32m     17\u001b[0m     \u001b[0;32mtry\u001b[0m\u001b[0;34m:\u001b[0m\u001b[0;34m\u001b[0m\u001b[0;34m\u001b[0m\u001b[0m\n\u001b[1;32m     18\u001b[0m         \u001b[0mresponse\u001b[0m\u001b[0;34m.\u001b[0m\u001b[0mraise_for_status\u001b[0m\u001b[0;34m(\u001b[0m\u001b[0;34m)\u001b[0m\u001b[0;34m\u001b[0m\u001b[0;34m\u001b[0m\u001b[0m\n",
      "\u001b[0;32m~/.pyenv/versions/3.8.6/envs/obsocean/lib/python3.8/site-packages/requests/api.py\u001b[0m in \u001b[0;36mget\u001b[0;34m(url, params, **kwargs)\u001b[0m\n\u001b[1;32m     73\u001b[0m     \"\"\"\n\u001b[1;32m     74\u001b[0m \u001b[0;34m\u001b[0m\u001b[0m\n\u001b[0;32m---> 75\u001b[0;31m     \u001b[0;32mreturn\u001b[0m \u001b[0mrequest\u001b[0m\u001b[0;34m(\u001b[0m\u001b[0;34m'get'\u001b[0m\u001b[0;34m,\u001b[0m \u001b[0murl\u001b[0m\u001b[0;34m,\u001b[0m \u001b[0mparams\u001b[0m\u001b[0;34m=\u001b[0m\u001b[0mparams\u001b[0m\u001b[0;34m,\u001b[0m \u001b[0;34m**\u001b[0m\u001b[0mkwargs\u001b[0m\u001b[0;34m)\u001b[0m\u001b[0;34m\u001b[0m\u001b[0;34m\u001b[0m\u001b[0m\n\u001b[0m\u001b[1;32m     76\u001b[0m \u001b[0;34m\u001b[0m\u001b[0m\n\u001b[1;32m     77\u001b[0m \u001b[0;34m\u001b[0m\u001b[0m\n",
      "\u001b[0;32m~/.pyenv/versions/3.8.6/envs/obsocean/lib/python3.8/site-packages/requests/api.py\u001b[0m in \u001b[0;36mrequest\u001b[0;34m(method, url, **kwargs)\u001b[0m\n\u001b[1;32m     59\u001b[0m     \u001b[0;31m# cases, and look like a memory leak in others.\u001b[0m\u001b[0;34m\u001b[0m\u001b[0;34m\u001b[0m\u001b[0;34m\u001b[0m\u001b[0m\n\u001b[1;32m     60\u001b[0m     \u001b[0;32mwith\u001b[0m \u001b[0msessions\u001b[0m\u001b[0;34m.\u001b[0m\u001b[0mSession\u001b[0m\u001b[0;34m(\u001b[0m\u001b[0;34m)\u001b[0m \u001b[0;32mas\u001b[0m \u001b[0msession\u001b[0m\u001b[0;34m:\u001b[0m\u001b[0;34m\u001b[0m\u001b[0;34m\u001b[0m\u001b[0m\n\u001b[0;32m---> 61\u001b[0;31m         \u001b[0;32mreturn\u001b[0m \u001b[0msession\u001b[0m\u001b[0;34m.\u001b[0m\u001b[0mrequest\u001b[0m\u001b[0;34m(\u001b[0m\u001b[0mmethod\u001b[0m\u001b[0;34m=\u001b[0m\u001b[0mmethod\u001b[0m\u001b[0;34m,\u001b[0m \u001b[0murl\u001b[0m\u001b[0;34m=\u001b[0m\u001b[0murl\u001b[0m\u001b[0;34m,\u001b[0m \u001b[0;34m**\u001b[0m\u001b[0mkwargs\u001b[0m\u001b[0;34m)\u001b[0m\u001b[0;34m\u001b[0m\u001b[0;34m\u001b[0m\u001b[0m\n\u001b[0m\u001b[1;32m     62\u001b[0m \u001b[0;34m\u001b[0m\u001b[0m\n\u001b[1;32m     63\u001b[0m \u001b[0;34m\u001b[0m\u001b[0m\n",
      "\u001b[0;32m~/.pyenv/versions/3.8.6/envs/obsocean/lib/python3.8/site-packages/requests/sessions.py\u001b[0m in \u001b[0;36mrequest\u001b[0;34m(self, method, url, params, data, headers, cookies, files, auth, timeout, allow_redirects, proxies, hooks, stream, verify, cert, json)\u001b[0m\n\u001b[1;32m    540\u001b[0m         }\n\u001b[1;32m    541\u001b[0m         \u001b[0msend_kwargs\u001b[0m\u001b[0;34m.\u001b[0m\u001b[0mupdate\u001b[0m\u001b[0;34m(\u001b[0m\u001b[0msettings\u001b[0m\u001b[0;34m)\u001b[0m\u001b[0;34m\u001b[0m\u001b[0;34m\u001b[0m\u001b[0m\n\u001b[0;32m--> 542\u001b[0;31m         \u001b[0mresp\u001b[0m \u001b[0;34m=\u001b[0m \u001b[0mself\u001b[0m\u001b[0;34m.\u001b[0m\u001b[0msend\u001b[0m\u001b[0;34m(\u001b[0m\u001b[0mprep\u001b[0m\u001b[0;34m,\u001b[0m \u001b[0;34m**\u001b[0m\u001b[0msend_kwargs\u001b[0m\u001b[0;34m)\u001b[0m\u001b[0;34m\u001b[0m\u001b[0;34m\u001b[0m\u001b[0m\n\u001b[0m\u001b[1;32m    543\u001b[0m \u001b[0;34m\u001b[0m\u001b[0m\n\u001b[1;32m    544\u001b[0m         \u001b[0;32mreturn\u001b[0m \u001b[0mresp\u001b[0m\u001b[0;34m\u001b[0m\u001b[0;34m\u001b[0m\u001b[0m\n",
      "\u001b[0;32m~/.pyenv/versions/3.8.6/envs/obsocean/lib/python3.8/site-packages/requests/sessions.py\u001b[0m in \u001b[0;36msend\u001b[0;34m(self, request, **kwargs)\u001b[0m\n\u001b[1;32m    653\u001b[0m \u001b[0;34m\u001b[0m\u001b[0m\n\u001b[1;32m    654\u001b[0m         \u001b[0;31m# Send the request\u001b[0m\u001b[0;34m\u001b[0m\u001b[0;34m\u001b[0m\u001b[0;34m\u001b[0m\u001b[0m\n\u001b[0;32m--> 655\u001b[0;31m         \u001b[0mr\u001b[0m \u001b[0;34m=\u001b[0m \u001b[0madapter\u001b[0m\u001b[0;34m.\u001b[0m\u001b[0msend\u001b[0m\u001b[0;34m(\u001b[0m\u001b[0mrequest\u001b[0m\u001b[0;34m,\u001b[0m \u001b[0;34m**\u001b[0m\u001b[0mkwargs\u001b[0m\u001b[0;34m)\u001b[0m\u001b[0;34m\u001b[0m\u001b[0;34m\u001b[0m\u001b[0m\n\u001b[0m\u001b[1;32m    656\u001b[0m \u001b[0;34m\u001b[0m\u001b[0m\n\u001b[1;32m    657\u001b[0m         \u001b[0;31m# Total elapsed time of the request (approximately)\u001b[0m\u001b[0;34m\u001b[0m\u001b[0;34m\u001b[0m\u001b[0;34m\u001b[0m\u001b[0m\n",
      "\u001b[0;32m~/.pyenv/versions/3.8.6/envs/obsocean/lib/python3.8/site-packages/requests/adapters.py\u001b[0m in \u001b[0;36msend\u001b[0;34m(self, request, stream, timeout, verify, cert, proxies)\u001b[0m\n\u001b[1;32m    514\u001b[0m                 \u001b[0;32mraise\u001b[0m \u001b[0mSSLError\u001b[0m\u001b[0;34m(\u001b[0m\u001b[0me\u001b[0m\u001b[0;34m,\u001b[0m \u001b[0mrequest\u001b[0m\u001b[0;34m=\u001b[0m\u001b[0mrequest\u001b[0m\u001b[0;34m)\u001b[0m\u001b[0;34m\u001b[0m\u001b[0;34m\u001b[0m\u001b[0m\n\u001b[1;32m    515\u001b[0m \u001b[0;34m\u001b[0m\u001b[0m\n\u001b[0;32m--> 516\u001b[0;31m             \u001b[0;32mraise\u001b[0m \u001b[0mConnectionError\u001b[0m\u001b[0;34m(\u001b[0m\u001b[0me\u001b[0m\u001b[0;34m,\u001b[0m \u001b[0mrequest\u001b[0m\u001b[0;34m=\u001b[0m\u001b[0mrequest\u001b[0m\u001b[0;34m)\u001b[0m\u001b[0;34m\u001b[0m\u001b[0;34m\u001b[0m\u001b[0m\n\u001b[0m\u001b[1;32m    517\u001b[0m \u001b[0;34m\u001b[0m\u001b[0m\n\u001b[1;32m    518\u001b[0m         \u001b[0;32mexcept\u001b[0m \u001b[0mClosedPoolError\u001b[0m \u001b[0;32mas\u001b[0m \u001b[0me\u001b[0m\u001b[0;34m:\u001b[0m\u001b[0;34m\u001b[0m\u001b[0;34m\u001b[0m\u001b[0m\n",
      "\u001b[0;31mConnectionError\u001b[0m: HTTPSConnectionPool(host='coastwatch.pfeg.noaa.gov', port=443): Max retries exceeded with url: /erddap/griddap/erdQMwind1day_LonPM180.dds (Caused by NewConnectionError('<urllib3.connection.HTTPSConnection object at 0x7f42db492670>: Failed to establish a new connection: [Errno 111] Connection refused'))"
     ]
    }
   ],
   "source": [
    "m.get()"
   ]
  },
  {
   "cell_type": "code",
   "execution_count": null,
   "id": "9ad226f8",
   "metadata": {},
   "outputs": [],
   "source": []
  },
  {
   "cell_type": "code",
   "execution_count": null,
   "id": "4da36507",
   "metadata": {},
   "outputs": [],
   "source": []
  },
  {
   "cell_type": "code",
   "execution_count": 9,
   "id": "858e59d1",
   "metadata": {},
   "outputs": [],
   "source": [
    "n.get()"
   ]
  },
  {
   "cell_type": "code",
   "execution_count": 10,
   "id": "824b460a",
   "metadata": {},
   "outputs": [
    {
     "data": {
      "text/plain": [
       "(139, 17)"
      ]
     },
     "execution_count": 10,
     "metadata": {},
     "output_type": "execute_result"
    }
   ],
   "source": [
    "db = Getdata()\n",
    "df = db.get(table='data_no_stations', institution=['in', ['ndbc']], date_time=['>', '2021-09-12'])\n",
    "df.shape"
   ]
  },
  {
   "cell_type": "code",
   "execution_count": 11,
   "id": "4046c834",
   "metadata": {},
   "outputs": [
    {
     "data": {
      "text/plain": [
       "tuple"
      ]
     },
     "execution_count": 11,
     "metadata": {},
     "output_type": "execute_result"
    }
   ],
   "source": [
    "type(df.shape)"
   ]
  }
 ],
 "metadata": {
  "kernelspec": {
   "display_name": "Python 3 (ipykernel)",
   "language": "python",
   "name": "python3"
  },
  "language_info": {
   "codemirror_mode": {
    "name": "ipython",
    "version": 3
   },
   "file_extension": ".py",
   "mimetype": "text/x-python",
   "name": "python",
   "nbconvert_exporter": "python",
   "pygments_lexer": "ipython3",
   "version": "3.8.6"
  },
  "toc": {
   "base_numbering": 1,
   "nav_menu": {},
   "number_sections": true,
   "sideBar": true,
   "skip_h1_title": false,
   "title_cell": "Table of Contents",
   "title_sidebar": "Contents",
   "toc_cell": false,
   "toc_position": {},
   "toc_section_display": true,
   "toc_window_display": false
  }
 },
 "nbformat": 4,
 "nbformat_minor": 5
}
