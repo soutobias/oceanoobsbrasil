{
 "cells": [
  {
   "cell_type": "code",
   "execution_count": 1,
   "id": "f215703f",
   "metadata": {},
   "outputs": [],
   "source": [
    "import pandas as pd\n",
    "from datetime import datetime, timedelta\n",
    "from oceanoobsbrasil.db import GetData\n",
    "import podaac.podaac as podaac\n",
    "from pprint import pprint\n",
    "from podaac import podaac_utils as utils\n",
    "from podaac import drive as drive\n",
    "import xarray as xr\n",
    "import xmltodict\n",
    "%load_ext autoreload\n",
    "%autoreload 2\n",
    "import time\n",
    "import re\n",
    "import ftplib\n",
    "from netCDF4 import Dataset\n",
    "import numpy as np\n",
    "from oceanoobsbrasil.remote_sensing.altimeter import Altimeter\n"
   ]
  },
  {
   "cell_type": "code",
   "execution_count": 5,
   "id": "7b2d29fd",
   "metadata": {},
   "outputs": [],
   "source": [
    "a = Altimeter()"
   ]
  },
  {
   "cell_type": "code",
   "execution_count": 3,
   "id": "1c299d1d",
   "metadata": {},
   "outputs": [
    {
     "name": "stdout",
     "output_type": "stream",
     "text": [
      "Getting JA3_OPN_2PfS209_001_20211010_221531_20211011_000907.nc\n",
      "Getting JA3_OPN_2PfS209_003_20211011_000906_20211011_020556.nc\n",
      "Getting JA3_OPN_2PfS209_006_20211011_020555_20211011_033843.nc\n",
      "Getting JA3_OPN_2PfS209_007_20211011_033842_20211011_053011.nc\n",
      "Getting JA3_OPN_2PfS209_009_20211011_053010_20211011_072731.nc\n",
      "Getting JA3_OPN_2PfS209_011_20211011_072730_20211011_092627.nc\n",
      "Getting JA3_OPN_2PfS209_013_20211011_092626_20211011_112419.nc\n",
      "Getting JA3_OPN_2PfS209_015_20211011_112418_20211011_132036.nc\n",
      "Getting JA3_OPN_2PfS209_018_20211011_132035_20211011_151723.nc\n",
      "Getting JA3_OPN_2PfS209_020_20211011_151722_20211011_164907.nc\n",
      "Getting JA3_OPN_2PfS209_021_20211011_164907_20211011_190018.nc\n",
      "Getting JA3_OPN_2PfS209_024_20211011_190017_20211011_205707.nc\n",
      "Getting JA3_OPN_2PfS209_026_20211011_205706_20211011_223619.nc\n",
      "Getting JA3_OPN_2PfS209_027_20211011_223618_20211012_003204.nc\n",
      "Getting JA3_OPN_2PfS209_027_20211011_223618_20211012_003204.nc\n",
      "Getting JA3_OPN_2PfS209_029_20211012_003203_20211012_022851.nc\n",
      "Getting JA3_OPN_2PfS209_032_20211012_022851_20211012_035900.nc\n",
      "Getting JA3_OPN_2PfS209_033_20211012_035859_20211012_055308.nc\n",
      "Getting JA3_OPN_2PfS209_035_20211012_055307_20211012_075059.nc\n",
      "Getting JA3_OPN_2PfS209_037_20211012_075058_20211012_094955.nc\n"
     ]
    }
   ],
   "source": [
    "a.download_ftplib_nodc()"
   ]
  },
  {
   "cell_type": "code",
   "execution_count": 7,
   "id": "86e87ae1",
   "metadata": {},
   "outputs": [],
   "source": [
    "a.get()"
   ]
  },
  {
   "cell_type": "code",
   "execution_count": null,
   "id": "7091a3dd",
   "metadata": {},
   "outputs": [],
   "source": []
  }
 ],
 "metadata": {
  "kernelspec": {
   "display_name": "Python 3 (ipykernel)",
   "language": "python",
   "name": "python3"
  },
  "language_info": {
   "codemirror_mode": {
    "name": "ipython",
    "version": 3
   },
   "file_extension": ".py",
   "mimetype": "text/x-python",
   "name": "python",
   "nbconvert_exporter": "python",
   "pygments_lexer": "ipython3",
   "version": "3.8.6"
  },
  "toc": {
   "base_numbering": 1,
   "nav_menu": {},
   "number_sections": true,
   "sideBar": true,
   "skip_h1_title": false,
   "title_cell": "Table of Contents",
   "title_sidebar": "Contents",
   "toc_cell": false,
   "toc_position": {},
   "toc_section_display": true,
   "toc_window_display": false
  }
 },
 "nbformat": 4,
 "nbformat_minor": 5
}
