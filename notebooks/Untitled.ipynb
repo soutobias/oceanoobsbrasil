{
 "cells": [
  {
   "cell_type": "code",
   "execution_count": 102,
   "id": "f215703f",
   "metadata": {},
   "outputs": [],
   "source": [
    "from bs4 import BeautifulSoup\n",
    "import requests\n",
    "import numpy as np\n",
    "from datetime import datetime, timedelta\n",
    "import pandas as pd\n",
    "import re"
   ]
  },
  {
   "cell_type": "code",
   "execution_count": 136,
   "id": "f0dbf7de",
   "metadata": {},
   "outputs": [],
   "source": [
    "site='https://www.ndbc.noaa.gov/box_search.php?lat1=-35.8333&lat2=7&lon1=-55.20&lon2=-20&uom=M&ot=A&time=12'\n"
   ]
  },
  {
   "cell_type": "code",
   "execution_count": 137,
   "id": "391049a8",
   "metadata": {},
   "outputs": [],
   "source": [
    "resp=requests.get(site)\n",
    "soup=BeautifulSoup(resp.text,'html.parser')\n"
   ]
  },
  {
   "cell_type": "code",
   "execution_count": 138,
   "id": "e331dd4b",
   "metadata": {},
   "outputs": [],
   "source": [
    "lines=soup.find_all('span', attrs={'style': 'background-color: #f0f8fe'})"
   ]
  },
  {
   "cell_type": "code",
   "execution_count": 139,
   "id": "8b64efd1",
   "metadata": {},
   "outputs": [],
   "source": [
    "lines=soup.find_all('span', attrs={'style': 'background-color: #f0f8fe'})\n",
    "\n",
    "values=[]\n",
    "for line in lines:\n",
    "    line = line.get_text(strip=True)\n",
    "    line = line.replace(\"B\", \" B\")\n",
    "    line = re.sub(\" +\", \",\", line).split(\",\")\n",
    "    values.append(np.array(line))\n"
   ]
  },
  {
   "cell_type": "code",
   "execution_count": 140,
   "id": "59c8897d",
   "metadata": {},
   "outputs": [],
   "source": [
    "lines = soup.find_all('span', attrs={'style': 'background-color: #fffff0'})\n",
    "for line in lines:\n",
    "    line = line.get_text(strip=True)\n",
    "    line = line.replace(\"B\", \" B\")\n",
    "    line = re.sub(\" +\", \",\", line).split(\",\")\n",
    "    values.append(np.array(line))\n"
   ]
  },
  {
   "cell_type": "code",
   "execution_count": 141,
   "id": "1320aa19",
   "metadata": {},
   "outputs": [],
   "source": [
    "columns=['ID','T1','hour','LAT','LON','WDIR','WSPD','GST','WVHT','DPD','APD','MWD','PRES','PTDY','ATMP','WTMP','DEWP','VIS','TCC','TIDE','S1HT','S1PD','S1DIR','S2HT','S2PD','S2DIR']"
   ]
  },
  {
   "cell_type": "code",
   "execution_count": 142,
   "id": "0280d474",
   "metadata": {},
   "outputs": [],
   "source": [
    "start_date = datetime.utcnow()-timedelta(hours=12)\n",
    "end_date = datetime.utcnow()"
   ]
  },
  {
   "cell_type": "code",
   "execution_count": 151,
   "id": "a7137c00",
   "metadata": {},
   "outputs": [],
   "source": [
    "df = pd.DataFrame(values).iloc[: , :26]"
   ]
  },
  {
   "cell_type": "code",
   "execution_count": 152,
   "id": "645f54c7",
   "metadata": {},
   "outputs": [],
   "source": [
    "df.columns = columns"
   ]
  },
  {
   "cell_type": "code",
   "execution_count": 153,
   "id": "2d8ee820",
   "metadata": {},
   "outputs": [],
   "source": [
    "df.hour = (df.hour.astype(int)/100).astype(int)"
   ]
  },
  {
   "cell_type": "code",
   "execution_count": 154,
   "id": "95664d9a",
   "metadata": {},
   "outputs": [],
   "source": [
    "df['date_time'] = 0"
   ]
  },
  {
   "cell_type": "code",
   "execution_count": 172,
   "id": "c68b3a35",
   "metadata": {},
   "outputs": [],
   "source": [
    "def calculate_date(x):\n",
    "    start_date = datetime.utcnow()-timedelta(hours=12)\n",
    "    end_date = datetime.utcnow()\n",
    "    if x >= end_date.hour + 2:\n",
    "        value = start_date\n",
    "        value = value.replace(hour=x)\n",
    "    else:\n",
    "        value = end_date\n",
    "        value = value.replace(hour=x)\n",
    "    \n",
    "    value = value.replace(minute=0)\n",
    "    value = value.replace(second=0)\n",
    "    value = value.replace(microsecond=0)\n",
    "    return value"
   ]
  },
  {
   "cell_type": "code",
   "execution_count": 173,
   "id": "b976d129",
   "metadata": {},
   "outputs": [],
   "source": [
    "df['date_time'] = df['hour'].apply(lambda x: calculate_date(x))"
   ]
  },
  {
   "cell_type": "code",
   "execution_count": 177,
   "id": "83766537",
   "metadata": {},
   "outputs": [],
   "source": [
    "df.replace('-', np.nan, inplace=True)"
   ]
  },
  {
   "cell_type": "code",
   "execution_count": 186,
   "id": "a47af44b",
   "metadata": {},
   "outputs": [],
   "source": [
    "df = df.astype(float, errors='ignore')"
   ]
  },
  {
   "cell_type": "code",
   "execution_count": 187,
   "id": "5881fb8f",
   "metadata": {},
   "outputs": [],
   "source": [
    "df = df[['date_time','LAT','LON','WDIR','WSPD','WVHT','DPD','MWD','PRES','ATMP','WTMP','DEWP','S1HT','S1DIR']]"
   ]
  },
  {
   "cell_type": "code",
   "execution_count": 190,
   "id": "c7b96d8e",
   "metadata": {},
   "outputs": [],
   "source": [
    "df.columns = ['date_time', 'lat', 'lon', 'wdir', 'wspd', 'swvht', 'tp', 'wvdir', 'pres', 'atmp', 'sst', 'dewpt', 'swvht_swell', 'wvdir_swell']"
   ]
  },
  {
   "cell_type": "code",
   "execution_count": 191,
   "id": "656dd570",
   "metadata": {},
   "outputs": [],
   "source": [
    "df[\"institution\"] = 'ndbc'\n",
    "df[\"data_type\"] = 'gts'"
   ]
  },
  {
   "cell_type": "code",
   "execution_count": 188,
   "id": "8386c8a4",
   "metadata": {},
   "outputs": [
    {
     "data": {
      "text/html": [
       "<div>\n",
       "<style scoped>\n",
       "    .dataframe tbody tr th:only-of-type {\n",
       "        vertical-align: middle;\n",
       "    }\n",
       "\n",
       "    .dataframe tbody tr th {\n",
       "        vertical-align: top;\n",
       "    }\n",
       "\n",
       "    .dataframe thead th {\n",
       "        text-align: right;\n",
       "    }\n",
       "</style>\n",
       "<table border=\"1\" class=\"dataframe\">\n",
       "  <thead>\n",
       "    <tr style=\"text-align: right;\">\n",
       "      <th></th>\n",
       "      <th>date_time</th>\n",
       "      <th>LAT</th>\n",
       "      <th>LON</th>\n",
       "      <th>WDIR</th>\n",
       "      <th>WSPD</th>\n",
       "      <th>WVHT</th>\n",
       "      <th>DPD</th>\n",
       "      <th>MWD</th>\n",
       "      <th>PRES</th>\n",
       "      <th>ATMP</th>\n",
       "      <th>WTMP</th>\n",
       "      <th>DEWP</th>\n",
       "      <th>S1HT</th>\n",
       "      <th>S1DIR</th>\n",
       "    </tr>\n",
       "  </thead>\n",
       "  <tbody>\n",
       "    <tr>\n",
       "      <th>0</th>\n",
       "      <td>2021-09-10 19:00:00</td>\n",
       "      <td>1.2</td>\n",
       "      <td>-30.2</td>\n",
       "      <td>NaN</td>\n",
       "      <td>NaN</td>\n",
       "      <td>NaN</td>\n",
       "      <td>NaN</td>\n",
       "      <td>NaN</td>\n",
       "      <td>1012.0</td>\n",
       "      <td>NaN</td>\n",
       "      <td>NaN</td>\n",
       "      <td>NaN</td>\n",
       "      <td>NaN</td>\n",
       "      <td>NaN</td>\n",
       "    </tr>\n",
       "    <tr>\n",
       "      <th>1</th>\n",
       "      <td>2021-09-10 18:00:00</td>\n",
       "      <td>4.4</td>\n",
       "      <td>-44.5</td>\n",
       "      <td>NaN</td>\n",
       "      <td>NaN</td>\n",
       "      <td>NaN</td>\n",
       "      <td>NaN</td>\n",
       "      <td>NaN</td>\n",
       "      <td>1012.7</td>\n",
       "      <td>30.9</td>\n",
       "      <td>NaN</td>\n",
       "      <td>25.0</td>\n",
       "      <td>NaN</td>\n",
       "      <td>NaN</td>\n",
       "    </tr>\n",
       "    <tr>\n",
       "      <th>2</th>\n",
       "      <td>2021-09-10 18:00:00</td>\n",
       "      <td>-2.3</td>\n",
       "      <td>-44.2</td>\n",
       "      <td>50.0</td>\n",
       "      <td>8.2</td>\n",
       "      <td>NaN</td>\n",
       "      <td>NaN</td>\n",
       "      <td>NaN</td>\n",
       "      <td>1011.0</td>\n",
       "      <td>29.0</td>\n",
       "      <td>28.0</td>\n",
       "      <td>23.2</td>\n",
       "      <td>NaN</td>\n",
       "      <td>NaN</td>\n",
       "    </tr>\n",
       "    <tr>\n",
       "      <th>3</th>\n",
       "      <td>2021-09-10 18:00:00</td>\n",
       "      <td>-12.0</td>\n",
       "      <td>-35.6</td>\n",
       "      <td>90.0</td>\n",
       "      <td>6.7</td>\n",
       "      <td>1.5</td>\n",
       "      <td>10.0</td>\n",
       "      <td>NaN</td>\n",
       "      <td>1015.5</td>\n",
       "      <td>29.0</td>\n",
       "      <td>27.0</td>\n",
       "      <td>29.0</td>\n",
       "      <td>1.0</td>\n",
       "      <td>160</td>\n",
       "    </tr>\n",
       "    <tr>\n",
       "      <th>4</th>\n",
       "      <td>2021-09-10 18:00:00</td>\n",
       "      <td>-33.1</td>\n",
       "      <td>-37.5</td>\n",
       "      <td>100.0</td>\n",
       "      <td>9.3</td>\n",
       "      <td>NaN</td>\n",
       "      <td>NaN</td>\n",
       "      <td>NaN</td>\n",
       "      <td>1013.0</td>\n",
       "      <td>27.0</td>\n",
       "      <td>26.0</td>\n",
       "      <td>23.0</td>\n",
       "      <td>NaN</td>\n",
       "      <td>NaN</td>\n",
       "    </tr>\n",
       "  </tbody>\n",
       "</table>\n",
       "</div>"
      ],
      "text/plain": [
       "            date_time   LAT   LON   WDIR  WSPD  WVHT   DPD  MWD    PRES  ATMP  \\\n",
       "0 2021-09-10 19:00:00   1.2 -30.2    NaN   NaN   NaN   NaN  NaN  1012.0   NaN   \n",
       "1 2021-09-10 18:00:00   4.4 -44.5    NaN   NaN   NaN   NaN  NaN  1012.7  30.9   \n",
       "2 2021-09-10 18:00:00  -2.3 -44.2   50.0   8.2   NaN   NaN  NaN  1011.0  29.0   \n",
       "3 2021-09-10 18:00:00 -12.0 -35.6   90.0   6.7   1.5  10.0  NaN  1015.5  29.0   \n",
       "4 2021-09-10 18:00:00 -33.1 -37.5  100.0   9.3   NaN   NaN  NaN  1013.0  27.0   \n",
       "\n",
       "   WTMP  DEWP  S1HT S1DIR  \n",
       "0   NaN   NaN   NaN   NaN  \n",
       "1   NaN  25.0   NaN   NaN  \n",
       "2  28.0  23.2   NaN   NaN  \n",
       "3  27.0  29.0   1.0   160  \n",
       "4  26.0  23.0   NaN   NaN  "
      ]
     },
     "execution_count": 188,
     "metadata": {},
     "output_type": "execute_result"
    }
   ],
   "source": [
    "df.head()"
   ]
  },
  {
   "cell_type": "code",
   "execution_count": 161,
   "id": "d6a93a4a",
   "metadata": {},
   "outputs": [
    {
     "data": {
      "text/plain": [
       "0     19\n",
       "1     19\n",
       "2     19\n",
       "3     19\n",
       "4     19\n",
       "      ..\n",
       "80    19\n",
       "81    19\n",
       "82    19\n",
       "83    19\n",
       "84    19\n",
       "Name: date_time, Length: 85, dtype: int64"
      ]
     },
     "execution_count": 161,
     "metadata": {},
     "output_type": "execute_result"
    }
   ],
   "source": [
    "df.date_time.dt.hour"
   ]
  },
  {
   "cell_type": "code",
   "execution_count": 158,
   "id": "8fce8330",
   "metadata": {},
   "outputs": [
    {
     "ename": "ValueError",
     "evalue": "modifications to a property of a datetimelike object are not supported. Change values on the original.",
     "output_type": "error",
     "traceback": [
      "\u001b[0;31m---------------------------------------------------------------------------\u001b[0m",
      "\u001b[0;31mValueError\u001b[0m                                Traceback (most recent call last)",
      "\u001b[0;32m/tmp/ipykernel_25881/4228760631.py\u001b[0m in \u001b[0;36m<module>\u001b[0;34m\u001b[0m\n\u001b[0;32m----> 1\u001b[0;31m \u001b[0mdf\u001b[0m\u001b[0;34m.\u001b[0m\u001b[0mdate_time\u001b[0m\u001b[0;34m.\u001b[0m\u001b[0mdt\u001b[0m\u001b[0;34m.\u001b[0m\u001b[0mhour\u001b[0m \u001b[0;34m=\u001b[0m \u001b[0mdf\u001b[0m\u001b[0;34m.\u001b[0m\u001b[0mhour\u001b[0m\u001b[0;34m.\u001b[0m\u001b[0mvalues\u001b[0m\u001b[0;34m\u001b[0m\u001b[0;34m\u001b[0m\u001b[0m\n\u001b[0m",
      "\u001b[0;32m~/.pyenv/versions/3.8.6/envs/oceanobs/lib/python3.8/site-packages/pandas/core/base.py\u001b[0m in \u001b[0;36m__setattr__\u001b[0;34m(self, key, value)\u001b[0m\n\u001b[1;32m    158\u001b[0m         ):\n\u001b[1;32m    159\u001b[0m             \u001b[0;32mraise\u001b[0m \u001b[0mAttributeError\u001b[0m\u001b[0;34m(\u001b[0m\u001b[0;34mf\"You cannot add any new attribute '{key}'\"\u001b[0m\u001b[0;34m)\u001b[0m\u001b[0;34m\u001b[0m\u001b[0;34m\u001b[0m\u001b[0m\n\u001b[0;32m--> 160\u001b[0;31m         \u001b[0mobject\u001b[0m\u001b[0;34m.\u001b[0m\u001b[0m__setattr__\u001b[0m\u001b[0;34m(\u001b[0m\u001b[0mself\u001b[0m\u001b[0;34m,\u001b[0m \u001b[0mkey\u001b[0m\u001b[0;34m,\u001b[0m \u001b[0mvalue\u001b[0m\u001b[0;34m)\u001b[0m\u001b[0;34m\u001b[0m\u001b[0;34m\u001b[0m\u001b[0m\n\u001b[0m\u001b[1;32m    161\u001b[0m \u001b[0;34m\u001b[0m\u001b[0m\n\u001b[1;32m    162\u001b[0m \u001b[0;34m\u001b[0m\u001b[0m\n",
      "\u001b[0;32m~/.pyenv/versions/3.8.6/envs/oceanobs/lib/python3.8/site-packages/pandas/core/accessor.py\u001b[0m in \u001b[0;36m_setter\u001b[0;34m(self, new_values)\u001b[0m\n\u001b[1;32m     80\u001b[0m \u001b[0;34m\u001b[0m\u001b[0m\n\u001b[1;32m     81\u001b[0m             \u001b[0;32mdef\u001b[0m \u001b[0m_setter\u001b[0m\u001b[0;34m(\u001b[0m\u001b[0mself\u001b[0m\u001b[0;34m,\u001b[0m \u001b[0mnew_values\u001b[0m\u001b[0;34m)\u001b[0m\u001b[0;34m:\u001b[0m\u001b[0;34m\u001b[0m\u001b[0;34m\u001b[0m\u001b[0m\n\u001b[0;32m---> 82\u001b[0;31m                 \u001b[0;32mreturn\u001b[0m \u001b[0mself\u001b[0m\u001b[0;34m.\u001b[0m\u001b[0m_delegate_property_set\u001b[0m\u001b[0;34m(\u001b[0m\u001b[0mname\u001b[0m\u001b[0;34m,\u001b[0m \u001b[0mnew_values\u001b[0m\u001b[0;34m)\u001b[0m\u001b[0;34m\u001b[0m\u001b[0;34m\u001b[0m\u001b[0m\n\u001b[0m\u001b[1;32m     83\u001b[0m \u001b[0;34m\u001b[0m\u001b[0m\n\u001b[1;32m     84\u001b[0m             \u001b[0m_getter\u001b[0m\u001b[0;34m.\u001b[0m\u001b[0m__name__\u001b[0m \u001b[0;34m=\u001b[0m \u001b[0mname\u001b[0m\u001b[0;34m\u001b[0m\u001b[0;34m\u001b[0m\u001b[0m\n",
      "\u001b[0;32m~/.pyenv/versions/3.8.6/envs/oceanobs/lib/python3.8/site-packages/pandas/core/indexes/accessors.py\u001b[0m in \u001b[0;36m_delegate_property_set\u001b[0;34m(self, name, value, *args, **kwargs)\u001b[0m\n\u001b[1;32m    108\u001b[0m \u001b[0;34m\u001b[0m\u001b[0m\n\u001b[1;32m    109\u001b[0m     \u001b[0;32mdef\u001b[0m \u001b[0m_delegate_property_set\u001b[0m\u001b[0;34m(\u001b[0m\u001b[0mself\u001b[0m\u001b[0;34m,\u001b[0m \u001b[0mname\u001b[0m\u001b[0;34m,\u001b[0m \u001b[0mvalue\u001b[0m\u001b[0;34m,\u001b[0m \u001b[0;34m*\u001b[0m\u001b[0margs\u001b[0m\u001b[0;34m,\u001b[0m \u001b[0;34m**\u001b[0m\u001b[0mkwargs\u001b[0m\u001b[0;34m)\u001b[0m\u001b[0;34m:\u001b[0m\u001b[0;34m\u001b[0m\u001b[0;34m\u001b[0m\u001b[0m\n\u001b[0;32m--> 110\u001b[0;31m         raise ValueError(\n\u001b[0m\u001b[1;32m    111\u001b[0m             \u001b[0;34m\"modifications to a property of a datetimelike object are not supported. \"\u001b[0m\u001b[0;34m\u001b[0m\u001b[0;34m\u001b[0m\u001b[0m\n\u001b[1;32m    112\u001b[0m             \u001b[0;34m\"Change values on the original.\"\u001b[0m\u001b[0;34m\u001b[0m\u001b[0;34m\u001b[0m\u001b[0m\n",
      "\u001b[0;31mValueError\u001b[0m: modifications to a property of a datetimelike object are not supported. Change values on the original."
     ]
    }
   ],
   "source": [
    "df.date_time.dt.hour = df.hour.values"
   ]
  },
  {
   "cell_type": "code",
   "execution_count": 115,
   "id": "eae6cf6f",
   "metadata": {},
   "outputs": [
    {
     "data": {
      "text/plain": [
       "0     18.0\n",
       "1     18.0\n",
       "2     18.0\n",
       "3     18.0\n",
       "4     17.0\n",
       "      ... \n",
       "87     6.0\n",
       "88     6.0\n",
       "89     6.0\n",
       "90     6.0\n",
       "91     6.0\n",
       "Name: hour, Length: 92, dtype: float64"
      ]
     },
     "execution_count": 115,
     "metadata": {},
     "output_type": "execute_result"
    }
   ],
   "source": [
    "df.hour"
   ]
  },
  {
   "cell_type": "code",
   "execution_count": null,
   "id": "824b460a",
   "metadata": {},
   "outputs": [],
   "source": []
  }
 ],
 "metadata": {
  "kernelspec": {
   "display_name": "Python 3 (ipykernel)",
   "language": "python",
   "name": "python3"
  },
  "language_info": {
   "codemirror_mode": {
    "name": "ipython",
    "version": 3
   },
   "file_extension": ".py",
   "mimetype": "text/x-python",
   "name": "python",
   "nbconvert_exporter": "python",
   "pygments_lexer": "ipython3",
   "version": "3.8.6"
  }
 },
 "nbformat": 4,
 "nbformat_minor": 5
}
