{
 "cells": [
  {
   "cell_type": "code",
   "execution_count": 2,
   "id": "f215703f",
   "metadata": {},
   "outputs": [],
   "source": [
    "import time\n",
    "import datetime\n",
    "import urllib.request, json\n",
    "import requests\n",
    "\n",
    "import numpy as np\n",
    "import pandas as pd\n",
    "from datetime import datetime, timedelta\n",
    "from bs4 import BeautifulSoup\n",
    "\n",
    "import re\n",
    "\n",
    "from oceanoobsbrasil.db import GetData\n",
    "%load_ext autoreload\n",
    "%autoreload 2"
   ]
  },
  {
   "cell_type": "code",
   "execution_count": 40,
   "id": "b6d30abd",
   "metadata": {},
   "outputs": [],
   "source": [
    "from oceanoobsbrasil.others.weather_warning import WeatherWarning"
   ]
  },
  {
   "cell_type": "code",
   "execution_count": 57,
   "id": "7660c497",
   "metadata": {},
   "outputs": [],
   "source": [
    "w = WeatherWarning()"
   ]
  },
  {
   "cell_type": "code",
   "execution_count": 58,
   "id": "f9d1e2e2",
   "metadata": {},
   "outputs": [],
   "source": [
    "w.get()"
   ]
  },
  {
   "cell_type": "code",
   "execution_count": 52,
   "id": "e456549c",
   "metadata": {},
   "outputs": [
    {
     "data": {
      "text/plain": [
       "datetime.datetime(2022, 8, 8, 0, 15, 17, 276818)"
      ]
     },
     "execution_count": 52,
     "metadata": {},
     "output_type": "execute_result"
    }
   ],
   "source": [
    "hour = datetime.utcnow().hour//6*6\n",
    "date_time = datetime.utcnow().replace(hour=hour)\n",
    "date_time"
   ]
  },
  {
   "cell_type": "code",
   "execution_count": 5,
   "id": "62803db1",
   "metadata": {},
   "outputs": [],
   "source": [
    "response = requests.get(w.url)\n",
    "soup = BeautifulSoup(response.text,'html.parser')"
   ]
  },
  {
   "cell_type": "code",
   "execution_count": 6,
   "id": "27b2b8c3",
   "metadata": {},
   "outputs": [],
   "source": [
    "all = soup.find(\"div\",  {\"class\": \"region region-content\"})\n",
    "ps = all.find_all(\"p\")"
   ]
  },
  {
   "cell_type": "code",
   "execution_count": 7,
   "id": "13fcab9a",
   "metadata": {},
   "outputs": [],
   "source": [
    "regions_all = ['ALFA', 'BRAVO', 'CHARLIE', 'DELTA', 'ECHO', 'FOXTROT', 'GOLF', 'HOTEL', 'SUL', 'NORTE']\n",
    "idxs= []\n",
    "regions = []\n",
    "for i in range(len(ps)):\n",
    "    r = ps[i].find(\"span\", {'style': \"color:#ff0000;\"})\n",
    "    if r:\n",
    "        for rr in regions_all:\n",
    "            if rr in r.text:\n",
    "                regions.append(rr)\n",
    "                idxs.append(i)\n",
    "                break\n",
    "idxs.append(len(ps)-1)\n",
    "idx = []\n",
    "for i in range(len(idxs)-1):\n",
    "    idx.append((idxs[i], idxs[i+1]))\n"
   ]
  },
  {
   "cell_type": "code",
   "execution_count": 14,
   "id": "d71e79a8",
   "metadata": {},
   "outputs": [
    {
     "data": {
      "text/html": [
       "<div>\n",
       "<style scoped>\n",
       "    .dataframe tbody tr th:only-of-type {\n",
       "        vertical-align: middle;\n",
       "    }\n",
       "\n",
       "    .dataframe tbody tr th {\n",
       "        vertical-align: top;\n",
       "    }\n",
       "\n",
       "    .dataframe thead th {\n",
       "        text-align: right;\n",
       "    }\n",
       "</style>\n",
       "<table border=\"1\" class=\"dataframe\">\n",
       "  <thead>\n",
       "    <tr style=\"text-align: right;\">\n",
       "      <th></th>\n",
       "      <th>region</th>\n",
       "      <th>aviso_id</th>\n",
       "      <th>type</th>\n",
       "      <th>start_date</th>\n",
       "      <th>description</th>\n",
       "      <th>end_date</th>\n",
       "    </tr>\n",
       "  </thead>\n",
       "  <tbody>\n",
       "    <tr>\n",
       "      <th>0</th>\n",
       "      <td>ALFA</td>\n",
       "      <td>686/2022</td>\n",
       "      <td>VENTO FORTE/DURO</td>\n",
       "      <td>1330Z - DOM - 07/AGO/2022</td>\n",
       "      <td>ÁREA COSTEIRA ENTRE RIO GRANDE/RS E ITAJAÍ/SC ...</td>\n",
       "      <td>110000Z</td>\n",
       "    </tr>\n",
       "    <tr>\n",
       "      <th>1</th>\n",
       "      <td>ALFA</td>\n",
       "      <td>687/2022</td>\n",
       "      <td>MAR GROSSO/MUITO GROSSO</td>\n",
       "      <td>1330Z - DOM - 07/AGO/2022</td>\n",
       "      <td>ÁREA COSTEIRA ENTRE MOSTARDAS/RS E ITAJAÍ/SC A...</td>\n",
       "      <td>110000Z</td>\n",
       "    </tr>\n",
       "    <tr>\n",
       "      <th>2</th>\n",
       "      <td>ALFA</td>\n",
       "      <td>688/2022</td>\n",
       "      <td>RESSACA</td>\n",
       "      <td>1330Z - DOM - 07/AGO/2022</td>\n",
       "      <td>RESSACA ENTRE MOSTARDAS/RS E ITAJAÍ/SC A PARTI...</td>\n",
       "      <td>110000Z</td>\n",
       "    </tr>\n",
       "    <tr>\n",
       "      <th>3</th>\n",
       "      <td>BRAVO</td>\n",
       "      <td>686/2022</td>\n",
       "      <td>VENTO FORTE/DURO</td>\n",
       "      <td>1330Z - DOM - 07/AGO/2022</td>\n",
       "      <td>ÁREA COSTEIRA ENTRE RIO GRANDE/RS E ITAJAÍ/SC ...</td>\n",
       "      <td>110000Z</td>\n",
       "    </tr>\n",
       "    <tr>\n",
       "      <th>4</th>\n",
       "      <td>BRAVO</td>\n",
       "      <td>687/2022</td>\n",
       "      <td>MAR GROSSO/MUITO GROSSO</td>\n",
       "      <td>1330Z - DOM - 07/AGO/2022</td>\n",
       "      <td>ÁREA COSTEIRA ENTRE MOSTARDAS/RS E ITAJAÍ/SC A...</td>\n",
       "      <td>110000Z</td>\n",
       "    </tr>\n",
       "    <tr>\n",
       "      <th>5</th>\n",
       "      <td>BRAVO</td>\n",
       "      <td>689/2022</td>\n",
       "      <td>VENTO FORTE/DURO</td>\n",
       "      <td>1330Z - DOM - 07/AGO/2022</td>\n",
       "      <td>ÁREA COSTEIRA ENTRE ITAJAÍ/SC E SANTOS/SP ATÉ ...</td>\n",
       "      <td>111200Z</td>\n",
       "    </tr>\n",
       "    <tr>\n",
       "      <th>6</th>\n",
       "      <td>CHARLIE</td>\n",
       "      <td>686/2022</td>\n",
       "      <td>VENTO FORTE/DURO</td>\n",
       "      <td>1330Z - DOM - 07/AGO/2022</td>\n",
       "      <td>ÁREA COSTEIRA ENTRE RIO GRANDE/RS E ITAJAÍ/SC ...</td>\n",
       "      <td>110000Z</td>\n",
       "    </tr>\n",
       "    <tr>\n",
       "      <th>7</th>\n",
       "      <td>CHARLIE</td>\n",
       "      <td>687/2022</td>\n",
       "      <td>MAR GROSSO/MUITO GROSSO</td>\n",
       "      <td>1330Z - DOM - 07/AGO/2022</td>\n",
       "      <td>ÁREA COSTEIRA ENTRE MOSTARDAS/RS E ITAJAÍ/SC A...</td>\n",
       "      <td>110000Z</td>\n",
       "    </tr>\n",
       "    <tr>\n",
       "      <th>8</th>\n",
       "      <td>CHARLIE</td>\n",
       "      <td>689/2022</td>\n",
       "      <td>VENTO FORTE/DURO</td>\n",
       "      <td>1330Z - DOM - 07/AGO/2022</td>\n",
       "      <td>ÁREA COSTEIRA ENTRE ITAJAÍ/SC E SANTOS/SP ATÉ ...</td>\n",
       "      <td>111200Z</td>\n",
       "    </tr>\n",
       "    <tr>\n",
       "      <th>9</th>\n",
       "      <td>SUL</td>\n",
       "      <td>677/2022</td>\n",
       "      <td>VENTO MUITO FORTE/DURO</td>\n",
       "      <td>1230Z - QUI - 04/AGO/2022</td>\n",
       "      <td>ÁREA OCEÂNICA 31S035W, 36S035W, 31S020W E 36S0...</td>\n",
       "      <td>080000Z</td>\n",
       "    </tr>\n",
       "    <tr>\n",
       "      <th>10</th>\n",
       "      <td>SUL</td>\n",
       "      <td>685/2022</td>\n",
       "      <td>MAR MUITO GROSSO</td>\n",
       "      <td>1230Z - SÁB - 06/AGO/2022</td>\n",
       "      <td>ÁREA OCEÂNICA ENTRE 30S030W, 36S030W, 30S020W ...</td>\n",
       "      <td>081500Z</td>\n",
       "    </tr>\n",
       "  </tbody>\n",
       "</table>\n",
       "</div>"
      ],
      "text/plain": [
       "     region  aviso_id                     type                 start_date  \\\n",
       "0      ALFA  686/2022         VENTO FORTE/DURO  1330Z - DOM - 07/AGO/2022   \n",
       "1      ALFA  687/2022  MAR GROSSO/MUITO GROSSO  1330Z - DOM - 07/AGO/2022   \n",
       "2      ALFA  688/2022                  RESSACA  1330Z - DOM - 07/AGO/2022   \n",
       "3     BRAVO  686/2022         VENTO FORTE/DURO  1330Z - DOM - 07/AGO/2022   \n",
       "4     BRAVO  687/2022  MAR GROSSO/MUITO GROSSO  1330Z - DOM - 07/AGO/2022   \n",
       "5     BRAVO  689/2022         VENTO FORTE/DURO  1330Z - DOM - 07/AGO/2022   \n",
       "6   CHARLIE  686/2022         VENTO FORTE/DURO  1330Z - DOM - 07/AGO/2022   \n",
       "7   CHARLIE  687/2022  MAR GROSSO/MUITO GROSSO  1330Z - DOM - 07/AGO/2022   \n",
       "8   CHARLIE  689/2022         VENTO FORTE/DURO  1330Z - DOM - 07/AGO/2022   \n",
       "9       SUL  677/2022   VENTO MUITO FORTE/DURO  1230Z - QUI - 04/AGO/2022   \n",
       "10      SUL  685/2022         MAR MUITO GROSSO  1230Z - SÁB - 06/AGO/2022   \n",
       "\n",
       "                                          description end_date  \n",
       "0   ÁREA COSTEIRA ENTRE RIO GRANDE/RS E ITAJAÍ/SC ...  110000Z  \n",
       "1   ÁREA COSTEIRA ENTRE MOSTARDAS/RS E ITAJAÍ/SC A...  110000Z  \n",
       "2   RESSACA ENTRE MOSTARDAS/RS E ITAJAÍ/SC A PARTI...  110000Z  \n",
       "3   ÁREA COSTEIRA ENTRE RIO GRANDE/RS E ITAJAÍ/SC ...  110000Z  \n",
       "4   ÁREA COSTEIRA ENTRE MOSTARDAS/RS E ITAJAÍ/SC A...  110000Z  \n",
       "5   ÁREA COSTEIRA ENTRE ITAJAÍ/SC E SANTOS/SP ATÉ ...  111200Z  \n",
       "6   ÁREA COSTEIRA ENTRE RIO GRANDE/RS E ITAJAÍ/SC ...  110000Z  \n",
       "7   ÁREA COSTEIRA ENTRE MOSTARDAS/RS E ITAJAÍ/SC A...  110000Z  \n",
       "8   ÁREA COSTEIRA ENTRE ITAJAÍ/SC E SANTOS/SP ATÉ ...  111200Z  \n",
       "9   ÁREA OCEÂNICA 31S035W, 36S035W, 31S020W E 36S0...  080000Z  \n",
       "10  ÁREA OCEÂNICA ENTRE 30S030W, 36S030W, 30S020W ...  081500Z  "
      ]
     },
     "execution_count": 14,
     "metadata": {},
     "output_type": "execute_result"
    }
   ],
   "source": [
    "params = []\n",
    "for index, region in enumerate(regions):\n",
    "    for i in range(idx[index][0]+1,idx[index][1]):\n",
    "        r = ps[i].strong\n",
    "        if r:\n",
    "            param = {}\n",
    "            param['region'] = region\n",
    "            param['aviso_id'] = r.text.strip()\n",
    "            param['aviso_id'] = re.findall('[0-9]+/[0-9]+', param['aviso_id'])[0]\n",
    "            all = ps[i].text.strip()\n",
    "            all = all.replace('\\t', '').split('\\n')\n",
    "            param['type'] = all[1].replace('AVISO DE', '').strip()\n",
    "            param['start_date'] = all[2].replace('EMITIDO ÀS', '').strip()\n",
    "            param['description'] = all[3].strip()\n",
    "            param['end_date'] = all[4].replace('VÁLIDO ATÉ', '').replace('.', '').strip()\n",
    "            param['institution'] = 'CHM'\n",
    "            params.append(param)\n",
    "pd.DataFrame(params)"
   ]
  },
  {
   "cell_type": "code",
   "execution_count": 33,
   "id": "7866194d",
   "metadata": {},
   "outputs": [
    {
     "data": {
      "text/plain": [
       "21"
      ]
     },
     "execution_count": 33,
     "metadata": {},
     "output_type": "execute_result"
    }
   ],
   "source": [
    "hour = datetime.now().hour\n",
    "hour=datetime.now().hour//6*6\n",
    "hour"
   ]
  },
  {
   "cell_type": "code",
   "execution_count": 32,
   "id": "4f361479",
   "metadata": {},
   "outputs": [
    {
     "data": {
      "text/plain": [
       "18"
      ]
     },
     "execution_count": 32,
     "metadata": {},
     "output_type": "execute_result"
    }
   ],
   "source": [
    "hour = datetime.now().hour//6*6"
   ]
  },
  {
   "cell_type": "code",
   "execution_count": null,
   "id": "340150e7",
   "metadata": {},
   "outputs": [],
   "source": []
  },
  {
   "cell_type": "code",
   "execution_count": 39,
   "id": "6376cfda",
   "metadata": {},
   "outputs": [
    {
     "data": {
      "text/plain": [
       "'2022-08-08 00:01:00'"
      ]
     },
     "execution_count": 39,
     "metadata": {},
     "output_type": "execute_result"
    }
   ],
   "source": [
    "hour = datetime.utcnow().hour//6*6\n",
    "date_time = datetime.utcnow()\n",
    "date_time.replace(hour=hour)\n",
    "date_time.strftime(format=f'%Y-%m-%d %H:01:00')"
   ]
  },
  {
   "cell_type": "code",
   "execution_count": 39,
   "id": "a37d2916",
   "metadata": {},
   "outputs": [
    {
     "data": {
      "text/html": [
       "<div>\n",
       "<style scoped>\n",
       "    .dataframe tbody tr th:only-of-type {\n",
       "        vertical-align: middle;\n",
       "    }\n",
       "\n",
       "    .dataframe tbody tr th {\n",
       "        vertical-align: top;\n",
       "    }\n",
       "\n",
       "    .dataframe thead th {\n",
       "        text-align: right;\n",
       "    }\n",
       "</style>\n",
       "<table border=\"1\" class=\"dataframe\">\n",
       "  <thead>\n",
       "    <tr style=\"text-align: right;\">\n",
       "      <th></th>\n",
       "      <th>date_time</th>\n",
       "      <th>lat</th>\n",
       "      <th>lon</th>\n",
       "      <th>wdir</th>\n",
       "      <th>wspd</th>\n",
       "      <th>swvht</th>\n",
       "      <th>tp</th>\n",
       "      <th>wvdir</th>\n",
       "      <th>pres</th>\n",
       "      <th>atmp</th>\n",
       "      <th>sst</th>\n",
       "      <th>dewpt</th>\n",
       "      <th>swvht_swell</th>\n",
       "      <th>wvdir_swell</th>\n",
       "      <th>institution</th>\n",
       "      <th>data_type</th>\n",
       "    </tr>\n",
       "  </thead>\n",
       "  <tbody>\n",
       "    <tr>\n",
       "      <th>0</th>\n",
       "      <td>2021-10-17 19:00:00</td>\n",
       "      <td>4.0</td>\n",
       "      <td>-23.0</td>\n",
       "      <td>136.0</td>\n",
       "      <td>8.552896</td>\n",
       "      <td>NaN</td>\n",
       "      <td>NaN</td>\n",
       "      <td>NaN</td>\n",
       "      <td>NaN</td>\n",
       "      <td>25.5</td>\n",
       "      <td>NaN</td>\n",
       "      <td>NaN</td>\n",
       "      <td>NaN</td>\n",
       "      <td>NaN</td>\n",
       "      <td>ndbc</td>\n",
       "      <td>gts</td>\n",
       "    </tr>\n",
       "    <tr>\n",
       "      <th>1</th>\n",
       "      <td>2021-10-17 19:00:00</td>\n",
       "      <td>-1.5</td>\n",
       "      <td>-27.2</td>\n",
       "      <td>140.0</td>\n",
       "      <td>12.051808</td>\n",
       "      <td>NaN</td>\n",
       "      <td>NaN</td>\n",
       "      <td>NaN</td>\n",
       "      <td>1013.9</td>\n",
       "      <td>28.0</td>\n",
       "      <td>27.0</td>\n",
       "      <td>23.9</td>\n",
       "      <td>NaN</td>\n",
       "      <td>NaN</td>\n",
       "      <td>ndbc</td>\n",
       "      <td>gts</td>\n",
       "    </tr>\n",
       "    <tr>\n",
       "      <th>2</th>\n",
       "      <td>2021-10-17 19:00:00</td>\n",
       "      <td>-6.0</td>\n",
       "      <td>-10.0</td>\n",
       "      <td>131.0</td>\n",
       "      <td>16.328256</td>\n",
       "      <td>NaN</td>\n",
       "      <td>NaN</td>\n",
       "      <td>NaN</td>\n",
       "      <td>NaN</td>\n",
       "      <td>24.7</td>\n",
       "      <td>NaN</td>\n",
       "      <td>NaN</td>\n",
       "      <td>NaN</td>\n",
       "      <td>NaN</td>\n",
       "      <td>ndbc</td>\n",
       "      <td>gts</td>\n",
       "    </tr>\n",
       "    <tr>\n",
       "      <th>3</th>\n",
       "      <td>2021-10-17 19:00:00</td>\n",
       "      <td>-25.7</td>\n",
       "      <td>-48.1</td>\n",
       "      <td>120.0</td>\n",
       "      <td>14.967568</td>\n",
       "      <td>NaN</td>\n",
       "      <td>NaN</td>\n",
       "      <td>NaN</td>\n",
       "      <td>1017.5</td>\n",
       "      <td>20.0</td>\n",
       "      <td>22.0</td>\n",
       "      <td>18.4</td>\n",
       "      <td>NaN</td>\n",
       "      <td>NaN</td>\n",
       "      <td>ndbc</td>\n",
       "      <td>gts</td>\n",
       "    </tr>\n",
       "    <tr>\n",
       "      <th>4</th>\n",
       "      <td>2021-10-17 18:00:00</td>\n",
       "      <td>6.8</td>\n",
       "      <td>-53.2</td>\n",
       "      <td>110.0</td>\n",
       "      <td>7.969744</td>\n",
       "      <td>1.0</td>\n",
       "      <td>1.0</td>\n",
       "      <td>NaN</td>\n",
       "      <td>1013.5</td>\n",
       "      <td>30.0</td>\n",
       "      <td>30.0</td>\n",
       "      <td>24.6</td>\n",
       "      <td>1.0</td>\n",
       "      <td>90.0</td>\n",
       "      <td>ndbc</td>\n",
       "      <td>gts</td>\n",
       "    </tr>\n",
       "    <tr>\n",
       "      <th>...</th>\n",
       "      <td>...</td>\n",
       "      <td>...</td>\n",
       "      <td>...</td>\n",
       "      <td>...</td>\n",
       "      <td>...</td>\n",
       "      <td>...</td>\n",
       "      <td>...</td>\n",
       "      <td>...</td>\n",
       "      <td>...</td>\n",
       "      <td>...</td>\n",
       "      <td>...</td>\n",
       "      <td>...</td>\n",
       "      <td>...</td>\n",
       "      <td>...</td>\n",
       "      <td>...</td>\n",
       "      <td>...</td>\n",
       "    </tr>\n",
       "    <tr>\n",
       "      <th>137</th>\n",
       "      <td>2021-10-17 07:00:00</td>\n",
       "      <td>0.0</td>\n",
       "      <td>-10.0</td>\n",
       "      <td>163.0</td>\n",
       "      <td>13.023728</td>\n",
       "      <td>NaN</td>\n",
       "      <td>NaN</td>\n",
       "      <td>NaN</td>\n",
       "      <td>NaN</td>\n",
       "      <td>25.8</td>\n",
       "      <td>26.7</td>\n",
       "      <td>NaN</td>\n",
       "      <td>NaN</td>\n",
       "      <td>NaN</td>\n",
       "      <td>ndbc</td>\n",
       "      <td>gts</td>\n",
       "    </tr>\n",
       "    <tr>\n",
       "      <th>138</th>\n",
       "      <td>2021-10-17 07:00:00</td>\n",
       "      <td>-3.2</td>\n",
       "      <td>-28.9</td>\n",
       "      <td>110.0</td>\n",
       "      <td>18.077712</td>\n",
       "      <td>NaN</td>\n",
       "      <td>NaN</td>\n",
       "      <td>NaN</td>\n",
       "      <td>1013.9</td>\n",
       "      <td>26.0</td>\n",
       "      <td>26.0</td>\n",
       "      <td>23.2</td>\n",
       "      <td>NaN</td>\n",
       "      <td>NaN</td>\n",
       "      <td>ndbc</td>\n",
       "      <td>gts</td>\n",
       "    </tr>\n",
       "    <tr>\n",
       "      <th>139</th>\n",
       "      <td>2021-10-17 07:00:00</td>\n",
       "      <td>-6.0</td>\n",
       "      <td>-10.0</td>\n",
       "      <td>121.0</td>\n",
       "      <td>13.606880</td>\n",
       "      <td>NaN</td>\n",
       "      <td>NaN</td>\n",
       "      <td>NaN</td>\n",
       "      <td>NaN</td>\n",
       "      <td>24.4</td>\n",
       "      <td>NaN</td>\n",
       "      <td>NaN</td>\n",
       "      <td>NaN</td>\n",
       "      <td>NaN</td>\n",
       "      <td>ndbc</td>\n",
       "      <td>gts</td>\n",
       "    </tr>\n",
       "    <tr>\n",
       "      <th>140</th>\n",
       "      <td>2021-10-17 07:00:00</td>\n",
       "      <td>-17.3</td>\n",
       "      <td>-37.5</td>\n",
       "      <td>50.0</td>\n",
       "      <td>18.077712</td>\n",
       "      <td>1.0</td>\n",
       "      <td>3.0</td>\n",
       "      <td>NaN</td>\n",
       "      <td>1013.5</td>\n",
       "      <td>26.0</td>\n",
       "      <td>30.0</td>\n",
       "      <td>21.5</td>\n",
       "      <td>1.0</td>\n",
       "      <td>150.0</td>\n",
       "      <td>ndbc</td>\n",
       "      <td>gts</td>\n",
       "    </tr>\n",
       "    <tr>\n",
       "      <th>141</th>\n",
       "      <td>2021-10-17 07:00:00</td>\n",
       "      <td>-19.9</td>\n",
       "      <td>-13.2</td>\n",
       "      <td>110.0</td>\n",
       "      <td>27.019376</td>\n",
       "      <td>NaN</td>\n",
       "      <td>NaN</td>\n",
       "      <td>NaN</td>\n",
       "      <td>1025.9</td>\n",
       "      <td>20.0</td>\n",
       "      <td>20.0</td>\n",
       "      <td>18.4</td>\n",
       "      <td>NaN</td>\n",
       "      <td>NaN</td>\n",
       "      <td>ndbc</td>\n",
       "      <td>gts</td>\n",
       "    </tr>\n",
       "  </tbody>\n",
       "</table>\n",
       "<p>142 rows × 16 columns</p>\n",
       "</div>"
      ],
      "text/plain": [
       "              date_time   lat   lon   wdir       wspd  swvht   tp  wvdir  \\\n",
       "0   2021-10-17 19:00:00   4.0 -23.0  136.0   8.552896    NaN  NaN    NaN   \n",
       "1   2021-10-17 19:00:00  -1.5 -27.2  140.0  12.051808    NaN  NaN    NaN   \n",
       "2   2021-10-17 19:00:00  -6.0 -10.0  131.0  16.328256    NaN  NaN    NaN   \n",
       "3   2021-10-17 19:00:00 -25.7 -48.1  120.0  14.967568    NaN  NaN    NaN   \n",
       "4   2021-10-17 18:00:00   6.8 -53.2  110.0   7.969744    1.0  1.0    NaN   \n",
       "..                  ...   ...   ...    ...        ...    ...  ...    ...   \n",
       "137 2021-10-17 07:00:00   0.0 -10.0  163.0  13.023728    NaN  NaN    NaN   \n",
       "138 2021-10-17 07:00:00  -3.2 -28.9  110.0  18.077712    NaN  NaN    NaN   \n",
       "139 2021-10-17 07:00:00  -6.0 -10.0  121.0  13.606880    NaN  NaN    NaN   \n",
       "140 2021-10-17 07:00:00 -17.3 -37.5   50.0  18.077712    1.0  3.0    NaN   \n",
       "141 2021-10-17 07:00:00 -19.9 -13.2  110.0  27.019376    NaN  NaN    NaN   \n",
       "\n",
       "       pres  atmp   sst  dewpt  swvht_swell  wvdir_swell institution data_type  \n",
       "0       NaN  25.5   NaN    NaN          NaN          NaN        ndbc       gts  \n",
       "1    1013.9  28.0  27.0   23.9          NaN          NaN        ndbc       gts  \n",
       "2       NaN  24.7   NaN    NaN          NaN          NaN        ndbc       gts  \n",
       "3    1017.5  20.0  22.0   18.4          NaN          NaN        ndbc       gts  \n",
       "4    1013.5  30.0  30.0   24.6          1.0         90.0        ndbc       gts  \n",
       "..      ...   ...   ...    ...          ...          ...         ...       ...  \n",
       "137     NaN  25.8  26.7    NaN          NaN          NaN        ndbc       gts  \n",
       "138  1013.9  26.0  26.0   23.2          NaN          NaN        ndbc       gts  \n",
       "139     NaN  24.4   NaN    NaN          NaN          NaN        ndbc       gts  \n",
       "140  1013.5  26.0  30.0   21.5          1.0        150.0        ndbc       gts  \n",
       "141  1025.9  20.0  20.0   18.4          NaN          NaN        ndbc       gts  \n",
       "\n",
       "[142 rows x 16 columns]"
      ]
     },
     "execution_count": 39,
     "metadata": {},
     "output_type": "execute_result"
    }
   ],
   "source": [
    "n.result"
   ]
  },
  {
   "cell_type": "code",
   "execution_count": 31,
   "id": "fb6e1326",
   "metadata": {},
   "outputs": [
    {
     "data": {
      "text/plain": [
       "5.8"
      ]
     },
     "execution_count": 31,
     "metadata": {},
     "output_type": "execute_result"
    }
   ],
   "source": [
    "n.result.wspd = pd.to_numeric(n.result.wspd, errors='coerce')\n",
    "n.result.wspd.iloc[0]"
   ]
  },
  {
   "cell_type": "code",
   "execution_count": 30,
   "id": "0bc050ce",
   "metadata": {},
   "outputs": [
    {
     "data": {
      "text/plain": [
       "0       5.8\n",
       "1       4.1\n",
       "3       4.6\n",
       "4       9.8\n",
       "6       7.2\n",
       "       ... \n",
       "122     6.7\n",
       "123     9.3\n",
       "124     7.0\n",
       "125     9.3\n",
       "126    13.9\n",
       "Name: wspd, Length: 93, dtype: object"
      ]
     },
     "execution_count": 30,
     "metadata": {},
     "output_type": "execute_result"
    }
   ],
   "source": [
    "n.result.wspd[n.result.wspd.notnull()]"
   ]
  },
  {
   "cell_type": "code",
   "execution_count": 18,
   "id": "858e59d1",
   "metadata": {},
   "outputs": [
    {
     "ename": "TypeError",
     "evalue": "can't multiply sequence by non-int of type 'float'",
     "output_type": "error",
     "traceback": [
      "\u001b[0;31m---------------------------------------------------------------------------\u001b[0m",
      "\u001b[0;31mTypeError\u001b[0m                                 Traceback (most recent call last)",
      "\u001b[0;32m~/.pyenv/versions/3.8.6/envs/oceanobs1/lib/python3.8/site-packages/pandas/core/ops/array_ops.py\u001b[0m in \u001b[0;36m_na_arithmetic_op\u001b[0;34m(left, right, op, is_cmp)\u001b[0m\n\u001b[1;32m    165\u001b[0m     \u001b[0;32mtry\u001b[0m\u001b[0;34m:\u001b[0m\u001b[0;34m\u001b[0m\u001b[0;34m\u001b[0m\u001b[0m\n\u001b[0;32m--> 166\u001b[0;31m         \u001b[0mresult\u001b[0m \u001b[0;34m=\u001b[0m \u001b[0mfunc\u001b[0m\u001b[0;34m(\u001b[0m\u001b[0mleft\u001b[0m\u001b[0;34m,\u001b[0m \u001b[0mright\u001b[0m\u001b[0;34m)\u001b[0m\u001b[0;34m\u001b[0m\u001b[0;34m\u001b[0m\u001b[0m\n\u001b[0m\u001b[1;32m    167\u001b[0m     \u001b[0;32mexcept\u001b[0m \u001b[0mTypeError\u001b[0m\u001b[0;34m:\u001b[0m\u001b[0;34m\u001b[0m\u001b[0;34m\u001b[0m\u001b[0m\n",
      "\u001b[0;32m~/.pyenv/versions/3.8.6/envs/oceanobs1/lib/python3.8/site-packages/pandas/core/computation/expressions.py\u001b[0m in \u001b[0;36mevaluate\u001b[0;34m(op, a, b, use_numexpr)\u001b[0m\n\u001b[1;32m    238\u001b[0m             \u001b[0;31m# error: \"None\" not callable\u001b[0m\u001b[0;34m\u001b[0m\u001b[0;34m\u001b[0m\u001b[0;34m\u001b[0m\u001b[0m\n\u001b[0;32m--> 239\u001b[0;31m             \u001b[0;32mreturn\u001b[0m \u001b[0m_evaluate\u001b[0m\u001b[0;34m(\u001b[0m\u001b[0mop\u001b[0m\u001b[0;34m,\u001b[0m \u001b[0mop_str\u001b[0m\u001b[0;34m,\u001b[0m \u001b[0ma\u001b[0m\u001b[0;34m,\u001b[0m \u001b[0mb\u001b[0m\u001b[0;34m)\u001b[0m  \u001b[0;31m# type: ignore[misc]\u001b[0m\u001b[0;34m\u001b[0m\u001b[0;34m\u001b[0m\u001b[0m\n\u001b[0m\u001b[1;32m    240\u001b[0m     \u001b[0;32mreturn\u001b[0m \u001b[0m_evaluate_standard\u001b[0m\u001b[0;34m(\u001b[0m\u001b[0mop\u001b[0m\u001b[0;34m,\u001b[0m \u001b[0mop_str\u001b[0m\u001b[0;34m,\u001b[0m \u001b[0ma\u001b[0m\u001b[0;34m,\u001b[0m \u001b[0mb\u001b[0m\u001b[0;34m)\u001b[0m\u001b[0;34m\u001b[0m\u001b[0;34m\u001b[0m\u001b[0m\n",
      "\u001b[0;32m~/.pyenv/versions/3.8.6/envs/oceanobs1/lib/python3.8/site-packages/pandas/core/computation/expressions.py\u001b[0m in \u001b[0;36m_evaluate_standard\u001b[0;34m(op, op_str, a, b)\u001b[0m\n\u001b[1;32m     68\u001b[0m         \u001b[0m_store_test_result\u001b[0m\u001b[0;34m(\u001b[0m\u001b[0;32mFalse\u001b[0m\u001b[0;34m)\u001b[0m\u001b[0;34m\u001b[0m\u001b[0;34m\u001b[0m\u001b[0m\n\u001b[0;32m---> 69\u001b[0;31m     \u001b[0;32mreturn\u001b[0m \u001b[0mop\u001b[0m\u001b[0;34m(\u001b[0m\u001b[0ma\u001b[0m\u001b[0;34m,\u001b[0m \u001b[0mb\u001b[0m\u001b[0;34m)\u001b[0m\u001b[0;34m\u001b[0m\u001b[0;34m\u001b[0m\u001b[0m\n\u001b[0m\u001b[1;32m     70\u001b[0m \u001b[0;34m\u001b[0m\u001b[0m\n",
      "\u001b[0;31mTypeError\u001b[0m: can't multiply sequence by non-int of type 'float'",
      "\nDuring handling of the above exception, another exception occurred:\n",
      "\u001b[0;31mTypeError\u001b[0m                                 Traceback (most recent call last)",
      "\u001b[0;32m/tmp/ipykernel_93082/659368761.py\u001b[0m in \u001b[0;36m<module>\u001b[0;34m\u001b[0m\n\u001b[0;32m----> 1\u001b[0;31m \u001b[0mn\u001b[0m\u001b[0;34m.\u001b[0m\u001b[0mget\u001b[0m\u001b[0;34m(\u001b[0m\u001b[0;34m)\u001b[0m\u001b[0;34m\u001b[0m\u001b[0;34m\u001b[0m\u001b[0m\n\u001b[0m",
      "\u001b[0;32m~/code/soutobias/personal_codes/remobs/oceanoobsbrasil/oceanoobsbrasil/others/ndbc.py\u001b[0m in \u001b[0;36mget\u001b[0;34m(self, save_bd)\u001b[0m\n\u001b[1;32m     68\u001b[0m \u001b[0;34m\u001b[0m\u001b[0m\n\u001b[1;32m     69\u001b[0m \u001b[0;34m\u001b[0m\u001b[0m\n\u001b[0;32m---> 70\u001b[0;31m         \u001b[0mself\u001b[0m\u001b[0;34m.\u001b[0m\u001b[0mconvert_to_numeric\u001b[0m\u001b[0;34m(\u001b[0m\u001b[0;34m)\u001b[0m\u001b[0;34m\u001b[0m\u001b[0;34m\u001b[0m\u001b[0m\n\u001b[0m\u001b[1;32m     71\u001b[0m         \u001b[0mself\u001b[0m\u001b[0;34m.\u001b[0m\u001b[0mresult\u001b[0m\u001b[0;34m.\u001b[0m\u001b[0mwspd\u001b[0m \u001b[0;34m=\u001b[0m \u001b[0;34m(\u001b[0m\u001b[0mself\u001b[0m\u001b[0;34m.\u001b[0m\u001b[0mresult\u001b[0m\u001b[0;34m.\u001b[0m\u001b[0mwspd\u001b[0m \u001b[0;34m*\u001b[0m \u001b[0;36m1.94384\u001b[0m\u001b[0;34m)\u001b[0m\u001b[0;34m.\u001b[0m\u001b[0mround\u001b[0m\u001b[0;34m(\u001b[0m\u001b[0mdecimals\u001b[0m\u001b[0;34m=\u001b[0m\u001b[0;36m1\u001b[0m\u001b[0;34m)\u001b[0m\u001b[0;34m\u001b[0m\u001b[0;34m\u001b[0m\u001b[0m\n\u001b[1;32m     72\u001b[0m \u001b[0;34m\u001b[0m\u001b[0m\n",
      "\u001b[0;32m~/.pyenv/versions/3.8.6/envs/oceanobs1/lib/python3.8/site-packages/pandas/core/ops/common.py\u001b[0m in \u001b[0;36mnew_method\u001b[0;34m(self, other)\u001b[0m\n\u001b[1;32m     67\u001b[0m         \u001b[0mother\u001b[0m \u001b[0;34m=\u001b[0m \u001b[0mitem_from_zerodim\u001b[0m\u001b[0;34m(\u001b[0m\u001b[0mother\u001b[0m\u001b[0;34m)\u001b[0m\u001b[0;34m\u001b[0m\u001b[0;34m\u001b[0m\u001b[0m\n\u001b[1;32m     68\u001b[0m \u001b[0;34m\u001b[0m\u001b[0m\n\u001b[0;32m---> 69\u001b[0;31m         \u001b[0;32mreturn\u001b[0m \u001b[0mmethod\u001b[0m\u001b[0;34m(\u001b[0m\u001b[0mself\u001b[0m\u001b[0;34m,\u001b[0m \u001b[0mother\u001b[0m\u001b[0;34m)\u001b[0m\u001b[0;34m\u001b[0m\u001b[0;34m\u001b[0m\u001b[0m\n\u001b[0m\u001b[1;32m     70\u001b[0m \u001b[0;34m\u001b[0m\u001b[0m\n\u001b[1;32m     71\u001b[0m     \u001b[0;32mreturn\u001b[0m \u001b[0mnew_method\u001b[0m\u001b[0;34m\u001b[0m\u001b[0;34m\u001b[0m\u001b[0m\n",
      "\u001b[0;32m~/.pyenv/versions/3.8.6/envs/oceanobs1/lib/python3.8/site-packages/pandas/core/arraylike.py\u001b[0m in \u001b[0;36m__mul__\u001b[0;34m(self, other)\u001b[0m\n\u001b[1;32m    106\u001b[0m     \u001b[0;34m@\u001b[0m\u001b[0munpack_zerodim_and_defer\u001b[0m\u001b[0;34m(\u001b[0m\u001b[0;34m\"__mul__\"\u001b[0m\u001b[0;34m)\u001b[0m\u001b[0;34m\u001b[0m\u001b[0;34m\u001b[0m\u001b[0m\n\u001b[1;32m    107\u001b[0m     \u001b[0;32mdef\u001b[0m \u001b[0m__mul__\u001b[0m\u001b[0;34m(\u001b[0m\u001b[0mself\u001b[0m\u001b[0;34m,\u001b[0m \u001b[0mother\u001b[0m\u001b[0;34m)\u001b[0m\u001b[0;34m:\u001b[0m\u001b[0;34m\u001b[0m\u001b[0;34m\u001b[0m\u001b[0m\n\u001b[0;32m--> 108\u001b[0;31m         \u001b[0;32mreturn\u001b[0m \u001b[0mself\u001b[0m\u001b[0;34m.\u001b[0m\u001b[0m_arith_method\u001b[0m\u001b[0;34m(\u001b[0m\u001b[0mother\u001b[0m\u001b[0;34m,\u001b[0m \u001b[0moperator\u001b[0m\u001b[0;34m.\u001b[0m\u001b[0mmul\u001b[0m\u001b[0;34m)\u001b[0m\u001b[0;34m\u001b[0m\u001b[0;34m\u001b[0m\u001b[0m\n\u001b[0m\u001b[1;32m    109\u001b[0m \u001b[0;34m\u001b[0m\u001b[0m\n\u001b[1;32m    110\u001b[0m     \u001b[0;34m@\u001b[0m\u001b[0munpack_zerodim_and_defer\u001b[0m\u001b[0;34m(\u001b[0m\u001b[0;34m\"__rmul__\"\u001b[0m\u001b[0;34m)\u001b[0m\u001b[0;34m\u001b[0m\u001b[0;34m\u001b[0m\u001b[0m\n",
      "\u001b[0;32m~/.pyenv/versions/3.8.6/envs/oceanobs1/lib/python3.8/site-packages/pandas/core/series.py\u001b[0m in \u001b[0;36m_arith_method\u001b[0;34m(self, other, op)\u001b[0m\n\u001b[1;32m   5524\u001b[0m \u001b[0;34m\u001b[0m\u001b[0m\n\u001b[1;32m   5525\u001b[0m         \u001b[0;32mwith\u001b[0m \u001b[0mnp\u001b[0m\u001b[0;34m.\u001b[0m\u001b[0merrstate\u001b[0m\u001b[0;34m(\u001b[0m\u001b[0mall\u001b[0m\u001b[0;34m=\u001b[0m\u001b[0;34m\"ignore\"\u001b[0m\u001b[0;34m)\u001b[0m\u001b[0;34m:\u001b[0m\u001b[0;34m\u001b[0m\u001b[0;34m\u001b[0m\u001b[0m\n\u001b[0;32m-> 5526\u001b[0;31m             \u001b[0mresult\u001b[0m \u001b[0;34m=\u001b[0m \u001b[0mops\u001b[0m\u001b[0;34m.\u001b[0m\u001b[0marithmetic_op\u001b[0m\u001b[0;34m(\u001b[0m\u001b[0mlvalues\u001b[0m\u001b[0;34m,\u001b[0m \u001b[0mrvalues\u001b[0m\u001b[0;34m,\u001b[0m \u001b[0mop\u001b[0m\u001b[0;34m)\u001b[0m\u001b[0;34m\u001b[0m\u001b[0;34m\u001b[0m\u001b[0m\n\u001b[0m\u001b[1;32m   5527\u001b[0m \u001b[0;34m\u001b[0m\u001b[0m\n\u001b[1;32m   5528\u001b[0m         \u001b[0;32mreturn\u001b[0m \u001b[0mself\u001b[0m\u001b[0;34m.\u001b[0m\u001b[0m_construct_result\u001b[0m\u001b[0;34m(\u001b[0m\u001b[0mresult\u001b[0m\u001b[0;34m,\u001b[0m \u001b[0mname\u001b[0m\u001b[0;34m=\u001b[0m\u001b[0mres_name\u001b[0m\u001b[0;34m)\u001b[0m\u001b[0;34m\u001b[0m\u001b[0;34m\u001b[0m\u001b[0m\n",
      "\u001b[0;32m~/.pyenv/versions/3.8.6/envs/oceanobs1/lib/python3.8/site-packages/pandas/core/ops/array_ops.py\u001b[0m in \u001b[0;36marithmetic_op\u001b[0;34m(left, right, op)\u001b[0m\n\u001b[1;32m    222\u001b[0m         \u001b[0m_bool_arith_check\u001b[0m\u001b[0;34m(\u001b[0m\u001b[0mop\u001b[0m\u001b[0;34m,\u001b[0m \u001b[0mleft\u001b[0m\u001b[0;34m,\u001b[0m \u001b[0mright\u001b[0m\u001b[0;34m)\u001b[0m\u001b[0;34m\u001b[0m\u001b[0;34m\u001b[0m\u001b[0m\n\u001b[1;32m    223\u001b[0m \u001b[0;34m\u001b[0m\u001b[0m\n\u001b[0;32m--> 224\u001b[0;31m         \u001b[0mres_values\u001b[0m \u001b[0;34m=\u001b[0m \u001b[0m_na_arithmetic_op\u001b[0m\u001b[0;34m(\u001b[0m\u001b[0mleft\u001b[0m\u001b[0;34m,\u001b[0m \u001b[0mright\u001b[0m\u001b[0;34m,\u001b[0m \u001b[0mop\u001b[0m\u001b[0;34m)\u001b[0m\u001b[0;34m\u001b[0m\u001b[0;34m\u001b[0m\u001b[0m\n\u001b[0m\u001b[1;32m    225\u001b[0m \u001b[0;34m\u001b[0m\u001b[0m\n\u001b[1;32m    226\u001b[0m     \u001b[0;32mreturn\u001b[0m \u001b[0mres_values\u001b[0m\u001b[0;34m\u001b[0m\u001b[0;34m\u001b[0m\u001b[0m\n",
      "\u001b[0;32m~/.pyenv/versions/3.8.6/envs/oceanobs1/lib/python3.8/site-packages/pandas/core/ops/array_ops.py\u001b[0m in \u001b[0;36m_na_arithmetic_op\u001b[0;34m(left, right, op, is_cmp)\u001b[0m\n\u001b[1;32m    171\u001b[0m             \u001b[0;31m# Don't do this for comparisons, as that will handle complex numbers\u001b[0m\u001b[0;34m\u001b[0m\u001b[0;34m\u001b[0m\u001b[0;34m\u001b[0m\u001b[0m\n\u001b[1;32m    172\u001b[0m             \u001b[0;31m#  incorrectly, see GH#32047\u001b[0m\u001b[0;34m\u001b[0m\u001b[0;34m\u001b[0m\u001b[0;34m\u001b[0m\u001b[0m\n\u001b[0;32m--> 173\u001b[0;31m             \u001b[0mresult\u001b[0m \u001b[0;34m=\u001b[0m \u001b[0m_masked_arith_op\u001b[0m\u001b[0;34m(\u001b[0m\u001b[0mleft\u001b[0m\u001b[0;34m,\u001b[0m \u001b[0mright\u001b[0m\u001b[0;34m,\u001b[0m \u001b[0mop\u001b[0m\u001b[0;34m)\u001b[0m\u001b[0;34m\u001b[0m\u001b[0;34m\u001b[0m\u001b[0m\n\u001b[0m\u001b[1;32m    174\u001b[0m         \u001b[0;32melse\u001b[0m\u001b[0;34m:\u001b[0m\u001b[0;34m\u001b[0m\u001b[0;34m\u001b[0m\u001b[0m\n\u001b[1;32m    175\u001b[0m             \u001b[0;32mraise\u001b[0m\u001b[0;34m\u001b[0m\u001b[0;34m\u001b[0m\u001b[0m\n",
      "\u001b[0;32m~/.pyenv/versions/3.8.6/envs/oceanobs1/lib/python3.8/site-packages/pandas/core/ops/array_ops.py\u001b[0m in \u001b[0;36m_masked_arith_op\u001b[0;34m(x, y, op)\u001b[0m\n\u001b[1;32m    129\u001b[0m \u001b[0;34m\u001b[0m\u001b[0m\n\u001b[1;32m    130\u001b[0m         \u001b[0;32mif\u001b[0m \u001b[0mmask\u001b[0m\u001b[0;34m.\u001b[0m\u001b[0many\u001b[0m\u001b[0;34m(\u001b[0m\u001b[0;34m)\u001b[0m\u001b[0;34m:\u001b[0m\u001b[0;34m\u001b[0m\u001b[0;34m\u001b[0m\u001b[0m\n\u001b[0;32m--> 131\u001b[0;31m             \u001b[0mresult\u001b[0m\u001b[0;34m[\u001b[0m\u001b[0mmask\u001b[0m\u001b[0;34m]\u001b[0m \u001b[0;34m=\u001b[0m \u001b[0mop\u001b[0m\u001b[0;34m(\u001b[0m\u001b[0mxrav\u001b[0m\u001b[0;34m[\u001b[0m\u001b[0mmask\u001b[0m\u001b[0;34m]\u001b[0m\u001b[0;34m,\u001b[0m \u001b[0my\u001b[0m\u001b[0;34m)\u001b[0m\u001b[0;34m\u001b[0m\u001b[0;34m\u001b[0m\u001b[0m\n\u001b[0m\u001b[1;32m    132\u001b[0m \u001b[0;34m\u001b[0m\u001b[0m\n\u001b[1;32m    133\u001b[0m     \u001b[0mnp\u001b[0m\u001b[0;34m.\u001b[0m\u001b[0mputmask\u001b[0m\u001b[0;34m(\u001b[0m\u001b[0mresult\u001b[0m\u001b[0;34m,\u001b[0m \u001b[0;34m~\u001b[0m\u001b[0mmask\u001b[0m\u001b[0;34m,\u001b[0m \u001b[0mnp\u001b[0m\u001b[0;34m.\u001b[0m\u001b[0mnan\u001b[0m\u001b[0;34m)\u001b[0m\u001b[0;34m\u001b[0m\u001b[0;34m\u001b[0m\u001b[0m\n",
      "\u001b[0;31mTypeError\u001b[0m: can't multiply sequence by non-int of type 'float'"
     ]
    }
   ],
   "source": [
    "n.get()"
   ]
  },
  {
   "cell_type": "code",
   "execution_count": 10,
   "id": "824b460a",
   "metadata": {},
   "outputs": [
    {
     "data": {
      "text/plain": [
       "(139, 17)"
      ]
     },
     "execution_count": 10,
     "metadata": {},
     "output_type": "execute_result"
    }
   ],
   "source": [
    "db = Getdata()\n",
    "df = db.get(table='data_no_stations', institution=['in', ['ndbc']], date_time=['>', '2021-09-12'])\n",
    "df.shape"
   ]
  },
  {
   "cell_type": "code",
   "execution_count": 11,
   "id": "4046c834",
   "metadata": {},
   "outputs": [
    {
     "data": {
      "text/plain": [
       "tuple"
      ]
     },
     "execution_count": 11,
     "metadata": {},
     "output_type": "execute_result"
    }
   ],
   "source": [
    "type(df.shape)"
   ]
  }
 ],
 "metadata": {
  "kernelspec": {
   "display_name": "Python 3 (ipykernel)",
   "language": "python",
   "name": "python3"
  },
  "language_info": {
   "codemirror_mode": {
    "name": "ipython",
    "version": 3
   },
   "file_extension": ".py",
   "mimetype": "text/x-python",
   "name": "python",
   "nbconvert_exporter": "python",
   "pygments_lexer": "ipython3",
   "version": "3.8.12"
  },
  "toc": {
   "base_numbering": 1,
   "nav_menu": {},
   "number_sections": true,
   "sideBar": true,
   "skip_h1_title": false,
   "title_cell": "Table of Contents",
   "title_sidebar": "Contents",
   "toc_cell": false,
   "toc_position": {},
   "toc_section_display": true,
   "toc_window_display": false
  }
 },
 "nbformat": 4,
 "nbformat_minor": 5
}
