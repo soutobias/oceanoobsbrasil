{
 "cells": [
  {
   "cell_type": "code",
   "execution_count": 29,
   "id": "6c3b4e4f",
   "metadata": {},
   "outputs": [
    {
     "name": "stdout",
     "output_type": "stream",
     "text": [
      "The autoreload extension is already loaded. To reload it, use:\n",
      "  %reload_ext autoreload\n"
     ]
    }
   ],
   "source": [
    "import pandas as pd\n",
    "import numpy as np\n",
    "\n",
    "from selenium import webdriver\n",
    "from selenium.webdriver.common.keys import Keys\n",
    "from selenium.webdriver.common.by import By\n",
    "from selenium.webdriver.support.ui import WebDriverWait\n",
    "from selenium.webdriver.support import expected_conditions as ec\n",
    "from selenium.webdriver.chrome.options import Options\n",
    "from datetime import datetime, timedelta\n",
    "from oceanoobsbrasil.bd import GetData\n",
    "from oceanoobsbrasil.utils import *\n",
    "from oceanoobsbrasil.get_epagri import EpagriMeteo, EpagriTide\n",
    "\n",
    "import os\n",
    "from dotenv import load_dotenv\n",
    "\n",
    "from bs4 import BeautifulSoup\n",
    "import re\n",
    "import chromedriver_binary\n",
    "%load_ext autoreload\n",
    "%autoreload 2"
   ]
  },
  {
   "cell_type": "code",
   "execution_count": 43,
   "id": "018754ac",
   "metadata": {},
   "outputs": [],
   "source": [
    "e = EpagriTide()"
   ]
  },
  {
   "cell_type": "code",
   "execution_count": 44,
   "id": "95a49c52",
   "metadata": {},
   "outputs": [
    {
     "name": "stdout",
     "output_type": "stream",
     "text": [
      "Itapoá\n",
      "0\n",
      "0\n",
      "    id    name      lat      lon data_type institution url\n",
      "1  881  Itapoá -26.1844 -48.6061      tide      epagri  e1\n",
      "São Francisco do Sul\n",
      "1\n",
      "1\n",
      "     id                  name      lat      lon data_type institution url\n",
      "11  882  São Francisco do Sul -26.2339 -48.6375      tide      epagri  e2\n",
      "Florianópolis\n",
      "2\n",
      "2\n",
      "    id           name      lat      lon data_type institution url\n",
      "5  890  Florianópolis -27.8161 -48.5639      tide      epagri  e3\n",
      "Laguna\n",
      "3\n",
      "3\n",
      "    id    name      lat      lon data_type institution url\n",
      "7  892  Laguna -28.4853 -48.7833      tide      epagri  e4\n",
      "Balneário Camboriú\n",
      "4\n",
      "4\n",
      "    id                name      lat      lon data_type institution url\n",
      "4  887  Balneário Camboriú -26.9961 -48.5889      tide      epagri  e5\n",
      "Imbituba\n",
      "5\n",
      "5\n",
      "    id      name      lat      lon data_type institution url\n",
      "6  891  Imbituba -28.2308 -48.6508      tide      epagri  e6\n",
      "Balneário Rincão\n",
      "6\n",
      "6\n",
      "    id              name      lat      lon data_type institution url\n",
      "8  893  Balneário Rincão -28.8261 -49.2147      tide      epagri  e7\n",
      "Ilha da Paz\n",
      "7\n",
      "7\n",
      "    id         name      lat      lon data_type institution url\n",
      "0  880  Ilha da Paz -26.1783 -48.4861      tide      epagri  e8\n",
      "Passo de Torres\n",
      "8\n",
      "8\n",
      "    id             name      lat      lon data_type institution url\n",
      "9  894  Passo de Torres -29.3261 -49.7192      tide      epagri  e9\n",
      "Joinville\n",
      "9\n",
      "9\n",
      "     id       name      lat      lon data_type institution  url\n",
      "10  884  Joinville -26.2933 -48.7806      tide      epagri  e11\n",
      "Itajaí\n",
      "10\n",
      "10\n",
      "    id    name      lat      lon data_type institution  url\n",
      "3  886  Itajaí -26.9286 -48.6278      tide      epagri  e12\n",
      "driver is running\n",
      "Firefox is still running, we can quit\n"
     ]
    }
   ],
   "source": [
    "e.get()"
   ]
  },
  {
   "cell_type": "code",
   "execution_count": null,
   "id": "b25deade",
   "metadata": {},
   "outputs": [],
   "source": []
  }
 ],
 "metadata": {
  "kernelspec": {
   "display_name": "Python 3 (ipykernel)",
   "language": "python",
   "name": "python3"
  },
  "language_info": {
   "codemirror_mode": {
    "name": "ipython",
    "version": 3
   },
   "file_extension": ".py",
   "mimetype": "text/x-python",
   "name": "python",
   "nbconvert_exporter": "python",
   "pygments_lexer": "ipython3",
   "version": "3.8.6"
  },
  "toc": {
   "base_numbering": 1,
   "nav_menu": {},
   "number_sections": true,
   "sideBar": true,
   "skip_h1_title": false,
   "title_cell": "Table of Contents",
   "title_sidebar": "Contents",
   "toc_cell": false,
   "toc_position": {},
   "toc_section_display": true,
   "toc_window_display": false
  }
 },
 "nbformat": 4,
 "nbformat_minor": 5
}
