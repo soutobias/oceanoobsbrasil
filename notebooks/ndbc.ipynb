{
 "cells": [
  {
   "cell_type": "code",
   "execution_count": 1,
   "id": "f215703f",
   "metadata": {},
   "outputs": [],
   "source": [
    "import time\n",
    "import datetime\n",
    "import urllib.request, json\n",
    "import requests\n",
    "\n",
    "import numpy as np\n",
    "import pandas as pd\n",
    "from datetime import datetime, timedelta\n",
    "from bs4 import BeautifulSoup\n",
    "\n",
    "from oceanoobsbrasil.get_simcosta import Simcosta\n",
    "\n",
    "from oceanoobsbrasil.bd import Getdata\n",
    "%load_ext autoreload\n",
    "%autoreload 2"
   ]
  },
  {
   "cell_type": "code",
   "execution_count": 2,
   "id": "b6d30abd",
   "metadata": {},
   "outputs": [],
   "source": [
    "from oceanoobsbrasil.get_ndbc import Ndbc"
   ]
  },
  {
   "cell_type": "code",
   "execution_count": 8,
   "id": "7660c497",
   "metadata": {},
   "outputs": [],
   "source": [
    "n = Ndbc()"
   ]
  },
  {
   "cell_type": "code",
   "execution_count": 9,
   "id": "858e59d1",
   "metadata": {},
   "outputs": [],
   "source": [
    "n.get()"
   ]
  },
  {
   "cell_type": "code",
   "execution_count": 10,
   "id": "824b460a",
   "metadata": {},
   "outputs": [
    {
     "data": {
      "text/plain": [
       "(139, 17)"
      ]
     },
     "execution_count": 10,
     "metadata": {},
     "output_type": "execute_result"
    }
   ],
   "source": [
    "db = Getdata()\n",
    "df = db.get(table='data_no_stations', institution=['in', ['ndbc']], date_time=['>', '2021-09-12'])\n",
    "df.shape"
   ]
  },
  {
   "cell_type": "code",
   "execution_count": 11,
   "id": "4046c834",
   "metadata": {},
   "outputs": [
    {
     "data": {
      "text/plain": [
       "tuple"
      ]
     },
     "execution_count": 11,
     "metadata": {},
     "output_type": "execute_result"
    }
   ],
   "source": [
    "type(df.shape)"
   ]
  }
 ],
 "metadata": {
  "kernelspec": {
   "display_name": "Python 3 (ipykernel)",
   "language": "python",
   "name": "python3"
  },
  "language_info": {
   "codemirror_mode": {
    "name": "ipython",
    "version": 3
   },
   "file_extension": ".py",
   "mimetype": "text/x-python",
   "name": "python",
   "nbconvert_exporter": "python",
   "pygments_lexer": "ipython3",
   "version": "3.8.6"
  },
  "toc": {
   "base_numbering": 1,
   "nav_menu": {},
   "number_sections": true,
   "sideBar": true,
   "skip_h1_title": false,
   "title_cell": "Table of Contents",
   "title_sidebar": "Contents",
   "toc_cell": false,
   "toc_position": {},
   "toc_section_display": true,
   "toc_window_display": false
  }
 },
 "nbformat": 4,
 "nbformat_minor": 5
}
