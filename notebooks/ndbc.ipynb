{
 "cells": [
  {
   "cell_type": "code",
   "execution_count": 7,
   "id": "f215703f",
   "metadata": {},
   "outputs": [
    {
     "name": "stdout",
     "output_type": "stream",
     "text": [
      "The autoreload extension is already loaded. To reload it, use:\n",
      "  %reload_ext autoreload\n"
     ]
    }
   ],
   "source": [
    "import time\n",
    "import datetime\n",
    "import urllib.request, json\n",
    "import requests\n",
    "\n",
    "import numpy as np\n",
    "import pandas as pd\n",
    "from datetime import datetime, timedelta\n",
    "from bs4 import BeautifulSoup\n",
    "\n",
    "from oceanoobsbrasil.simcosta import Simcosta\n",
    "\n",
    "from oceanoobsbrasil.bd import Getdata\n",
    "%load_ext autoreload\n",
    "%autoreload 2"
   ]
  },
  {
   "cell_type": "code",
   "execution_count": 16,
   "id": "f8a712da",
   "metadata": {},
   "outputs": [
    {
     "name": "stdout",
     "output_type": "stream",
     "text": [
      "bd.py\t   data\t\t get_mur.py   ndbc.py\t   simcosta.py\r\n",
      "bmo_br.py  get_metop.py  __init__.py  __pycache__  tides\r\n"
     ]
    }
   ],
   "source": [
    "!ls ../oceanoobsbrasil/"
   ]
  },
  {
   "cell_type": "code",
   "execution_count": 17,
   "id": "2ee1ba24",
   "metadata": {},
   "outputs": [
    {
     "name": "stdout",
     "output_type": "stream",
     "text": [
      "Obtaining file:///home/soutobias/code/soutobias/personal_codes/remobs/oceanoobsbrasil\n",
      "Requirement already satisfied: pip>=9 in /home/soutobias/.pyenv/versions/3.8.6/envs/oceanobs/lib/python3.8/site-packages (from oceanoobsbrasil==1.0) (21.2.4)\n",
      "Requirement already satisfied: setuptools>=26 in /home/soutobias/.pyenv/versions/3.8.6/envs/oceanobs/lib/python3.8/site-packages (from oceanoobsbrasil==1.0) (49.2.1)\n",
      "Requirement already satisfied: twine in /home/soutobias/.pyenv/versions/3.8.6/envs/oceanobs/lib/python3.8/site-packages (from oceanoobsbrasil==1.0) (3.4.2)\n",
      "Requirement already satisfied: wheel>=0.29 in /home/soutobias/.pyenv/versions/3.8.6/envs/oceanobs/lib/python3.8/site-packages (from oceanoobsbrasil==1.0) (0.37.0)\n",
      "Requirement already satisfied: numpy in /home/soutobias/.pyenv/versions/3.8.6/envs/oceanobs/lib/python3.8/site-packages (from oceanoobsbrasil==1.0) (1.21.2)\n",
      "Requirement already satisfied: pandas in /home/soutobias/.pyenv/versions/3.8.6/envs/oceanobs/lib/python3.8/site-packages (from oceanoobsbrasil==1.0) (1.3.2)\n",
      "Requirement already satisfied: scikit-learn in /home/soutobias/.pyenv/versions/3.8.6/envs/oceanobs/lib/python3.8/site-packages (from oceanoobsbrasil==1.0) (0.24.2)\n",
      "Requirement already satisfied: black in /home/soutobias/.pyenv/versions/3.8.6/envs/oceanobs/lib/python3.8/site-packages (from oceanoobsbrasil==1.0) (21.8b0)\n",
      "Requirement already satisfied: coverage in /home/soutobias/.pyenv/versions/3.8.6/envs/oceanobs/lib/python3.8/site-packages (from oceanoobsbrasil==1.0) (5.5)\n",
      "Requirement already satisfied: flake8 in /home/soutobias/.pyenv/versions/3.8.6/envs/oceanobs/lib/python3.8/site-packages (from oceanoobsbrasil==1.0) (3.9.2)\n",
      "Requirement already satisfied: pytest in /home/soutobias/.pyenv/versions/3.8.6/envs/oceanobs/lib/python3.8/site-packages (from oceanoobsbrasil==1.0) (6.2.5)\n",
      "Requirement already satisfied: yapf in /home/soutobias/.pyenv/versions/3.8.6/envs/oceanobs/lib/python3.8/site-packages (from oceanoobsbrasil==1.0) (0.31.0)\n",
      "Requirement already satisfied: gcsfs in /home/soutobias/.pyenv/versions/3.8.6/envs/oceanobs/lib/python3.8/site-packages (from oceanoobsbrasil==1.0) (2021.8.1)\n",
      "Requirement already satisfied: google-cloud-storage in /home/soutobias/.pyenv/versions/3.8.6/envs/oceanobs/lib/python3.8/site-packages (from oceanoobsbrasil==1.0) (1.42.1)\n",
      "Requirement already satisfied: mlflow in /home/soutobias/.pyenv/versions/3.8.6/envs/oceanobs/lib/python3.8/site-packages (from oceanoobsbrasil==1.0) (1.20.2)\n",
      "Requirement already satisfied: s3fs in /home/soutobias/.pyenv/versions/3.8.6/envs/oceanobs/lib/python3.8/site-packages (from oceanoobsbrasil==1.0) (2021.8.1)\n",
      "Requirement already satisfied: six>=1.14 in /home/soutobias/.pyenv/versions/3.8.6/envs/oceanobs/lib/python3.8/site-packages (from oceanoobsbrasil==1.0) (1.16.0)\n",
      "Requirement already satisfied: joblib in /home/soutobias/.pyenv/versions/3.8.6/envs/oceanobs/lib/python3.8/site-packages (from oceanoobsbrasil==1.0) (1.0.1)\n",
      "Requirement already satisfied: memoized-property in /home/soutobias/.pyenv/versions/3.8.6/envs/oceanobs/lib/python3.8/site-packages (from oceanoobsbrasil==1.0) (1.0.3)\n",
      "Requirement already satisfied: termcolor in /home/soutobias/.pyenv/versions/3.8.6/envs/oceanobs/lib/python3.8/site-packages (from oceanoobsbrasil==1.0) (1.1.0)\n",
      "Requirement already satisfied: pathspec<1,>=0.9.0 in /home/soutobias/.pyenv/versions/3.8.6/envs/oceanobs/lib/python3.8/site-packages (from black->oceanoobsbrasil==1.0) (0.9.0)\n",
      "Requirement already satisfied: mypy-extensions>=0.4.3 in /home/soutobias/.pyenv/versions/3.8.6/envs/oceanobs/lib/python3.8/site-packages (from black->oceanoobsbrasil==1.0) (0.4.3)\n",
      "Requirement already satisfied: tomli<2.0.0,>=0.2.6 in /home/soutobias/.pyenv/versions/3.8.6/envs/oceanobs/lib/python3.8/site-packages (from black->oceanoobsbrasil==1.0) (1.2.1)\n",
      "Requirement already satisfied: click>=7.1.2 in /home/soutobias/.pyenv/versions/3.8.6/envs/oceanobs/lib/python3.8/site-packages (from black->oceanoobsbrasil==1.0) (8.0.1)\n",
      "Requirement already satisfied: regex>=2020.1.8 in /home/soutobias/.pyenv/versions/3.8.6/envs/oceanobs/lib/python3.8/site-packages (from black->oceanoobsbrasil==1.0) (2021.8.28)\n",
      "Requirement already satisfied: platformdirs>=2 in /home/soutobias/.pyenv/versions/3.8.6/envs/oceanobs/lib/python3.8/site-packages (from black->oceanoobsbrasil==1.0) (2.3.0)\n",
      "Requirement already satisfied: typing-extensions>=3.10.0.0 in /home/soutobias/.pyenv/versions/3.8.6/envs/oceanobs/lib/python3.8/site-packages (from black->oceanoobsbrasil==1.0) (3.10.0.2)\n",
      "Requirement already satisfied: pyflakes<2.4.0,>=2.3.0 in /home/soutobias/.pyenv/versions/3.8.6/envs/oceanobs/lib/python3.8/site-packages (from flake8->oceanoobsbrasil==1.0) (2.3.1)\n",
      "Requirement already satisfied: mccabe<0.7.0,>=0.6.0 in /home/soutobias/.pyenv/versions/3.8.6/envs/oceanobs/lib/python3.8/site-packages (from flake8->oceanoobsbrasil==1.0) (0.6.1)\n",
      "Requirement already satisfied: pycodestyle<2.8.0,>=2.7.0 in /home/soutobias/.pyenv/versions/3.8.6/envs/oceanobs/lib/python3.8/site-packages (from flake8->oceanoobsbrasil==1.0) (2.7.0)\n",
      "Requirement already satisfied: google-auth>=1.2 in /home/soutobias/.pyenv/versions/3.8.6/envs/oceanobs/lib/python3.8/site-packages (from gcsfs->oceanoobsbrasil==1.0) (2.0.2)\n",
      "Requirement already satisfied: requests in /home/soutobias/.pyenv/versions/3.8.6/envs/oceanobs/lib/python3.8/site-packages (from gcsfs->oceanoobsbrasil==1.0) (2.26.0)\n",
      "Requirement already satisfied: google-auth-oauthlib in /home/soutobias/.pyenv/versions/3.8.6/envs/oceanobs/lib/python3.8/site-packages (from gcsfs->oceanoobsbrasil==1.0) (0.4.6)\n",
      "Requirement already satisfied: aiohttp in /home/soutobias/.pyenv/versions/3.8.6/envs/oceanobs/lib/python3.8/site-packages (from gcsfs->oceanoobsbrasil==1.0) (3.7.4.post0)\n",
      "Requirement already satisfied: decorator in /home/soutobias/.pyenv/versions/3.8.6/envs/oceanobs/lib/python3.8/site-packages (from gcsfs->oceanoobsbrasil==1.0) (5.0.9)\n",
      "Requirement already satisfied: fsspec==2021.08.1 in /home/soutobias/.pyenv/versions/3.8.6/envs/oceanobs/lib/python3.8/site-packages (from gcsfs->oceanoobsbrasil==1.0) (2021.8.1)\n",
      "Requirement already satisfied: pyasn1-modules>=0.2.1 in /home/soutobias/.pyenv/versions/3.8.6/envs/oceanobs/lib/python3.8/site-packages (from google-auth>=1.2->gcsfs->oceanoobsbrasil==1.0) (0.2.8)\n",
      "Requirement already satisfied: rsa<5,>=3.1.4 in /home/soutobias/.pyenv/versions/3.8.6/envs/oceanobs/lib/python3.8/site-packages (from google-auth>=1.2->gcsfs->oceanoobsbrasil==1.0) (4.7.2)\n",
      "Requirement already satisfied: cachetools<5.0,>=2.0.0 in /home/soutobias/.pyenv/versions/3.8.6/envs/oceanobs/lib/python3.8/site-packages (from google-auth>=1.2->gcsfs->oceanoobsbrasil==1.0) (4.2.2)\n",
      "Requirement already satisfied: pyasn1<0.5.0,>=0.4.6 in /home/soutobias/.pyenv/versions/3.8.6/envs/oceanobs/lib/python3.8/site-packages (from pyasn1-modules>=0.2.1->google-auth>=1.2->gcsfs->oceanoobsbrasil==1.0) (0.4.8)\n",
      "Requirement already satisfied: async-timeout<4.0,>=3.0 in /home/soutobias/.pyenv/versions/3.8.6/envs/oceanobs/lib/python3.8/site-packages (from aiohttp->gcsfs->oceanoobsbrasil==1.0) (3.0.1)\n",
      "Requirement already satisfied: yarl<2.0,>=1.0 in /home/soutobias/.pyenv/versions/3.8.6/envs/oceanobs/lib/python3.8/site-packages (from aiohttp->gcsfs->oceanoobsbrasil==1.0) (1.6.3)\n",
      "Requirement already satisfied: chardet<5.0,>=2.0 in /home/soutobias/.pyenv/versions/3.8.6/envs/oceanobs/lib/python3.8/site-packages (from aiohttp->gcsfs->oceanoobsbrasil==1.0) (4.0.0)\n",
      "Requirement already satisfied: multidict<7.0,>=4.5 in /home/soutobias/.pyenv/versions/3.8.6/envs/oceanobs/lib/python3.8/site-packages (from aiohttp->gcsfs->oceanoobsbrasil==1.0) (5.1.0)\n",
      "Requirement already satisfied: attrs>=17.3.0 in /home/soutobias/.pyenv/versions/3.8.6/envs/oceanobs/lib/python3.8/site-packages (from aiohttp->gcsfs->oceanoobsbrasil==1.0) (21.2.0)\n",
      "Requirement already satisfied: idna>=2.0 in /home/soutobias/.pyenv/versions/3.8.6/envs/oceanobs/lib/python3.8/site-packages (from yarl<2.0,>=1.0->aiohttp->gcsfs->oceanoobsbrasil==1.0) (3.2)\n",
      "Requirement already satisfied: requests-oauthlib>=0.7.0 in /home/soutobias/.pyenv/versions/3.8.6/envs/oceanobs/lib/python3.8/site-packages (from google-auth-oauthlib->gcsfs->oceanoobsbrasil==1.0) (1.3.0)\n",
      "Requirement already satisfied: oauthlib>=3.0.0 in /home/soutobias/.pyenv/versions/3.8.6/envs/oceanobs/lib/python3.8/site-packages (from requests-oauthlib>=0.7.0->google-auth-oauthlib->gcsfs->oceanoobsbrasil==1.0) (3.1.1)\n"
     ]
    },
    {
     "name": "stdout",
     "output_type": "stream",
     "text": [
      "Requirement already satisfied: urllib3<1.27,>=1.21.1 in /home/soutobias/.pyenv/versions/3.8.6/envs/oceanobs/lib/python3.8/site-packages (from requests->gcsfs->oceanoobsbrasil==1.0) (1.26.6)\n",
      "Requirement already satisfied: certifi>=2017.4.17 in /home/soutobias/.pyenv/versions/3.8.6/envs/oceanobs/lib/python3.8/site-packages (from requests->gcsfs->oceanoobsbrasil==1.0) (2021.5.30)\n",
      "Requirement already satisfied: charset-normalizer~=2.0.0 in /home/soutobias/.pyenv/versions/3.8.6/envs/oceanobs/lib/python3.8/site-packages (from requests->gcsfs->oceanoobsbrasil==1.0) (2.0.4)\n",
      "Requirement already satisfied: google-resumable-media<3.0dev,>=1.3.0 in /home/soutobias/.pyenv/versions/3.8.6/envs/oceanobs/lib/python3.8/site-packages (from google-cloud-storage->oceanoobsbrasil==1.0) (2.0.2)\n",
      "Requirement already satisfied: google-cloud-core<3.0dev,>=1.6.0 in /home/soutobias/.pyenv/versions/3.8.6/envs/oceanobs/lib/python3.8/site-packages (from google-cloud-storage->oceanoobsbrasil==1.0) (2.0.0)\n",
      "Requirement already satisfied: google-api-core<3.0dev,>=1.29.0 in /home/soutobias/.pyenv/versions/3.8.6/envs/oceanobs/lib/python3.8/site-packages (from google-cloud-storage->oceanoobsbrasil==1.0) (2.0.1)\n",
      "Requirement already satisfied: googleapis-common-protos<2.0dev,>=1.6.0 in /home/soutobias/.pyenv/versions/3.8.6/envs/oceanobs/lib/python3.8/site-packages (from google-api-core<3.0dev,>=1.29.0->google-cloud-storage->oceanoobsbrasil==1.0) (1.53.0)\n",
      "Requirement already satisfied: protobuf>=3.12.0 in /home/soutobias/.pyenv/versions/3.8.6/envs/oceanobs/lib/python3.8/site-packages (from google-api-core<3.0dev,>=1.29.0->google-cloud-storage->oceanoobsbrasil==1.0) (3.17.3)\n",
      "Requirement already satisfied: google-crc32c<=1.1.2,>=1.0 in /home/soutobias/.pyenv/versions/3.8.6/envs/oceanobs/lib/python3.8/site-packages (from google-resumable-media<3.0dev,>=1.3.0->google-cloud-storage->oceanoobsbrasil==1.0) (1.1.2)\n",
      "Requirement already satisfied: cffi>=1.0.0 in /home/soutobias/.pyenv/versions/3.8.6/envs/oceanobs/lib/python3.8/site-packages (from google-crc32c<=1.1.2,>=1.0->google-resumable-media<3.0dev,>=1.3.0->google-cloud-storage->oceanoobsbrasil==1.0) (1.14.6)\n",
      "Requirement already satisfied: pycparser in /home/soutobias/.pyenv/versions/3.8.6/envs/oceanobs/lib/python3.8/site-packages (from cffi>=1.0.0->google-crc32c<=1.1.2,>=1.0->google-resumable-media<3.0dev,>=1.3.0->google-cloud-storage->oceanoobsbrasil==1.0) (2.20)\n",
      "Requirement already satisfied: sqlalchemy in /home/soutobias/.pyenv/versions/3.8.6/envs/oceanobs/lib/python3.8/site-packages (from mlflow->oceanoobsbrasil==1.0) (1.4.23)\n",
      "Requirement already satisfied: cloudpickle in /home/soutobias/.pyenv/versions/3.8.6/envs/oceanobs/lib/python3.8/site-packages (from mlflow->oceanoobsbrasil==1.0) (1.6.0)\n",
      "Requirement already satisfied: gunicorn in /home/soutobias/.pyenv/versions/3.8.6/envs/oceanobs/lib/python3.8/site-packages (from mlflow->oceanoobsbrasil==1.0) (20.1.0)\n",
      "Requirement already satisfied: packaging in /home/soutobias/.pyenv/versions/3.8.6/envs/oceanobs/lib/python3.8/site-packages (from mlflow->oceanoobsbrasil==1.0) (21.0)\n",
      "Requirement already satisfied: pyyaml>=5.1 in /home/soutobias/.pyenv/versions/3.8.6/envs/oceanobs/lib/python3.8/site-packages (from mlflow->oceanoobsbrasil==1.0) (5.4.1)\n",
      "Requirement already satisfied: alembic<=1.4.1 in /home/soutobias/.pyenv/versions/3.8.6/envs/oceanobs/lib/python3.8/site-packages (from mlflow->oceanoobsbrasil==1.0) (1.4.1)\n",
      "Requirement already satisfied: pytz in /home/soutobias/.pyenv/versions/3.8.6/envs/oceanobs/lib/python3.8/site-packages (from mlflow->oceanoobsbrasil==1.0) (2021.1)\n",
      "Requirement already satisfied: importlib-metadata!=4.7.0,>=3.7.0 in /home/soutobias/.pyenv/versions/3.8.6/envs/oceanobs/lib/python3.8/site-packages (from mlflow->oceanoobsbrasil==1.0) (4.8.1)\n",
      "Requirement already satisfied: Flask in /home/soutobias/.pyenv/versions/3.8.6/envs/oceanobs/lib/python3.8/site-packages (from mlflow->oceanoobsbrasil==1.0) (2.0.1)\n",
      "Requirement already satisfied: entrypoints in /home/soutobias/.pyenv/versions/3.8.6/envs/oceanobs/lib/python3.8/site-packages (from mlflow->oceanoobsbrasil==1.0) (0.3)\n",
      "Requirement already satisfied: databricks-cli>=0.8.7 in /home/soutobias/.pyenv/versions/3.8.6/envs/oceanobs/lib/python3.8/site-packages (from mlflow->oceanoobsbrasil==1.0) (0.15.0)\n",
      "Requirement already satisfied: docker>=4.0.0 in /home/soutobias/.pyenv/versions/3.8.6/envs/oceanobs/lib/python3.8/site-packages (from mlflow->oceanoobsbrasil==1.0) (5.0.2)\n",
      "Requirement already satisfied: prometheus-flask-exporter in /home/soutobias/.pyenv/versions/3.8.6/envs/oceanobs/lib/python3.8/site-packages (from mlflow->oceanoobsbrasil==1.0) (0.18.2)\n",
      "Requirement already satisfied: sqlparse>=0.3.1 in /home/soutobias/.pyenv/versions/3.8.6/envs/oceanobs/lib/python3.8/site-packages (from mlflow->oceanoobsbrasil==1.0) (0.4.1)\n",
      "Requirement already satisfied: gitpython>=2.1.0 in /home/soutobias/.pyenv/versions/3.8.6/envs/oceanobs/lib/python3.8/site-packages (from mlflow->oceanoobsbrasil==1.0) (3.1.18)\n",
      "Requirement already satisfied: querystring-parser in /home/soutobias/.pyenv/versions/3.8.6/envs/oceanobs/lib/python3.8/site-packages (from mlflow->oceanoobsbrasil==1.0) (1.2.4)\n",
      "Requirement already satisfied: python-dateutil in /home/soutobias/.pyenv/versions/3.8.6/envs/oceanobs/lib/python3.8/site-packages (from alembic<=1.4.1->mlflow->oceanoobsbrasil==1.0) (2.8.2)\n",
      "Requirement already satisfied: python-editor>=0.3 in /home/soutobias/.pyenv/versions/3.8.6/envs/oceanobs/lib/python3.8/site-packages (from alembic<=1.4.1->mlflow->oceanoobsbrasil==1.0) (1.0.4)\n",
      "Requirement already satisfied: Mako in /home/soutobias/.pyenv/versions/3.8.6/envs/oceanobs/lib/python3.8/site-packages (from alembic<=1.4.1->mlflow->oceanoobsbrasil==1.0) (1.1.5)\n",
      "Requirement already satisfied: tabulate>=0.7.7 in /home/soutobias/.pyenv/versions/3.8.6/envs/oceanobs/lib/python3.8/site-packages (from databricks-cli>=0.8.7->mlflow->oceanoobsbrasil==1.0) (0.8.9)\n",
      "Requirement already satisfied: websocket-client>=0.32.0 in /home/soutobias/.pyenv/versions/3.8.6/envs/oceanobs/lib/python3.8/site-packages (from docker>=4.0.0->mlflow->oceanoobsbrasil==1.0) (1.2.1)\n",
      "Requirement already satisfied: gitdb<5,>=4.0.1 in /home/soutobias/.pyenv/versions/3.8.6/envs/oceanobs/lib/python3.8/site-packages (from gitpython>=2.1.0->mlflow->oceanoobsbrasil==1.0) (4.0.7)\n",
      "Requirement already satisfied: smmap<5,>=3.0.1 in /home/soutobias/.pyenv/versions/3.8.6/envs/oceanobs/lib/python3.8/site-packages (from gitdb<5,>=4.0.1->gitpython>=2.1.0->mlflow->oceanoobsbrasil==1.0) (4.0.0)\n",
      "Requirement already satisfied: zipp>=0.5 in /home/soutobias/.pyenv/versions/3.8.6/envs/oceanobs/lib/python3.8/site-packages (from importlib-metadata!=4.7.0,>=3.7.0->mlflow->oceanoobsbrasil==1.0) (3.5.0)\n",
      "Requirement already satisfied: greenlet!=0.4.17 in /home/soutobias/.pyenv/versions/3.8.6/envs/oceanobs/lib/python3.8/site-packages (from sqlalchemy->mlflow->oceanoobsbrasil==1.0) (1.1.1)\n",
      "Requirement already satisfied: Werkzeug>=2.0 in /home/soutobias/.pyenv/versions/3.8.6/envs/oceanobs/lib/python3.8/site-packages (from Flask->mlflow->oceanoobsbrasil==1.0) (2.0.1)\n",
      "Requirement already satisfied: Jinja2>=3.0 in /home/soutobias/.pyenv/versions/3.8.6/envs/oceanobs/lib/python3.8/site-packages (from Flask->mlflow->oceanoobsbrasil==1.0) (3.0.1)\n",
      "Requirement already satisfied: itsdangerous>=2.0 in /home/soutobias/.pyenv/versions/3.8.6/envs/oceanobs/lib/python3.8/site-packages (from Flask->mlflow->oceanoobsbrasil==1.0) (2.0.1)\n",
      "Requirement already satisfied: MarkupSafe>=2.0 in /home/soutobias/.pyenv/versions/3.8.6/envs/oceanobs/lib/python3.8/site-packages (from Jinja2>=3.0->Flask->mlflow->oceanoobsbrasil==1.0) (2.0.1)\n",
      "Requirement already satisfied: pyparsing>=2.0.2 in /home/soutobias/.pyenv/versions/3.8.6/envs/oceanobs/lib/python3.8/site-packages (from packaging->mlflow->oceanoobsbrasil==1.0) (2.4.7)\n",
      "Requirement already satisfied: prometheus-client in /home/soutobias/.pyenv/versions/3.8.6/envs/oceanobs/lib/python3.8/site-packages (from prometheus-flask-exporter->mlflow->oceanoobsbrasil==1.0) (0.11.0)\n",
      "Requirement already satisfied: toml in /home/soutobias/.pyenv/versions/3.8.6/envs/oceanobs/lib/python3.8/site-packages (from pytest->oceanoobsbrasil==1.0) (0.10.2)\n",
      "Requirement already satisfied: pluggy<2.0,>=0.12 in /home/soutobias/.pyenv/versions/3.8.6/envs/oceanobs/lib/python3.8/site-packages (from pytest->oceanoobsbrasil==1.0) (1.0.0)\n",
      "Requirement already satisfied: iniconfig in /home/soutobias/.pyenv/versions/3.8.6/envs/oceanobs/lib/python3.8/site-packages (from pytest->oceanoobsbrasil==1.0) (1.1.1)\n",
      "Requirement already satisfied: py>=1.8.2 in /home/soutobias/.pyenv/versions/3.8.6/envs/oceanobs/lib/python3.8/site-packages (from pytest->oceanoobsbrasil==1.0) (1.10.0)\n"
     ]
    },
    {
     "name": "stdout",
     "output_type": "stream",
     "text": [
      "Requirement already satisfied: aiobotocore~=1.4.0 in /home/soutobias/.pyenv/versions/3.8.6/envs/oceanobs/lib/python3.8/site-packages (from s3fs->oceanoobsbrasil==1.0) (1.4.1)\n",
      "Requirement already satisfied: botocore<1.20.107,>=1.20.106 in /home/soutobias/.pyenv/versions/3.8.6/envs/oceanobs/lib/python3.8/site-packages (from aiobotocore~=1.4.0->s3fs->oceanoobsbrasil==1.0) (1.20.106)\n",
      "Requirement already satisfied: wrapt>=1.10.10 in /home/soutobias/.pyenv/versions/3.8.6/envs/oceanobs/lib/python3.8/site-packages (from aiobotocore~=1.4.0->s3fs->oceanoobsbrasil==1.0) (1.12.1)\n",
      "Requirement already satisfied: aioitertools>=0.5.1 in /home/soutobias/.pyenv/versions/3.8.6/envs/oceanobs/lib/python3.8/site-packages (from aiobotocore~=1.4.0->s3fs->oceanoobsbrasil==1.0) (0.8.0)\n",
      "Requirement already satisfied: jmespath<1.0.0,>=0.7.1 in /home/soutobias/.pyenv/versions/3.8.6/envs/oceanobs/lib/python3.8/site-packages (from botocore<1.20.107,>=1.20.106->aiobotocore~=1.4.0->s3fs->oceanoobsbrasil==1.0) (0.10.0)\n",
      "Requirement already satisfied: scipy>=0.19.1 in /home/soutobias/.pyenv/versions/3.8.6/envs/oceanobs/lib/python3.8/site-packages (from scikit-learn->oceanoobsbrasil==1.0) (1.7.1)\n",
      "Requirement already satisfied: threadpoolctl>=2.0.0 in /home/soutobias/.pyenv/versions/3.8.6/envs/oceanobs/lib/python3.8/site-packages (from scikit-learn->oceanoobsbrasil==1.0) (2.2.0)\n",
      "Requirement already satisfied: readme-renderer>=21.0 in /home/soutobias/.pyenv/versions/3.8.6/envs/oceanobs/lib/python3.8/site-packages (from twine->oceanoobsbrasil==1.0) (29.0)\n",
      "Requirement already satisfied: requests-toolbelt!=0.9.0,>=0.8.0 in /home/soutobias/.pyenv/versions/3.8.6/envs/oceanobs/lib/python3.8/site-packages (from twine->oceanoobsbrasil==1.0) (0.9.1)\n",
      "Requirement already satisfied: keyring>=15.1 in /home/soutobias/.pyenv/versions/3.8.6/envs/oceanobs/lib/python3.8/site-packages (from twine->oceanoobsbrasil==1.0) (23.1.0)\n",
      "Requirement already satisfied: rfc3986>=1.4.0 in /home/soutobias/.pyenv/versions/3.8.6/envs/oceanobs/lib/python3.8/site-packages (from twine->oceanoobsbrasil==1.0) (1.5.0)\n",
      "Requirement already satisfied: pkginfo>=1.4.2 in /home/soutobias/.pyenv/versions/3.8.6/envs/oceanobs/lib/python3.8/site-packages (from twine->oceanoobsbrasil==1.0) (1.7.1)\n",
      "Requirement already satisfied: tqdm>=4.14 in /home/soutobias/.pyenv/versions/3.8.6/envs/oceanobs/lib/python3.8/site-packages (from twine->oceanoobsbrasil==1.0) (4.62.2)\n",
      "Requirement already satisfied: colorama>=0.4.3 in /home/soutobias/.pyenv/versions/3.8.6/envs/oceanobs/lib/python3.8/site-packages (from twine->oceanoobsbrasil==1.0) (0.4.4)\n",
      "Requirement already satisfied: jeepney>=0.4.2 in /home/soutobias/.pyenv/versions/3.8.6/envs/oceanobs/lib/python3.8/site-packages (from keyring>=15.1->twine->oceanoobsbrasil==1.0) (0.7.1)\n",
      "Requirement already satisfied: SecretStorage>=3.2 in /home/soutobias/.pyenv/versions/3.8.6/envs/oceanobs/lib/python3.8/site-packages (from keyring>=15.1->twine->oceanoobsbrasil==1.0) (3.3.1)\n",
      "Requirement already satisfied: Pygments>=2.5.1 in /home/soutobias/.pyenv/versions/3.8.6/envs/oceanobs/lib/python3.8/site-packages (from readme-renderer>=21.0->twine->oceanoobsbrasil==1.0) (2.10.0)\n",
      "Requirement already satisfied: docutils>=0.13.1 in /home/soutobias/.pyenv/versions/3.8.6/envs/oceanobs/lib/python3.8/site-packages (from readme-renderer>=21.0->twine->oceanoobsbrasil==1.0) (0.17.1)\n",
      "Requirement already satisfied: bleach>=2.1.0 in /home/soutobias/.pyenv/versions/3.8.6/envs/oceanobs/lib/python3.8/site-packages (from readme-renderer>=21.0->twine->oceanoobsbrasil==1.0) (4.1.0)\n",
      "Requirement already satisfied: webencodings in /home/soutobias/.pyenv/versions/3.8.6/envs/oceanobs/lib/python3.8/site-packages (from bleach>=2.1.0->readme-renderer>=21.0->twine->oceanoobsbrasil==1.0) (0.5.1)\n",
      "Requirement already satisfied: cryptography>=2.0 in /home/soutobias/.pyenv/versions/3.8.6/envs/oceanobs/lib/python3.8/site-packages (from SecretStorage>=3.2->keyring>=15.1->twine->oceanoobsbrasil==1.0) (3.4.8)\n",
      "Installing collected packages: oceanoobsbrasil\n",
      "  Running setup.py develop for oceanoobsbrasil\n",
      "Successfully installed oceanoobsbrasil-1.0\n"
     ]
    }
   ],
   "source": [
    "!pip install -e ../."
   ]
  },
  {
   "cell_type": "code",
   "execution_count": 18,
   "id": "b6d30abd",
   "metadata": {},
   "outputs": [
    {
     "ename": "ImportError",
     "evalue": "cannot import name 'ndbc' from 'oceanoobsbrasil' (/home/soutobias/.pyenv/versions/3.8.6/envs/oceanobs/lib/python3.8/site-packages/oceanoobsbrasil/__init__.py)",
     "output_type": "error",
     "traceback": [
      "\u001b[0;31m---------------------------------------------------------------------------\u001b[0m",
      "\u001b[0;31mImportError\u001b[0m                               Traceback (most recent call last)",
      "\u001b[0;32m/tmp/ipykernel_15295/21297085.py\u001b[0m in \u001b[0;36m<module>\u001b[0;34m\u001b[0m\n\u001b[0;32m----> 1\u001b[0;31m \u001b[0;32mfrom\u001b[0m \u001b[0moceanoobsbrasil\u001b[0m \u001b[0;32mimport\u001b[0m \u001b[0mndbc\u001b[0m\u001b[0;34m\u001b[0m\u001b[0;34m\u001b[0m\u001b[0m\n\u001b[0m",
      "\u001b[0;31mImportError\u001b[0m: cannot import name 'ndbc' from 'oceanoobsbrasil' (/home/soutobias/.pyenv/versions/3.8.6/envs/oceanobs/lib/python3.8/site-packages/oceanoobsbrasil/__init__.py)"
     ]
    }
   ],
   "source": [
    "from oceanoobsbrasil import ndbc"
   ]
  },
  {
   "cell_type": "code",
   "execution_count": 4,
   "id": "e925446a",
   "metadata": {},
   "outputs": [],
   "source": [
    "import os\n",
    "import sys"
   ]
  },
  {
   "cell_type": "code",
   "execution_count": 5,
   "id": "139bb42f",
   "metadata": {},
   "outputs": [],
   "source": [
    "path = f\"{os.environ['HOME']}/code/soutobias/personal_codes/remobs/oceanoobsbrasil/oceanoobsbrasil/\"\n",
    "sys.path.append(path)"
   ]
  },
  {
   "cell_type": "code",
   "execution_count": 6,
   "id": "a9b2a6eb",
   "metadata": {},
   "outputs": [],
   "source": [
    "from ndbc import Ndbc"
   ]
  },
  {
   "cell_type": "code",
   "execution_count": 7,
   "id": "7660c497",
   "metadata": {},
   "outputs": [],
   "source": [
    "n = Ndbc()"
   ]
  },
  {
   "cell_type": "code",
   "execution_count": 8,
   "id": "858e59d1",
   "metadata": {},
   "outputs": [
    {
     "ename": "UnboundLocalError",
     "evalue": "local variable 'station' referenced before assignment",
     "output_type": "error",
     "traceback": [
      "\u001b[0;31m---------------------------------------------------------------------------\u001b[0m",
      "\u001b[0;31mUnboundLocalError\u001b[0m                         Traceback (most recent call last)",
      "\u001b[0;32m/tmp/ipykernel_21106/659368761.py\u001b[0m in \u001b[0;36m<module>\u001b[0;34m\u001b[0m\n\u001b[0;32m----> 1\u001b[0;31m \u001b[0mn\u001b[0m\u001b[0;34m.\u001b[0m\u001b[0mget\u001b[0m\u001b[0;34m(\u001b[0m\u001b[0;34m)\u001b[0m\u001b[0;34m\u001b[0m\u001b[0;34m\u001b[0m\u001b[0m\n\u001b[0m",
      "\u001b[0;32m~/code/soutobias/personal_codes/remobs/oceanoobsbrasil/oceanoobsbrasil/ndbc.py\u001b[0m in \u001b[0;36mget\u001b[0;34m(self)\u001b[0m\n\u001b[1;32m     72\u001b[0m         \u001b[0mself\u001b[0m\u001b[0;34m.\u001b[0m\u001b[0mresult\u001b[0m\u001b[0;34m[\u001b[0m\u001b[0;34m\"data_type\"\u001b[0m\u001b[0;34m]\u001b[0m \u001b[0;34m=\u001b[0m \u001b[0;34m'gts'\u001b[0m\u001b[0;34m\u001b[0m\u001b[0;34m\u001b[0m\u001b[0m\n\u001b[1;32m     73\u001b[0m \u001b[0;34m\u001b[0m\u001b[0m\n\u001b[0;32m---> 74\u001b[0;31m         \u001b[0mself\u001b[0m\u001b[0;34m.\u001b[0m\u001b[0mfeed_bd\u001b[0m\u001b[0;34m(\u001b[0m\u001b[0;34m)\u001b[0m\u001b[0;34m\u001b[0m\u001b[0;34m\u001b[0m\u001b[0m\n\u001b[0m\u001b[1;32m     75\u001b[0m \u001b[0;34m\u001b[0m\u001b[0m\n\u001b[1;32m     76\u001b[0m     \u001b[0;32mdef\u001b[0m \u001b[0mfeed_bd\u001b[0m\u001b[0;34m(\u001b[0m\u001b[0mself\u001b[0m\u001b[0;34m)\u001b[0m\u001b[0;34m:\u001b[0m\u001b[0;34m\u001b[0m\u001b[0;34m\u001b[0m\u001b[0m\n",
      "\u001b[0;32m~/code/soutobias/personal_codes/remobs/oceanoobsbrasil/oceanoobsbrasil/ndbc.py\u001b[0m in \u001b[0;36mfeed_bd\u001b[0;34m(self)\u001b[0m\n\u001b[1;32m     76\u001b[0m     \u001b[0;32mdef\u001b[0m \u001b[0mfeed_bd\u001b[0m\u001b[0;34m(\u001b[0m\u001b[0mself\u001b[0m\u001b[0;34m)\u001b[0m\u001b[0;34m:\u001b[0m\u001b[0;34m\u001b[0m\u001b[0;34m\u001b[0m\u001b[0m\n\u001b[1;32m     77\u001b[0m \u001b[0;34m\u001b[0m\u001b[0m\n\u001b[0;32m---> 78\u001b[0;31m         \u001b[0mself\u001b[0m\u001b[0;34m.\u001b[0m\u001b[0mbd\u001b[0m\u001b[0;34m.\u001b[0m\u001b[0mpost\u001b[0m\u001b[0;34m(\u001b[0m\u001b[0mtable\u001b[0m\u001b[0;34m=\u001b[0m\u001b[0;34m'data_no_stations'\u001b[0m\u001b[0;34m,\u001b[0m \u001b[0mdf\u001b[0m\u001b[0;34m=\u001b[0m\u001b[0mself\u001b[0m\u001b[0;34m.\u001b[0m\u001b[0mresult\u001b[0m\u001b[0;34m)\u001b[0m\u001b[0;34m\u001b[0m\u001b[0;34m\u001b[0m\u001b[0m\n\u001b[0m\u001b[1;32m     79\u001b[0m \u001b[0;34m\u001b[0m\u001b[0m\n\u001b[1;32m     80\u001b[0m     \u001b[0;32mdef\u001b[0m \u001b[0mcalculate_date\u001b[0m\u001b[0;34m(\u001b[0m\u001b[0mself\u001b[0m\u001b[0;34m,\u001b[0m \u001b[0mx\u001b[0m\u001b[0;34m)\u001b[0m\u001b[0;34m:\u001b[0m\u001b[0;34m\u001b[0m\u001b[0;34m\u001b[0m\u001b[0m\n",
      "\u001b[0;32m~/.pyenv/versions/3.8.6/envs/oceanobs/lib/python3.8/site-packages/oceanoobsbrasil/bd.py\u001b[0m in \u001b[0;36mpost\u001b[0;34m(self, table, df)\u001b[0m\n\u001b[1;32m     44\u001b[0m         \u001b[0;32melif\u001b[0m \u001b[0mtable\u001b[0m \u001b[0;34m==\u001b[0m \u001b[0;34m'data_no_stations'\u001b[0m\u001b[0;34m:\u001b[0m\u001b[0;34m\u001b[0m\u001b[0;34m\u001b[0m\u001b[0m\n\u001b[1;32m     45\u001b[0m             \u001b[0minstitution\u001b[0m \u001b[0;34m=\u001b[0m \u001b[0mlist\u001b[0m\u001b[0;34m(\u001b[0m\u001b[0mdf\u001b[0m\u001b[0;34m.\u001b[0m\u001b[0minstitution\u001b[0m\u001b[0;34m.\u001b[0m\u001b[0munique\u001b[0m\u001b[0;34m(\u001b[0m\u001b[0;34m)\u001b[0m\u001b[0;34m)\u001b[0m\u001b[0;34m\u001b[0m\u001b[0;34m\u001b[0m\u001b[0m\n\u001b[0;32m---> 46\u001b[0;31m             \u001b[0mself\u001b[0m\u001b[0;34m.\u001b[0m\u001b[0mdelete\u001b[0m\u001b[0;34m(\u001b[0m\u001b[0mtable\u001b[0m\u001b[0;34m=\u001b[0m\u001b[0mtable\u001b[0m\u001b[0;34m,\u001b[0m \u001b[0minstitution\u001b[0m\u001b[0;34m=\u001b[0m\u001b[0;34m[\u001b[0m\u001b[0;34m'in'\u001b[0m\u001b[0;34m,\u001b[0m\u001b[0mstation\u001b[0m\u001b[0;34m]\u001b[0m\u001b[0;34m,\u001b[0m \u001b[0mdate_time\u001b[0m\u001b[0;34m=\u001b[0m\u001b[0;34m[\u001b[0m\u001b[0;34m'>='\u001b[0m\u001b[0;34m,\u001b[0m \u001b[0mdf\u001b[0m\u001b[0;34m[\u001b[0m\u001b[0;34m'date_time'\u001b[0m\u001b[0;34m]\u001b[0m\u001b[0;34m.\u001b[0m\u001b[0mmin\u001b[0m\u001b[0;34m(\u001b[0m\u001b[0;34m)\u001b[0m\u001b[0;34m]\u001b[0m\u001b[0;34m)\u001b[0m\u001b[0;34m\u001b[0m\u001b[0;34m\u001b[0m\u001b[0m\n\u001b[0m\u001b[1;32m     47\u001b[0m \u001b[0;34m\u001b[0m\u001b[0m\n\u001b[1;32m     48\u001b[0m         \u001b[0mdf\u001b[0m\u001b[0;34m.\u001b[0m\u001b[0mto_sql\u001b[0m\u001b[0;34m(\u001b[0m\u001b[0mcon\u001b[0m\u001b[0;34m=\u001b[0m\u001b[0mself\u001b[0m\u001b[0;34m.\u001b[0m\u001b[0mengine\u001b[0m\u001b[0;34m,\u001b[0m \u001b[0mname\u001b[0m\u001b[0;34m=\u001b[0m\u001b[0mtable\u001b[0m\u001b[0;34m,\u001b[0m \u001b[0mif_exists\u001b[0m\u001b[0;34m=\u001b[0m\u001b[0;34m'append'\u001b[0m\u001b[0;34m,\u001b[0m \u001b[0mindex\u001b[0m\u001b[0;34m=\u001b[0m\u001b[0;32mFalse\u001b[0m\u001b[0;34m)\u001b[0m\u001b[0;34m\u001b[0m\u001b[0;34m\u001b[0m\u001b[0m\n",
      "\u001b[0;31mUnboundLocalError\u001b[0m: local variable 'station' referenced before assignment"
     ]
    }
   ],
   "source": [
    "n.get()"
   ]
  },
  {
   "cell_type": "code",
   "execution_count": 9,
   "id": "e9b3b093",
   "metadata": {},
   "outputs": [
    {
     "data": {
      "text/plain": [
       "<oceanoobsbrasil.simcosta.Simcosta at 0x7f4d597e1700>"
      ]
     },
     "execution_count": 9,
     "metadata": {},
     "output_type": "execute_result"
    }
   ],
   "source": [
    "simcosta.Simcosta()"
   ]
  },
  {
   "cell_type": "code",
   "execution_count": 4,
   "id": "5ef8b92b",
   "metadata": {},
   "outputs": [],
   "source": [
    "s = Simcosta()"
   ]
  },
  {
   "cell_type": "code",
   "execution_count": 136,
   "id": "f0dbf7de",
   "metadata": {},
   "outputs": [],
   "source": [
    "site='https://www.ndbc.noaa.gov/box_search.php?lat1=-35.8333&lat2=7&lon1=-55.20&lon2=-20&uom=M&ot=A&time=12'\n"
   ]
  },
  {
   "cell_type": "code",
   "execution_count": 137,
   "id": "391049a8",
   "metadata": {},
   "outputs": [],
   "source": [
    "resp=requests.get(site)\n",
    "soup=BeautifulSoup(resp.text,'html.parser')\n"
   ]
  },
  {
   "cell_type": "code",
   "execution_count": 138,
   "id": "e331dd4b",
   "metadata": {},
   "outputs": [],
   "source": [
    "lines=soup.find_all('span', attrs={'style': 'background-color: #f0f8fe'})"
   ]
  },
  {
   "cell_type": "code",
   "execution_count": 139,
   "id": "8b64efd1",
   "metadata": {},
   "outputs": [],
   "source": [
    "lines=soup.find_all('span', attrs={'style': 'background-color: #f0f8fe'})\n",
    "\n",
    "values=[]\n",
    "for line in lines:\n",
    "    line = line.get_text(strip=True)\n",
    "    line = line.replace(\"B\", \" B\")\n",
    "    line = re.sub(\" +\", \",\", line).split(\",\")\n",
    "    values.append(np.array(line))\n"
   ]
  },
  {
   "cell_type": "code",
   "execution_count": 140,
   "id": "59c8897d",
   "metadata": {},
   "outputs": [],
   "source": [
    "lines = soup.find_all('span', attrs={'style': 'background-color: #fffff0'})\n",
    "for line in lines:\n",
    "    line = line.get_text(strip=True)\n",
    "    line = line.replace(\"B\", \" B\")\n",
    "    line = re.sub(\" +\", \",\", line).split(\",\")\n",
    "    values.append(np.array(line))\n"
   ]
  },
  {
   "cell_type": "code",
   "execution_count": 141,
   "id": "1320aa19",
   "metadata": {},
   "outputs": [],
   "source": [
    "columns=['ID','T1','hour','LAT','LON','WDIR','WSPD','GST','WVHT','DPD','APD','MWD','PRES','PTDY','ATMP','WTMP','DEWP','VIS','TCC','TIDE','S1HT','S1PD','S1DIR','S2HT','S2PD','S2DIR']"
   ]
  },
  {
   "cell_type": "code",
   "execution_count": 142,
   "id": "0280d474",
   "metadata": {},
   "outputs": [],
   "source": [
    "start_date = datetime.utcnow()-timedelta(hours=12)\n",
    "end_date = datetime.utcnow()"
   ]
  },
  {
   "cell_type": "code",
   "execution_count": 151,
   "id": "a7137c00",
   "metadata": {},
   "outputs": [],
   "source": [
    "df = pd.DataFrame(values).iloc[: , :26]"
   ]
  },
  {
   "cell_type": "code",
   "execution_count": 152,
   "id": "645f54c7",
   "metadata": {},
   "outputs": [],
   "source": [
    "df.columns = columns"
   ]
  },
  {
   "cell_type": "code",
   "execution_count": 153,
   "id": "2d8ee820",
   "metadata": {},
   "outputs": [],
   "source": [
    "df.hour = (df.hour.astype(int)/100).astype(int)"
   ]
  },
  {
   "cell_type": "code",
   "execution_count": 154,
   "id": "95664d9a",
   "metadata": {},
   "outputs": [],
   "source": [
    "df['date_time'] = 0"
   ]
  },
  {
   "cell_type": "code",
   "execution_count": 172,
   "id": "c68b3a35",
   "metadata": {},
   "outputs": [],
   "source": [
    "def calculate_date(x):\n",
    "    start_date = datetime.utcnow()-timedelta(hours=12)\n",
    "    end_date = datetime.utcnow()\n",
    "    if x >= end_date.hour + 2:\n",
    "        value = start_date\n",
    "        value = value.replace(hour=x)\n",
    "    else:\n",
    "        value = end_date\n",
    "        value = value.replace(hour=x)\n",
    "    \n",
    "    value = value.replace(minute=0)\n",
    "    value = value.replace(second=0)\n",
    "    value = value.replace(microsecond=0)\n",
    "    return value"
   ]
  },
  {
   "cell_type": "code",
   "execution_count": 173,
   "id": "b976d129",
   "metadata": {},
   "outputs": [],
   "source": [
    "df['date_time'] = df['hour'].apply(lambda x: calculate_date(x))"
   ]
  },
  {
   "cell_type": "code",
   "execution_count": 177,
   "id": "83766537",
   "metadata": {},
   "outputs": [],
   "source": [
    "df.replace('-', np.nan, inplace=True)"
   ]
  },
  {
   "cell_type": "code",
   "execution_count": 186,
   "id": "a47af44b",
   "metadata": {},
   "outputs": [],
   "source": [
    "df = df.astype(float, errors='ignore')"
   ]
  },
  {
   "cell_type": "code",
   "execution_count": 187,
   "id": "5881fb8f",
   "metadata": {},
   "outputs": [],
   "source": [
    "df = df[['date_time','LAT','LON','WDIR','WSPD','WVHT','DPD','MWD','PRES','ATMP','WTMP','DEWP','S1HT','S1DIR']]"
   ]
  },
  {
   "cell_type": "code",
   "execution_count": 190,
   "id": "c7b96d8e",
   "metadata": {},
   "outputs": [],
   "source": [
    "df.columns = ['date_time', 'lat', 'lon', 'wdir', 'wspd', 'swvht', 'tp', 'wvdir', 'pres', 'atmp', 'sst', 'dewpt', 'swvht_swell', 'wvdir_swell']"
   ]
  },
  {
   "cell_type": "code",
   "execution_count": 191,
   "id": "656dd570",
   "metadata": {},
   "outputs": [],
   "source": [
    "df[\"institution\"] = 'ndbc'\n",
    "df[\"data_type\"] = 'gts'"
   ]
  },
  {
   "cell_type": "code",
   "execution_count": 188,
   "id": "8386c8a4",
   "metadata": {},
   "outputs": [
    {
     "data": {
      "text/html": [
       "<div>\n",
       "<style scoped>\n",
       "    .dataframe tbody tr th:only-of-type {\n",
       "        vertical-align: middle;\n",
       "    }\n",
       "\n",
       "    .dataframe tbody tr th {\n",
       "        vertical-align: top;\n",
       "    }\n",
       "\n",
       "    .dataframe thead th {\n",
       "        text-align: right;\n",
       "    }\n",
       "</style>\n",
       "<table border=\"1\" class=\"dataframe\">\n",
       "  <thead>\n",
       "    <tr style=\"text-align: right;\">\n",
       "      <th></th>\n",
       "      <th>date_time</th>\n",
       "      <th>LAT</th>\n",
       "      <th>LON</th>\n",
       "      <th>WDIR</th>\n",
       "      <th>WSPD</th>\n",
       "      <th>WVHT</th>\n",
       "      <th>DPD</th>\n",
       "      <th>MWD</th>\n",
       "      <th>PRES</th>\n",
       "      <th>ATMP</th>\n",
       "      <th>WTMP</th>\n",
       "      <th>DEWP</th>\n",
       "      <th>S1HT</th>\n",
       "      <th>S1DIR</th>\n",
       "    </tr>\n",
       "  </thead>\n",
       "  <tbody>\n",
       "    <tr>\n",
       "      <th>0</th>\n",
       "      <td>2021-09-10 19:00:00</td>\n",
       "      <td>1.2</td>\n",
       "      <td>-30.2</td>\n",
       "      <td>NaN</td>\n",
       "      <td>NaN</td>\n",
       "      <td>NaN</td>\n",
       "      <td>NaN</td>\n",
       "      <td>NaN</td>\n",
       "      <td>1012.0</td>\n",
       "      <td>NaN</td>\n",
       "      <td>NaN</td>\n",
       "      <td>NaN</td>\n",
       "      <td>NaN</td>\n",
       "      <td>NaN</td>\n",
       "    </tr>\n",
       "    <tr>\n",
       "      <th>1</th>\n",
       "      <td>2021-09-10 18:00:00</td>\n",
       "      <td>4.4</td>\n",
       "      <td>-44.5</td>\n",
       "      <td>NaN</td>\n",
       "      <td>NaN</td>\n",
       "      <td>NaN</td>\n",
       "      <td>NaN</td>\n",
       "      <td>NaN</td>\n",
       "      <td>1012.7</td>\n",
       "      <td>30.9</td>\n",
       "      <td>NaN</td>\n",
       "      <td>25.0</td>\n",
       "      <td>NaN</td>\n",
       "      <td>NaN</td>\n",
       "    </tr>\n",
       "    <tr>\n",
       "      <th>2</th>\n",
       "      <td>2021-09-10 18:00:00</td>\n",
       "      <td>-2.3</td>\n",
       "      <td>-44.2</td>\n",
       "      <td>50.0</td>\n",
       "      <td>8.2</td>\n",
       "      <td>NaN</td>\n",
       "      <td>NaN</td>\n",
       "      <td>NaN</td>\n",
       "      <td>1011.0</td>\n",
       "      <td>29.0</td>\n",
       "      <td>28.0</td>\n",
       "      <td>23.2</td>\n",
       "      <td>NaN</td>\n",
       "      <td>NaN</td>\n",
       "    </tr>\n",
       "    <tr>\n",
       "      <th>3</th>\n",
       "      <td>2021-09-10 18:00:00</td>\n",
       "      <td>-12.0</td>\n",
       "      <td>-35.6</td>\n",
       "      <td>90.0</td>\n",
       "      <td>6.7</td>\n",
       "      <td>1.5</td>\n",
       "      <td>10.0</td>\n",
       "      <td>NaN</td>\n",
       "      <td>1015.5</td>\n",
       "      <td>29.0</td>\n",
       "      <td>27.0</td>\n",
       "      <td>29.0</td>\n",
       "      <td>1.0</td>\n",
       "      <td>160</td>\n",
       "    </tr>\n",
       "    <tr>\n",
       "      <th>4</th>\n",
       "      <td>2021-09-10 18:00:00</td>\n",
       "      <td>-33.1</td>\n",
       "      <td>-37.5</td>\n",
       "      <td>100.0</td>\n",
       "      <td>9.3</td>\n",
       "      <td>NaN</td>\n",
       "      <td>NaN</td>\n",
       "      <td>NaN</td>\n",
       "      <td>1013.0</td>\n",
       "      <td>27.0</td>\n",
       "      <td>26.0</td>\n",
       "      <td>23.0</td>\n",
       "      <td>NaN</td>\n",
       "      <td>NaN</td>\n",
       "    </tr>\n",
       "  </tbody>\n",
       "</table>\n",
       "</div>"
      ],
      "text/plain": [
       "            date_time   LAT   LON   WDIR  WSPD  WVHT   DPD  MWD    PRES  ATMP  \\\n",
       "0 2021-09-10 19:00:00   1.2 -30.2    NaN   NaN   NaN   NaN  NaN  1012.0   NaN   \n",
       "1 2021-09-10 18:00:00   4.4 -44.5    NaN   NaN   NaN   NaN  NaN  1012.7  30.9   \n",
       "2 2021-09-10 18:00:00  -2.3 -44.2   50.0   8.2   NaN   NaN  NaN  1011.0  29.0   \n",
       "3 2021-09-10 18:00:00 -12.0 -35.6   90.0   6.7   1.5  10.0  NaN  1015.5  29.0   \n",
       "4 2021-09-10 18:00:00 -33.1 -37.5  100.0   9.3   NaN   NaN  NaN  1013.0  27.0   \n",
       "\n",
       "   WTMP  DEWP  S1HT S1DIR  \n",
       "0   NaN   NaN   NaN   NaN  \n",
       "1   NaN  25.0   NaN   NaN  \n",
       "2  28.0  23.2   NaN   NaN  \n",
       "3  27.0  29.0   1.0   160  \n",
       "4  26.0  23.0   NaN   NaN  "
      ]
     },
     "execution_count": 188,
     "metadata": {},
     "output_type": "execute_result"
    }
   ],
   "source": [
    "df.head()"
   ]
  },
  {
   "cell_type": "code",
   "execution_count": 161,
   "id": "d6a93a4a",
   "metadata": {},
   "outputs": [
    {
     "data": {
      "text/plain": [
       "0     19\n",
       "1     19\n",
       "2     19\n",
       "3     19\n",
       "4     19\n",
       "      ..\n",
       "80    19\n",
       "81    19\n",
       "82    19\n",
       "83    19\n",
       "84    19\n",
       "Name: date_time, Length: 85, dtype: int64"
      ]
     },
     "execution_count": 161,
     "metadata": {},
     "output_type": "execute_result"
    }
   ],
   "source": [
    "df.date_time.dt.hour"
   ]
  },
  {
   "cell_type": "code",
   "execution_count": 158,
   "id": "8fce8330",
   "metadata": {},
   "outputs": [
    {
     "ename": "ValueError",
     "evalue": "modifications to a property of a datetimelike object are not supported. Change values on the original.",
     "output_type": "error",
     "traceback": [
      "\u001b[0;31m---------------------------------------------------------------------------\u001b[0m",
      "\u001b[0;31mValueError\u001b[0m                                Traceback (most recent call last)",
      "\u001b[0;32m/tmp/ipykernel_25881/4228760631.py\u001b[0m in \u001b[0;36m<module>\u001b[0;34m\u001b[0m\n\u001b[0;32m----> 1\u001b[0;31m \u001b[0mdf\u001b[0m\u001b[0;34m.\u001b[0m\u001b[0mdate_time\u001b[0m\u001b[0;34m.\u001b[0m\u001b[0mdt\u001b[0m\u001b[0;34m.\u001b[0m\u001b[0mhour\u001b[0m \u001b[0;34m=\u001b[0m \u001b[0mdf\u001b[0m\u001b[0;34m.\u001b[0m\u001b[0mhour\u001b[0m\u001b[0;34m.\u001b[0m\u001b[0mvalues\u001b[0m\u001b[0;34m\u001b[0m\u001b[0;34m\u001b[0m\u001b[0m\n\u001b[0m",
      "\u001b[0;32m~/.pyenv/versions/3.8.6/envs/oceanobs/lib/python3.8/site-packages/pandas/core/base.py\u001b[0m in \u001b[0;36m__setattr__\u001b[0;34m(self, key, value)\u001b[0m\n\u001b[1;32m    158\u001b[0m         ):\n\u001b[1;32m    159\u001b[0m             \u001b[0;32mraise\u001b[0m \u001b[0mAttributeError\u001b[0m\u001b[0;34m(\u001b[0m\u001b[0;34mf\"You cannot add any new attribute '{key}'\"\u001b[0m\u001b[0;34m)\u001b[0m\u001b[0;34m\u001b[0m\u001b[0;34m\u001b[0m\u001b[0m\n\u001b[0;32m--> 160\u001b[0;31m         \u001b[0mobject\u001b[0m\u001b[0;34m.\u001b[0m\u001b[0m__setattr__\u001b[0m\u001b[0;34m(\u001b[0m\u001b[0mself\u001b[0m\u001b[0;34m,\u001b[0m \u001b[0mkey\u001b[0m\u001b[0;34m,\u001b[0m \u001b[0mvalue\u001b[0m\u001b[0;34m)\u001b[0m\u001b[0;34m\u001b[0m\u001b[0;34m\u001b[0m\u001b[0m\n\u001b[0m\u001b[1;32m    161\u001b[0m \u001b[0;34m\u001b[0m\u001b[0m\n\u001b[1;32m    162\u001b[0m \u001b[0;34m\u001b[0m\u001b[0m\n",
      "\u001b[0;32m~/.pyenv/versions/3.8.6/envs/oceanobs/lib/python3.8/site-packages/pandas/core/accessor.py\u001b[0m in \u001b[0;36m_setter\u001b[0;34m(self, new_values)\u001b[0m\n\u001b[1;32m     80\u001b[0m \u001b[0;34m\u001b[0m\u001b[0m\n\u001b[1;32m     81\u001b[0m             \u001b[0;32mdef\u001b[0m \u001b[0m_setter\u001b[0m\u001b[0;34m(\u001b[0m\u001b[0mself\u001b[0m\u001b[0;34m,\u001b[0m \u001b[0mnew_values\u001b[0m\u001b[0;34m)\u001b[0m\u001b[0;34m:\u001b[0m\u001b[0;34m\u001b[0m\u001b[0;34m\u001b[0m\u001b[0m\n\u001b[0;32m---> 82\u001b[0;31m                 \u001b[0;32mreturn\u001b[0m \u001b[0mself\u001b[0m\u001b[0;34m.\u001b[0m\u001b[0m_delegate_property_set\u001b[0m\u001b[0;34m(\u001b[0m\u001b[0mname\u001b[0m\u001b[0;34m,\u001b[0m \u001b[0mnew_values\u001b[0m\u001b[0;34m)\u001b[0m\u001b[0;34m\u001b[0m\u001b[0;34m\u001b[0m\u001b[0m\n\u001b[0m\u001b[1;32m     83\u001b[0m \u001b[0;34m\u001b[0m\u001b[0m\n\u001b[1;32m     84\u001b[0m             \u001b[0m_getter\u001b[0m\u001b[0;34m.\u001b[0m\u001b[0m__name__\u001b[0m \u001b[0;34m=\u001b[0m \u001b[0mname\u001b[0m\u001b[0;34m\u001b[0m\u001b[0;34m\u001b[0m\u001b[0m\n",
      "\u001b[0;32m~/.pyenv/versions/3.8.6/envs/oceanobs/lib/python3.8/site-packages/pandas/core/indexes/accessors.py\u001b[0m in \u001b[0;36m_delegate_property_set\u001b[0;34m(self, name, value, *args, **kwargs)\u001b[0m\n\u001b[1;32m    108\u001b[0m \u001b[0;34m\u001b[0m\u001b[0m\n\u001b[1;32m    109\u001b[0m     \u001b[0;32mdef\u001b[0m \u001b[0m_delegate_property_set\u001b[0m\u001b[0;34m(\u001b[0m\u001b[0mself\u001b[0m\u001b[0;34m,\u001b[0m \u001b[0mname\u001b[0m\u001b[0;34m,\u001b[0m \u001b[0mvalue\u001b[0m\u001b[0;34m,\u001b[0m \u001b[0;34m*\u001b[0m\u001b[0margs\u001b[0m\u001b[0;34m,\u001b[0m \u001b[0;34m**\u001b[0m\u001b[0mkwargs\u001b[0m\u001b[0;34m)\u001b[0m\u001b[0;34m:\u001b[0m\u001b[0;34m\u001b[0m\u001b[0;34m\u001b[0m\u001b[0m\n\u001b[0;32m--> 110\u001b[0;31m         raise ValueError(\n\u001b[0m\u001b[1;32m    111\u001b[0m             \u001b[0;34m\"modifications to a property of a datetimelike object are not supported. \"\u001b[0m\u001b[0;34m\u001b[0m\u001b[0;34m\u001b[0m\u001b[0m\n\u001b[1;32m    112\u001b[0m             \u001b[0;34m\"Change values on the original.\"\u001b[0m\u001b[0;34m\u001b[0m\u001b[0;34m\u001b[0m\u001b[0m\n",
      "\u001b[0;31mValueError\u001b[0m: modifications to a property of a datetimelike object are not supported. Change values on the original."
     ]
    }
   ],
   "source": [
    "df.date_time.dt.hour = df.hour.values"
   ]
  },
  {
   "cell_type": "code",
   "execution_count": 115,
   "id": "eae6cf6f",
   "metadata": {},
   "outputs": [
    {
     "data": {
      "text/plain": [
       "0     18.0\n",
       "1     18.0\n",
       "2     18.0\n",
       "3     18.0\n",
       "4     17.0\n",
       "      ... \n",
       "87     6.0\n",
       "88     6.0\n",
       "89     6.0\n",
       "90     6.0\n",
       "91     6.0\n",
       "Name: hour, Length: 92, dtype: float64"
      ]
     },
     "execution_count": 115,
     "metadata": {},
     "output_type": "execute_result"
    }
   ],
   "source": [
    "df.hour"
   ]
  },
  {
   "cell_type": "code",
   "execution_count": null,
   "id": "824b460a",
   "metadata": {},
   "outputs": [],
   "source": []
  }
 ],
 "metadata": {
  "kernelspec": {
   "display_name": "Python 3 (ipykernel)",
   "language": "python",
   "name": "python3"
  },
  "language_info": {
   "codemirror_mode": {
    "name": "ipython",
    "version": 3
   },
   "file_extension": ".py",
   "mimetype": "text/x-python",
   "name": "python",
   "nbconvert_exporter": "python",
   "pygments_lexer": "ipython3",
   "version": "3.8.6"
  },
  "toc": {
   "base_numbering": 1,
   "nav_menu": {},
   "number_sections": true,
   "sideBar": true,
   "skip_h1_title": false,
   "title_cell": "Table of Contents",
   "title_sidebar": "Contents",
   "toc_cell": false,
   "toc_position": {},
   "toc_section_display": true,
   "toc_window_display": false
  }
 },
 "nbformat": 4,
 "nbformat_minor": 5
}
