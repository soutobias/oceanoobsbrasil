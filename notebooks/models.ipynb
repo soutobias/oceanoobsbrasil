{
 "cells": [
  {
   "cell_type": "code",
   "execution_count": 1,
   "id": "agricultural-newark",
   "metadata": {},
   "outputs": [],
   "source": [
    "\"\"\"\n",
    "Created on Tue Feb 12 23:34:44 2019\n",
    "@author: tobia\n",
    "\"\"\"\n",
    "import time\n",
    "import datetime\n",
    "import urllib.request, json\n",
    "\n",
    "import numpy as np\n",
    "\n",
    "import pandas as pd\n",
    "from datetime import datetime, timedelta\n",
    "from oceanoobsbrasil.db import GetData\n",
    "\n",
    "from dotenv import load_dotenv\n",
    "import os\n",
    "import requests\n"
   ]
  },
  {
   "cell_type": "code",
   "execution_count": 2,
   "id": "66f873e2",
   "metadata": {},
   "outputs": [],
   "source": [
    "from PIL import Image\n",
    "import requests\n",
    "from io import BytesIO\n",
    "import numpy as np\n",
    "import pandas as pd\n",
    "import cloudinary\n",
    "import cloudinary.uploader\n",
    "import cloudinary.api\n",
    "\n",
    "from cloudinary.api import delete_resources_by_tag, resources_by_tag\n",
    "from cloudinary.uploader import upload\n",
    "from cloudinary.utils import cloudinary_url"
   ]
  },
  {
   "cell_type": "code",
   "execution_count": 3,
   "id": "ce306398",
   "metadata": {},
   "outputs": [],
   "source": [
    "%load_ext autoreload\n",
    "%autoreload 2\n",
    "from oceanoobsbrasil.others.synoptic_charts import SynopticChart"
   ]
  },
  {
   "cell_type": "code",
   "execution_count": 4,
   "id": "e9e36086",
   "metadata": {},
   "outputs": [],
   "source": [
    "s = SynopticChart()"
   ]
  },
  {
   "cell_type": "code",
   "execution_count": 5,
   "id": "19d37c00",
   "metadata": {},
   "outputs": [
    {
     "name": "stdout",
     "output_type": "stream",
     "text": [
      "No images found\n",
      "22072900\n",
      "22072912\n",
      "22072800\n",
      "22072812\n",
      "22072700\n",
      "22072712\n",
      "22072600\n",
      "22072612\n",
      "22072500\n",
      "22072512\n",
      "no image found\n",
      "22072400\n",
      "22072412\n",
      "22072300\n",
      "22072312\n"
     ]
    }
   ],
   "source": [
    "s.get()"
   ]
  },
  {
   "cell_type": "code",
   "execution_count": 172,
   "id": "6a78b8f4",
   "metadata": {},
   "outputs": [
    {
     "name": "stdout",
     "output_type": "stream",
     "text": [
      "22072400\n"
     ]
    }
   ],
   "source": [
    "name = datetime.strftime(datetime.now() - timedelta(days=1), format='%y%m%d'+'00')\n",
    "print(name)\n",
    "response = requests.get(f'{s.url}c{name}.png')\n",
    "img = Image.open(BytesIO(response.content))\n",
    "left = 26\n",
    "top = 222\n",
    "right = 1475\n",
    "bottom = 2154\n",
    "img = img.crop((left, top, right, bottom))\n",
    "img = img.convert('RGBA')\n",
    "img_np = np.array(img)\n",
    "df = pd.DataFrame(img_np.reshape(1932*1449, 4), columns=['red', 'green', 'blue', 'opacity'])"
   ]
  },
  {
   "cell_type": "code",
   "execution_count": 173,
   "id": "cc5fd152",
   "metadata": {},
   "outputs": [],
   "source": [
    "df.loc[((df['red']<220)&\n",
    "      (df['green']<220)&\n",
    "      (df['blue']<220)&\n",
    "      (df['red']>0)&\n",
    "      (df['green']>0)&\n",
    "      (df['blue']>0)&\n",
    "      (df['opacity']==255)), 'opacity'] = 0"
   ]
  },
  {
   "cell_type": "code",
   "execution_count": 174,
   "id": "9c9741fd",
   "metadata": {},
   "outputs": [],
   "source": [
    "df.loc[((df['red']==255)&(df['green']==255)&(df['blue']==255)&(df['opacity']==255)), 'opacity'] = 0\n",
    "x = (df['red']==0)&(df['green']==0)&(df['blue']==0)&(df['opacity']==255)\n",
    "df.loc[x, 'red'] = 255\n",
    "df.loc[x, 'green'] = 255\n",
    "df.loc[x, 'blue'] = 255\n",
    "df.loc[x, 'opacity'] = 255"
   ]
  },
  {
   "cell_type": "code",
   "execution_count": 177,
   "id": "ca8d00e7",
   "metadata": {},
   "outputs": [],
   "source": [
    "x = pd.DataFrame(np.array(df['opacity']).reshape(1932, 1449))\n",
    "x[(x!=0)&(x.diff()!=0)&(x.diff(periods=-1)!=0)&(x.diff(axis=1)!=0)&(x.diff(axis=1,periods=-1)!=0)&(x.notna())] = 0\n",
    "df['opacity'] = np.array(x).reshape(1932*1449)\n",
    "im = Image.fromarray(np.array(df).reshape(1932, 1449, 4))\n",
    "im.save(f'{name}.png')"
   ]
  },
  {
   "cell_type": "code",
   "execution_count": 176,
   "id": "c0dd0e89",
   "metadata": {},
   "outputs": [],
   "source": [
    "df['opacity'] = np.array(x).reshape(1932*1449)"
   ]
  },
  {
   "cell_type": "code",
   "execution_count": 121,
   "id": "109638b2",
   "metadata": {},
   "outputs": [],
   "source": [
    "df3 = df2!=0\n",
    "df4 = df2.diff()!=0\n",
    "df5 = df2[df2.diff(periods=-1)!=0]\n",
    "df6 = df2[df2.diff(axis=1)!=0]\n",
    "df7 = df2[df2.diff(axis=1, periods=-1)!=0]"
   ]
  },
  {
   "cell_type": "code",
   "execution_count": 162,
   "id": "5df2dcc2",
   "metadata": {},
   "outputs": [],
   "source": [
    "x = [[0,0,1,0,0],[0,0,1,0,0],[0,1,0,0,0],[0,1,0,0,0],[1,1,0,1,0],[0,0,0,0,0]] "
   ]
  },
  {
   "cell_type": "code",
   "execution_count": 163,
   "id": "eb7634f8",
   "metadata": {},
   "outputs": [
    {
     "data": {
      "text/html": [
       "<div>\n",
       "<style scoped>\n",
       "    .dataframe tbody tr th:only-of-type {\n",
       "        vertical-align: middle;\n",
       "    }\n",
       "\n",
       "    .dataframe tbody tr th {\n",
       "        vertical-align: top;\n",
       "    }\n",
       "\n",
       "    .dataframe thead th {\n",
       "        text-align: right;\n",
       "    }\n",
       "</style>\n",
       "<table border=\"1\" class=\"dataframe\">\n",
       "  <thead>\n",
       "    <tr style=\"text-align: right;\">\n",
       "      <th></th>\n",
       "      <th>0</th>\n",
       "      <th>1</th>\n",
       "      <th>2</th>\n",
       "      <th>3</th>\n",
       "      <th>4</th>\n",
       "    </tr>\n",
       "  </thead>\n",
       "  <tbody>\n",
       "    <tr>\n",
       "      <th>0</th>\n",
       "      <td>0</td>\n",
       "      <td>0</td>\n",
       "      <td>1</td>\n",
       "      <td>0</td>\n",
       "      <td>0</td>\n",
       "    </tr>\n",
       "    <tr>\n",
       "      <th>1</th>\n",
       "      <td>0</td>\n",
       "      <td>0</td>\n",
       "      <td>1</td>\n",
       "      <td>0</td>\n",
       "      <td>0</td>\n",
       "    </tr>\n",
       "    <tr>\n",
       "      <th>2</th>\n",
       "      <td>0</td>\n",
       "      <td>1</td>\n",
       "      <td>0</td>\n",
       "      <td>0</td>\n",
       "      <td>0</td>\n",
       "    </tr>\n",
       "    <tr>\n",
       "      <th>3</th>\n",
       "      <td>0</td>\n",
       "      <td>1</td>\n",
       "      <td>0</td>\n",
       "      <td>0</td>\n",
       "      <td>0</td>\n",
       "    </tr>\n",
       "    <tr>\n",
       "      <th>4</th>\n",
       "      <td>1</td>\n",
       "      <td>1</td>\n",
       "      <td>0</td>\n",
       "      <td>1</td>\n",
       "      <td>0</td>\n",
       "    </tr>\n",
       "    <tr>\n",
       "      <th>5</th>\n",
       "      <td>0</td>\n",
       "      <td>0</td>\n",
       "      <td>0</td>\n",
       "      <td>0</td>\n",
       "      <td>0</td>\n",
       "    </tr>\n",
       "  </tbody>\n",
       "</table>\n",
       "</div>"
      ],
      "text/plain": [
       "   0  1  2  3  4\n",
       "0  0  0  1  0  0\n",
       "1  0  0  1  0  0\n",
       "2  0  1  0  0  0\n",
       "3  0  1  0  0  0\n",
       "4  1  1  0  1  0\n",
       "5  0  0  0  0  0"
      ]
     },
     "execution_count": 163,
     "metadata": {},
     "output_type": "execute_result"
    }
   ],
   "source": [
    "x = pd.DataFrame(x)\n",
    "x"
   ]
  },
  {
   "cell_type": "code",
   "execution_count": 170,
   "id": "83e7c7e8",
   "metadata": {},
   "outputs": [],
   "source": [
    "s = SynopticChart()"
   ]
  },
  {
   "cell_type": "code",
   "execution_count": 171,
   "id": "833ffe1e",
   "metadata": {},
   "outputs": [
    {
     "name": "stdout",
     "output_type": "stream",
     "text": [
      "No images found\n",
      "22072500\n",
      "22072512\n",
      "no image found\n",
      "22072400\n",
      "22072412\n",
      "22072300\n",
      "22072312\n",
      "22072200\n",
      "22072212\n",
      "22072100\n",
      "22072112\n",
      "22072000\n",
      "22072012\n",
      "22071900\n",
      "22071912\n"
     ]
    }
   ],
   "source": [
    "s.get()"
   ]
  },
  {
   "cell_type": "code",
   "execution_count": null,
   "id": "21d78b44",
   "metadata": {},
   "outputs": [],
   "source": []
  }
 ],
 "metadata": {
  "kernelspec": {
   "display_name": "Python 3 (ipykernel)",
   "language": "python",
   "name": "python3"
  },
  "language_info": {
   "codemirror_mode": {
    "name": "ipython",
    "version": 3
   },
   "file_extension": ".py",
   "mimetype": "text/x-python",
   "name": "python",
   "nbconvert_exporter": "python",
   "pygments_lexer": "ipython3",
   "version": "3.8.12"
  },
  "toc": {
   "base_numbering": 1,
   "nav_menu": {},
   "number_sections": true,
   "sideBar": true,
   "skip_h1_title": false,
   "title_cell": "Table of Contents",
   "title_sidebar": "Contents",
   "toc_cell": false,
   "toc_position": {},
   "toc_section_display": true,
   "toc_window_display": false
  }
 },
 "nbformat": 4,
 "nbformat_minor": 5
}
