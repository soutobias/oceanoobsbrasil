{
 "cells": [
  {
   "cell_type": "code",
   "execution_count": 1,
   "id": "8cf8b8f8",
   "metadata": {},
   "outputs": [],
   "source": [
    "import time\n",
    "import datetime\n",
    "import urllib.request, json\n",
    "import requests\n",
    "\n",
    "import numpy as np\n",
    "import pandas as pd\n",
    "from datetime import datetime, timedelta\n",
    "from bs4 import BeautifulSoup\n",
    "from oceanoobsbrasil.db import GetData\n",
    "%load_ext autoreload\n",
    "%autoreload 2"
   ]
  },
  {
   "cell_type": "code",
   "execution_count": 2,
   "id": "ec904caf",
   "metadata": {},
   "outputs": [],
   "source": [
    "from oceanoobsbrasil.observational_data.ricosurf import RicoSurf"
   ]
  },
  {
   "cell_type": "code",
   "execution_count": 3,
   "id": "8f142433",
   "metadata": {},
   "outputs": [],
   "source": [
    "r = RicoSurf()"
   ]
  },
  {
   "cell_type": "code",
   "execution_count": 4,
   "id": "18fb26b1",
   "metadata": {},
   "outputs": [
    {
     "name": "stdout",
     "output_type": "stream",
     "text": [
      "Barra - Posto 6 - Quiosque Piratas - BarraBela\n",
      "No data for this station\n",
      "Arpoador\n",
      "No data for this station\n",
      "Cabo Frio - Praia do Forte\n",
      "No data for this station\n",
      "Cabo Frio - Praia do Peró\n",
      "No data for this station\n",
      "Buzios - Geriba\n",
      "No data for this station\n",
      "Barra Posto 5\n",
      "No data for this station\n",
      "Ipanema - Garcia d'Ávila\n",
      "No data for this station\n",
      "Saquarema - Itaúna\n",
      "Data available\n",
      "dados alimentados\n",
      "Praia do Leme\n",
      "No data for this station\n",
      "Praia do Diabo\n",
      "No data for this station\n",
      "Ipanema - Posto 8\n",
      "No data for this station\n",
      "Copacabana - Posto 6\n",
      "No data for this station\n",
      "Leblon - Canto\n",
      "No data for this station\n",
      "Copacabana - Posto 5\n",
      "No data for this station\n",
      "Itacoatiara - Pampo\n",
      "Data available\n",
      "dados alimentados\n",
      "Itacoatiara - Meio\n",
      "Data available\n",
      "dados alimentados\n",
      "Itacoatiara - Costao\n",
      "No data for this station\n",
      "Figueira de Arraial do Cabo\n",
      "No data for this station\n",
      "Saquarema - Praia da Vila\n",
      "No data for this station\n",
      "Macumba - Rico Point\n",
      "No data for this station\n",
      "Prainha Meio da Praia\n",
      "Data available\n",
      "dados alimentados\n",
      "Macumba - 3W\n",
      "Data available\n",
      "dados alimentados\n",
      "Prainha - Canto Direito\n",
      "Data available\n",
      "dados alimentados\n",
      "Macumba - CCB\n",
      "Data available\n",
      "dados alimentados\n",
      "Recreio - Canto\n",
      "Data available\n",
      "dados alimentados\n",
      "Rico Point Barra direcao P5ao vivo\n",
      "No data for this station\n",
      "Recreio - Posto 11\n",
      "No data for this station\n",
      "Macumba - Secreto\n",
      "Data available\n",
      "dados alimentados\n",
      "Recreio - Posto 10\n",
      "No data for this station\n",
      "Rico Point Barra direcao P6ao vivo\n",
      "No data for this station\n",
      "Sao Conrado - Canto Esquerdo\n",
      "No data for this station\n",
      "Barra Posto 4\n",
      "No data for this station\n"
     ]
    }
   ],
   "source": [
    "r.get()"
   ]
  },
  {
   "cell_type": "code",
   "execution_count": 44,
   "id": "a30a0c80",
   "metadata": {},
   "outputs": [
    {
     "data": {
      "text/plain": [
       "'https://ricosurf.com.br/boletim-das-ondas/rio-janeiro/barra-posto-6-quiosque-piratas-barrabela'"
      ]
     },
     "execution_count": 44,
     "metadata": {},
     "output_type": "execute_result"
    }
   ],
   "source": [
    "r.stations.iloc[0].url"
   ]
  },
  {
   "cell_type": "code",
   "execution_count": 45,
   "id": "75f332f6",
   "metadata": {},
   "outputs": [],
   "source": [
    "response = requests.get(r.url)\n",
    "soup = BeautifulSoup(response.text, \"html.parser\")\n",
    "r.beaches = r.beaches_with_data(soup)"
   ]
  },
  {
   "cell_type": "code",
   "execution_count": null,
   "id": "b4876f3b",
   "metadata": {},
   "outputs": [],
   "source": []
  },
  {
   "cell_type": "code",
   "execution_count": null,
   "id": "709ded80",
   "metadata": {},
   "outputs": [],
   "source": []
  },
  {
   "cell_type": "code",
   "execution_count": 14,
   "id": "26383bdc",
   "metadata": {},
   "outputs": [
    {
     "data": {
      "text/plain": [
       "['Macumba - Secreto',\n",
       " 'Macumba - CCB',\n",
       " 'Macumba - Curvão',\n",
       " 'Macumba - Rico Pointao vivo',\n",
       " 'Macumba - 3W',\n",
       " 'Macumba - Farofa - Posto12',\n",
       " 'Recreio - Canto',\n",
       " 'Itacoatiara - Costão',\n",
       " 'Itacoatiara - Meio',\n",
       " 'Itacoatiara - Pampo',\n",
       " 'Saquarema - Itaúna']"
      ]
     },
     "execution_count": 14,
     "metadata": {},
     "output_type": "execute_result"
    }
   ],
   "source": [
    "r.beaches"
   ]
  },
  {
   "cell_type": "code",
   "execution_count": 15,
   "id": "5b5b3565",
   "metadata": {},
   "outputs": [],
   "source": [
    "response = requests.get('https://ricosurf.com.br/boletim-das-ondas/rio-janeiro/macumba-ccb')"
   ]
  },
  {
   "cell_type": "code",
   "execution_count": 16,
   "id": "aa5efa5f",
   "metadata": {},
   "outputs": [],
   "source": [
    "                    soup = BeautifulSoup(response.text, \"html.parser\")\n"
   ]
  },
  {
   "cell_type": "code",
   "execution_count": 17,
   "id": "4f6d2fba",
   "metadata": {},
   "outputs": [],
   "source": [
    "                    l = (\n",
    "                        soup.find(\"div\", {\"class\": \"h5 text-primary margin-xxs-bottom\"})\n",
    "                        .get_text(strip=True)\n",
    "                        .replace(\",\", \".\")\n",
    "                    )"
   ]
  },
  {
   "cell_type": "code",
   "execution_count": 18,
   "id": "ab6e8625",
   "metadata": {},
   "outputs": [
    {
     "data": {
      "text/plain": [
       "'1.30m'"
      ]
     },
     "execution_count": 18,
     "metadata": {},
     "output_type": "execute_result"
    }
   ],
   "source": [
    "l"
   ]
  },
  {
   "cell_type": "code",
   "execution_count": 19,
   "id": "079bde7b",
   "metadata": {},
   "outputs": [],
   "source": [
    "                    swvht = float(l[0:-1])\n"
   ]
  },
  {
   "cell_type": "code",
   "execution_count": 21,
   "id": "3a9e2369",
   "metadata": {},
   "outputs": [],
   "source": [
    "                    l = soup.find_all(\n",
    "                        \"div\", attrs={\"class\": \"h5 no-margin text-primary\"}\n",
    "                    )"
   ]
  },
  {
   "cell_type": "code",
   "execution_count": 22,
   "id": "ff774675",
   "metadata": {},
   "outputs": [
    {
     "data": {
      "text/plain": [
       "[<div class=\"h5 no-margin text-primary\"><strong>12s</strong></div>,\n",
       " <div class=\"h5 no-margin text-primary\"><strong>22°C</strong></div>,\n",
       " <div class=\"h5 no-margin text-primary\"><strong>24º C</strong></div>]"
      ]
     },
     "execution_count": 22,
     "metadata": {},
     "output_type": "execute_result"
    }
   ],
   "source": [
    "l"
   ]
  },
  {
   "cell_type": "code",
   "execution_count": 23,
   "id": "fc00f94c",
   "metadata": {},
   "outputs": [],
   "source": [
    "                    tp = l[0].get_text(strip=True).replace(\",\", \".\")\n",
    "                    tp = float(tp[0:-1])\n"
   ]
  },
  {
   "cell_type": "code",
   "execution_count": 24,
   "id": "b3b7694d",
   "metadata": {},
   "outputs": [
    {
     "data": {
      "text/plain": [
       "12.0"
      ]
     },
     "execution_count": 24,
     "metadata": {},
     "output_type": "execute_result"
    }
   ],
   "source": [
    "tp"
   ]
  },
  {
   "cell_type": "code",
   "execution_count": 26,
   "id": "ba29ddf2",
   "metadata": {},
   "outputs": [
    {
     "data": {
      "text/plain": [
       "22.0"
      ]
     },
     "execution_count": 26,
     "metadata": {},
     "output_type": "execute_result"
    }
   ],
   "source": [
    "sst = l[1].get_text(strip=True)\n",
    "sst = float(sst[0:-2])\n",
    "sst"
   ]
  },
  {
   "cell_type": "code",
   "execution_count": 27,
   "id": "f422ade9",
   "metadata": {},
   "outputs": [],
   "source": [
    "                    wvdir = (\n",
    "                        soup.find(\"div\", {\"class\": \"small line-height-xs\"})\n",
    "                        .get_text(strip=True)\n",
    "                        .lower()\n",
    "                    )"
   ]
  },
  {
   "cell_type": "code",
   "execution_count": 28,
   "id": "25463a2c",
   "metadata": {},
   "outputs": [
    {
     "data": {
      "text/plain": [
       "'leste'"
      ]
     },
     "execution_count": 28,
     "metadata": {},
     "output_type": "execute_result"
    }
   ],
   "source": [
    "wvdir"
   ]
  },
  {
   "cell_type": "code",
   "execution_count": 30,
   "id": "6acf8bb0",
   "metadata": {},
   "outputs": [],
   "source": [
    "if wvdir == \"leste\":\n",
    "    wvdir = 90"
   ]
  },
  {
   "cell_type": "code",
   "execution_count": 31,
   "id": "37e304c4",
   "metadata": {},
   "outputs": [],
   "source": [
    "                    date_time = datetime.now()\n",
    "                    date_time = date_time.replace(minute=0, second=0, microsecond=0)\n",
    "\n",
    "                    values = np.array([date_time, swvht, tp, sst, wvdir])\n",
    "                    columns = [\"date_time\", \"swvht\", \"tp\", \"sst\", \"wvdir\"]\n",
    "\n",
    "\n",
    "                "
   ]
  },
  {
   "cell_type": "code",
   "execution_count": 33,
   "id": "47650084",
   "metadata": {},
   "outputs": [],
   "source": [
    "                    r.result = pd.DataFrame(values).T\n",
    "                    r.result.columns = columns\n",
    "                    r.result = r.result.replace(\n",
    "                        to_replace=[\"None\", \"NULL\", \" \", \"\"], value=np.nan\n",
    "                    )"
   ]
  },
  {
   "cell_type": "code",
   "execution_count": 37,
   "id": "0f771caa",
   "metadata": {},
   "outputs": [
    {
     "data": {
      "text/plain": [
       "0     Barra - Posto 6 - Quiosque Piratas - BarraBela\n",
       "1                                           Arpoador\n",
       "2                         Cabo Frio - Praia do Forte\n",
       "3                          Cabo Frio - Praia do Peró\n",
       "4                                    Buzios - Geriba\n",
       "5                                      Barra Posto 5\n",
       "6                           Ipanema - Garcia d'Ávila\n",
       "7                                 Saquarema - Itaúna\n",
       "8                                      Praia do Leme\n",
       "9                                     Praia do Diabo\n",
       "10                                 Ipanema - Posto 8\n",
       "11                              Copacabana - Posto 6\n",
       "12                                    Leblon - Canto\n",
       "13                              Copacabana - Posto 5\n",
       "14                               Itacoatiara - Pampo\n",
       "15                                Itacoatiara - Meio\n",
       "16                              Itacoatiara - Costao\n",
       "17                       Figueira de Arraial do Cabo\n",
       "18                         Saquarema - Praia da Vila\n",
       "19                              Macumba - Rico Point\n",
       "20                             Prainha Meio da Praia\n",
       "21                                      Macumba - 3W\n",
       "22                           Prainha - Canto Direito\n",
       "23                                     Macumba - CCB\n",
       "24                                   Recreio - Canto\n",
       "25                Rico Point Barra direcao P5ao vivo\n",
       "26                                Recreio - Posto 11\n",
       "27                                 Macumba - Secreto\n",
       "28                                Recreio - Posto 10\n",
       "29                Rico Point Barra direcao P6ao vivo\n",
       "30                      Sao Conrado - Canto Esquerdo\n",
       "31                                     Barra Posto 4\n",
       "Name: name, dtype: object"
      ]
     },
     "execution_count": 37,
     "metadata": {},
     "output_type": "execute_result"
    }
   ],
   "source": [
    "r.stations.name"
   ]
  },
  {
   "cell_type": "code",
   "execution_count": null,
   "id": "9422fdf1",
   "metadata": {},
   "outputs": [],
   "source": []
  },
  {
   "cell_type": "code",
   "execution_count": 40,
   "id": "5f5b95f4",
   "metadata": {},
   "outputs": [
    {
     "data": {
      "text/plain": [
       "True"
      ]
     },
     "execution_count": 40,
     "metadata": {},
     "output_type": "execute_result"
    }
   ],
   "source": [
    "r.beach_has_data(r.stations.iloc[-11])"
   ]
  },
  {
   "cell_type": "code",
   "execution_count": 35,
   "id": "a7738c06",
   "metadata": {},
   "outputs": [
    {
     "data": {
      "text/plain": [
       "['Macumba - Secreto',\n",
       " 'Macumba - CCB',\n",
       " 'Macumba - Curvão',\n",
       " 'Macumba - Rico Pointao vivo',\n",
       " 'Macumba - 3W',\n",
       " 'Macumba - Farofa - Posto12',\n",
       " 'Recreio - Canto',\n",
       " 'Itacoatiara - Costão',\n",
       " 'Itacoatiara - Meio',\n",
       " 'Itacoatiara - Pampo',\n",
       " 'Saquarema - Itaúna']"
      ]
     },
     "execution_count": 35,
     "metadata": {},
     "output_type": "execute_result"
    }
   ],
   "source": [
    "r.beaches"
   ]
  },
  {
   "cell_type": "code",
   "execution_count": 34,
   "id": "2b407379",
   "metadata": {},
   "outputs": [
    {
     "ename": "NameError",
     "evalue": "name 'station' is not defined",
     "output_type": "error",
     "traceback": [
      "\u001b[0;31m---------------------------------------------------------------------------\u001b[0m",
      "\u001b[0;31mNameError\u001b[0m                                 Traceback (most recent call last)",
      "Cell \u001b[0;32mIn[34], line 1\u001b[0m\n\u001b[0;32m----> 1\u001b[0m r\u001b[38;5;241m.\u001b[39mresult[\u001b[38;5;124m\"\u001b[39m\u001b[38;5;124mstation_id\u001b[39m\u001b[38;5;124m\"\u001b[39m] \u001b[38;5;241m=\u001b[39m \u001b[38;5;28mstr\u001b[39m(\u001b[43mstation\u001b[49m[\u001b[38;5;124m\"\u001b[39m\u001b[38;5;124mid\u001b[39m\u001b[38;5;124m\"\u001b[39m])\n\u001b[1;32m      2\u001b[0m r\u001b[38;5;241m.\u001b[39mdb\u001b[38;5;241m.\u001b[39mfeed_bd(table\u001b[38;5;241m=\u001b[39m\u001b[38;5;124m\"\u001b[39m\u001b[38;5;124mdata_stations\u001b[39m\u001b[38;5;124m\"\u001b[39m, df\u001b[38;5;241m=\u001b[39m\u001b[38;5;28mself\u001b[39m\u001b[38;5;241m.\u001b[39mresult)\n\u001b[1;32m      3\u001b[0m \u001b[38;5;28mprint\u001b[39m(\u001b[38;5;124m\"\u001b[39m\u001b[38;5;124mdados alimentados\u001b[39m\u001b[38;5;124m\"\u001b[39m)\n",
      "\u001b[0;31mNameError\u001b[0m: name 'station' is not defined"
     ]
    }
   ],
   "source": [
    "r.result[\"station_id\"] = str(station[\"id\"])\n",
    "r.db.feed_bd(table=\"data_stations\", df=self.result)\n",
    "print(\"dados alimentados\")\n"
   ]
  },
  {
   "cell_type": "code",
   "execution_count": 20,
   "id": "d2bf6512",
   "metadata": {},
   "outputs": [
    {
     "data": {
      "text/plain": [
       "1.3"
      ]
     },
     "execution_count": 20,
     "metadata": {},
     "output_type": "execute_result"
    }
   ],
   "source": [
    "swvht"
   ]
  },
  {
   "cell_type": "code",
   "execution_count": 4,
   "id": "40e7512e",
   "metadata": {},
   "outputs": [
    {
     "name": "stdout",
     "output_type": "stream",
     "text": [
      "Barra - Posto 6 - Quiosque Piratas - BarraBela\n",
      "No data for this station\n",
      "Arpoador\n",
      "No data for this station\n",
      "Cabo Frio - Praia do Forte\n",
      "No data for this station\n",
      "Cabo Frio - Praia do Peró\n",
      "No data for this station\n",
      "Buzios - Geriba\n",
      "No data for this station\n",
      "Barra Posto 5\n",
      "No data for this station\n",
      "Ipanema - Garcia d'Ávila\n",
      "No data for this station\n",
      "Saquarema - Itaúna\n",
      "No data for this station\n",
      "Praia do Leme\n",
      "No data for this station\n",
      "Praia do Diabo\n",
      "No data for this station\n",
      "Ipanema - Posto 8\n",
      "No data for this station\n",
      "Copacabana - Posto 6\n",
      "No data for this station\n",
      "Leblon - Canto\n",
      "No data for this station\n",
      "Copacabana - Posto 5\n",
      "No data for this station\n",
      "Itacoatiara - Pampo\n",
      "No data for this station\n",
      "Itacoatiara - Meio\n",
      "No data for this station\n",
      "Itacoatiara - Costao\n",
      "No data for this station\n",
      "Figueira de Arraial do Cabo\n",
      "No data for this station\n",
      "Saquarema - Praia da Vila\n",
      "No data for this station\n",
      "Macumba - Rico Point\n",
      "No data for this station\n",
      "Prainha Meio da Praia\n",
      "No data for this station\n",
      "Macumba - 3W\n",
      "No data for this station\n",
      "Prainha - Canto Direito\n",
      "No data for this station\n",
      "Macumba - CCB\n",
      "No data for this station\n",
      "Recreio - Canto\n",
      "No data for this station\n",
      "Rico Point Barra direcao P5ao vivo\n",
      "No data for this station\n",
      "Recreio - Posto 11\n",
      "No data for this station\n",
      "Macumba - Secreto\n",
      "No data for this station\n",
      "Recreio - Posto 10\n",
      "No data for this station\n",
      "Rico Point Barra direcao P6ao vivo\n",
      "No data for this station\n",
      "Sao Conrado - Canto Esquerdo\n",
      "No data for this station\n",
      "Barra Posto 4\n",
      "No data for this station\n"
     ]
    }
   ],
   "source": [
    "r.get()"
   ]
  },
  {
   "cell_type": "code",
   "execution_count": 4,
   "id": "9420d905",
   "metadata": {},
   "outputs": [
    {
     "ename": "AttributeError",
     "evalue": "'RicoSurf' object has no attribute 'beaches'",
     "output_type": "error",
     "traceback": [
      "\u001b[0;31m---------------------------------------------------------------------------\u001b[0m",
      "\u001b[0;31mAttributeError\u001b[0m                            Traceback (most recent call last)",
      "Cell \u001b[0;32mIn[4], line 1\u001b[0m\n\u001b[0;32m----> 1\u001b[0m \u001b[43mr\u001b[49m\u001b[38;5;241;43m.\u001b[39;49m\u001b[43mbeaches\u001b[49m\n",
      "\u001b[0;31mAttributeError\u001b[0m: 'RicoSurf' object has no attribute 'beaches'"
     ]
    }
   ],
   "source": [
    "r.beaches"
   ]
  },
  {
   "cell_type": "code",
   "execution_count": 7,
   "id": "8bd6df07",
   "metadata": {},
   "outputs": [],
   "source": [
    "response = requests.get(r.url)\n",
    "\n",
    "soup = BeautifulSoup(response.text,'html.parser')"
   ]
  },
  {
   "cell_type": "code",
   "execution_count": 36,
   "id": "ac163f57",
   "metadata": {},
   "outputs": [
    {
     "data": {
      "text/plain": [
       "False"
      ]
     },
     "execution_count": 36,
     "metadata": {},
     "output_type": "execute_result"
    }
   ],
   "source": [
    "l[7]['data-content'][-10:-6] == 'zado'"
   ]
  },
  {
   "cell_type": "code",
   "execution_count": 49,
   "id": "2c9117b4",
   "metadata": {},
   "outputs": [
    {
     "data": {
      "text/plain": [
       "'Barra Posto 5'"
      ]
     },
     "execution_count": 49,
     "metadata": {},
     "output_type": "execute_result"
    }
   ],
   "source": [
    "l[10].text.strip()[1:]"
   ]
  },
  {
   "cell_type": "code",
   "execution_count": 21,
   "id": "4ea21e37",
   "metadata": {},
   "outputs": [
    {
     "data": {
      "text/plain": [
       "<li data-content=\"&lt;div class='info-height' style='color: #2f85db;font-size: 16px;    font-weight: 900;'&gt;1,30m&lt;/div&gt;&lt;div class='info-quality' style='font-size: 12px;    font-weight: 900;'&gt;Boas Ondas&lt;/div&gt;\" data-toggle=\"popover\" data-trigger=\"focus\" style=\"\"> <span> <img alt=\"Icon Flat\" height=\"10\" loading=\"lazy\" src=\"/wp-content/uploads/2022/04/nboas-ondas.svg\" width=\"21\"/> <img alt=\"Icon Flat\" height=\"10\" loading=\"lazy\" src=\"/wp-content/uploads/2022/04/nboas-ondas.svg\" width=\"21\"/> <img alt=\"Icon Flat\" height=\"10\" loading=\"lazy\" src=\"/wp-content/uploads/2022/04/nboas-ondas-half.svg\" width=\"21\"/> <img alt=\"Icon Flat\" height=\"10\" loading=\"lazy\" src=\"/wp-content/uploads/2022/04/nflat.svg\" width=\"21\"/> <img alt=\"Icon Flat\" height=\"10\" loading=\"lazy\" src=\"/wp-content/uploads/2022/04/nflat.svg\" width=\"21\"/> </span> <span>|<span><a href=\"/boletim-das-ondas/rio-janeiro/macumba-rico-point\">Macumba - Rico Point</a></span></span> </li>"
      ]
     },
     "execution_count": 21,
     "metadata": {},
     "output_type": "execute_result"
    }
   ],
   "source": [
    "l = soup.find_all('li', attrs={'data-toggle': 'popover'})\n",
    "l[5].find(attrs={'style': 'opacity: .5;'})"
   ]
  },
  {
   "cell_type": "code",
   "execution_count": 5,
   "id": "651f31ce",
   "metadata": {},
   "outputs": [],
   "source": [
    "from oceanoobsbrasil.observational_data.wavecheck import Wave"
   ]
  },
  {
   "cell_type": "code",
   "execution_count": 6,
   "id": "0bdb3ac7",
   "metadata": {},
   "outputs": [],
   "source": [
    "w = Wave()"
   ]
  },
  {
   "cell_type": "code",
   "execution_count": 8,
   "id": "9baf6d5d",
   "metadata": {},
   "outputs": [
    {
     "name": "stdout",
     "output_type": "stream",
     "text": [
      "Barra do Sai\n",
      "No data for this station\n",
      "Brava\n",
      "No data for this station\n",
      "Boqueirao Sul\n",
      "No data for this station\n",
      "Adriana\n",
      "No data for this station\n",
      "Boqueirao Norte\n",
      "No data for this station\n",
      "Arpoador\n",
      "No data for this station\n",
      "Bombeiro\n",
      "No data for this station\n",
      "Canal 1\n",
      "No data for this station\n",
      "Asturias\n",
      "No data for this station\n",
      "Canal Pitangueiras\n",
      "No data for this station\n",
      "Boraceia Curva\n",
      "No data for this station\n",
      "Bora Bora\n",
      "No data for this station\n",
      "Barra do Una Meio\n",
      "No data for this station\n",
      "Barra do Sahy\n",
      "No data for this station\n",
      "Baleia\n",
      "No data for this station\n",
      "Camburi\n",
      "No data for this station\n",
      "Brava\n",
      "No data for this station\n",
      "Arpoador\n",
      "No data for this station\n",
      "Amigao\n",
      "No data for this station\n",
      "Barravento\n",
      "No data for this station\n",
      "Canudo\n",
      "No data for this station\n",
      "Aleluia\n",
      "No data for this station\n",
      "Camaroes\n",
      "No data for this station\n",
      "Cacimba do Padre\n",
      "No data for this station\n",
      "Bessa\n",
      "No data for this station\n",
      "Artistas\n",
      "No data for this station\n",
      "Astral\n",
      "No data for this station\n",
      "Atalaia\n",
      "No data for this station\n",
      "Atalaia\n",
      "No data for this station\n",
      "Aviacao\n",
      "No data for this station\n",
      "Canto do Forte\n",
      "Tem dados para esse pico\n"
     ]
    },
    {
     "ename": "OperationalError",
     "evalue": "(psycopg2.OperationalError) server closed the connection unexpectedly\n\tThis probably means the server terminated abnormally\n\tbefore or while processing the request.\n\n[SQL: DELETE FROM data_stations WHERE true AND station_id in ('112') AND date_time >= '2023-09-05 14:00:00']\n(Background on this error at: https://sqlalche.me/e/14/e3q8)",
     "output_type": "error",
     "traceback": [
      "\u001b[0;31m---------------------------------------------------------------------------\u001b[0m",
      "\u001b[0;31mOperationalError\u001b[0m                          Traceback (most recent call last)",
      "File \u001b[0;32m/mnt/code/.pyenv/versions/3.8.12/envs/oceanum/lib/python3.8/site-packages/sqlalchemy/engine/base.py:1910\u001b[0m, in \u001b[0;36mConnection._execute_context\u001b[0;34m(self, dialect, constructor, statement, parameters, execution_options, *args, **kw)\u001b[0m\n\u001b[1;32m   1909\u001b[0m     \u001b[38;5;28;01mif\u001b[39;00m \u001b[38;5;129;01mnot\u001b[39;00m evt_handled:\n\u001b[0;32m-> 1910\u001b[0m         \u001b[38;5;28;43mself\u001b[39;49m\u001b[38;5;241;43m.\u001b[39;49m\u001b[43mdialect\u001b[49m\u001b[38;5;241;43m.\u001b[39;49m\u001b[43mdo_execute\u001b[49m\u001b[43m(\u001b[49m\n\u001b[1;32m   1911\u001b[0m \u001b[43m            \u001b[49m\u001b[43mcursor\u001b[49m\u001b[43m,\u001b[49m\u001b[43m \u001b[49m\u001b[43mstatement\u001b[49m\u001b[43m,\u001b[49m\u001b[43m \u001b[49m\u001b[43mparameters\u001b[49m\u001b[43m,\u001b[49m\u001b[43m \u001b[49m\u001b[43mcontext\u001b[49m\n\u001b[1;32m   1912\u001b[0m \u001b[43m        \u001b[49m\u001b[43m)\u001b[49m\n\u001b[1;32m   1914\u001b[0m \u001b[38;5;28;01mif\u001b[39;00m \u001b[38;5;28mself\u001b[39m\u001b[38;5;241m.\u001b[39m_has_events \u001b[38;5;129;01mor\u001b[39;00m \u001b[38;5;28mself\u001b[39m\u001b[38;5;241m.\u001b[39mengine\u001b[38;5;241m.\u001b[39m_has_events:\n",
      "File \u001b[0;32m/mnt/code/.pyenv/versions/3.8.12/envs/oceanum/lib/python3.8/site-packages/sqlalchemy/engine/default.py:736\u001b[0m, in \u001b[0;36mDefaultDialect.do_execute\u001b[0;34m(self, cursor, statement, parameters, context)\u001b[0m\n\u001b[1;32m    735\u001b[0m \u001b[38;5;28;01mdef\u001b[39;00m \u001b[38;5;21mdo_execute\u001b[39m(\u001b[38;5;28mself\u001b[39m, cursor, statement, parameters, context\u001b[38;5;241m=\u001b[39m\u001b[38;5;28;01mNone\u001b[39;00m):\n\u001b[0;32m--> 736\u001b[0m     \u001b[43mcursor\u001b[49m\u001b[38;5;241;43m.\u001b[39;49m\u001b[43mexecute\u001b[49m\u001b[43m(\u001b[49m\u001b[43mstatement\u001b[49m\u001b[43m,\u001b[49m\u001b[43m \u001b[49m\u001b[43mparameters\u001b[49m\u001b[43m)\u001b[49m\n",
      "\u001b[0;31mOperationalError\u001b[0m: server closed the connection unexpectedly\n\tThis probably means the server terminated abnormally\n\tbefore or while processing the request.\n",
      "\nThe above exception was the direct cause of the following exception:\n",
      "\u001b[0;31mOperationalError\u001b[0m                          Traceback (most recent call last)",
      "Cell \u001b[0;32mIn[8], line 1\u001b[0m\n\u001b[0;32m----> 1\u001b[0m \u001b[43mw\u001b[49m\u001b[38;5;241;43m.\u001b[39;49m\u001b[43mget\u001b[49m\u001b[43m(\u001b[49m\u001b[43m)\u001b[49m\n",
      "File \u001b[0;32m/mnt/code/code/soutobias/oceanoobsbrasil/oceanoobsbrasil/observational_data/wavecheck.py:126\u001b[0m, in \u001b[0;36mWave.get\u001b[0;34m(self)\u001b[0m\n\u001b[1;32m    124\u001b[0m     \u001b[38;5;28mself\u001b[39m\u001b[38;5;241m.\u001b[39mresult\u001b[38;5;241m.\u001b[39mcolumns \u001b[38;5;241m=\u001b[39m columns\n\u001b[1;32m    125\u001b[0m     \u001b[38;5;28mself\u001b[39m\u001b[38;5;241m.\u001b[39mresult[\u001b[38;5;124m\"\u001b[39m\u001b[38;5;124mstation_id\u001b[39m\u001b[38;5;124m\"\u001b[39m] \u001b[38;5;241m=\u001b[39m \u001b[38;5;28mstr\u001b[39m(station[\u001b[38;5;124m\"\u001b[39m\u001b[38;5;124mid\u001b[39m\u001b[38;5;124m\"\u001b[39m])\n\u001b[0;32m--> 126\u001b[0m     \u001b[38;5;28;43mself\u001b[39;49m\u001b[38;5;241;43m.\u001b[39;49m\u001b[43mdb\u001b[49m\u001b[38;5;241;43m.\u001b[39;49m\u001b[43mfeed_bd\u001b[49m\u001b[43m(\u001b[49m\u001b[43mtable\u001b[49m\u001b[38;5;241;43m=\u001b[39;49m\u001b[38;5;124;43m\"\u001b[39;49m\u001b[38;5;124;43mdata_stations\u001b[39;49m\u001b[38;5;124;43m\"\u001b[39;49m\u001b[43m,\u001b[49m\u001b[43m \u001b[49m\u001b[43mdf\u001b[49m\u001b[38;5;241;43m=\u001b[39;49m\u001b[38;5;28;43mself\u001b[39;49m\u001b[38;5;241;43m.\u001b[39;49m\u001b[43mresult\u001b[49m\u001b[43m)\u001b[49m\n\u001b[1;32m    127\u001b[0m     \u001b[38;5;28mprint\u001b[39m(\u001b[38;5;124m\"\u001b[39m\u001b[38;5;124mdados alimentados\u001b[39m\u001b[38;5;124m\"\u001b[39m)\n\u001b[1;32m    128\u001b[0m \u001b[38;5;28;01melse\u001b[39;00m:\n",
      "File \u001b[0;32m/mnt/code/code/soutobias/oceanoobsbrasil/oceanoobsbrasil/db.py:78\u001b[0m, in \u001b[0;36mGetData.feed_bd\u001b[0;34m(self, table, df, data_type)\u001b[0m\n\u001b[1;32m     77\u001b[0m \u001b[38;5;28;01mdef\u001b[39;00m \u001b[38;5;21mfeed_bd\u001b[39m(\u001b[38;5;28mself\u001b[39m, table, df, data_type\u001b[38;5;241m=\u001b[39m\u001b[38;5;28;01mNone\u001b[39;00m):\n\u001b[0;32m---> 78\u001b[0m     \u001b[38;5;28;43mself\u001b[39;49m\u001b[38;5;241;43m.\u001b[39;49m\u001b[43mpost\u001b[49m\u001b[43m(\u001b[49m\u001b[43mtable\u001b[49m\u001b[38;5;241;43m=\u001b[39;49m\u001b[43mtable\u001b[49m\u001b[43m,\u001b[49m\u001b[43m \u001b[49m\u001b[43mdf\u001b[49m\u001b[38;5;241;43m=\u001b[39;49m\u001b[43mdf\u001b[49m\u001b[43m,\u001b[49m\u001b[43m \u001b[49m\u001b[43mdata_type\u001b[49m\u001b[38;5;241;43m=\u001b[39;49m\u001b[43mdata_type\u001b[49m\u001b[43m)\u001b[49m\n",
      "File \u001b[0;32m/mnt/code/code/soutobias/oceanoobsbrasil/oceanoobsbrasil/db.py:47\u001b[0m, in \u001b[0;36mGetData.post\u001b[0;34m(self, table, df, data_type)\u001b[0m\n\u001b[1;32m     45\u001b[0m \u001b[38;5;28;01mif\u001b[39;00m table \u001b[38;5;241m==\u001b[39m \u001b[38;5;124m\"\u001b[39m\u001b[38;5;124mdata_stations\u001b[39m\u001b[38;5;124m\"\u001b[39m:\n\u001b[1;32m     46\u001b[0m     station \u001b[38;5;241m=\u001b[39m \u001b[38;5;28mlist\u001b[39m(df\u001b[38;5;241m.\u001b[39mstation_id\u001b[38;5;241m.\u001b[39mastype(\u001b[38;5;124m\"\u001b[39m\u001b[38;5;124mstr\u001b[39m\u001b[38;5;124m\"\u001b[39m)\u001b[38;5;241m.\u001b[39munique())\n\u001b[0;32m---> 47\u001b[0m     \u001b[38;5;28;43mself\u001b[39;49m\u001b[38;5;241;43m.\u001b[39;49m\u001b[43mdelete\u001b[49m\u001b[43m(\u001b[49m\n\u001b[1;32m     48\u001b[0m \u001b[43m        \u001b[49m\u001b[43mtable\u001b[49m\u001b[38;5;241;43m=\u001b[39;49m\u001b[43mtable\u001b[49m\u001b[43m,\u001b[49m\n\u001b[1;32m     49\u001b[0m \u001b[43m        \u001b[49m\u001b[43mstation_id\u001b[49m\u001b[38;5;241;43m=\u001b[39;49m\u001b[43m[\u001b[49m\u001b[38;5;124;43m\"\u001b[39;49m\u001b[38;5;124;43min\u001b[39;49m\u001b[38;5;124;43m\"\u001b[39;49m\u001b[43m,\u001b[49m\u001b[43m \u001b[49m\u001b[43mstation\u001b[49m\u001b[43m]\u001b[49m\u001b[43m,\u001b[49m\n\u001b[1;32m     50\u001b[0m \u001b[43m        \u001b[49m\u001b[43mdate_time\u001b[49m\u001b[38;5;241;43m=\u001b[39;49m\u001b[43m[\u001b[49m\u001b[38;5;124;43m\"\u001b[39;49m\u001b[38;5;124;43m>=\u001b[39;49m\u001b[38;5;124;43m\"\u001b[39;49m\u001b[43m,\u001b[49m\u001b[43m \u001b[49m\u001b[43mdf\u001b[49m\u001b[43m[\u001b[49m\u001b[38;5;124;43m\"\u001b[39;49m\u001b[38;5;124;43mdate_time\u001b[39;49m\u001b[38;5;124;43m\"\u001b[39;49m\u001b[43m]\u001b[49m\u001b[38;5;241;43m.\u001b[39;49m\u001b[43mmin\u001b[49m\u001b[43m(\u001b[49m\u001b[43m)\u001b[49m\u001b[43m]\u001b[49m\u001b[43m,\u001b[49m\n\u001b[1;32m     51\u001b[0m \u001b[43m    \u001b[49m\u001b[43m)\u001b[49m\n\u001b[1;32m     53\u001b[0m \u001b[38;5;28;01melif\u001b[39;00m table \u001b[38;5;241m==\u001b[39m \u001b[38;5;124m\"\u001b[39m\u001b[38;5;124mdata_no_stations\u001b[39m\u001b[38;5;124m\"\u001b[39m:\n\u001b[1;32m     54\u001b[0m     institution \u001b[38;5;241m=\u001b[39m \u001b[38;5;28mlist\u001b[39m(df\u001b[38;5;241m.\u001b[39minstitution\u001b[38;5;241m.\u001b[39munique())\n",
      "File \u001b[0;32m/mnt/code/code/soutobias/oceanoobsbrasil/oceanoobsbrasil/db.py:75\u001b[0m, in \u001b[0;36mGetData.delete\u001b[0;34m(self, table, **kwargs)\u001b[0m\n\u001b[1;32m     72\u001b[0m \u001b[38;5;28;01mif\u001b[39;00m kwargs:\n\u001b[1;32m     73\u001b[0m     query \u001b[38;5;241m=\u001b[39m \u001b[38;5;28mself\u001b[39m\u001b[38;5;241m.\u001b[39mcreate_query(query, kwargs)\n\u001b[0;32m---> 75\u001b[0m \u001b[38;5;28;43mself\u001b[39;49m\u001b[38;5;241;43m.\u001b[39;49m\u001b[43mengine\u001b[49m\u001b[38;5;241;43m.\u001b[39;49m\u001b[43mexecute\u001b[49m\u001b[43m(\u001b[49m\u001b[43mquery\u001b[49m\u001b[43m)\u001b[49m\n",
      "File \u001b[0;32m<string>:2\u001b[0m, in \u001b[0;36mexecute\u001b[0;34m(self, statement, *multiparams, **params)\u001b[0m\n",
      "File \u001b[0;32m/mnt/code/.pyenv/versions/3.8.12/envs/oceanum/lib/python3.8/site-packages/sqlalchemy/util/deprecations.py:468\u001b[0m, in \u001b[0;36m_decorate_with_warning.<locals>.warned\u001b[0;34m(fn, *args, **kwargs)\u001b[0m\n\u001b[1;32m    466\u001b[0m \u001b[38;5;28;01mif\u001b[39;00m \u001b[38;5;129;01mnot\u001b[39;00m skip_warning:\n\u001b[1;32m    467\u001b[0m     _warn_with_version(message, version, wtype, stacklevel\u001b[38;5;241m=\u001b[39m\u001b[38;5;241m3\u001b[39m)\n\u001b[0;32m--> 468\u001b[0m \u001b[38;5;28;01mreturn\u001b[39;00m \u001b[43mfn\u001b[49m\u001b[43m(\u001b[49m\u001b[38;5;241;43m*\u001b[39;49m\u001b[43margs\u001b[49m\u001b[43m,\u001b[49m\u001b[43m \u001b[49m\u001b[38;5;241;43m*\u001b[39;49m\u001b[38;5;241;43m*\u001b[39;49m\u001b[43mkwargs\u001b[49m\u001b[43m)\u001b[49m\n",
      "File \u001b[0;32m/mnt/code/.pyenv/versions/3.8.12/envs/oceanum/lib/python3.8/site-packages/sqlalchemy/engine/base.py:3267\u001b[0m, in \u001b[0;36mEngine.execute\u001b[0;34m(self, statement, *multiparams, **params)\u001b[0m\n\u001b[1;32m   3249\u001b[0m \u001b[38;5;250m\u001b[39m\u001b[38;5;124;03m\"\"\"Executes the given construct and returns a\u001b[39;00m\n\u001b[1;32m   3250\u001b[0m \u001b[38;5;124;03m:class:`_engine.CursorResult`.\u001b[39;00m\n\u001b[1;32m   3251\u001b[0m \n\u001b[0;32m   (...)\u001b[0m\n\u001b[1;32m   3264\u001b[0m \n\u001b[1;32m   3265\u001b[0m \u001b[38;5;124;03m\"\"\"\u001b[39;00m\n\u001b[1;32m   3266\u001b[0m connection \u001b[38;5;241m=\u001b[39m \u001b[38;5;28mself\u001b[39m\u001b[38;5;241m.\u001b[39mconnect(close_with_result\u001b[38;5;241m=\u001b[39m\u001b[38;5;28;01mTrue\u001b[39;00m)\n\u001b[0;32m-> 3267\u001b[0m \u001b[38;5;28;01mreturn\u001b[39;00m \u001b[43mconnection\u001b[49m\u001b[38;5;241;43m.\u001b[39;49m\u001b[43mexecute\u001b[49m\u001b[43m(\u001b[49m\u001b[43mstatement\u001b[49m\u001b[43m,\u001b[49m\u001b[43m \u001b[49m\u001b[38;5;241;43m*\u001b[39;49m\u001b[43mmultiparams\u001b[49m\u001b[43m,\u001b[49m\u001b[43m \u001b[49m\u001b[38;5;241;43m*\u001b[39;49m\u001b[38;5;241;43m*\u001b[39;49m\u001b[43mparams\u001b[49m\u001b[43m)\u001b[49m\n",
      "File \u001b[0;32m/mnt/code/.pyenv/versions/3.8.12/envs/oceanum/lib/python3.8/site-packages/sqlalchemy/engine/base.py:1370\u001b[0m, in \u001b[0;36mConnection.execute\u001b[0;34m(self, statement, *multiparams, **params)\u001b[0m\n\u001b[1;32m   1361\u001b[0m \u001b[38;5;28;01mif\u001b[39;00m \u001b[38;5;28misinstance\u001b[39m(statement, util\u001b[38;5;241m.\u001b[39mstring_types):\n\u001b[1;32m   1362\u001b[0m     util\u001b[38;5;241m.\u001b[39mwarn_deprecated_20(\n\u001b[1;32m   1363\u001b[0m         \u001b[38;5;124m\"\u001b[39m\u001b[38;5;124mPassing a string to Connection.execute() is \u001b[39m\u001b[38;5;124m\"\u001b[39m\n\u001b[1;32m   1364\u001b[0m         \u001b[38;5;124m\"\u001b[39m\u001b[38;5;124mdeprecated and will be removed in version 2.0.  Use the \u001b[39m\u001b[38;5;124m\"\u001b[39m\n\u001b[0;32m   (...)\u001b[0m\n\u001b[1;32m   1367\u001b[0m         \u001b[38;5;124m\"\u001b[39m\u001b[38;5;124mdriver-level SQL string.\u001b[39m\u001b[38;5;124m\"\u001b[39m\n\u001b[1;32m   1368\u001b[0m     )\n\u001b[0;32m-> 1370\u001b[0m     \u001b[38;5;28;01mreturn\u001b[39;00m \u001b[38;5;28;43mself\u001b[39;49m\u001b[38;5;241;43m.\u001b[39;49m\u001b[43m_exec_driver_sql\u001b[49m\u001b[43m(\u001b[49m\n\u001b[1;32m   1371\u001b[0m \u001b[43m        \u001b[49m\u001b[43mstatement\u001b[49m\u001b[43m,\u001b[49m\n\u001b[1;32m   1372\u001b[0m \u001b[43m        \u001b[49m\u001b[43mmultiparams\u001b[49m\u001b[43m,\u001b[49m\n\u001b[1;32m   1373\u001b[0m \u001b[43m        \u001b[49m\u001b[43mparams\u001b[49m\u001b[43m,\u001b[49m\n\u001b[1;32m   1374\u001b[0m \u001b[43m        \u001b[49m\u001b[43m_EMPTY_EXECUTION_OPTS\u001b[49m\u001b[43m,\u001b[49m\n\u001b[1;32m   1375\u001b[0m \u001b[43m        \u001b[49m\u001b[43mfuture\u001b[49m\u001b[38;5;241;43m=\u001b[39;49m\u001b[38;5;28;43;01mFalse\u001b[39;49;00m\u001b[43m,\u001b[49m\n\u001b[1;32m   1376\u001b[0m \u001b[43m    \u001b[49m\u001b[43m)\u001b[49m\n\u001b[1;32m   1378\u001b[0m \u001b[38;5;28;01mtry\u001b[39;00m:\n\u001b[1;32m   1379\u001b[0m     meth \u001b[38;5;241m=\u001b[39m statement\u001b[38;5;241m.\u001b[39m_execute_on_connection\n",
      "File \u001b[0;32m/mnt/code/.pyenv/versions/3.8.12/envs/oceanum/lib/python3.8/site-packages/sqlalchemy/engine/base.py:1674\u001b[0m, in \u001b[0;36mConnection._exec_driver_sql\u001b[0;34m(self, statement, multiparams, params, execution_options, future)\u001b[0m\n\u001b[1;32m   1664\u001b[0m         (\n\u001b[1;32m   1665\u001b[0m             statement,\n\u001b[1;32m   1666\u001b[0m             distilled_params,\n\u001b[0;32m   (...)\u001b[0m\n\u001b[1;32m   1670\u001b[0m             statement, distilled_parameters, execution_options\n\u001b[1;32m   1671\u001b[0m         )\n\u001b[1;32m   1673\u001b[0m dialect \u001b[38;5;241m=\u001b[39m \u001b[38;5;28mself\u001b[39m\u001b[38;5;241m.\u001b[39mdialect\n\u001b[0;32m-> 1674\u001b[0m ret \u001b[38;5;241m=\u001b[39m \u001b[38;5;28;43mself\u001b[39;49m\u001b[38;5;241;43m.\u001b[39;49m\u001b[43m_execute_context\u001b[49m\u001b[43m(\u001b[49m\n\u001b[1;32m   1675\u001b[0m \u001b[43m    \u001b[49m\u001b[43mdialect\u001b[49m\u001b[43m,\u001b[49m\n\u001b[1;32m   1676\u001b[0m \u001b[43m    \u001b[49m\u001b[43mdialect\u001b[49m\u001b[38;5;241;43m.\u001b[39;49m\u001b[43mexecution_ctx_cls\u001b[49m\u001b[38;5;241;43m.\u001b[39;49m\u001b[43m_init_statement\u001b[49m\u001b[43m,\u001b[49m\n\u001b[1;32m   1677\u001b[0m \u001b[43m    \u001b[49m\u001b[43mstatement\u001b[49m\u001b[43m,\u001b[49m\n\u001b[1;32m   1678\u001b[0m \u001b[43m    \u001b[49m\u001b[43mdistilled_parameters\u001b[49m\u001b[43m,\u001b[49m\n\u001b[1;32m   1679\u001b[0m \u001b[43m    \u001b[49m\u001b[43mexecution_options\u001b[49m\u001b[43m,\u001b[49m\n\u001b[1;32m   1680\u001b[0m \u001b[43m    \u001b[49m\u001b[43mstatement\u001b[49m\u001b[43m,\u001b[49m\n\u001b[1;32m   1681\u001b[0m \u001b[43m    \u001b[49m\u001b[43mdistilled_parameters\u001b[49m\u001b[43m,\u001b[49m\n\u001b[1;32m   1682\u001b[0m \u001b[43m\u001b[49m\u001b[43m)\u001b[49m\n\u001b[1;32m   1684\u001b[0m \u001b[38;5;28;01mif\u001b[39;00m \u001b[38;5;129;01mnot\u001b[39;00m future:\n\u001b[1;32m   1685\u001b[0m     \u001b[38;5;28;01mif\u001b[39;00m \u001b[38;5;28mself\u001b[39m\u001b[38;5;241m.\u001b[39m_has_events \u001b[38;5;129;01mor\u001b[39;00m \u001b[38;5;28mself\u001b[39m\u001b[38;5;241m.\u001b[39mengine\u001b[38;5;241m.\u001b[39m_has_events:\n",
      "File \u001b[0;32m/mnt/code/.pyenv/versions/3.8.12/envs/oceanum/lib/python3.8/site-packages/sqlalchemy/engine/base.py:1953\u001b[0m, in \u001b[0;36mConnection._execute_context\u001b[0;34m(self, dialect, constructor, statement, parameters, execution_options, *args, **kw)\u001b[0m\n\u001b[1;32m   1950\u001b[0m             branched\u001b[38;5;241m.\u001b[39mclose()\n\u001b[1;32m   1952\u001b[0m \u001b[38;5;28;01mexcept\u001b[39;00m \u001b[38;5;167;01mBaseException\u001b[39;00m \u001b[38;5;28;01mas\u001b[39;00m e:\n\u001b[0;32m-> 1953\u001b[0m     \u001b[38;5;28;43mself\u001b[39;49m\u001b[38;5;241;43m.\u001b[39;49m\u001b[43m_handle_dbapi_exception\u001b[49m\u001b[43m(\u001b[49m\n\u001b[1;32m   1954\u001b[0m \u001b[43m        \u001b[49m\u001b[43me\u001b[49m\u001b[43m,\u001b[49m\u001b[43m \u001b[49m\u001b[43mstatement\u001b[49m\u001b[43m,\u001b[49m\u001b[43m \u001b[49m\u001b[43mparameters\u001b[49m\u001b[43m,\u001b[49m\u001b[43m \u001b[49m\u001b[43mcursor\u001b[49m\u001b[43m,\u001b[49m\u001b[43m \u001b[49m\u001b[43mcontext\u001b[49m\n\u001b[1;32m   1955\u001b[0m \u001b[43m    \u001b[49m\u001b[43m)\u001b[49m\n\u001b[1;32m   1957\u001b[0m \u001b[38;5;28;01mreturn\u001b[39;00m result\n",
      "File \u001b[0;32m/mnt/code/.pyenv/versions/3.8.12/envs/oceanum/lib/python3.8/site-packages/sqlalchemy/engine/base.py:2134\u001b[0m, in \u001b[0;36mConnection._handle_dbapi_exception\u001b[0;34m(self, e, statement, parameters, cursor, context)\u001b[0m\n\u001b[1;32m   2132\u001b[0m     util\u001b[38;5;241m.\u001b[39mraise_(newraise, with_traceback\u001b[38;5;241m=\u001b[39mexc_info[\u001b[38;5;241m2\u001b[39m], from_\u001b[38;5;241m=\u001b[39me)\n\u001b[1;32m   2133\u001b[0m \u001b[38;5;28;01melif\u001b[39;00m should_wrap:\n\u001b[0;32m-> 2134\u001b[0m     \u001b[43mutil\u001b[49m\u001b[38;5;241;43m.\u001b[39;49m\u001b[43mraise_\u001b[49m\u001b[43m(\u001b[49m\n\u001b[1;32m   2135\u001b[0m \u001b[43m        \u001b[49m\u001b[43msqlalchemy_exception\u001b[49m\u001b[43m,\u001b[49m\u001b[43m \u001b[49m\u001b[43mwith_traceback\u001b[49m\u001b[38;5;241;43m=\u001b[39;49m\u001b[43mexc_info\u001b[49m\u001b[43m[\u001b[49m\u001b[38;5;241;43m2\u001b[39;49m\u001b[43m]\u001b[49m\u001b[43m,\u001b[49m\u001b[43m \u001b[49m\u001b[43mfrom_\u001b[49m\u001b[38;5;241;43m=\u001b[39;49m\u001b[43me\u001b[49m\n\u001b[1;32m   2136\u001b[0m \u001b[43m    \u001b[49m\u001b[43m)\u001b[49m\n\u001b[1;32m   2137\u001b[0m \u001b[38;5;28;01melse\u001b[39;00m:\n\u001b[1;32m   2138\u001b[0m     util\u001b[38;5;241m.\u001b[39mraise_(exc_info[\u001b[38;5;241m1\u001b[39m], with_traceback\u001b[38;5;241m=\u001b[39mexc_info[\u001b[38;5;241m2\u001b[39m])\n",
      "File \u001b[0;32m/mnt/code/.pyenv/versions/3.8.12/envs/oceanum/lib/python3.8/site-packages/sqlalchemy/util/compat.py:211\u001b[0m, in \u001b[0;36mraise_\u001b[0;34m(***failed resolving arguments***)\u001b[0m\n\u001b[1;32m    208\u001b[0m     exception\u001b[38;5;241m.\u001b[39m__cause__ \u001b[38;5;241m=\u001b[39m replace_context\n\u001b[1;32m    210\u001b[0m \u001b[38;5;28;01mtry\u001b[39;00m:\n\u001b[0;32m--> 211\u001b[0m     \u001b[38;5;28;01mraise\u001b[39;00m exception\n\u001b[1;32m    212\u001b[0m \u001b[38;5;28;01mfinally\u001b[39;00m:\n\u001b[1;32m    213\u001b[0m     \u001b[38;5;66;03m# credit to\u001b[39;00m\n\u001b[1;32m    214\u001b[0m     \u001b[38;5;66;03m# https://cosmicpercolator.com/2016/01/13/exception-leaks-in-python-2-and-3/\u001b[39;00m\n\u001b[1;32m    215\u001b[0m     \u001b[38;5;66;03m# as the __traceback__ object creates a cycle\u001b[39;00m\n\u001b[1;32m    216\u001b[0m     \u001b[38;5;28;01mdel\u001b[39;00m exception, replace_context, from_, with_traceback\n",
      "File \u001b[0;32m/mnt/code/.pyenv/versions/3.8.12/envs/oceanum/lib/python3.8/site-packages/sqlalchemy/engine/base.py:1910\u001b[0m, in \u001b[0;36mConnection._execute_context\u001b[0;34m(self, dialect, constructor, statement, parameters, execution_options, *args, **kw)\u001b[0m\n\u001b[1;32m   1908\u001b[0m                 \u001b[38;5;28;01mbreak\u001b[39;00m\n\u001b[1;32m   1909\u001b[0m     \u001b[38;5;28;01mif\u001b[39;00m \u001b[38;5;129;01mnot\u001b[39;00m evt_handled:\n\u001b[0;32m-> 1910\u001b[0m         \u001b[38;5;28;43mself\u001b[39;49m\u001b[38;5;241;43m.\u001b[39;49m\u001b[43mdialect\u001b[49m\u001b[38;5;241;43m.\u001b[39;49m\u001b[43mdo_execute\u001b[49m\u001b[43m(\u001b[49m\n\u001b[1;32m   1911\u001b[0m \u001b[43m            \u001b[49m\u001b[43mcursor\u001b[49m\u001b[43m,\u001b[49m\u001b[43m \u001b[49m\u001b[43mstatement\u001b[49m\u001b[43m,\u001b[49m\u001b[43m \u001b[49m\u001b[43mparameters\u001b[49m\u001b[43m,\u001b[49m\u001b[43m \u001b[49m\u001b[43mcontext\u001b[49m\n\u001b[1;32m   1912\u001b[0m \u001b[43m        \u001b[49m\u001b[43m)\u001b[49m\n\u001b[1;32m   1914\u001b[0m \u001b[38;5;28;01mif\u001b[39;00m \u001b[38;5;28mself\u001b[39m\u001b[38;5;241m.\u001b[39m_has_events \u001b[38;5;129;01mor\u001b[39;00m \u001b[38;5;28mself\u001b[39m\u001b[38;5;241m.\u001b[39mengine\u001b[38;5;241m.\u001b[39m_has_events:\n\u001b[1;32m   1915\u001b[0m     \u001b[38;5;28mself\u001b[39m\u001b[38;5;241m.\u001b[39mdispatch\u001b[38;5;241m.\u001b[39mafter_cursor_execute(\n\u001b[1;32m   1916\u001b[0m         \u001b[38;5;28mself\u001b[39m,\n\u001b[1;32m   1917\u001b[0m         cursor,\n\u001b[0;32m   (...)\u001b[0m\n\u001b[1;32m   1921\u001b[0m         context\u001b[38;5;241m.\u001b[39mexecutemany,\n\u001b[1;32m   1922\u001b[0m     )\n",
      "File \u001b[0;32m/mnt/code/.pyenv/versions/3.8.12/envs/oceanum/lib/python3.8/site-packages/sqlalchemy/engine/default.py:736\u001b[0m, in \u001b[0;36mDefaultDialect.do_execute\u001b[0;34m(self, cursor, statement, parameters, context)\u001b[0m\n\u001b[1;32m    735\u001b[0m \u001b[38;5;28;01mdef\u001b[39;00m \u001b[38;5;21mdo_execute\u001b[39m(\u001b[38;5;28mself\u001b[39m, cursor, statement, parameters, context\u001b[38;5;241m=\u001b[39m\u001b[38;5;28;01mNone\u001b[39;00m):\n\u001b[0;32m--> 736\u001b[0m     \u001b[43mcursor\u001b[49m\u001b[38;5;241;43m.\u001b[39;49m\u001b[43mexecute\u001b[49m\u001b[43m(\u001b[49m\u001b[43mstatement\u001b[49m\u001b[43m,\u001b[49m\u001b[43m \u001b[49m\u001b[43mparameters\u001b[49m\u001b[43m)\u001b[49m\n",
      "\u001b[0;31mOperationalError\u001b[0m: (psycopg2.OperationalError) server closed the connection unexpectedly\n\tThis probably means the server terminated abnormally\n\tbefore or while processing the request.\n\n[SQL: DELETE FROM data_stations WHERE true AND station_id in ('112') AND date_time >= '2023-09-05 14:00:00']\n(Background on this error at: https://sqlalche.me/e/14/e3q8)"
     ]
    }
   ],
   "source": [
    "w.get()"
   ]
  },
  {
   "cell_type": "code",
   "execution_count": 53,
   "id": "63eba5b5",
   "metadata": {},
   "outputs": [
    {
     "data": {
      "text/html": [
       "<div>\n",
       "<style scoped>\n",
       "    .dataframe tbody tr th:only-of-type {\n",
       "        vertical-align: middle;\n",
       "    }\n",
       "\n",
       "    .dataframe tbody tr th {\n",
       "        vertical-align: top;\n",
       "    }\n",
       "\n",
       "    .dataframe thead th {\n",
       "        text-align: right;\n",
       "    }\n",
       "</style>\n",
       "<table border=\"1\" class=\"dataframe\">\n",
       "  <thead>\n",
       "    <tr style=\"text-align: right;\">\n",
       "      <th></th>\n",
       "      <th>id</th>\n",
       "      <th>name</th>\n",
       "      <th>lat</th>\n",
       "      <th>lon</th>\n",
       "      <th>data_type</th>\n",
       "      <th>institution</th>\n",
       "      <th>url</th>\n",
       "      <th>flag</th>\n",
       "    </tr>\n",
       "  </thead>\n",
       "  <tbody>\n",
       "    <tr>\n",
       "      <th>0</th>\n",
       "      <td>76</td>\n",
       "      <td>Barra do Sai</td>\n",
       "      <td>-26.031000</td>\n",
       "      <td>-48.608200</td>\n",
       "      <td>visual</td>\n",
       "      <td>wavecheck</td>\n",
       "      <td>http://www.waves.com.br/surf/ondas/picos/barra...</td>\n",
       "      <td>True</td>\n",
       "    </tr>\n",
       "    <tr>\n",
       "      <th>1</th>\n",
       "      <td>83</td>\n",
       "      <td>Brava</td>\n",
       "      <td>-25.826500</td>\n",
       "      <td>-48.518000</td>\n",
       "      <td>visual</td>\n",
       "      <td>wavecheck</td>\n",
       "      <td>http://www.waves.com.br/surf/ondas/picos/brava-3/</td>\n",
       "      <td>True</td>\n",
       "    </tr>\n",
       "    <tr>\n",
       "      <th>2</th>\n",
       "      <td>90</td>\n",
       "      <td>Boqueirao Sul</td>\n",
       "      <td>-25.028600</td>\n",
       "      <td>-47.882000</td>\n",
       "      <td>visual</td>\n",
       "      <td>wavecheck</td>\n",
       "      <td>http://www.waves.com.br/surf/ondas/picos/boque...</td>\n",
       "      <td>True</td>\n",
       "    </tr>\n",
       "    <tr>\n",
       "      <th>3</th>\n",
       "      <td>91</td>\n",
       "      <td>Adriana</td>\n",
       "      <td>-24.738000</td>\n",
       "      <td>-47.526000</td>\n",
       "      <td>visual</td>\n",
       "      <td>wavecheck</td>\n",
       "      <td>http://www.waves.com.br/surf/ondas/picos/adriana/</td>\n",
       "      <td>True</td>\n",
       "    </tr>\n",
       "    <tr>\n",
       "      <th>4</th>\n",
       "      <td>92</td>\n",
       "      <td>Boqueirao Norte</td>\n",
       "      <td>-24.740000</td>\n",
       "      <td>-47.533000</td>\n",
       "      <td>visual</td>\n",
       "      <td>wavecheck</td>\n",
       "      <td>http://www.waves.com.br/surf/ondas/picos/boque...</td>\n",
       "      <td>True</td>\n",
       "    </tr>\n",
       "    <tr>\n",
       "      <th>...</th>\n",
       "      <td>...</td>\n",
       "      <td>...</td>\n",
       "      <td>...</td>\n",
       "      <td>...</td>\n",
       "      <td>...</td>\n",
       "      <td>...</td>\n",
       "      <td>...</td>\n",
       "      <td>...</td>\n",
       "    </tr>\n",
       "    <tr>\n",
       "      <th>247</th>\n",
       "      <td>1227</td>\n",
       "      <td>Praia Grande - Posto 7</td>\n",
       "      <td>-24.015618</td>\n",
       "      <td>-46.405390</td>\n",
       "      <td>visual</td>\n",
       "      <td>wavecheck</td>\n",
       "      <td>https://waves.com.br/surf/ondas/picos/sp/praia...</td>\n",
       "      <td>True</td>\n",
       "    </tr>\n",
       "    <tr>\n",
       "      <th>248</th>\n",
       "      <td>1228</td>\n",
       "      <td>Tupi</td>\n",
       "      <td>-24.023377</td>\n",
       "      <td>-46.455484</td>\n",
       "      <td>visual</td>\n",
       "      <td>wavecheck</td>\n",
       "      <td>https://waves.com.br/surf/ondas/picos/sp/praia...</td>\n",
       "      <td>True</td>\n",
       "    </tr>\n",
       "    <tr>\n",
       "      <th>249</th>\n",
       "      <td>115</td>\n",
       "      <td>Teleferico</td>\n",
       "      <td>-23.974700</td>\n",
       "      <td>-46.361500</td>\n",
       "      <td>visual</td>\n",
       "      <td>wavecheck</td>\n",
       "      <td>https://waves.com.br/surf/ondas/picos/sp/sao-v...</td>\n",
       "      <td>True</td>\n",
       "    </tr>\n",
       "    <tr>\n",
       "      <th>250</th>\n",
       "      <td>1229</td>\n",
       "      <td>Ule</td>\n",
       "      <td>-20.540603</td>\n",
       "      <td>-40.379777</td>\n",
       "      <td>visual</td>\n",
       "      <td>wavecheck</td>\n",
       "      <td>https://waves.com.br/surf/ondas/picos/es/guara...</td>\n",
       "      <td>True</td>\n",
       "    </tr>\n",
       "    <tr>\n",
       "      <th>251</th>\n",
       "      <td>192</td>\n",
       "      <td>Tiririca</td>\n",
       "      <td>-14.289000</td>\n",
       "      <td>-38.983000</td>\n",
       "      <td>visual</td>\n",
       "      <td>wavecheck</td>\n",
       "      <td>https://waves.com.br/surf/ondas/picos/ba/itaca...</td>\n",
       "      <td>True</td>\n",
       "    </tr>\n",
       "  </tbody>\n",
       "</table>\n",
       "<p>252 rows × 8 columns</p>\n",
       "</div>"
      ],
      "text/plain": [
       "       id                    name        lat        lon data_type institution  \\\n",
       "0      76            Barra do Sai -26.031000 -48.608200    visual   wavecheck   \n",
       "1      83                   Brava -25.826500 -48.518000    visual   wavecheck   \n",
       "2      90           Boqueirao Sul -25.028600 -47.882000    visual   wavecheck   \n",
       "3      91                 Adriana -24.738000 -47.526000    visual   wavecheck   \n",
       "4      92         Boqueirao Norte -24.740000 -47.533000    visual   wavecheck   \n",
       "..    ...                     ...        ...        ...       ...         ...   \n",
       "247  1227  Praia Grande - Posto 7 -24.015618 -46.405390    visual   wavecheck   \n",
       "248  1228                    Tupi -24.023377 -46.455484    visual   wavecheck   \n",
       "249   115              Teleferico -23.974700 -46.361500    visual   wavecheck   \n",
       "250  1229                     Ule -20.540603 -40.379777    visual   wavecheck   \n",
       "251   192                Tiririca -14.289000 -38.983000    visual   wavecheck   \n",
       "\n",
       "                                                   url  flag  \n",
       "0    http://www.waves.com.br/surf/ondas/picos/barra...  True  \n",
       "1    http://www.waves.com.br/surf/ondas/picos/brava-3/  True  \n",
       "2    http://www.waves.com.br/surf/ondas/picos/boque...  True  \n",
       "3    http://www.waves.com.br/surf/ondas/picos/adriana/  True  \n",
       "4    http://www.waves.com.br/surf/ondas/picos/boque...  True  \n",
       "..                                                 ...   ...  \n",
       "247  https://waves.com.br/surf/ondas/picos/sp/praia...  True  \n",
       "248  https://waves.com.br/surf/ondas/picos/sp/praia...  True  \n",
       "249  https://waves.com.br/surf/ondas/picos/sp/sao-v...  True  \n",
       "250  https://waves.com.br/surf/ondas/picos/es/guara...  True  \n",
       "251  https://waves.com.br/surf/ondas/picos/ba/itaca...  True  \n",
       "\n",
       "[252 rows x 8 columns]"
      ]
     },
     "execution_count": 53,
     "metadata": {},
     "output_type": "execute_result"
    }
   ],
   "source": [
    "w.stations"
   ]
  },
  {
   "cell_type": "code",
   "execution_count": 64,
   "id": "7d75c473",
   "metadata": {},
   "outputs": [
    {
     "data": {
      "text/plain": [
       "[]"
      ]
     },
     "execution_count": 64,
     "metadata": {},
     "output_type": "execute_result"
    }
   ],
   "source": [
    "w.soup.find_all({'id': 'forecast_wave_size'})"
   ]
  },
  {
   "cell_type": "code",
   "execution_count": null,
   "id": "c1760587",
   "metadata": {},
   "outputs": [],
   "source": []
  },
  {
   "cell_type": "code",
   "execution_count": 66,
   "id": "3efa275b",
   "metadata": {},
   "outputs": [
    {
     "data": {
      "text/plain": [
       "id                                                            76\n",
       "name                                                Barra do Sai\n",
       "lat                                                      -26.031\n",
       "lon                                                     -48.6082\n",
       "data_type                                                 visual\n",
       "institution                                            wavecheck\n",
       "url            http://www.waves.com.br/surf/ondas/picos/barra...\n",
       "flag                                                        True\n",
       "Name: 0, dtype: object"
      ]
     },
     "execution_count": 66,
     "metadata": {},
     "output_type": "execute_result"
    }
   ],
   "source": [
    "w.stations.iloc[0]"
   ]
  },
  {
   "cell_type": "code",
   "execution_count": 56,
   "id": "6ab6350d",
   "metadata": {},
   "outputs": [
    {
     "name": "stdout",
     "output_type": "stream",
     "text": [
      "Barra do Sai\n",
      "Tem dados para esse pico\n"
     ]
    },
    {
     "ename": "AttributeError",
     "evalue": "'NoneType' object has no attribute 'get_text'",
     "output_type": "error",
     "traceback": [
      "\u001b[0;31m---------------------------------------------------------------------------\u001b[0m",
      "\u001b[0;31mAttributeError\u001b[0m                            Traceback (most recent call last)",
      "Cell \u001b[0;32mIn[56], line 1\u001b[0m\n\u001b[0;32m----> 1\u001b[0m \u001b[43mw\u001b[49m\u001b[38;5;241;43m.\u001b[39;49m\u001b[43mget\u001b[49m\u001b[43m(\u001b[49m\u001b[43m)\u001b[49m\n",
      "File \u001b[0;32m/mnt/code/code/soutobias/oceanoobsbrasil/oceanoobsbrasil/observational_data/wavecheck.py:36\u001b[0m, in \u001b[0;36mWave.get\u001b[0;34m(self)\u001b[0m\n\u001b[1;32m     33\u001b[0m \u001b[38;5;28;01mif\u001b[39;00m \u001b[38;5;129;01mnot\u001b[39;00m no_data:\n\u001b[1;32m     34\u001b[0m     \u001b[38;5;28mprint\u001b[39m(\u001b[38;5;124m\"\u001b[39m\u001b[38;5;124mTem dados para esse pico\u001b[39m\u001b[38;5;124m\"\u001b[39m)\n\u001b[0;32m---> 36\u001b[0m     l \u001b[38;5;241m=\u001b[39m \u001b[43msoup\u001b[49m\u001b[38;5;241;43m.\u001b[39;49m\u001b[43mfind\u001b[49m\u001b[43m(\u001b[49m\u001b[38;5;124;43m\"\u001b[39;49m\u001b[38;5;124;43mtd\u001b[39;49m\u001b[38;5;124;43m\"\u001b[39;49m\u001b[43m,\u001b[49m\u001b[43m \u001b[49m\u001b[43m{\u001b[49m\u001b[38;5;124;43m\"\u001b[39;49m\u001b[38;5;124;43mid\u001b[39;49m\u001b[38;5;124;43m\"\u001b[39;49m\u001b[43m:\u001b[49m\u001b[43m \u001b[49m\u001b[38;5;124;43m\"\u001b[39;49m\u001b[38;5;124;43mforecast_wave_size\u001b[39;49m\u001b[38;5;124;43m\"\u001b[39;49m\u001b[43m}\u001b[49m\u001b[43m)\u001b[49m\u001b[38;5;241;43m.\u001b[39;49m\u001b[43mget_text\u001b[49m(strip\u001b[38;5;241m=\u001b[39m\u001b[38;5;28;01mTrue\u001b[39;00m)\n\u001b[1;32m     37\u001b[0m     \u001b[38;5;28;01mtry\u001b[39;00m:\n\u001b[1;32m     38\u001b[0m         [k1, k2] \u001b[38;5;241m=\u001b[39m l\u001b[38;5;241m.\u001b[39msplit(\u001b[38;5;124m\"\u001b[39m\u001b[38;5;124mm\u001b[39m\u001b[38;5;124m\"\u001b[39m)\n",
      "\u001b[0;31mAttributeError\u001b[0m: 'NoneType' object has no attribute 'get_text'"
     ]
    }
   ],
   "source": [
    "w.get()"
   ]
  },
  {
   "cell_type": "code",
   "execution_count": 57,
   "id": "679a788f",
   "metadata": {},
   "outputs": [],
   "source": [
    "l = w.soup.find(\"td\")"
   ]
  },
  {
   "cell_type": "code",
   "execution_count": 59,
   "id": "011b8360",
   "metadata": {},
   "outputs": [
    {
     "data": {
      "text/plain": [
       "'cookielawinfo-checbox-analytics'"
      ]
     },
     "execution_count": 59,
     "metadata": {},
     "output_type": "execute_result"
    }
   ],
   "source": [
    "l."
   ]
  },
  {
   "cell_type": "code",
   "execution_count": 60,
   "id": "34d969b9",
   "metadata": {},
   "outputs": [],
   "source": [
    "l = w.soup.find(\"td\", {\"id\": \"forecast_wave_size\"})"
   ]
  },
  {
   "cell_type": "code",
   "execution_count": 61,
   "id": "3dfa5595",
   "metadata": {},
   "outputs": [],
   "source": [
    "l"
   ]
  },
  {
   "cell_type": "code",
   "execution_count": null,
   "id": "58e2aae1",
   "metadata": {},
   "outputs": [],
   "source": [
    "l = w.soup.find(\"td\", {\"id\": \"forecast_wave_size\"}).get_text(strip=True)\n"
   ]
  },
  {
   "cell_type": "code",
   "execution_count": 77,
   "id": "2947b4b5",
   "metadata": {},
   "outputs": [],
   "source": [
    "from oceanoobsbrasil.get_clean_beach import CleanBeach"
   ]
  },
  {
   "cell_type": "code",
   "execution_count": 86,
   "id": "c6451f21",
   "metadata": {},
   "outputs": [],
   "source": [
    "c = CleanBeach()"
   ]
  },
  {
   "cell_type": "code",
   "execution_count": 84,
   "id": "7d10aeb5",
   "metadata": {},
   "outputs": [
    {
     "data": {
      "text/html": [
       "<div>\n",
       "<style scoped>\n",
       "    .dataframe tbody tr th:only-of-type {\n",
       "        vertical-align: middle;\n",
       "    }\n",
       "\n",
       "    .dataframe tbody tr th {\n",
       "        vertical-align: top;\n",
       "    }\n",
       "\n",
       "    .dataframe thead th {\n",
       "        text-align: right;\n",
       "    }\n",
       "</style>\n",
       "<table border=\"1\" class=\"dataframe\">\n",
       "  <thead>\n",
       "    <tr style=\"text-align: right;\">\n",
       "      <th></th>\n",
       "      <th>date_time</th>\n",
       "      <th>cleaning</th>\n",
       "      <th>station_id</th>\n",
       "    </tr>\n",
       "  </thead>\n",
       "  <tbody>\n",
       "    <tr>\n",
       "      <th>0</th>\n",
       "      <td>2021-09-21</td>\n",
       "      <td>True</td>\n",
       "      <td>0    919\\nName: id, dtype: int64</td>\n",
       "    </tr>\n",
       "  </tbody>\n",
       "</table>\n",
       "</div>"
      ],
      "text/plain": [
       "    date_time cleaning                        station_id\n",
       "0  2021-09-21     True  0    919\\nName: id, dtype: int64"
      ]
     },
     "execution_count": 84,
     "metadata": {},
     "output_type": "execute_result"
    }
   ],
   "source": [
    "c.result"
   ]
  },
  {
   "cell_type": "code",
   "execution_count": 87,
   "id": "4319a4cb",
   "metadata": {},
   "outputs": [
    {
     "name": "stdout",
     "output_type": "stream",
     "text": [
      "Pontal Centro da Praia\n",
      "No data for this station\n",
      "Paraty-Mirim Centro da Praia\n",
      "No data for this station\n",
      "Jabaquara Em frente à Estrada para Caboclo\n",
      "No data for this station\n",
      "Tarituba Centro da Praia a Esquerda do Píer\n",
      "No data for this station\n",
      "Prainha de Mambucaba Centro da Praia\n",
      "No data for this station\n",
      "Praia Grande de Corumbê Centro da Praia\n",
      "No data for this station\n",
      "Praia do Meio (Trindade) Centro da Praia\n",
      "No data for this station\n",
      "Cepilho Centro da Praia\n",
      "No data for this station\n",
      "Ponta Negra Lado esquerdo da praia\n",
      "No data for this station\n",
      "Itaipuaçu Em frente a Avenida XV de Novembro\n",
      "No data for this station\n",
      "Itaipuaçu Em frente a Avenida Dois\n",
      "No data for this station\n",
      "Maricá Em frente à Rua Cinco (Loteamento)\n",
      "No data for this station\n",
      "Conceição de Jacareí Em frente à Rua Wanderley do Nascimento Simões\n",
      "No data for this station\n",
      "Conceição de Jacareí Em frente à Igreja de Santo Antônio\n",
      "No data for this station\n",
      "Conceição de Jacareí 100m à esquerda do Costão Rochoso ou 50m à direita da foz do canal\n",
      "No data for this station\n",
      "Mangaratiba Em frente ao Coreto da Praça Roberto Simões\n",
      "No data for this station\n",
      "Saco Em frente à Rua São João Marcos com a Rua Rio de Janeiro\n",
      "No data for this station\n",
      "Saco Em frente ao CIEP Brizolão Cândido Jorge Capixaba\n",
      "No data for this station\n",
      "Ibicuí Em frente à Rua Paulo de Frontin\n",
      "No data for this station\n",
      "Ibicuí Em frente ao n° 400, ao lado da pedra\n",
      "No data for this station\n",
      "Grande Canto direito da praia ou em frente à primeira entrada para a praia\n",
      "No data for this station\n",
      "Grande Em frente ao campo de futebol\n",
      "No data for this station\n",
      "Muriqui Ao lado do Iate Clube de Muriqui\n",
      "No data for this station\n",
      "Muriqui Canto esquerdo da praia\n",
      "No data for this station\n",
      "Muriqui Em frente à Rua Espírito Santo\n",
      "No data for this station\n",
      "Muriqui Em frente à Rua 5 de julho\n",
      "No data for this station\n",
      "Itacuruça Em frente ao n° 233\n",
      "No data for this station\n",
      "Itacuruça Em frente ao quiosque\n",
      "No data for this station\n",
      "Itacuruça Em frente à Capitania dos Portos ou ao lado esquerdo do píer\n",
      "No data for this station\n",
      "Coroa Grande Em frente à Rua Santa Tereza ou ao lado direito do píer\n",
      "No data for this station\n",
      "Coroa Grande Em frente ao n° 1065; do lado esquerdo do canal\n",
      "No data for this station\n",
      "Coroa Grande Em frente ao n° 2061; do lado direito do canal\n",
      "No data for this station\n",
      "Arpoador Canto esquerdo da praia\n",
      "dados alimentados\n",
      "Barra da Tijuca Em frente à Avenida Ayrton Senna\n",
      "dados alimentados\n",
      "Barra da Tijuca Em frente ao Riviera Country Club\n",
      "dados alimentados\n",
      "Barra da Tijuca Em frente ao 2º GBM (Bombeiros)\n",
      "No data for this station\n",
      "Barra da Tijuca Quebra-Mar - Em frente à Rua Sargento João de Faria\n",
      "dados alimentados\n",
      "Barra de Guaratiba Em frente à Escola Ana Neri\n",
      "dados alimentados\n",
      "Botafogo Em frente à Rua Marquês de Olinda\n",
      "dados alimentados\n",
      "Botafogo Em frente à comporta de Botafogo\n",
      "dados alimentados\n",
      "Copacabana Em frente à Rua Francisco Otaviano\n",
      "dados alimentados\n",
      "Copacabana Em frente à Rua Souza Lima\n",
      "dados alimentados\n",
      "Copacabana Em frente à Rua Santa Clara\n",
      "dados alimentados\n",
      "Copacabana Em frente à Rua República do Peru\n",
      "dados alimentados\n",
      "Diabo Centro da praia\n",
      "dados alimentados\n",
      "Flamengo Foz do rio Carioca\n",
      "dados alimentados\n",
      "Flamengo Em frente à Rua Corrêa Dutra\n",
      "dados alimentados\n",
      "Grumari Canto direito da praia\n",
      "dados alimentados\n",
      "Grumari Centro da praia\n",
      "dados alimentados\n",
      "Ipanema Em frente à Rua Paul Redefern\n",
      "dados alimentados\n",
      "Ipanema Em frente à Rua Garcia D'Ávila\n",
      "dados alimentados\n",
      "Ipanema Em frente à Rua Joana Angélica\n",
      "dados alimentados\n",
      "Joatinga Centro da praia\n",
      "dados alimentados\n",
      "Leblon Em frente à Rua Rita Ludolf\n",
      "dados alimentados\n",
      "Leblon Em frente à Rua Bartolomeu Mitre\n",
      "dados alimentados\n",
      "Leblon Em frente à Rua Afrânio de Melo Franco\n",
      "dados alimentados\n",
      "Leme Em frente à Rua Aurelino Leal\n",
      "dados alimentados\n",
      "Pepino Em frente à Avenida Princesa Diana de Galles\n",
      "dados alimentados\n",
      "Pontal de Sernambetiba Em frente ao canal de Sernambetiba\n",
      "dados alimentados\n",
      "Pontal de Sernambetiba Em frente ao nº 6.287 da Estrada do Pontal\n",
      "dados alimentados\n",
      "Prainha Centro da praia\n",
      "dados alimentados\n",
      "Recreio Em frente à Rua Manuel Jorge Lydia\n",
      "dados alimentados\n",
      "Recreio Canto direito da Reserva Biológica de Marapendi\n",
      "dados alimentados\n",
      "Recreio Canto esquerdo da Reserva Biológica de Marapendi\n",
      "dados alimentados\n",
      "São Conrado Em frente ao nº 220 da Avenida Prefeito Mendes de Morais\n",
      "dados alimentados\n",
      "São Conrado Canto esquerdo da praia, próximo ao costão rochoso\n",
      "dados alimentados\n",
      "Urca Centro da praia\n",
      "dados alimentados\n",
      "Vermelha Centro da praia\n",
      "dados alimentados\n",
      "Vidigal Centro da praia\n",
      "dados alimentados\n",
      "Imbuca Em frente à Rua Frei Leopoldo\n",
      "dados alimentados\n",
      "Ribeira À esquerda do Farol de Paquetá\n",
      "dados alimentados\n",
      "Grossa Em frente à Igreja Matriz de Paquetá\n",
      "dados alimentados\n",
      "Tamoios À esquerda da Ladeira do Vicente\n",
      "dados alimentados\n",
      "Catimbau Em frente à Travessa Dois Irmãos n° 195\n",
      "dados alimentados\n",
      "J. Bonifácio Em frente à ETE Paquetá CEDAE\n",
      "dados alimentados\n",
      "Adão Centro da praia\n",
      "dados alimentados\n",
      "Boa Viagem Centro da praia\n",
      "dados alimentados\n",
      "Camboinhas Centro da praia\n",
      "dados alimentados\n",
      "Camboinhas À 100m do Canal da Lagoa de Itaipu\n",
      "dados alimentados\n",
      "Charitas Em frente à Avenida Quintino Bocaiúva n° 355\n",
      "dados alimentados\n",
      "Charitas Em frente à Travessa Santa Cândida\n",
      "dados alimentados\n",
      "Charitas Lado direito do Clube Naval de Charitas\n",
      "dados alimentados\n",
      "Eva Centro da praia\n",
      "dados alimentados\n",
      "Flechas Em frente à Rua Nilo Peçanha\n",
      "dados alimentados\n",
      "Flechas Em frente à Rua Praia de Icaraí n° 163\n",
      "dados alimentados\n",
      "Gragoatá Centro da praia\n",
      "dados alimentados\n",
      "Icaraí À esquerda da Pedra de Itapuca\n",
      "dados alimentados\n",
      "Icaraí Em frente à Praça Getúlio Vargas\n",
      "dados alimentados\n",
      "Icaraí Em frente à Rua Otávio Carneiro\n",
      "dados alimentados\n",
      "Icaraí Em frente à Rua Mariz e Barros\n",
      "dados alimentados\n",
      "Itacoatiara Em frente à Rua das Azaléias\n",
      "dados alimentados\n",
      "Itacoatiara Em frente à Rua das Papoulas\n",
      "dados alimentados\n",
      "Itaipu Em frente ao Restaurante Varandão\n",
      "dados alimentados\n",
      "Itaipu Em frente à Praia de Itaipú n° 21\n",
      "dados alimentados\n",
      "Jurujuba Saída da Alameda Mal.Pessoa Leal na Av.Carlos Ermelindo Martins, 1565\n",
      "dados alimentados\n",
      "Jurujuba Em frente à Avenida Carlos Ermelindo Marins n° 1935\n",
      "dados alimentados\n",
      "Piratininga Em frente à Avenida Doutor Acúrcio Torres\n",
      "dados alimentados\n",
      "Piratininga Em frente à Rua General Rubens Rosado Teixeira\n",
      "dados alimentados\n",
      "Piratininga Em frente à Rua Orestes Barbosa\n",
      "dados alimentados\n",
      "Piratininga Em frente à Rua João Gomes da Silva\n",
      "dados alimentados\n",
      "São Francisco Em frente à Rua Caraíbas\n",
      "dados alimentados\n",
      "São Francisco Em frente à Avenida Quintino Bocaiúva n° 233\n",
      "dados alimentados\n",
      "São Francisco Em frente à Igreja São Francisco\n",
      "dados alimentados\n",
      "Itaúna Em frente à Rua das Graças\n",
      "No data for this station\n",
      "Itaúna Em frente à Avenida Vila Mar\n",
      "No data for this station\n",
      "Saquarema Em frente à Rua Rui Barbosa\n",
      "No data for this station\n",
      "Boqueirão Em frente à Rua Professor Walquiades de Souza Lima\n",
      "No data for this station\n",
      "Gravatá Em frente à Rua Noventa e Seis\n",
      "No data for this station\n",
      "Lagoa de Itaúna Em frente ao Nº 290\n",
      "No data for this station\n",
      "Lagoa do Boqueirão Em frente à Rua Albertino Almeida Vasconcelos\n",
      "No data for this station\n",
      "Lagoa de Saquarema Em frente à Praça Nossa Senhora de Nazareth\n",
      "No data for this station\n",
      "Lagoa de Saquarema Em frente à Rua Sagasfredo O Bravo\n",
      "No data for this station\n",
      "Seca (Lagoa) Em frente ao Romeu's Restaurante\n",
      "No data for this station\n",
      "Nobres Centro da Praia\n",
      "No data for this station\n",
      "Hospício Em frente ao nº 1700\n",
      "No data for this station\n",
      "Areal Em frente à Rua Copacabana\n",
      "No data for this station\n",
      "Areal Em frente à Rua Gama\n",
      "No data for this station\n",
      "Areal Em frente à Rua dos Flamboyans\n",
      "No data for this station\n",
      "Centro Em frente à Rua México\n",
      "No data for this station\n",
      "Centro Em frente ao quiosque Beliscão\n",
      "No data for this station\n",
      "Centro Em frente à Rua Honduras\n",
      "No data for this station\n",
      "Pontinha Em frente ao nº 777\n",
      "No data for this station\n",
      "Pontinha Em frente ao kitepoint, próximo ao Clube Náutico\n",
      "No data for this station\n",
      "Amores Em frente ao quiosque Lual\n",
      "No data for this station\n",
      "Coqueiral Em frente ao nº 1135\n",
      "No data for this station\n",
      "Barbudo Ao lado da saída do Canal do Itajurú\n",
      "No data for this station\n",
      "Barbudo Ao lado direito do quiosque do Barbudo\n",
      "No data for this station\n",
      "Barbudo Em frente as quadras poliesportivas\n",
      "No data for this station\n",
      "Iguabinha Em frente ao nº 698\n",
      "No data for this station\n",
      "Iguabinha Em frente à Rua Tupi\n",
      "No data for this station\n",
      "Iguabinha Em frente à Rua Washington Luiz\n",
      "No data for this station\n",
      "Gavião Em frente à Rua Senzala Hotel\n",
      "No data for this station\n",
      "Bananeiras Em frente ao nº 101\n",
      "No data for this station\n",
      "Iguaba Grande Em frente à Rua Bolívia\n",
      "No data for this station\n",
      "Iguaba Grande À direita da Rua Santa Tereza, próximo ao antigo pier\n",
      "No data for this station\n",
      "Iguaba Grande Em frente à Rodovia Amaral Peixoto n° 1656\n",
      "No data for this station\n",
      "Iguaba Grande Em frente à Estrada da Capivara\n",
      "No data for this station\n",
      "Iguaba Grande Em frente à Rua das Hortências\n",
      "No data for this station\n",
      "Linda Em frente à Rua Tadeu Neto\n",
      "No data for this station\n",
      "Centro Em frente ao trevo e ao Posto Ipiranga\n",
      "No data for this station\n",
      "Centro Em frente à Praça Hermógemes Freire da Costa\n",
      "No data for this station\n",
      "Pitória Em frente à Praia da Pitória n° 1001\n",
      "No data for this station\n",
      "Sol Em frente à Rua dos Nacaratos\n",
      "No data for this station\n",
      "Sudoeste Em frente à Estrada do Boqueirão Sudoeste\n",
      "No data for this station\n",
      "Balneário Em frente à Rua Professor Brandão Filho\n",
      "No data for this station\n",
      "Ponta da Areia Em frente à Rua Alzira Barreto\n",
      "No data for this station\n",
      "Porto d' Aldeia Em frente à Rua Henrique Monteiro\n",
      "No data for this station\n",
      "Siqueira Em frente à Rua Luiz Feliciano Cardoso nº 171\n",
      "No data for this station\n",
      "Forte Em frente a Secretaria do Turismo\n",
      "No data for this station\n",
      "Forte Em frente ao Hotel Malibu\n",
      "No data for this station\n",
      "Forte Á direita da Praça do Forte\n",
      "No data for this station\n",
      "Passagem Em frente da Pousada Recanto da Passagem\n",
      "No data for this station\n",
      "Conchas Centro da praia\n",
      "No data for this station\n",
      "Peró Em frente ao Nº 101\n",
      "No data for this station\n",
      "Palmeiras Ao lado do Quiosque Azul\n",
      "No data for this station\n",
      "Foguete Em frente a Avenida dos Planetas, ao lado direitro do Clube Militar\n",
      "No data for this station\n",
      "Monte Alto Atrás Escola Munic. Monte Alto\n",
      "No data for this station\n",
      "Pontal Ao lado esquerdo da Colônia de Pescadores\n",
      "No data for this station\n",
      "Praia Grande Em frente ao Pancho Loco\n",
      "No data for this station\n",
      "Anjos Canal da Avenida Liberdade\n",
      "No data for this station\n",
      "Anjos Em frente a Igreja\n",
      "No data for this station\n",
      "Prainha Em frente ao Quiosque Tia Matilde\n",
      "No data for this station\n",
      "Figueira Em frente ao campo de futebol\n",
      "No data for this station\n",
      "Rasa Em frente à Avenida José Bento Ribeiro Dantas\n",
      "No data for this station\n",
      "Rasa Em frente ao Kite Surfe\n",
      "No data for this station\n",
      "Tucuns Em frente ao Igloos Tucuns\n",
      "No data for this station\n",
      "Manguinhos Em frente à Rua Rancho Grande\n",
      "No data for this station\n",
      "Geribá Em frente à Rua Vieira Câmara\n",
      "No data for this station\n",
      "Canto Em frente à Travessa dos Pescadores, ao lado direito do pier\n",
      "No data for this station\n",
      "Armação Em frente à Avenida José Bento Ribeiro Dantas n° 944\n",
      "No data for this station\n",
      "Ossos Em frente à Travessa Cassiano Rodrigues\n",
      "No data for this station\n",
      "Azeda Centro da praia\n",
      "No data for this station\n",
      "João Fernandes Em frente à Rua de Entrada para a Praia de João Fernandes\n",
      "No data for this station\n",
      "Brava Em frente à Rua de Entrada para a Praia Brava\n",
      "No data for this station\n",
      "Forno Em frente à Rua de Entrada para a Praia do Forno\n",
      "No data for this station\n",
      "Ferradura Lado esquerdo da praia, próximo à Pousada Ferradura Beach\n",
      "No data for this station\n",
      "Tartaruga Em frente à Rua de Entrada para a Praia da Tartaruga\n",
      "No data for this station\n",
      "Praião Em frente à Rua Almirante Damandaré\n",
      "No data for this station\n",
      "Praião Em frente à Rua Wellington Borges\n",
      "No data for this station\n",
      "Praião Em frente à Rua Desembargador Margarino Torres\n",
      "No data for this station\n",
      "Prainha Prainha, desembocadura rio São João, margem esquerda\n",
      "No data for this station\n",
      "Unamar Residencial Viva Mar, em frente à 2ª entrada do Condomínio Orla\n",
      "No data for this station\n",
      "Unamar Em frente à Avenida B - Espaço Cultural\n",
      "No data for this station\n",
      "Unamar Em frente à Rua Tatuí - Hospital de Tamoios\n",
      "No data for this station\n",
      "Pontal Ao lado da Colônia de Pescadores\n",
      "No data for this station\n",
      "Tartarugas Em frente à Rua Jequitibá\n",
      "No data for this station\n",
      "Tartarugas Em frente à Rua Figueira\n",
      "No data for this station\n",
      "Centro Em frente à Avenida Estado do Amazonas\n",
      "No data for this station\n",
      "Centro Em frente à Rua Bento Costa Junior\n",
      "No data for this station\n",
      "Cemitério Em frente à Rua da Prata\n",
      "No data for this station\n",
      "Cemitério Em frente à Rua Boca da Barra n° 248\n",
      "No data for this station\n",
      "Joana Em frente à Rua Maria Amália\n",
      "No data for this station\n",
      "Areia Negra À esquerda da Rua Amaral, próximo às pedras\n",
      "No data for this station\n",
      "Remanso Canto direito da praia, próximo ao mirante\n",
      "No data for this station\n",
      "Costazul Em frente à Rua Servidão\n",
      "No data for this station\n",
      "Mar do Norte Em frente à Rua F\n",
      "No data for this station\n",
      "Lagoa da Coca-Cola Em frente à Rua Belém\n",
      "No data for this station\n",
      "Cavaleiros Em frente à Rua Punta Del Este\n",
      "No data for this station\n",
      "Campista Em frente à Avenida Atlântica n° 1622\n",
      "No data for this station\n",
      "Campista Em frente à Rua Robert F. Kennedy\n",
      "No data for this station\n",
      "Imbetiba Em frente à Avenida Elias Agostinho n° 500\n",
      "No data for this station\n",
      "Imbetiba Em frente à Rua do Sacramento\n",
      "No data for this station\n",
      "Forte Em frente à Rua Augusto de Carvalho\n",
      "No data for this station\n",
      "Barra Em frente à Avenida Luiz Lírio n° 253\n",
      "No data for this station\n",
      "Barra Em frente à Travessa Bento Barcelos\n",
      "No data for this station\n",
      "Pecado Em frete à Rua Ailton da Silva\n",
      "No data for this station\n",
      "Aeroporto Em frente à Rua Dr.Geraldo M.O.Pestallozi\n",
      "No data for this station\n",
      "Barreto Em frente à Rua Rotary Club\n",
      "No data for this station\n",
      "Lagomar Em frente à Avenida W Vinte e Quatro\n",
      "No data for this station\n",
      "Lagoa de Imboassica Próximo à Rua Anphilófilo Trindade\n",
      "No data for this station\n",
      "Farol de São Tomé Em frente a antiga torre de rádio\n",
      "No data for this station\n",
      "Farol de São Tomé Em frente ao Clube Náutico\n",
      "No data for this station\n",
      "Farol de São Tomé Em frente a Colônia de Pescadores\n",
      "No data for this station\n",
      "Farol de São Tomé Em frente ao camping\n",
      "No data for this station\n",
      "Farol de São Tomé Em frente ao Balneário Lagamar\n",
      "No data for this station\n",
      "Lagoa Lagamar Porto Jet-Ski\n",
      "No data for this station\n",
      "Lagoa Lagamar Em frente ao 2º quiosque\n",
      "No data for this station\n",
      "Lagoa Lagamar Em frente aos coqueiros\n",
      "No data for this station\n",
      "Grussaí Em frente a Rua da ponte da Lagoa de Grussaí\n",
      "No data for this station\n",
      "Grussaí Em frente à Lagoa de Grussaí\n",
      "No data for this station\n",
      "Grussaí Em frente a Rua do Sesc\n",
      "No data for this station\n",
      "Atafona Em frente ao nº 560\n",
      "No data for this station\n",
      "Atafona Em frente ao Espaço da Ciência\n",
      "No data for this station\n",
      "Atafona Em frente a caixa d'água da CEDAE\n",
      "No data for this station\n",
      "Lagoa de Grussaí Próximo a barra\n",
      "No data for this station\n",
      "Lagoa de Grussaí Passarela\n",
      "No data for this station\n",
      "Lagoa de Grussaí Ponte\n",
      "No data for this station\n",
      "Manguinhos Centro da Praia\n",
      "No data for this station\n",
      "Guaxindiba Em frente ao Bar Tubarão\n",
      "No data for this station\n",
      "Sossego Em frente à Rua Principal\n",
      "No data for this station\n",
      "Tropical Em frente a Associação Óticas Precisão\n",
      "No data for this station\n",
      "Itaperuna Em frente ao Hotel Mineirão\n",
      "No data for this station\n",
      "Sonho Em frente à Rua Rio de Janeiro\n",
      "No data for this station\n",
      "Gargaú Em frente a terceira torre de transmissão\n",
      "No data for this station\n",
      "Bonfim Próximo ao Pier\n",
      "No data for this station\n",
      "Praia Grande Em frente à Casa da Praia Grande entre Cais e o Iate Clube\n",
      "No data for this station\n",
      "Praia Grande Próximo à Pousada Comando Geral.\n",
      "No data for this station\n",
      "Jacuecanga Próximo ao final da praia\n",
      "No data for this station\n",
      "Brava Vila Residencial - Centro da Praia\n",
      "No data for this station\n",
      "Mambucaba Em frente à Igreja N.S.Rosário\n",
      "No data for this station\n",
      "Gordas Diante do cais\n",
      "No data for this station\n",
      "Costeirinha Em frente à Placa de ínicio do Colégio naval\n",
      "No data for this station\n",
      "Enseada Centro da praia (Próximo ao Pier)\n",
      "No data for this station\n",
      "Frade Em frente à Escola reunidas Dias Lima\n",
      "No data for this station\n",
      "Garatucaia Centro da Praia\n",
      "No data for this station\n",
      "Retiro Centro da praia\n",
      "No data for this station\n",
      "Éguas Centro da praia\n",
      "No data for this station\n",
      "Bexiga Centro da praia\n",
      "No data for this station\n",
      "Itinga Centro da praia\n",
      "No data for this station\n",
      "Biscaia Avenida Antônio Bertholdo da Silva Josrdão\n",
      "No data for this station\n",
      "Figueira Avenida Vereador Benedito Adelino\n",
      "No data for this station\n",
      "Laboratório Centro da Praia\n",
      "No data for this station\n",
      "Vermelha Lado direito da praia\n",
      "No data for this station\n"
     ]
    }
   ],
   "source": [
    "c.get()"
   ]
  },
  {
   "cell_type": "code",
   "execution_count": null,
   "id": "fe12eb6b",
   "metadata": {},
   "outputs": [],
   "source": []
  }
 ],
 "metadata": {
  "kernelspec": {
   "display_name": "Python 3 (ipykernel)",
   "language": "python",
   "name": "python3"
  },
  "language_info": {
   "codemirror_mode": {
    "name": "ipython",
    "version": 3
   },
   "file_extension": ".py",
   "mimetype": "text/x-python",
   "name": "python",
   "nbconvert_exporter": "python",
   "pygments_lexer": "ipython3",
   "version": "3.8.12"
  },
  "toc": {
   "base_numbering": 1,
   "nav_menu": {},
   "number_sections": true,
   "sideBar": true,
   "skip_h1_title": false,
   "title_cell": "Table of Contents",
   "title_sidebar": "Contents",
   "toc_cell": false,
   "toc_position": {},
   "toc_section_display": true,
   "toc_window_display": false
  }
 },
 "nbformat": 4,
 "nbformat_minor": 5
}
