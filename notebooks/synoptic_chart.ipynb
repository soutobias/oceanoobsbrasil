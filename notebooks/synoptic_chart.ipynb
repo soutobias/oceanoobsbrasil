{
 "cells": [
  {
   "cell_type": "code",
   "execution_count": 1,
   "id": "agricultural-newark",
   "metadata": {},
   "outputs": [],
   "source": [
    "\"\"\"\n",
    "Created on Tue Feb 12 23:34:44 2019\n",
    "@author: tobia\n",
    "\"\"\"\n",
    "import time\n",
    "import datetime\n",
    "import urllib.request, json\n",
    "\n",
    "import numpy as np\n",
    "\n",
    "import pandas as pd\n",
    "from datetime import datetime, timedelta\n",
    "from oceanoobsbrasil.db import GetData\n",
    "\n",
    "from dotenv import load_dotenv\n",
    "import os\n",
    "import requests\n"
   ]
  },
  {
   "cell_type": "code",
   "execution_count": 2,
   "id": "66f873e2",
   "metadata": {},
   "outputs": [],
   "source": [
    "from PIL import Image\n",
    "import requests\n",
    "from io import BytesIO\n",
    "import numpy as np\n",
    "import pandas as pd\n",
    "import cloudinary\n",
    "import cloudinary.uploader\n",
    "import cloudinary.api\n",
    "\n",
    "from cloudinary.api import delete_resources_by_tag, resources_by_tag\n",
    "from cloudinary.uploader import upload\n",
    "from cloudinary.utils import cloudinary_url"
   ]
  },
  {
   "cell_type": "code",
   "execution_count": 3,
   "id": "ce306398",
   "metadata": {},
   "outputs": [],
   "source": [
    "%load_ext autoreload\n",
    "%autoreload 2\n",
    "from oceanoobsbrasil.others.synoptic_charts import SynopticChart"
   ]
  },
  {
   "cell_type": "code",
   "execution_count": 4,
   "id": "d82ff727",
   "metadata": {},
   "outputs": [],
   "source": [
    "import asyncio\n",
    "import sys\n",
    "\n",
    "import pyimgbox"
   ]
  },
  {
   "cell_type": "code",
   "execution_count": 8,
   "id": "e4bb4b16",
   "metadata": {},
   "outputs": [],
   "source": [
    "def example1(filepaths):\n",
    "    with pyimgbox.Gallery(title=\"Hello, World!\") as gallery:\n",
    "        for submission in gallery.add(filepaths):\n",
    "            if not submission['success']:\n",
    "                print(f\"{submission['filename']}: {submission['error']}\")\n",
    "            else:\n",
    "                print(submission)"
   ]
  },
  {
   "cell_type": "code",
   "execution_count": 12,
   "id": "0e33d6fa",
   "metadata": {},
   "outputs": [
    {
     "name": "stdout",
     "output_type": "stream",
     "text": [
      "22090300.png\t     chm.ipynb\t\t     pirata.ipynb\r\n",
      "22090312.png\t     drifters_gdp.ipynb      pnboia.ipynb\r\n",
      "22090400.png\t     epagri.ipynb\t     post_cleaning_stations.ipynb\r\n",
      "22090412.png\t     es_buoy.ipynb\t     se_buoy.ipynb\r\n",
      "22090500.png\t     gloss.ipynb\t     simcosta-Copy1.ipynb\r\n",
      "22090600.png\t     inmet.ipynb\t     simcosta.ipynb\r\n",
      "22090612.png\t     metar.ipynb\t     spotter.ipynb\r\n",
      "22090700.png\t     metop.ipynb\t     synoptic_chart.ipynb\r\n",
      "22090712.png\t     models.ipynb\t     tide_ebn.ipynb\r\n",
      "22090800.png\t     model_wave.ipynb\t     tide_hydrometcurua.ipynb\r\n",
      "22090812.png\t     mur.ipynb\t\t     tide_santos.ipynb\r\n",
      "22090900.png\t     ndbc.ipynb\t\t     windguru.ipynb\r\n",
      "altimeter.ipynb      observation_data.ipynb\r\n",
      "aqualink_buoy.ipynb  pe_buoy.ipynb\r\n"
     ]
    }
   ],
   "source": [
    "!ls"
   ]
  },
  {
   "cell_type": "code",
   "execution_count": 10,
   "id": "e5134738",
   "metadata": {},
   "outputs": [
    {
     "name": "stdout",
     "output_type": "stream",
     "text": [
      "Submission(success=True, filepath='images/22090900.png', filename='22090900.png', image_url='https://images2.imgbox.com/e6/d5/7oXKy5go_o.png', thumbnail_url='https://thumbs2.imgbox.com/e6/d5/7oXKy5go_t.png', web_url='https://imgbox.com/7oXKy5go', gallery_url='https://imgbox.com/g/uS7m2zJhL9', edit_url='https://imgbox.com/upload/edit/776970771/Zow5P2zNoivxgIth')\n"
     ]
    }
   ],
   "source": [
    "async with pyimgbox.Gallery(title=\"Hello, World!\") as gallery:\n",
    "    async for submission in gallery.add(['images/22090900.png']):\n",
    "        print(submission)\n",
    "        x = submission"
   ]
  },
  {
   "cell_type": "code",
   "execution_count": 16,
   "id": "a1114b28",
   "metadata": {},
   "outputs": [],
   "source": [
    "x = pyimgbox.Gallery(title=\"Hello, World!\").add(['images/22090900.png'])"
   ]
  },
  {
   "cell_type": "code",
   "execution_count": 17,
   "id": "3a790028",
   "metadata": {},
   "outputs": [
    {
     "name": "stdout",
     "output_type": "stream",
     "text": [
      "<async_generator object Gallery.add at 0x7fc239e4ca60>\n"
     ]
    }
   ],
   "source": []
  },
  {
   "cell_type": "code",
   "execution_count": 25,
   "id": "ff7ade52",
   "metadata": {},
   "outputs": [],
   "source": [
    "dic = {'file_name': name, 'image_url': x.image_url}"
   ]
  },
  {
   "cell_type": "code",
   "execution_count": 27,
   "id": "f9f75041",
   "metadata": {},
   "outputs": [
    {
     "data": {
      "text/html": [
       "<div>\n",
       "<style scoped>\n",
       "    .dataframe tbody tr th:only-of-type {\n",
       "        vertical-align: middle;\n",
       "    }\n",
       "\n",
       "    .dataframe tbody tr th {\n",
       "        vertical-align: top;\n",
       "    }\n",
       "\n",
       "    .dataframe thead th {\n",
       "        text-align: right;\n",
       "    }\n",
       "</style>\n",
       "<table border=\"1\" class=\"dataframe\">\n",
       "  <thead>\n",
       "    <tr style=\"text-align: right;\">\n",
       "      <th></th>\n",
       "      <th>file_name</th>\n",
       "      <th>image_url</th>\n",
       "    </tr>\n",
       "  </thead>\n",
       "  <tbody>\n",
       "    <tr>\n",
       "      <th>0</th>\n",
       "      <td>22090900.png</td>\n",
       "      <td>https://images2.imgbox.com/ce/e6/CuRfw5vC_o.png</td>\n",
       "    </tr>\n",
       "  </tbody>\n",
       "</table>\n",
       "</div>"
      ],
      "text/plain": [
       "      file_name                                        image_url\n",
       "0  22090900.png  https://images2.imgbox.com/ce/e6/CuRfw5vC_o.png"
      ]
     },
     "execution_count": 27,
     "metadata": {},
     "output_type": "execute_result"
    }
   ],
   "source": [
    "pd.DataFrame([dic])"
   ]
  },
  {
   "cell_type": "code",
   "execution_count": 9,
   "id": "72d91df3",
   "metadata": {},
   "outputs": [
    {
     "ename": "AttributeError",
     "evalue": "__enter__",
     "output_type": "error",
     "traceback": [
      "\u001b[0;31m---------------------------------------------------------------------------\u001b[0m",
      "\u001b[0;31mAttributeError\u001b[0m                            Traceback (most recent call last)",
      "Input \u001b[0;32mIn [9]\u001b[0m, in \u001b[0;36m<cell line: 1>\u001b[0;34m()\u001b[0m\n\u001b[0;32m----> 1\u001b[0m \u001b[43mexample1\u001b[49m\u001b[43m(\u001b[49m\u001b[38;5;124;43m'\u001b[39;49m\u001b[38;5;124;43m22090900.png\u001b[39;49m\u001b[38;5;124;43m'\u001b[39;49m\u001b[43m)\u001b[49m\n",
      "Input \u001b[0;32mIn [8]\u001b[0m, in \u001b[0;36mexample1\u001b[0;34m(filepaths)\u001b[0m\n\u001b[1;32m      1\u001b[0m \u001b[38;5;28;01mdef\u001b[39;00m \u001b[38;5;21mexample1\u001b[39m(filepaths):\n\u001b[0;32m----> 2\u001b[0m     \u001b[38;5;28;01mwith\u001b[39;00m pyimgbox\u001b[38;5;241m.\u001b[39mGallery(title\u001b[38;5;241m=\u001b[39m\u001b[38;5;124m\"\u001b[39m\u001b[38;5;124mHello, World!\u001b[39m\u001b[38;5;124m\"\u001b[39m) \u001b[38;5;28;01mas\u001b[39;00m gallery:\n\u001b[1;32m      3\u001b[0m         \u001b[38;5;28;01mfor\u001b[39;00m submission \u001b[38;5;129;01min\u001b[39;00m gallery\u001b[38;5;241m.\u001b[39madd(filepaths):\n\u001b[1;32m      4\u001b[0m             \u001b[38;5;28;01mif\u001b[39;00m \u001b[38;5;129;01mnot\u001b[39;00m submission[\u001b[38;5;124m'\u001b[39m\u001b[38;5;124msuccess\u001b[39m\u001b[38;5;124m'\u001b[39m]:\n",
      "\u001b[0;31mAttributeError\u001b[0m: __enter__"
     ]
    }
   ],
   "source": [
    "example1('22090900.png')"
   ]
  },
  {
   "cell_type": "code",
   "execution_count": 5,
   "id": "e9e36086",
   "metadata": {},
   "outputs": [],
   "source": [
    "s = SynopticChart()"
   ]
  },
  {
   "cell_type": "code",
   "execution_count": 6,
   "id": "19d37c00",
   "metadata": {},
   "outputs": [
    {
     "name": "stdout",
     "output_type": "stream",
     "text": [
      "22110200\n"
     ]
    },
    {
     "name": "stderr",
     "output_type": "stream",
     "text": [
      "/home/soutobias/.pyenv/versions/3.8.12/envs/oceanobs1/lib/python3.8/site-packages/urllib3/connectionpool.py:1045: InsecureRequestWarning: Unverified HTTPS request is being made to host 'www.marinha.mil.br'. Adding certificate verification is strongly advised. See: https://urllib3.readthedocs.io/en/1.26.x/advanced-usage.html#ssl-warnings\n",
      "  warnings.warn(\n"
     ]
    },
    {
     "name": "stdout",
     "output_type": "stream",
     "text": [
      "22110212\n"
     ]
    },
    {
     "name": "stderr",
     "output_type": "stream",
     "text": [
      "/home/soutobias/.pyenv/versions/3.8.12/envs/oceanobs1/lib/python3.8/site-packages/urllib3/connectionpool.py:1045: InsecureRequestWarning: Unverified HTTPS request is being made to host 'www.marinha.mil.br'. Adding certificate verification is strongly advised. See: https://urllib3.readthedocs.io/en/1.26.x/advanced-usage.html#ssl-warnings\n",
      "  warnings.warn(\n"
     ]
    },
    {
     "name": "stdout",
     "output_type": "stream",
     "text": [
      "cannot identify image file <_io.BytesIO object at 0x7ff926b233b0>\n",
      "22110100\n"
     ]
    },
    {
     "name": "stderr",
     "output_type": "stream",
     "text": [
      "/home/soutobias/.pyenv/versions/3.8.12/envs/oceanobs1/lib/python3.8/site-packages/urllib3/connectionpool.py:1045: InsecureRequestWarning: Unverified HTTPS request is being made to host 'www.marinha.mil.br'. Adding certificate verification is strongly advised. See: https://urllib3.readthedocs.io/en/1.26.x/advanced-usage.html#ssl-warnings\n",
      "  warnings.warn(\n"
     ]
    },
    {
     "name": "stdout",
     "output_type": "stream",
     "text": [
      "22110112\n"
     ]
    },
    {
     "name": "stderr",
     "output_type": "stream",
     "text": [
      "/home/soutobias/.pyenv/versions/3.8.12/envs/oceanobs1/lib/python3.8/site-packages/urllib3/connectionpool.py:1045: InsecureRequestWarning: Unverified HTTPS request is being made to host 'www.marinha.mil.br'. Adding certificate verification is strongly advised. See: https://urllib3.readthedocs.io/en/1.26.x/advanced-usage.html#ssl-warnings\n",
      "  warnings.warn(\n"
     ]
    },
    {
     "name": "stdout",
     "output_type": "stream",
     "text": [
      "22103100\n"
     ]
    },
    {
     "name": "stderr",
     "output_type": "stream",
     "text": [
      "/home/soutobias/.pyenv/versions/3.8.12/envs/oceanobs1/lib/python3.8/site-packages/urllib3/connectionpool.py:1045: InsecureRequestWarning: Unverified HTTPS request is being made to host 'www.marinha.mil.br'. Adding certificate verification is strongly advised. See: https://urllib3.readthedocs.io/en/1.26.x/advanced-usage.html#ssl-warnings\n",
      "  warnings.warn(\n"
     ]
    },
    {
     "name": "stdout",
     "output_type": "stream",
     "text": [
      "22103112\n"
     ]
    },
    {
     "name": "stderr",
     "output_type": "stream",
     "text": [
      "/home/soutobias/.pyenv/versions/3.8.12/envs/oceanobs1/lib/python3.8/site-packages/urllib3/connectionpool.py:1045: InsecureRequestWarning: Unverified HTTPS request is being made to host 'www.marinha.mil.br'. Adding certificate verification is strongly advised. See: https://urllib3.readthedocs.io/en/1.26.x/advanced-usage.html#ssl-warnings\n",
      "  warnings.warn(\n"
     ]
    },
    {
     "name": "stdout",
     "output_type": "stream",
     "text": [
      "22103000\n"
     ]
    },
    {
     "name": "stderr",
     "output_type": "stream",
     "text": [
      "/home/soutobias/.pyenv/versions/3.8.12/envs/oceanobs1/lib/python3.8/site-packages/urllib3/connectionpool.py:1045: InsecureRequestWarning: Unverified HTTPS request is being made to host 'www.marinha.mil.br'. Adding certificate verification is strongly advised. See: https://urllib3.readthedocs.io/en/1.26.x/advanced-usage.html#ssl-warnings\n",
      "  warnings.warn(\n"
     ]
    },
    {
     "name": "stdout",
     "output_type": "stream",
     "text": [
      "22103012\n"
     ]
    },
    {
     "name": "stderr",
     "output_type": "stream",
     "text": [
      "/home/soutobias/.pyenv/versions/3.8.12/envs/oceanobs1/lib/python3.8/site-packages/urllib3/connectionpool.py:1045: InsecureRequestWarning: Unverified HTTPS request is being made to host 'www.marinha.mil.br'. Adding certificate verification is strongly advised. See: https://urllib3.readthedocs.io/en/1.26.x/advanced-usage.html#ssl-warnings\n",
      "  warnings.warn(\n"
     ]
    },
    {
     "name": "stdout",
     "output_type": "stream",
     "text": [
      "22102900\n"
     ]
    },
    {
     "name": "stderr",
     "output_type": "stream",
     "text": [
      "/home/soutobias/.pyenv/versions/3.8.12/envs/oceanobs1/lib/python3.8/site-packages/urllib3/connectionpool.py:1045: InsecureRequestWarning: Unverified HTTPS request is being made to host 'www.marinha.mil.br'. Adding certificate verification is strongly advised. See: https://urllib3.readthedocs.io/en/1.26.x/advanced-usage.html#ssl-warnings\n",
      "  warnings.warn(\n"
     ]
    },
    {
     "name": "stdout",
     "output_type": "stream",
     "text": [
      "22102912\n"
     ]
    },
    {
     "name": "stderr",
     "output_type": "stream",
     "text": [
      "/home/soutobias/.pyenv/versions/3.8.12/envs/oceanobs1/lib/python3.8/site-packages/urllib3/connectionpool.py:1045: InsecureRequestWarning: Unverified HTTPS request is being made to host 'www.marinha.mil.br'. Adding certificate verification is strongly advised. See: https://urllib3.readthedocs.io/en/1.26.x/advanced-usage.html#ssl-warnings\n",
      "  warnings.warn(\n"
     ]
    },
    {
     "name": "stdout",
     "output_type": "stream",
     "text": [
      "22102800\n"
     ]
    },
    {
     "name": "stderr",
     "output_type": "stream",
     "text": [
      "/home/soutobias/.pyenv/versions/3.8.12/envs/oceanobs1/lib/python3.8/site-packages/urllib3/connectionpool.py:1045: InsecureRequestWarning: Unverified HTTPS request is being made to host 'www.marinha.mil.br'. Adding certificate verification is strongly advised. See: https://urllib3.readthedocs.io/en/1.26.x/advanced-usage.html#ssl-warnings\n",
      "  warnings.warn(\n"
     ]
    },
    {
     "name": "stdout",
     "output_type": "stream",
     "text": [
      "22102812\n"
     ]
    },
    {
     "name": "stderr",
     "output_type": "stream",
     "text": [
      "/home/soutobias/.pyenv/versions/3.8.12/envs/oceanobs1/lib/python3.8/site-packages/urllib3/connectionpool.py:1045: InsecureRequestWarning: Unverified HTTPS request is being made to host 'www.marinha.mil.br'. Adding certificate verification is strongly advised. See: https://urllib3.readthedocs.io/en/1.26.x/advanced-usage.html#ssl-warnings\n",
      "  warnings.warn(\n"
     ]
    },
    {
     "name": "stdout",
     "output_type": "stream",
     "text": [
      "22102700\n"
     ]
    },
    {
     "name": "stderr",
     "output_type": "stream",
     "text": [
      "/home/soutobias/.pyenv/versions/3.8.12/envs/oceanobs1/lib/python3.8/site-packages/urllib3/connectionpool.py:1045: InsecureRequestWarning: Unverified HTTPS request is being made to host 'www.marinha.mil.br'. Adding certificate verification is strongly advised. See: https://urllib3.readthedocs.io/en/1.26.x/advanced-usage.html#ssl-warnings\n",
      "  warnings.warn(\n"
     ]
    },
    {
     "name": "stdout",
     "output_type": "stream",
     "text": [
      "22102712\n"
     ]
    },
    {
     "name": "stderr",
     "output_type": "stream",
     "text": [
      "/home/soutobias/.pyenv/versions/3.8.12/envs/oceanobs1/lib/python3.8/site-packages/urllib3/connectionpool.py:1045: InsecureRequestWarning: Unverified HTTPS request is being made to host 'www.marinha.mil.br'. Adding certificate verification is strongly advised. See: https://urllib3.readthedocs.io/en/1.26.x/advanced-usage.html#ssl-warnings\n",
      "  warnings.warn(\n"
     ]
    }
   ],
   "source": [
    "s.get()"
   ]
  },
  {
   "cell_type": "code",
   "execution_count": 172,
   "id": "6a78b8f4",
   "metadata": {},
   "outputs": [
    {
     "name": "stdout",
     "output_type": "stream",
     "text": [
      "22072400\n"
     ]
    }
   ],
   "source": [
    "name = datetime.strftime(datetime.now() - timedelta(days=1), format='%y%m%d'+'00')\n",
    "print(name)\n",
    "response = requests.get(f'{s.url}c{name}.png')\n",
    "img = Image.open(BytesIO(response.content))\n",
    "left = 26\n",
    "top = 222\n",
    "right = 1475\n",
    "bottom = 2154\n",
    "img = img.crop((left, top, right, bottom))\n",
    "img = img.convert('RGBA')\n",
    "img_np = np.array(img)\n",
    "df = pd.DataFrame(img_np.reshape(1932*1449, 4), columns=['red', 'green', 'blue', 'opacity'])"
   ]
  },
  {
   "cell_type": "code",
   "execution_count": 173,
   "id": "cc5fd152",
   "metadata": {},
   "outputs": [],
   "source": [
    "df.loc[((df['red']<220)&\n",
    "      (df['green']<220)&\n",
    "      (df['blue']<220)&\n",
    "      (df['red']>0)&\n",
    "      (df['green']>0)&\n",
    "      (df['blue']>0)&\n",
    "      (df['opacity']==255)), 'opacity'] = 0"
   ]
  },
  {
   "cell_type": "code",
   "execution_count": 174,
   "id": "9c9741fd",
   "metadata": {},
   "outputs": [],
   "source": [
    "df.loc[((df['red']==255)&(df['green']==255)&(df['blue']==255)&(df['opacity']==255)), 'opacity'] = 0\n",
    "x = (df['red']==0)&(df['green']==0)&(df['blue']==0)&(df['opacity']==255)\n",
    "df.loc[x, 'red'] = 255\n",
    "df.loc[x, 'green'] = 255\n",
    "df.loc[x, 'blue'] = 255\n",
    "df.loc[x, 'opacity'] = 255"
   ]
  },
  {
   "cell_type": "code",
   "execution_count": 177,
   "id": "ca8d00e7",
   "metadata": {},
   "outputs": [],
   "source": [
    "x = pd.DataFrame(np.array(df['opacity']).reshape(1932, 1449))\n",
    "x[(x!=0)&(x.diff()!=0)&(x.diff(periods=-1)!=0)&(x.diff(axis=1)!=0)&(x.diff(axis=1,periods=-1)!=0)&(x.notna())] = 0\n",
    "df['opacity'] = np.array(x).reshape(1932*1449)\n",
    "im = Image.fromarray(np.array(df).reshape(1932, 1449, 4))\n",
    "im.save(f'{name}.png')"
   ]
  },
  {
   "cell_type": "code",
   "execution_count": 176,
   "id": "c0dd0e89",
   "metadata": {},
   "outputs": [],
   "source": [
    "df['opacity'] = np.array(x).reshape(1932*1449)"
   ]
  },
  {
   "cell_type": "code",
   "execution_count": 121,
   "id": "109638b2",
   "metadata": {},
   "outputs": [],
   "source": [
    "df3 = df2!=0\n",
    "df4 = df2.diff()!=0\n",
    "df5 = df2[df2.diff(periods=-1)!=0]\n",
    "df6 = df2[df2.diff(axis=1)!=0]\n",
    "df7 = df2[df2.diff(axis=1, periods=-1)!=0]"
   ]
  },
  {
   "cell_type": "code",
   "execution_count": 162,
   "id": "5df2dcc2",
   "metadata": {},
   "outputs": [],
   "source": [
    "x = [[0,0,1,0,0],[0,0,1,0,0],[0,1,0,0,0],[0,1,0,0,0],[1,1,0,1,0],[0,0,0,0,0]] "
   ]
  },
  {
   "cell_type": "code",
   "execution_count": 163,
   "id": "eb7634f8",
   "metadata": {},
   "outputs": [
    {
     "data": {
      "text/html": [
       "<div>\n",
       "<style scoped>\n",
       "    .dataframe tbody tr th:only-of-type {\n",
       "        vertical-align: middle;\n",
       "    }\n",
       "\n",
       "    .dataframe tbody tr th {\n",
       "        vertical-align: top;\n",
       "    }\n",
       "\n",
       "    .dataframe thead th {\n",
       "        text-align: right;\n",
       "    }\n",
       "</style>\n",
       "<table border=\"1\" class=\"dataframe\">\n",
       "  <thead>\n",
       "    <tr style=\"text-align: right;\">\n",
       "      <th></th>\n",
       "      <th>0</th>\n",
       "      <th>1</th>\n",
       "      <th>2</th>\n",
       "      <th>3</th>\n",
       "      <th>4</th>\n",
       "    </tr>\n",
       "  </thead>\n",
       "  <tbody>\n",
       "    <tr>\n",
       "      <th>0</th>\n",
       "      <td>0</td>\n",
       "      <td>0</td>\n",
       "      <td>1</td>\n",
       "      <td>0</td>\n",
       "      <td>0</td>\n",
       "    </tr>\n",
       "    <tr>\n",
       "      <th>1</th>\n",
       "      <td>0</td>\n",
       "      <td>0</td>\n",
       "      <td>1</td>\n",
       "      <td>0</td>\n",
       "      <td>0</td>\n",
       "    </tr>\n",
       "    <tr>\n",
       "      <th>2</th>\n",
       "      <td>0</td>\n",
       "      <td>1</td>\n",
       "      <td>0</td>\n",
       "      <td>0</td>\n",
       "      <td>0</td>\n",
       "    </tr>\n",
       "    <tr>\n",
       "      <th>3</th>\n",
       "      <td>0</td>\n",
       "      <td>1</td>\n",
       "      <td>0</td>\n",
       "      <td>0</td>\n",
       "      <td>0</td>\n",
       "    </tr>\n",
       "    <tr>\n",
       "      <th>4</th>\n",
       "      <td>1</td>\n",
       "      <td>1</td>\n",
       "      <td>0</td>\n",
       "      <td>1</td>\n",
       "      <td>0</td>\n",
       "    </tr>\n",
       "    <tr>\n",
       "      <th>5</th>\n",
       "      <td>0</td>\n",
       "      <td>0</td>\n",
       "      <td>0</td>\n",
       "      <td>0</td>\n",
       "      <td>0</td>\n",
       "    </tr>\n",
       "  </tbody>\n",
       "</table>\n",
       "</div>"
      ],
      "text/plain": [
       "   0  1  2  3  4\n",
       "0  0  0  1  0  0\n",
       "1  0  0  1  0  0\n",
       "2  0  1  0  0  0\n",
       "3  0  1  0  0  0\n",
       "4  1  1  0  1  0\n",
       "5  0  0  0  0  0"
      ]
     },
     "execution_count": 163,
     "metadata": {},
     "output_type": "execute_result"
    }
   ],
   "source": [
    "x = pd.DataFrame(x)\n",
    "x"
   ]
  },
  {
   "cell_type": "code",
   "execution_count": 170,
   "id": "83e7c7e8",
   "metadata": {},
   "outputs": [],
   "source": [
    "s = SynopticChart()"
   ]
  },
  {
   "cell_type": "code",
   "execution_count": 171,
   "id": "833ffe1e",
   "metadata": {},
   "outputs": [
    {
     "name": "stdout",
     "output_type": "stream",
     "text": [
      "No images found\n",
      "22072500\n",
      "22072512\n",
      "no image found\n",
      "22072400\n",
      "22072412\n",
      "22072300\n",
      "22072312\n",
      "22072200\n",
      "22072212\n",
      "22072100\n",
      "22072112\n",
      "22072000\n",
      "22072012\n",
      "22071900\n",
      "22071912\n"
     ]
    }
   ],
   "source": [
    "s.get()"
   ]
  },
  {
   "cell_type": "code",
   "execution_count": null,
   "id": "21d78b44",
   "metadata": {},
   "outputs": [],
   "source": []
  }
 ],
 "metadata": {
  "kernelspec": {
   "display_name": "Python 3 (ipykernel)",
   "language": "python",
   "name": "python3"
  },
  "language_info": {
   "codemirror_mode": {
    "name": "ipython",
    "version": 3
   },
   "file_extension": ".py",
   "mimetype": "text/x-python",
   "name": "python",
   "nbconvert_exporter": "python",
   "pygments_lexer": "ipython3",
   "version": "3.8.12"
  },
  "toc": {
   "base_numbering": 1,
   "nav_menu": {},
   "number_sections": true,
   "sideBar": true,
   "skip_h1_title": false,
   "title_cell": "Table of Contents",
   "title_sidebar": "Contents",
   "toc_cell": false,
   "toc_position": {},
   "toc_section_display": true,
   "toc_window_display": false
  }
 },
 "nbformat": 4,
 "nbformat_minor": 5
}
