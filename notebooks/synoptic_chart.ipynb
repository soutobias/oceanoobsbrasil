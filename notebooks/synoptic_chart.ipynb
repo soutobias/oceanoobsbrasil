{
 "cells": [
  {
   "cell_type": "code",
   "execution_count": 6,
   "id": "agricultural-newark",
   "metadata": {},
   "outputs": [],
   "source": [
    "\"\"\"\n",
    "Created on Tue Feb 12 23:34:44 2019\n",
    "@author: tobia\n",
    "\"\"\"\n",
    "import time\n",
    "import datetime\n",
    "import urllib.request, json\n",
    "\n",
    "import numpy as np\n",
    "\n",
    "import pandas as pd\n",
    "from datetime import datetime, timedelta\n",
    "from oceanoobsbrasil.db import GetData\n",
    "\n",
    "from dotenv import load_dotenv\n",
    "import os\n",
    "import requests\n"
   ]
  },
  {
   "cell_type": "code",
   "execution_count": 1,
   "id": "66f873e2",
   "metadata": {},
   "outputs": [],
   "source": [
    "from PIL import Image\n",
    "import requests\n",
    "from io import BytesIO\n",
    "import numpy as np\n",
    "import pandas as pd\n",
    "import cloudinary\n",
    "import cloudinary.uploader\n",
    "import cloudinary.api\n",
    "\n",
    "from cloudinary.api import delete_resources_by_tag, resources_by_tag\n",
    "from cloudinary.uploader import upload\n",
    "from cloudinary.utils import cloudinary_url"
   ]
  },
  {
   "cell_type": "code",
   "execution_count": 2,
   "id": "ce306398",
   "metadata": {},
   "outputs": [],
   "source": [
    "%load_ext autoreload\n",
    "%autoreload 2\n",
    "from oceanoobsbrasil.others.synoptic_charts import SynopticChart"
   ]
  },
  {
   "cell_type": "code",
   "execution_count": 3,
   "id": "e9e36086",
   "metadata": {},
   "outputs": [],
   "source": [
    "s = SynopticChart()"
   ]
  },
  {
   "cell_type": "code",
   "execution_count": 4,
   "id": "19d37c00",
   "metadata": {},
   "outputs": [
    {
     "name": "stdout",
     "output_type": "stream",
     "text": [
      "24012100\n",
      "24012100.png ./24012100.png\n",
      "Uploaded file s3://oceanobs/synoptic_charts/24012100.png\n",
      "24012112\n",
      "24012112.png ./24012112.png\n",
      "Uploaded file s3://oceanobs/synoptic_charts/24012112.png\n",
      "24012000\n",
      "24012000.png ./24012000.png\n",
      "Uploaded file s3://oceanobs/synoptic_charts/24012000.png\n",
      "24012012\n",
      "24012012.png ./24012012.png\n",
      "Uploaded file s3://oceanobs/synoptic_charts/24012012.png\n",
      "24011900\n",
      "24011900.png ./24011900.png\n",
      "Uploaded file s3://oceanobs/synoptic_charts/24011900.png\n",
      "24011912\n",
      "24011912.png ./24011912.png\n",
      "Uploaded file s3://oceanobs/synoptic_charts/24011912.png\n",
      "24011800\n",
      "24011800.png ./24011800.png\n",
      "Uploaded file s3://oceanobs/synoptic_charts/24011800.png\n",
      "24011812\n",
      "cannot identify image file <_io.BytesIO object at 0x7f8ca4349040>\n",
      "24011700\n",
      "24011700.png ./24011700.png\n",
      "Uploaded file s3://oceanobs/synoptic_charts/24011700.png\n",
      "24011712\n",
      "24011712.png ./24011712.png\n",
      "Uploaded file s3://oceanobs/synoptic_charts/24011712.png\n",
      "24011600\n",
      "24011600.png ./24011600.png\n",
      "Uploaded file s3://oceanobs/synoptic_charts/24011600.png\n",
      "24011612\n",
      "24011612.png ./24011612.png\n",
      "Uploaded file s3://oceanobs/synoptic_charts/24011612.png\n",
      "24011500\n",
      "24011500.png ./24011500.png\n",
      "Uploaded file s3://oceanobs/synoptic_charts/24011500.png\n",
      "24011512\n",
      "24011512.png ./24011512.png\n",
      "Uploaded file s3://oceanobs/synoptic_charts/24011512.png\n"
     ]
    }
   ],
   "source": [
    "s.get()"
   ]
  },
  {
   "cell_type": "code",
   "execution_count": null,
   "id": "21d78b44",
   "metadata": {},
   "outputs": [],
   "source": []
  }
 ],
 "metadata": {
  "kernelspec": {
   "display_name": "Python 3 (ipykernel)",
   "language": "python",
   "name": "python3"
  },
  "language_info": {
   "codemirror_mode": {
    "name": "ipython",
    "version": 3
   },
   "file_extension": ".py",
   "mimetype": "text/x-python",
   "name": "python",
   "nbconvert_exporter": "python",
   "pygments_lexer": "ipython3",
   "version": "3.8.12"
  },
  "toc": {
   "base_numbering": 1,
   "nav_menu": {},
   "number_sections": true,
   "sideBar": true,
   "skip_h1_title": false,
   "title_cell": "Table of Contents",
   "title_sidebar": "Contents",
   "toc_cell": false,
   "toc_position": {},
   "toc_section_display": true,
   "toc_window_display": false
  }
 },
 "nbformat": 4,
 "nbformat_minor": 5
}
