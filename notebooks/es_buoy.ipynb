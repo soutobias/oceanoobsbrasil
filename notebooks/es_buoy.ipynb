{
 "cells": [
  {
   "cell_type": "code",
   "execution_count": 1,
   "id": "cb44c515",
   "metadata": {},
   "outputs": [],
   "source": [
    "import time\n",
    "import datetime\n",
    "import urllib.request, json\n",
    "import requests\n",
    "\n",
    "import numpy as np\n",
    "import pandas as pd\n",
    "from datetime import datetime, timedelta\n",
    "from bs4 import BeautifulSoup\n",
    "import re\n",
    "from oceanoobsbrasil.bd import GetData\n",
    "\n",
    "%load_ext autoreload\n",
    "%autoreload 2"
   ]
  },
  {
   "cell_type": "code",
   "execution_count": 40,
   "id": "046fbde1",
   "metadata": {},
   "outputs": [],
   "source": [
    "from oceanoobsbrasil.get_es_buoy import ESBuoy"
   ]
  },
  {
   "cell_type": "code",
   "execution_count": 52,
   "id": "e03d464c",
   "metadata": {},
   "outputs": [],
   "source": [
    "e = ESBuoy()"
   ]
  },
  {
   "cell_type": "code",
   "execution_count": 53,
   "id": "6677c5f3",
   "metadata": {},
   "outputs": [],
   "source": [
    "e.get()"
   ]
  },
  {
   "cell_type": "code",
   "execution_count": 54,
   "id": "58b894d5",
   "metadata": {},
   "outputs": [
    {
     "data": {
      "text/html": [
       "<div>\n",
       "<style scoped>\n",
       "    .dataframe tbody tr th:only-of-type {\n",
       "        vertical-align: middle;\n",
       "    }\n",
       "\n",
       "    .dataframe tbody tr th {\n",
       "        vertical-align: top;\n",
       "    }\n",
       "\n",
       "    .dataframe thead th {\n",
       "        text-align: right;\n",
       "    }\n",
       "</style>\n",
       "<table border=\"1\" class=\"dataframe\">\n",
       "  <thead>\n",
       "    <tr style=\"text-align: right;\">\n",
       "      <th></th>\n",
       "      <th>date_time</th>\n",
       "      <th>wdir</th>\n",
       "      <th>wspd</th>\n",
       "      <th>atmp</th>\n",
       "      <th>swvht</th>\n",
       "      <th>wvdir</th>\n",
       "      <th>tp</th>\n",
       "      <th>pres</th>\n",
       "      <th>rh</th>\n",
       "      <th>station_id</th>\n",
       "    </tr>\n",
       "  </thead>\n",
       "  <tbody>\n",
       "    <tr>\n",
       "      <th>0</th>\n",
       "      <td>2021-09-12 15:45:00</td>\n",
       "      <td>62.4</td>\n",
       "      <td>23.23</td>\n",
       "      <td>24.41</td>\n",
       "      <td>1.23</td>\n",
       "      <td>115.0</td>\n",
       "      <td>10.5</td>\n",
       "      <td>1017.28</td>\n",
       "      <td>64.79</td>\n",
       "      <td>1</td>\n",
       "    </tr>\n",
       "  </tbody>\n",
       "</table>\n",
       "</div>"
      ],
      "text/plain": [
       "            date_time  wdir   wspd   atmp swvht  wvdir    tp     pres     rh  \\\n",
       "0 2021-09-12 15:45:00  62.4  23.23  24.41  1.23  115.0  10.5  1017.28  64.79   \n",
       "\n",
       "  station_id  \n",
       "0          1  "
      ]
     },
     "execution_count": 54,
     "metadata": {},
     "output_type": "execute_result"
    }
   ],
   "source": [
    "e.result"
   ]
  }
 ],
 "metadata": {
  "kernelspec": {
   "display_name": "Python 3 (ipykernel)",
   "language": "python",
   "name": "python3"
  },
  "language_info": {
   "codemirror_mode": {
    "name": "ipython",
    "version": 3
   },
   "file_extension": ".py",
   "mimetype": "text/x-python",
   "name": "python",
   "nbconvert_exporter": "python",
   "pygments_lexer": "ipython3",
   "version": "3.8.6"
  },
  "toc": {
   "base_numbering": 1,
   "nav_menu": {},
   "number_sections": true,
   "sideBar": true,
   "skip_h1_title": false,
   "title_cell": "Table of Contents",
   "title_sidebar": "Contents",
   "toc_cell": false,
   "toc_position": {},
   "toc_section_display": true,
   "toc_window_display": false
  }
 },
 "nbformat": 4,
 "nbformat_minor": 5
}
