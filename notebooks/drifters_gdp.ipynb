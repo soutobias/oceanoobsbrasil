{
 "cells": [
  {
   "cell_type": "code",
   "execution_count": 54,
   "id": "f215703f",
   "metadata": {},
   "outputs": [
    {
     "name": "stdout",
     "output_type": "stream",
     "text": [
      "The autoreload extension is already loaded. To reload it, use:\n",
      "  %reload_ext autoreload\n"
     ]
    }
   ],
   "source": [
    "import time\n",
    "import datetime\n",
    "import urllib.request, json\n",
    "import requests\n",
    "\n",
    "import numpy as np\n",
    "import pandas as pd\n",
    "from datetime import datetime, timedelta\n",
    "from bs4 import BeautifulSoup\n",
    "\n",
    "from oceanoobsbrasil.db import GetData\n",
    "%load_ext autoreload\n",
    "%autoreload 2"
   ]
  },
  {
   "cell_type": "code",
   "execution_count": 62,
   "id": "bf6c318b",
   "metadata": {},
   "outputs": [],
   "source": [
    "url = 'http://osmc.noaa.gov/erddap/tabledap/OSMC_30day.htmlTable?platform_code%2Cplatform_type%2Ccountry%2Ctime%2Clatitude%2Clongitude%2Cobservation_depth%2Csst%2Catmp%2Cprecip%2Cztmp%2Czsal%2Cslp%2Cwindspd%2Cwinddir%2Cwvht%2Cwaterlevel%2Cclouds%2Cdewpoint%2Cuo%2Cvo%2Cwo%2Crainfall_rate%2Chur%2Csea_water_elec_conductivity%2Csea_water_pressure%2Crlds%2Crsds%2Cwaterlevel_met_res%2Cwaterlevel_wrt_lcd%2Cwater_col_ht%2Cwind_to_direction%2Clon360&platform_type=%22DRIFTING%20BUOYS%20(GENERIC)%22&time%3E=2022-07-21T00%3A00%3A00Z&latitude%3E=-89&latitude%3C=15&longitude%3E=-90&longitude%3C=20'\n",
    "url = 'http://osmc.noaa.gov/erddap/tabledap/OSMC_30day.htmlTable?platform_code%2Cplatform_type%2Ccountry%2Ctime%2Clatitude%2Clongitude%2Cobservation_depth%2Csst%2Catmp%2Cprecip%2Cztmp%2Czsal%2Cslp%2Cwindspd%2Cwinddir%2Cwvht%2Cwaterlevel%2Cclouds%2Cdewpoint%2Cuo%2Cvo%2Cwo%2Crainfall_rate%2Chur%2Csea_water_elec_conductivity%2Csea_water_pressure%2Crlds%2Crsds%2Cwaterlevel_met_res%2Cwaterlevel_wrt_lcd%2Cwater_col_ht%2Cwind_to_direction%2Clon360&platform_type=%22PROFILING%20FLOATS%20AND%20GLIDERS%20(GENERIC)%22&time%3E=2022-07-21T00%3A00%3A00Z&latitude%3E=-89&latitude%3C=15&longitude%3E=-90&longitude%3C=20&observation_depth%3C=1'\n",
    "resp = requests.get(url)\n"
   ]
  },
  {
   "cell_type": "code",
   "execution_count": 63,
   "id": "96adbc8f",
   "metadata": {},
   "outputs": [],
   "source": [
    "df = pd.read_html(resp.content)\n",
    "df = df[1]\n",
    "df.columns = df.columns.droplevel(level=1)"
   ]
  },
  {
   "cell_type": "code",
   "execution_count": 67,
   "id": "eca9615e",
   "metadata": {},
   "outputs": [],
   "source": [
    "df = df.loc[df['observation_depth']>=-1]\n",
    "df.sst.fillna(df.ztmp.dropna(), inplace=True)\n",
    "df = df[['time', 'latitude', 'longitude','sst', 'atmp', 'ztmp', 'wvht']]\n"
   ]
  },
  {
   "cell_type": "code",
   "execution_count": 70,
   "id": "6b55bab1",
   "metadata": {},
   "outputs": [
    {
     "data": {
      "text/html": [
       "<div>\n",
       "<style scoped>\n",
       "    .dataframe tbody tr th:only-of-type {\n",
       "        vertical-align: middle;\n",
       "    }\n",
       "\n",
       "    .dataframe tbody tr th {\n",
       "        vertical-align: top;\n",
       "    }\n",
       "\n",
       "    .dataframe thead th {\n",
       "        text-align: right;\n",
       "    }\n",
       "</style>\n",
       "<table border=\"1\" class=\"dataframe\">\n",
       "  <thead>\n",
       "    <tr style=\"text-align: right;\">\n",
       "      <th></th>\n",
       "      <th>time</th>\n",
       "      <th>latitude</th>\n",
       "      <th>longitude</th>\n",
       "      <th>sst</th>\n",
       "      <th>atmp</th>\n",
       "      <th>ztmp</th>\n",
       "      <th>slp</th>\n",
       "      <th>wvht</th>\n",
       "    </tr>\n",
       "  </thead>\n",
       "  <tbody>\n",
       "    <tr>\n",
       "      <th>0</th>\n",
       "      <td>2022-07-21T00:00:00Z</td>\n",
       "      <td>-38.014023</td>\n",
       "      <td>12.428475</td>\n",
       "      <td>NaN</td>\n",
       "      <td>NaN</td>\n",
       "      <td>16.399012</td>\n",
       "      <td>NaN</td>\n",
       "      <td>NaN</td>\n",
       "    </tr>\n",
       "    <tr>\n",
       "      <th>1</th>\n",
       "      <td>2022-07-21T00:00:00Z</td>\n",
       "      <td>-38.014023</td>\n",
       "      <td>12.428475</td>\n",
       "      <td>NaN</td>\n",
       "      <td>NaN</td>\n",
       "      <td>16.402002</td>\n",
       "      <td>NaN</td>\n",
       "      <td>NaN</td>\n",
       "    </tr>\n",
       "    <tr>\n",
       "      <th>2</th>\n",
       "      <td>2022-07-21T00:00:00Z</td>\n",
       "      <td>11.808838</td>\n",
       "      <td>-44.432163</td>\n",
       "      <td>NaN</td>\n",
       "      <td>NaN</td>\n",
       "      <td>27.135004</td>\n",
       "      <td>NaN</td>\n",
       "      <td>NaN</td>\n",
       "    </tr>\n",
       "    <tr>\n",
       "      <th>3</th>\n",
       "      <td>2022-07-21T00:00:00Z</td>\n",
       "      <td>11.808838</td>\n",
       "      <td>-44.432163</td>\n",
       "      <td>NaN</td>\n",
       "      <td>NaN</td>\n",
       "      <td>27.136011</td>\n",
       "      <td>NaN</td>\n",
       "      <td>NaN</td>\n",
       "    </tr>\n",
       "    <tr>\n",
       "      <th>4</th>\n",
       "      <td>2022-07-21T04:36:00Z</td>\n",
       "      <td>-47.755040</td>\n",
       "      <td>-3.008395</td>\n",
       "      <td>NaN</td>\n",
       "      <td>NaN</td>\n",
       "      <td>5.328027</td>\n",
       "      <td>NaN</td>\n",
       "      <td>NaN</td>\n",
       "    </tr>\n",
       "  </tbody>\n",
       "</table>\n",
       "</div>"
      ],
      "text/plain": [
       "                   time   latitude  longitude  sst  atmp       ztmp  slp  wvht\n",
       "0  2022-07-21T00:00:00Z -38.014023  12.428475  NaN   NaN  16.399012  NaN   NaN\n",
       "1  2022-07-21T00:00:00Z -38.014023  12.428475  NaN   NaN  16.402002  NaN   NaN\n",
       "2  2022-07-21T00:00:00Z  11.808838 -44.432163  NaN   NaN  27.135004  NaN   NaN\n",
       "3  2022-07-21T00:00:00Z  11.808838 -44.432163  NaN   NaN  27.136011  NaN   NaN\n",
       "4  2022-07-21T04:36:00Z -47.755040  -3.008395  NaN   NaN   5.328027  NaN   NaN"
      ]
     },
     "execution_count": 70,
     "metadata": {},
     "output_type": "execute_result"
    }
   ],
   "source": [
    "df.head()"
   ]
  },
  {
   "cell_type": "code",
   "execution_count": 71,
   "id": "144b79f5",
   "metadata": {},
   "outputs": [],
   "source": [
    "df.sst.fillna(df.ztmp.dropna(), inplace=True)"
   ]
  },
  {
   "cell_type": "code",
   "execution_count": 24,
   "id": "e7f8edbc",
   "metadata": {},
   "outputs": [],
   "source": [
    "df.columns = ['date_time', 'lat', 'lon', 'sst', 'atmp', 'ztmp' 'pres', 'swvht']"
   ]
  },
  {
   "cell_type": "code",
   "execution_count": 41,
   "id": "efeae807",
   "metadata": {},
   "outputs": [
    {
     "data": {
      "text/plain": [
       "'2022-07-21T00:00:00Z'"
      ]
     },
     "execution_count": 41,
     "metadata": {},
     "output_type": "execute_result"
    }
   ],
   "source": [
    "datetime.strftime(datetime.now()-timedelta(days=1), format='%Y-%m-%dT00:00:00Z')"
   ]
  },
  {
   "cell_type": "code",
   "execution_count": 30,
   "id": "544406a0",
   "metadata": {},
   "outputs": [],
   "source": [
    "df['date_time'] = pd.to_datetime(df['date_time'], format=\"%Y-%m-%dT%H:%M:%SZ\")"
   ]
  },
  {
   "cell_type": "code",
   "execution_count": 46,
   "id": "406412f6",
   "metadata": {},
   "outputs": [
    {
     "data": {
      "text/html": [
       "<div>\n",
       "<style scoped>\n",
       "    .dataframe tbody tr th:only-of-type {\n",
       "        vertical-align: middle;\n",
       "    }\n",
       "\n",
       "    .dataframe tbody tr th {\n",
       "        vertical-align: top;\n",
       "    }\n",
       "\n",
       "    .dataframe thead th {\n",
       "        text-align: right;\n",
       "    }\n",
       "</style>\n",
       "<table border=\"1\" class=\"dataframe\">\n",
       "  <thead>\n",
       "    <tr style=\"text-align: right;\">\n",
       "      <th></th>\n",
       "      <th>date_time</th>\n",
       "      <th>lat</th>\n",
       "      <th>lon</th>\n",
       "      <th>sst</th>\n",
       "      <th>atmp</th>\n",
       "      <th>pres</th>\n",
       "      <th>swvht</th>\n",
       "    </tr>\n",
       "  </thead>\n",
       "  <tbody>\n",
       "    <tr>\n",
       "      <th>0</th>\n",
       "      <td>2022-07-21 00:00:00</td>\n",
       "      <td>-39.6268</td>\n",
       "      <td>7.8202</td>\n",
       "      <td>12.59</td>\n",
       "      <td>NaN</td>\n",
       "      <td>1017.9</td>\n",
       "      <td>NaN</td>\n",
       "    </tr>\n",
       "    <tr>\n",
       "      <th>1</th>\n",
       "      <td>2022-07-21 00:00:00</td>\n",
       "      <td>3.0739</td>\n",
       "      <td>8.5073</td>\n",
       "      <td>27.05</td>\n",
       "      <td>NaN</td>\n",
       "      <td>1012.5</td>\n",
       "      <td>NaN</td>\n",
       "    </tr>\n",
       "    <tr>\n",
       "      <th>2</th>\n",
       "      <td>2022-07-21 00:00:00</td>\n",
       "      <td>5.7872</td>\n",
       "      <td>0.3541</td>\n",
       "      <td>NaN</td>\n",
       "      <td>NaN</td>\n",
       "      <td>NaN</td>\n",
       "      <td>NaN</td>\n",
       "    </tr>\n",
       "    <tr>\n",
       "      <th>3</th>\n",
       "      <td>2022-07-21 00:00:00</td>\n",
       "      <td>0.8735</td>\n",
       "      <td>-46.5852</td>\n",
       "      <td>28.10</td>\n",
       "      <td>NaN</td>\n",
       "      <td>1012.1</td>\n",
       "      <td>NaN</td>\n",
       "    </tr>\n",
       "    <tr>\n",
       "      <th>4</th>\n",
       "      <td>2022-07-21 00:00:00</td>\n",
       "      <td>-34.4136</td>\n",
       "      <td>-36.2684</td>\n",
       "      <td>16.92</td>\n",
       "      <td>NaN</td>\n",
       "      <td>1028.4</td>\n",
       "      <td>NaN</td>\n",
       "    </tr>\n",
       "    <tr>\n",
       "      <th>...</th>\n",
       "      <td>...</td>\n",
       "      <td>...</td>\n",
       "      <td>...</td>\n",
       "      <td>...</td>\n",
       "      <td>...</td>\n",
       "      <td>...</td>\n",
       "      <td>...</td>\n",
       "    </tr>\n",
       "    <tr>\n",
       "      <th>8323</th>\n",
       "      <td>2022-07-22 18:00:00</td>\n",
       "      <td>5.1214</td>\n",
       "      <td>3.9824</td>\n",
       "      <td>27.12</td>\n",
       "      <td>NaN</td>\n",
       "      <td>NaN</td>\n",
       "      <td>NaN</td>\n",
       "    </tr>\n",
       "    <tr>\n",
       "      <th>8324</th>\n",
       "      <td>2022-07-22 18:00:00</td>\n",
       "      <td>8.7146</td>\n",
       "      <td>-13.7270</td>\n",
       "      <td>27.49</td>\n",
       "      <td>NaN</td>\n",
       "      <td>NaN</td>\n",
       "      <td>NaN</td>\n",
       "    </tr>\n",
       "    <tr>\n",
       "      <th>8325</th>\n",
       "      <td>2022-07-22 18:00:00</td>\n",
       "      <td>-24.3070</td>\n",
       "      <td>4.1776</td>\n",
       "      <td>18.68</td>\n",
       "      <td>NaN</td>\n",
       "      <td>NaN</td>\n",
       "      <td>NaN</td>\n",
       "    </tr>\n",
       "    <tr>\n",
       "      <th>8326</th>\n",
       "      <td>2022-07-22 18:00:00</td>\n",
       "      <td>-37.7576</td>\n",
       "      <td>-0.0514</td>\n",
       "      <td>13.55</td>\n",
       "      <td>NaN</td>\n",
       "      <td>1029.2</td>\n",
       "      <td>NaN</td>\n",
       "    </tr>\n",
       "    <tr>\n",
       "      <th>8327</th>\n",
       "      <td>2022-07-22 18:04:00</td>\n",
       "      <td>13.9586</td>\n",
       "      <td>-53.3301</td>\n",
       "      <td>27.74</td>\n",
       "      <td>NaN</td>\n",
       "      <td>NaN</td>\n",
       "      <td>NaN</td>\n",
       "    </tr>\n",
       "  </tbody>\n",
       "</table>\n",
       "<p>8328 rows × 7 columns</p>\n",
       "</div>"
      ],
      "text/plain": [
       "               date_time      lat      lon    sst  atmp    pres  swvht\n",
       "0    2022-07-21 00:00:00 -39.6268   7.8202  12.59   NaN  1017.9    NaN\n",
       "1    2022-07-21 00:00:00   3.0739   8.5073  27.05   NaN  1012.5    NaN\n",
       "2    2022-07-21 00:00:00   5.7872   0.3541    NaN   NaN     NaN    NaN\n",
       "3    2022-07-21 00:00:00   0.8735 -46.5852  28.10   NaN  1012.1    NaN\n",
       "4    2022-07-21 00:00:00 -34.4136 -36.2684  16.92   NaN  1028.4    NaN\n",
       "...                  ...      ...      ...    ...   ...     ...    ...\n",
       "8323 2022-07-22 18:00:00   5.1214   3.9824  27.12   NaN     NaN    NaN\n",
       "8324 2022-07-22 18:00:00   8.7146 -13.7270  27.49   NaN     NaN    NaN\n",
       "8325 2022-07-22 18:00:00 -24.3070   4.1776  18.68   NaN     NaN    NaN\n",
       "8326 2022-07-22 18:00:00 -37.7576  -0.0514  13.55   NaN  1029.2    NaN\n",
       "8327 2022-07-22 18:04:00  13.9586 -53.3301  27.74   NaN     NaN    NaN\n",
       "\n",
       "[8328 rows x 7 columns]"
      ]
     },
     "execution_count": 46,
     "metadata": {},
     "output_type": "execute_result"
    }
   ],
   "source": [
    "df.fillna(np.nan)"
   ]
  },
  {
   "cell_type": "code",
   "execution_count": 72,
   "id": "b6d30abd",
   "metadata": {},
   "outputs": [],
   "source": [
    "from oceanoobsbrasil.others.drifters import Drifter"
   ]
  },
  {
   "cell_type": "code",
   "execution_count": 80,
   "id": "7660c497",
   "metadata": {},
   "outputs": [],
   "source": [
    "d = Drifter(platform_type='PROFILING FLOATS AND GLIDERS (GENERIC)')"
   ]
  },
  {
   "cell_type": "code",
   "execution_count": 81,
   "id": "87118b3a",
   "metadata": {},
   "outputs": [],
   "source": [
    "d.get()"
   ]
  },
  {
   "cell_type": "code",
   "execution_count": 61,
   "id": "57e66174",
   "metadata": {},
   "outputs": [
    {
     "data": {
      "text/html": [
       "<div>\n",
       "<style scoped>\n",
       "    .dataframe tbody tr th:only-of-type {\n",
       "        vertical-align: middle;\n",
       "    }\n",
       "\n",
       "    .dataframe tbody tr th {\n",
       "        vertical-align: top;\n",
       "    }\n",
       "\n",
       "    .dataframe thead th {\n",
       "        text-align: right;\n",
       "    }\n",
       "</style>\n",
       "<table border=\"1\" class=\"dataframe\">\n",
       "  <thead>\n",
       "    <tr style=\"text-align: right;\">\n",
       "      <th></th>\n",
       "      <th>lat</th>\n",
       "      <th>lon</th>\n",
       "      <th>sst</th>\n",
       "      <th>atmp</th>\n",
       "      <th>pres</th>\n",
       "      <th>swvht</th>\n",
       "    </tr>\n",
       "  </thead>\n",
       "  <tbody>\n",
       "    <tr>\n",
       "      <th>count</th>\n",
       "      <td>27434.000000</td>\n",
       "      <td>27434.000000</td>\n",
       "      <td>23687.000000</td>\n",
       "      <td>148.000000</td>\n",
       "      <td>20499.000000</td>\n",
       "      <td>15.000000</td>\n",
       "    </tr>\n",
       "    <tr>\n",
       "      <th>mean</th>\n",
       "      <td>-23.782761</td>\n",
       "      <td>-27.792121</td>\n",
       "      <td>18.288439</td>\n",
       "      <td>-7.460811</td>\n",
       "      <td>1015.765837</td>\n",
       "      <td>1.684667</td>\n",
       "    </tr>\n",
       "    <tr>\n",
       "      <th>std</th>\n",
       "      <td>20.821604</td>\n",
       "      <td>26.298900</td>\n",
       "      <td>7.918611</td>\n",
       "      <td>6.684571</td>\n",
       "      <td>11.444044</td>\n",
       "      <td>0.228313</td>\n",
       "    </tr>\n",
       "    <tr>\n",
       "      <th>min</th>\n",
       "      <td>-63.278600</td>\n",
       "      <td>-89.998400</td>\n",
       "      <td>-4.950000</td>\n",
       "      <td>-20.800000</td>\n",
       "      <td>954.100000</td>\n",
       "      <td>1.420000</td>\n",
       "    </tr>\n",
       "    <tr>\n",
       "      <th>25%</th>\n",
       "      <td>-38.256000</td>\n",
       "      <td>-41.342450</td>\n",
       "      <td>13.850000</td>\n",
       "      <td>-14.725000</td>\n",
       "      <td>1012.300000</td>\n",
       "      <td>1.580000</td>\n",
       "    </tr>\n",
       "    <tr>\n",
       "      <th>50%</th>\n",
       "      <td>-29.415400</td>\n",
       "      <td>-24.811600</td>\n",
       "      <td>18.720000</td>\n",
       "      <td>-4.100000</td>\n",
       "      <td>1017.000000</td>\n",
       "      <td>1.630000</td>\n",
       "    </tr>\n",
       "    <tr>\n",
       "      <th>75%</th>\n",
       "      <td>-4.953000</td>\n",
       "      <td>-9.302200</td>\n",
       "      <td>26.110000</td>\n",
       "      <td>-1.600000</td>\n",
       "      <td>1023.600000</td>\n",
       "      <td>1.680000</td>\n",
       "    </tr>\n",
       "    <tr>\n",
       "      <th>max</th>\n",
       "      <td>14.999730</td>\n",
       "      <td>17.768380</td>\n",
       "      <td>35.930000</td>\n",
       "      <td>0.800000</td>\n",
       "      <td>1034.600000</td>\n",
       "      <td>2.390000</td>\n",
       "    </tr>\n",
       "  </tbody>\n",
       "</table>\n",
       "</div>"
      ],
      "text/plain": [
       "                lat           lon           sst        atmp          pres  \\\n",
       "count  27434.000000  27434.000000  23687.000000  148.000000  20499.000000   \n",
       "mean     -23.782761    -27.792121     18.288439   -7.460811   1015.765837   \n",
       "std       20.821604     26.298900      7.918611    6.684571     11.444044   \n",
       "min      -63.278600    -89.998400     -4.950000  -20.800000    954.100000   \n",
       "25%      -38.256000    -41.342450     13.850000  -14.725000   1012.300000   \n",
       "50%      -29.415400    -24.811600     18.720000   -4.100000   1017.000000   \n",
       "75%       -4.953000     -9.302200     26.110000   -1.600000   1023.600000   \n",
       "max       14.999730     17.768380     35.930000    0.800000   1034.600000   \n",
       "\n",
       "           swvht  \n",
       "count  15.000000  \n",
       "mean    1.684667  \n",
       "std     0.228313  \n",
       "min     1.420000  \n",
       "25%     1.580000  \n",
       "50%     1.630000  \n",
       "75%     1.680000  \n",
       "max     2.390000  "
      ]
     },
     "execution_count": 61,
     "metadata": {},
     "output_type": "execute_result"
    }
   ],
   "source": [
    "d.result.describe()"
   ]
  },
  {
   "cell_type": "code",
   "execution_count": 10,
   "id": "824b460a",
   "metadata": {},
   "outputs": [
    {
     "data": {
      "text/plain": [
       "(139, 17)"
      ]
     },
     "execution_count": 10,
     "metadata": {},
     "output_type": "execute_result"
    }
   ],
   "source": [
    "db = Getdata()\n",
    "df = db.get(table='data_no_stations', institution=['in', ['ndbc']], date_time=['>', '2021-09-12'])\n",
    "df.shape"
   ]
  },
  {
   "cell_type": "code",
   "execution_count": 11,
   "id": "4046c834",
   "metadata": {},
   "outputs": [
    {
     "data": {
      "text/plain": [
       "tuple"
      ]
     },
     "execution_count": 11,
     "metadata": {},
     "output_type": "execute_result"
    }
   ],
   "source": [
    "type(df.shape)"
   ]
  }
 ],
 "metadata": {
  "kernelspec": {
   "display_name": "Python 3 (ipykernel)",
   "language": "python",
   "name": "python3"
  },
  "language_info": {
   "codemirror_mode": {
    "name": "ipython",
    "version": 3
   },
   "file_extension": ".py",
   "mimetype": "text/x-python",
   "name": "python",
   "nbconvert_exporter": "python",
   "pygments_lexer": "ipython3",
   "version": "3.8.6"
  },
  "toc": {
   "base_numbering": 1,
   "nav_menu": {},
   "number_sections": true,
   "sideBar": true,
   "skip_h1_title": false,
   "title_cell": "Table of Contents",
   "title_sidebar": "Contents",
   "toc_cell": false,
   "toc_position": {},
   "toc_section_display": true,
   "toc_window_display": false
  }
 },
 "nbformat": 4,
 "nbformat_minor": 5
}
