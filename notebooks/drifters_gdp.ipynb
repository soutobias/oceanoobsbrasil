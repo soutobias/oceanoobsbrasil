{
 "cells": [
  {
   "cell_type": "code",
   "execution_count": 1,
   "id": "f215703f",
   "metadata": {},
   "outputs": [],
   "source": [
    "import time\n",
    "import datetime\n",
    "import urllib.request, json\n",
    "import requests\n",
    "\n",
    "import numpy as np\n",
    "import pandas as pd\n",
    "from datetime import datetime, timedelta\n",
    "from bs4 import BeautifulSoup\n",
    "\n",
    "from oceanoobsbrasil.db import GetData\n",
    "%load_ext autoreload\n",
    "%autoreload 2"
   ]
  },
  {
   "cell_type": "code",
   "execution_count": 2,
   "id": "bf6c318b",
   "metadata": {},
   "outputs": [],
   "source": [
    "url = 'http://osmc.noaa.gov/erddap/tabledap/OSMC_30day.htmlTable?platform_code%2Cplatform_type%2Ccountry%2Ctime%2Clatitude%2Clongitude%2Cobservation_depth%2Csst%2Catmp%2Cprecip%2Cztmp%2Czsal%2Cslp%2Cwindspd%2Cwinddir%2Cwvht%2Cwaterlevel%2Cclouds%2Cdewpoint%2Cuo%2Cvo%2Cwo%2Crainfall_rate%2Chur%2Csea_water_elec_conductivity%2Csea_water_pressure%2Crlds%2Crsds%2Cwaterlevel_met_res%2Cwaterlevel_wrt_lcd%2Cwater_col_ht%2Cwind_to_direction%2Clon360&platform_type=%22DRIFTING%20BUOYS%20(GENERIC)%22&time%3E=2022-07-21T00%3A00%3A00Z&latitude%3E=-89&latitude%3C=15&longitude%3E=-90&longitude%3C=20'\n",
    "url = 'http://osmc.noaa.gov/erddap/tabledap/OSMC_30day.htmlTable?platform_code%2Cplatform_type%2Ccountry%2Ctime%2Clatitude%2Clongitude%2Cobservation_depth%2Csst%2Catmp%2Cprecip%2Cztmp%2Czsal%2Cslp%2Cwindspd%2Cwinddir%2Cwvht%2Cwaterlevel%2Cclouds%2Cdewpoint%2Cuo%2Cvo%2Cwo%2Crainfall_rate%2Chur%2Csea_water_elec_conductivity%2Csea_water_pressure%2Crlds%2Crsds%2Cwaterlevel_met_res%2Cwaterlevel_wrt_lcd%2Cwater_col_ht%2Cwind_to_direction%2Clon360&platform_type=%22PROFILING%20FLOATS%20AND%20GLIDERS%20(GENERIC)%22&time%3E=2022-07-21T00%3A00%3A00Z&latitude%3E=-89&latitude%3C=15&longitude%3E=-90&longitude%3C=20&observation_depth%3C=1'\n",
    "resp = requests.get(url)\n"
   ]
  },
  {
   "cell_type": "code",
   "execution_count": 3,
   "id": "96adbc8f",
   "metadata": {},
   "outputs": [],
   "source": [
    "df = pd.read_html(resp.content)\n",
    "df = df[1]\n",
    "df.columns = df.columns.droplevel(level=1)"
   ]
  },
  {
   "cell_type": "code",
   "execution_count": 67,
   "id": "eca9615e",
   "metadata": {},
   "outputs": [],
   "source": [
    "df = df.loc[df['observation_depth']>=-1]\n",
    "df.sst.fillna(df.ztmp.dropna(), inplace=True)\n",
    "df = df[['time', 'latitude', 'longitude','sst', 'atmp', 'ztmp', 'wvht']]\n"
   ]
  },
  {
   "cell_type": "code",
   "execution_count": 70,
   "id": "6b55bab1",
   "metadata": {},
   "outputs": [
    {
     "data": {
      "text/html": [
       "<div>\n",
       "<style scoped>\n",
       "    .dataframe tbody tr th:only-of-type {\n",
       "        vertical-align: middle;\n",
       "    }\n",
       "\n",
       "    .dataframe tbody tr th {\n",
       "        vertical-align: top;\n",
       "    }\n",
       "\n",
       "    .dataframe thead th {\n",
       "        text-align: right;\n",
       "    }\n",
       "</style>\n",
       "<table border=\"1\" class=\"dataframe\">\n",
       "  <thead>\n",
       "    <tr style=\"text-align: right;\">\n",
       "      <th></th>\n",
       "      <th>time</th>\n",
       "      <th>latitude</th>\n",
       "      <th>longitude</th>\n",
       "      <th>sst</th>\n",
       "      <th>atmp</th>\n",
       "      <th>ztmp</th>\n",
       "      <th>slp</th>\n",
       "      <th>wvht</th>\n",
       "    </tr>\n",
       "  </thead>\n",
       "  <tbody>\n",
       "    <tr>\n",
       "      <th>0</th>\n",
       "      <td>2022-07-21T00:00:00Z</td>\n",
       "      <td>-38.014023</td>\n",
       "      <td>12.428475</td>\n",
       "      <td>NaN</td>\n",
       "      <td>NaN</td>\n",
       "      <td>16.399012</td>\n",
       "      <td>NaN</td>\n",
       "      <td>NaN</td>\n",
       "    </tr>\n",
       "    <tr>\n",
       "      <th>1</th>\n",
       "      <td>2022-07-21T00:00:00Z</td>\n",
       "      <td>-38.014023</td>\n",
       "      <td>12.428475</td>\n",
       "      <td>NaN</td>\n",
       "      <td>NaN</td>\n",
       "      <td>16.402002</td>\n",
       "      <td>NaN</td>\n",
       "      <td>NaN</td>\n",
       "    </tr>\n",
       "    <tr>\n",
       "      <th>2</th>\n",
       "      <td>2022-07-21T00:00:00Z</td>\n",
       "      <td>11.808838</td>\n",
       "      <td>-44.432163</td>\n",
       "      <td>NaN</td>\n",
       "      <td>NaN</td>\n",
       "      <td>27.135004</td>\n",
       "      <td>NaN</td>\n",
       "      <td>NaN</td>\n",
       "    </tr>\n",
       "    <tr>\n",
       "      <th>3</th>\n",
       "      <td>2022-07-21T00:00:00Z</td>\n",
       "      <td>11.808838</td>\n",
       "      <td>-44.432163</td>\n",
       "      <td>NaN</td>\n",
       "      <td>NaN</td>\n",
       "      <td>27.136011</td>\n",
       "      <td>NaN</td>\n",
       "      <td>NaN</td>\n",
       "    </tr>\n",
       "    <tr>\n",
       "      <th>4</th>\n",
       "      <td>2022-07-21T04:36:00Z</td>\n",
       "      <td>-47.755040</td>\n",
       "      <td>-3.008395</td>\n",
       "      <td>NaN</td>\n",
       "      <td>NaN</td>\n",
       "      <td>5.328027</td>\n",
       "      <td>NaN</td>\n",
       "      <td>NaN</td>\n",
       "    </tr>\n",
       "  </tbody>\n",
       "</table>\n",
       "</div>"
      ],
      "text/plain": [
       "                   time   latitude  longitude  sst  atmp       ztmp  slp  wvht\n",
       "0  2022-07-21T00:00:00Z -38.014023  12.428475  NaN   NaN  16.399012  NaN   NaN\n",
       "1  2022-07-21T00:00:00Z -38.014023  12.428475  NaN   NaN  16.402002  NaN   NaN\n",
       "2  2022-07-21T00:00:00Z  11.808838 -44.432163  NaN   NaN  27.135004  NaN   NaN\n",
       "3  2022-07-21T00:00:00Z  11.808838 -44.432163  NaN   NaN  27.136011  NaN   NaN\n",
       "4  2022-07-21T04:36:00Z -47.755040  -3.008395  NaN   NaN   5.328027  NaN   NaN"
      ]
     },
     "execution_count": 70,
     "metadata": {},
     "output_type": "execute_result"
    }
   ],
   "source": [
    "df.head()"
   ]
  },
  {
   "cell_type": "code",
   "execution_count": 71,
   "id": "144b79f5",
   "metadata": {},
   "outputs": [],
   "source": [
    "df.sst.fillna(df.ztmp.dropna(), inplace=True)"
   ]
  },
  {
   "cell_type": "code",
   "execution_count": 24,
   "id": "e7f8edbc",
   "metadata": {},
   "outputs": [],
   "source": [
    "df.columns = ['date_time', 'lat', 'lon', 'sst', 'atmp', 'ztmp' 'pres', 'swvht']"
   ]
  },
  {
   "cell_type": "code",
   "execution_count": 41,
   "id": "efeae807",
   "metadata": {},
   "outputs": [
    {
     "data": {
      "text/plain": [
       "'2022-07-21T00:00:00Z'"
      ]
     },
     "execution_count": 41,
     "metadata": {},
     "output_type": "execute_result"
    }
   ],
   "source": [
    "datetime.strftime(datetime.now()-timedelta(days=1), format='%Y-%m-%dT00:00:00Z')"
   ]
  },
  {
   "cell_type": "code",
   "execution_count": 30,
   "id": "544406a0",
   "metadata": {},
   "outputs": [],
   "source": [
    "df['date_time'] = pd.to_datetime(df['date_time'], format=\"%Y-%m-%dT%H:%M:%SZ\")"
   ]
  },
  {
   "cell_type": "code",
   "execution_count": 46,
   "id": "406412f6",
   "metadata": {},
   "outputs": [
    {
     "data": {
      "text/html": [
       "<div>\n",
       "<style scoped>\n",
       "    .dataframe tbody tr th:only-of-type {\n",
       "        vertical-align: middle;\n",
       "    }\n",
       "\n",
       "    .dataframe tbody tr th {\n",
       "        vertical-align: top;\n",
       "    }\n",
       "\n",
       "    .dataframe thead th {\n",
       "        text-align: right;\n",
       "    }\n",
       "</style>\n",
       "<table border=\"1\" class=\"dataframe\">\n",
       "  <thead>\n",
       "    <tr style=\"text-align: right;\">\n",
       "      <th></th>\n",
       "      <th>date_time</th>\n",
       "      <th>lat</th>\n",
       "      <th>lon</th>\n",
       "      <th>sst</th>\n",
       "      <th>atmp</th>\n",
       "      <th>pres</th>\n",
       "      <th>swvht</th>\n",
       "    </tr>\n",
       "  </thead>\n",
       "  <tbody>\n",
       "    <tr>\n",
       "      <th>0</th>\n",
       "      <td>2022-07-21 00:00:00</td>\n",
       "      <td>-39.6268</td>\n",
       "      <td>7.8202</td>\n",
       "      <td>12.59</td>\n",
       "      <td>NaN</td>\n",
       "      <td>1017.9</td>\n",
       "      <td>NaN</td>\n",
       "    </tr>\n",
       "    <tr>\n",
       "      <th>1</th>\n",
       "      <td>2022-07-21 00:00:00</td>\n",
       "      <td>3.0739</td>\n",
       "      <td>8.5073</td>\n",
       "      <td>27.05</td>\n",
       "      <td>NaN</td>\n",
       "      <td>1012.5</td>\n",
       "      <td>NaN</td>\n",
       "    </tr>\n",
       "    <tr>\n",
       "      <th>2</th>\n",
       "      <td>2022-07-21 00:00:00</td>\n",
       "      <td>5.7872</td>\n",
       "      <td>0.3541</td>\n",
       "      <td>NaN</td>\n",
       "      <td>NaN</td>\n",
       "      <td>NaN</td>\n",
       "      <td>NaN</td>\n",
       "    </tr>\n",
       "    <tr>\n",
       "      <th>3</th>\n",
       "      <td>2022-07-21 00:00:00</td>\n",
       "      <td>0.8735</td>\n",
       "      <td>-46.5852</td>\n",
       "      <td>28.10</td>\n",
       "      <td>NaN</td>\n",
       "      <td>1012.1</td>\n",
       "      <td>NaN</td>\n",
       "    </tr>\n",
       "    <tr>\n",
       "      <th>4</th>\n",
       "      <td>2022-07-21 00:00:00</td>\n",
       "      <td>-34.4136</td>\n",
       "      <td>-36.2684</td>\n",
       "      <td>16.92</td>\n",
       "      <td>NaN</td>\n",
       "      <td>1028.4</td>\n",
       "      <td>NaN</td>\n",
       "    </tr>\n",
       "    <tr>\n",
       "      <th>...</th>\n",
       "      <td>...</td>\n",
       "      <td>...</td>\n",
       "      <td>...</td>\n",
       "      <td>...</td>\n",
       "      <td>...</td>\n",
       "      <td>...</td>\n",
       "      <td>...</td>\n",
       "    </tr>\n",
       "    <tr>\n",
       "      <th>8323</th>\n",
       "      <td>2022-07-22 18:00:00</td>\n",
       "      <td>5.1214</td>\n",
       "      <td>3.9824</td>\n",
       "      <td>27.12</td>\n",
       "      <td>NaN</td>\n",
       "      <td>NaN</td>\n",
       "      <td>NaN</td>\n",
       "    </tr>\n",
       "    <tr>\n",
       "      <th>8324</th>\n",
       "      <td>2022-07-22 18:00:00</td>\n",
       "      <td>8.7146</td>\n",
       "      <td>-13.7270</td>\n",
       "      <td>27.49</td>\n",
       "      <td>NaN</td>\n",
       "      <td>NaN</td>\n",
       "      <td>NaN</td>\n",
       "    </tr>\n",
       "    <tr>\n",
       "      <th>8325</th>\n",
       "      <td>2022-07-22 18:00:00</td>\n",
       "      <td>-24.3070</td>\n",
       "      <td>4.1776</td>\n",
       "      <td>18.68</td>\n",
       "      <td>NaN</td>\n",
       "      <td>NaN</td>\n",
       "      <td>NaN</td>\n",
       "    </tr>\n",
       "    <tr>\n",
       "      <th>8326</th>\n",
       "      <td>2022-07-22 18:00:00</td>\n",
       "      <td>-37.7576</td>\n",
       "      <td>-0.0514</td>\n",
       "      <td>13.55</td>\n",
       "      <td>NaN</td>\n",
       "      <td>1029.2</td>\n",
       "      <td>NaN</td>\n",
       "    </tr>\n",
       "    <tr>\n",
       "      <th>8327</th>\n",
       "      <td>2022-07-22 18:04:00</td>\n",
       "      <td>13.9586</td>\n",
       "      <td>-53.3301</td>\n",
       "      <td>27.74</td>\n",
       "      <td>NaN</td>\n",
       "      <td>NaN</td>\n",
       "      <td>NaN</td>\n",
       "    </tr>\n",
       "  </tbody>\n",
       "</table>\n",
       "<p>8328 rows × 7 columns</p>\n",
       "</div>"
      ],
      "text/plain": [
       "               date_time      lat      lon    sst  atmp    pres  swvht\n",
       "0    2022-07-21 00:00:00 -39.6268   7.8202  12.59   NaN  1017.9    NaN\n",
       "1    2022-07-21 00:00:00   3.0739   8.5073  27.05   NaN  1012.5    NaN\n",
       "2    2022-07-21 00:00:00   5.7872   0.3541    NaN   NaN     NaN    NaN\n",
       "3    2022-07-21 00:00:00   0.8735 -46.5852  28.10   NaN  1012.1    NaN\n",
       "4    2022-07-21 00:00:00 -34.4136 -36.2684  16.92   NaN  1028.4    NaN\n",
       "...                  ...      ...      ...    ...   ...     ...    ...\n",
       "8323 2022-07-22 18:00:00   5.1214   3.9824  27.12   NaN     NaN    NaN\n",
       "8324 2022-07-22 18:00:00   8.7146 -13.7270  27.49   NaN     NaN    NaN\n",
       "8325 2022-07-22 18:00:00 -24.3070   4.1776  18.68   NaN     NaN    NaN\n",
       "8326 2022-07-22 18:00:00 -37.7576  -0.0514  13.55   NaN  1029.2    NaN\n",
       "8327 2022-07-22 18:04:00  13.9586 -53.3301  27.74   NaN     NaN    NaN\n",
       "\n",
       "[8328 rows x 7 columns]"
      ]
     },
     "execution_count": 46,
     "metadata": {},
     "output_type": "execute_result"
    }
   ],
   "source": [
    "df.fillna(np.nan)"
   ]
  },
  {
   "cell_type": "code",
   "execution_count": 2,
   "id": "b6d30abd",
   "metadata": {},
   "outputs": [],
   "source": [
    "from oceanoobsbrasil.others.drifters import Drifter"
   ]
  },
  {
   "cell_type": "code",
   "execution_count": 3,
   "id": "7660c497",
   "metadata": {},
   "outputs": [],
   "source": [
    "d = Drifter(platform_type='PROFILING FLOATS AND GLIDERS (GENERIC)')"
   ]
  },
  {
   "cell_type": "code",
   "execution_count": 4,
   "id": "87118b3a",
   "metadata": {},
   "outputs": [],
   "source": [
    "d.get()"
   ]
  },
  {
   "cell_type": "code",
   "execution_count": null,
   "id": "9983a2d6",
   "metadata": {},
   "outputs": [],
   "source": [
    "d.result"
   ]
  },
  {
   "cell_type": "code",
   "execution_count": 5,
   "id": "47fd6291",
   "metadata": {},
   "outputs": [],
   "source": [
    "d = Drifter()\n",
    "d.get()"
   ]
  },
  {
   "cell_type": "code",
   "execution_count": 6,
   "id": "57e66174",
   "metadata": {},
   "outputs": [
    {
     "data": {
      "text/html": [
       "<div>\n",
       "<style scoped>\n",
       "    .dataframe tbody tr th:only-of-type {\n",
       "        vertical-align: middle;\n",
       "    }\n",
       "\n",
       "    .dataframe tbody tr th {\n",
       "        vertical-align: top;\n",
       "    }\n",
       "\n",
       "    .dataframe thead th {\n",
       "        text-align: right;\n",
       "    }\n",
       "</style>\n",
       "<table border=\"1\" class=\"dataframe\">\n",
       "  <thead>\n",
       "    <tr style=\"text-align: right;\">\n",
       "      <th></th>\n",
       "      <th>name</th>\n",
       "      <th>date_time</th>\n",
       "      <th>lat</th>\n",
       "      <th>lon</th>\n",
       "      <th>sst</th>\n",
       "      <th>atmp</th>\n",
       "      <th>pres</th>\n",
       "      <th>swvht</th>\n",
       "      <th>institution</th>\n",
       "      <th>data_type</th>\n",
       "    </tr>\n",
       "  </thead>\n",
       "  <tbody>\n",
       "    <tr>\n",
       "      <th>0</th>\n",
       "      <td>1501823</td>\n",
       "      <td>2023-07-29</td>\n",
       "      <td>-18.2002</td>\n",
       "      <td>0.6986</td>\n",
       "      <td>20.17</td>\n",
       "      <td>NaN</td>\n",
       "      <td>NaN</td>\n",
       "      <td>NaN</td>\n",
       "      <td>gdp</td>\n",
       "      <td>drifter</td>\n",
       "    </tr>\n",
       "    <tr>\n",
       "      <th>1</th>\n",
       "      <td>3101580</td>\n",
       "      <td>2023-07-29</td>\n",
       "      <td>7.1732</td>\n",
       "      <td>-42.8178</td>\n",
       "      <td>29.06</td>\n",
       "      <td>NaN</td>\n",
       "      <td>NaN</td>\n",
       "      <td>NaN</td>\n",
       "      <td>gdp</td>\n",
       "      <td>drifter</td>\n",
       "    </tr>\n",
       "    <tr>\n",
       "      <th>2</th>\n",
       "      <td>1501761</td>\n",
       "      <td>2023-07-29</td>\n",
       "      <td>9.0490</td>\n",
       "      <td>-21.2790</td>\n",
       "      <td>NaN</td>\n",
       "      <td>NaN</td>\n",
       "      <td>NaN</td>\n",
       "      <td>NaN</td>\n",
       "      <td>gdp</td>\n",
       "      <td>drifter</td>\n",
       "    </tr>\n",
       "    <tr>\n",
       "      <th>3</th>\n",
       "      <td>3301700</td>\n",
       "      <td>2023-07-29</td>\n",
       "      <td>-44.9574</td>\n",
       "      <td>-53.2500</td>\n",
       "      <td>11.68</td>\n",
       "      <td>NaN</td>\n",
       "      <td>1022.6</td>\n",
       "      <td>NaN</td>\n",
       "      <td>gdp</td>\n",
       "      <td>drifter</td>\n",
       "    </tr>\n",
       "    <tr>\n",
       "      <th>4</th>\n",
       "      <td>1701515</td>\n",
       "      <td>2023-07-29</td>\n",
       "      <td>-31.8784</td>\n",
       "      <td>-5.3452</td>\n",
       "      <td>NaN</td>\n",
       "      <td>NaN</td>\n",
       "      <td>1038.0</td>\n",
       "      <td>NaN</td>\n",
       "      <td>gdp</td>\n",
       "      <td>drifter</td>\n",
       "    </tr>\n",
       "  </tbody>\n",
       "</table>\n",
       "</div>"
      ],
      "text/plain": [
       "      name  date_time      lat      lon    sst  atmp    pres  swvht  \\\n",
       "0  1501823 2023-07-29 -18.2002   0.6986  20.17   NaN     NaN    NaN   \n",
       "1  3101580 2023-07-29   7.1732 -42.8178  29.06   NaN     NaN    NaN   \n",
       "2  1501761 2023-07-29   9.0490 -21.2790    NaN   NaN     NaN    NaN   \n",
       "3  3301700 2023-07-29 -44.9574 -53.2500  11.68   NaN  1022.6    NaN   \n",
       "4  1701515 2023-07-29 -31.8784  -5.3452    NaN   NaN  1038.0    NaN   \n",
       "\n",
       "  institution data_type  \n",
       "0         gdp   drifter  \n",
       "1         gdp   drifter  \n",
       "2         gdp   drifter  \n",
       "3         gdp   drifter  \n",
       "4         gdp   drifter  "
      ]
     },
     "execution_count": 6,
     "metadata": {},
     "output_type": "execute_result"
    }
   ],
   "source": [
    "d.result.head()"
   ]
  },
  {
   "cell_type": "code",
   "execution_count": 10,
   "id": "824b460a",
   "metadata": {},
   "outputs": [
    {
     "data": {
      "text/plain": [
       "(139, 17)"
      ]
     },
     "execution_count": 10,
     "metadata": {},
     "output_type": "execute_result"
    }
   ],
   "source": [
    "db = Getdata()\n",
    "df = db.get(table='data_no_stations', institution=['in', ['ndbc']], date_time=['>', '2021-09-12'])\n",
    "df.shape"
   ]
  },
  {
   "cell_type": "code",
   "execution_count": 11,
   "id": "4046c834",
   "metadata": {},
   "outputs": [
    {
     "data": {
      "text/plain": [
       "tuple"
      ]
     },
     "execution_count": 11,
     "metadata": {},
     "output_type": "execute_result"
    }
   ],
   "source": [
    "type(df.shape)"
   ]
  }
 ],
 "metadata": {
  "kernelspec": {
   "display_name": "Python 3 (ipykernel)",
   "language": "python",
   "name": "python3"
  },
  "language_info": {
   "codemirror_mode": {
    "name": "ipython",
    "version": 3
   },
   "file_extension": ".py",
   "mimetype": "text/x-python",
   "name": "python",
   "nbconvert_exporter": "python",
   "pygments_lexer": "ipython3",
   "version": "3.10.6"
  },
  "toc": {
   "base_numbering": 1,
   "nav_menu": {},
   "number_sections": true,
   "sideBar": true,
   "skip_h1_title": false,
   "title_cell": "Table of Contents",
   "title_sidebar": "Contents",
   "toc_cell": false,
   "toc_position": {},
   "toc_section_display": true,
   "toc_window_display": false
  }
 },
 "nbformat": 4,
 "nbformat_minor": 5
}
