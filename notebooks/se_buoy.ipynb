{
 "cells": [
  {
   "cell_type": "code",
   "execution_count": 1,
   "id": "c9809b64",
   "metadata": {},
   "outputs": [],
   "source": [
    "import pandas as pd\n",
    "import numpy as np\n",
    "import re\n",
    "\n",
    "from selenium import webdriver\n",
    "from selenium.webdriver.common.keys import Keys\n",
    "from selenium.webdriver.common.by import By\n",
    "from selenium.webdriver.support.ui import WebDriverWait\n",
    "from selenium.webdriver.support import expected_conditions as ec\n",
    "from selenium.webdriver.chrome.options import Options\n",
    "import chromedriver_binary\n",
    "from bs4 import BeautifulSoup\n",
    "\n",
    "from datetime import datetime, timedelta\n",
    "import time\n",
    "\n",
    "from oceanoobsbrasil.db import GetData\n",
    "from oceanoobsbrasil.utils import *\n",
    "\n",
    "import psutil\n",
    "import os\n",
    "from dotenv import load_dotenv\n",
    "\n",
    "%load_ext autoreload\n",
    "%autoreload 2"
   ]
  },
  {
   "cell_type": "code",
   "execution_count": 47,
   "id": "ea158516",
   "metadata": {},
   "outputs": [],
   "source": [
    "options = Options()\n",
    "options.add_argument(\"-headless\")\n",
    "driver = webdriver.Chrome(options=options)\n",
    "\n",
    "bd = GetData()\n",
    "equip = 'buoy'\n",
    "stations = bd.get(table='stations', institution=['=', 'hidromares'], name=['=', 'celse'], data_type=['=', equip]).iloc[0]\n",
    "\n",
    "url=os.getenv('SE_URL')"
   ]
  },
  {
   "cell_type": "code",
   "execution_count": 48,
   "id": "e418fa1a",
   "metadata": {},
   "outputs": [],
   "source": [
    "driver.get(url)\n",
    "time.sleep(6)\n",
    "driver.find_element_by_css_selector(\"#id_username\").send_keys(os.getenv('SE_USER'))\n",
    "driver.find_element_by_css_selector(\"#id_password\").send_keys(os.getenv('SE_PWD'))\n",
    "driver.find_element_by_css_selector(\"#wp-submit\").click()\n",
    "time.sleep(6)"
   ]
  },
  {
   "cell_type": "code",
   "execution_count": 49,
   "id": "619e7038",
   "metadata": {},
   "outputs": [],
   "source": [
    "number = 1  # first frame\n",
    "driver.switch_to.frame(number)\n",
    "\n",
    "soup=BeautifulSoup(driver.page_source, 'lxml')"
   ]
  },
  {
   "cell_type": "code",
   "execution_count": 12,
   "id": "cd3a8a78",
   "metadata": {},
   "outputs": [],
   "source": [
    "def get_data(soup, attrs):\n",
    "    try:\n",
    "        value=float(soup.find(\"div\", {\"id\": attrs}).get_text(strip=True))\n",
    "    except:\n",
    "        value = np.nan\n",
    "    return value"
   ]
  },
  {
   "cell_type": "code",
   "execution_count": 13,
   "id": "8478302a",
   "metadata": {},
   "outputs": [],
   "source": [
    "mwd = get_data(soup, \"Box02_1560\")"
   ]
  },
  {
   "cell_type": "code",
   "execution_count": 14,
   "id": "9e3ea8be",
   "metadata": {},
   "outputs": [
    {
     "data": {
      "text/plain": [
       "145.0"
      ]
     },
     "execution_count": 14,
     "metadata": {},
     "output_type": "execute_result"
    }
   ],
   "source": [
    "mwd"
   ]
  },
  {
   "cell_type": "code",
   "execution_count": 29,
   "id": "edda6a9b",
   "metadata": {},
   "outputs": [],
   "source": [
    "data=soup.find(\"div\", {\"id\": \"Box11_h0\"}).get_text(strip=True)\n",
    "hour = int(data[0:2])\n",
    "minute = int(data[3:5])\n",
    "\n",
    "date_time = datetime.utcnow() - timedelta(hours=3)\n",
    "date_time = date_time.replace(hour=hour)\n",
    "date_time = date_time.replace(minute=minute)\n",
    "date_time = date_time.strftime(\"%Y-%m-%d %H:%M\")"
   ]
  },
  {
   "cell_type": "code",
   "execution_count": 26,
   "id": "c4d7ad9e",
   "metadata": {},
   "outputs": [
    {
     "data": {
      "text/plain": [
       "datetime.datetime(2021, 9, 12, 20, 55, 47, 398316)"
      ]
     },
     "execution_count": 26,
     "metadata": {},
     "output_type": "execute_result"
    }
   ],
   "source": [
    "date_time"
   ]
  },
  {
   "cell_type": "code",
   "execution_count": 2,
   "id": "f1e466d7",
   "metadata": {},
   "outputs": [],
   "source": [
    "from oceanoobsbrasil.buoys.se import SEBuoy\n"
   ]
  },
  {
   "cell_type": "code",
   "execution_count": 3,
   "id": "50e511ae",
   "metadata": {},
   "outputs": [],
   "source": [
    "s = SEBuoy()"
   ]
  },
  {
   "cell_type": "code",
   "execution_count": 4,
   "id": "d9c805a3",
   "metadata": {},
   "outputs": [
    {
     "name": "stdout",
     "output_type": "stream",
     "text": [
      "            date_time swvht  wvdir  wspd  gust station_id\n",
      "0 2023-06-02 09:59:00  1.61  128.0  3.95  6.76        896\n",
      "driver is running\n",
      "chrome is still running, we can quit\n",
      "driver has died\n"
     ]
    }
   ],
   "source": [
    "s.get()"
   ]
  },
  {
   "cell_type": "code",
   "execution_count": 6,
   "id": "ab0d0cbc",
   "metadata": {},
   "outputs": [],
   "source": [
    "data=s.soup.find(\"div\", {\"id\": \"Box11_h0\"}).get_text(strip=True)\n",
    "minute = int(data[3:5])"
   ]
  },
  {
   "cell_type": "code",
   "execution_count": 9,
   "id": "21a16ad0",
   "metadata": {},
   "outputs": [
    {
     "data": {
      "text/plain": [
       "35"
      ]
     },
     "execution_count": 9,
     "metadata": {},
     "output_type": "execute_result"
    }
   ],
   "source": [
    "int(data[2:4])"
   ]
  },
  {
   "cell_type": "code",
   "execution_count": 75,
   "id": "f976e1e8",
   "metadata": {},
   "outputs": [
    {
     "data": {
      "text/html": [
       "<div>\n",
       "<style scoped>\n",
       "    .dataframe tbody tr th:only-of-type {\n",
       "        vertical-align: middle;\n",
       "    }\n",
       "\n",
       "    .dataframe tbody tr th {\n",
       "        vertical-align: top;\n",
       "    }\n",
       "\n",
       "    .dataframe thead th {\n",
       "        text-align: right;\n",
       "    }\n",
       "</style>\n",
       "<table border=\"1\" class=\"dataframe\">\n",
       "  <thead>\n",
       "    <tr style=\"text-align: right;\">\n",
       "      <th></th>\n",
       "      <th>date_time</th>\n",
       "      <th>swvht</th>\n",
       "      <th>wvdir</th>\n",
       "      <th>wspd</th>\n",
       "      <th>gust</th>\n",
       "      <th>station_id</th>\n",
       "    </tr>\n",
       "  </thead>\n",
       "  <tbody>\n",
       "    <tr>\n",
       "      <th>0</th>\n",
       "      <td>2021-09-12 21:40</td>\n",
       "      <td>1.44</td>\n",
       "      <td>147.0</td>\n",
       "      <td>5.69</td>\n",
       "      <td>6.73</td>\n",
       "      <td>896</td>\n",
       "    </tr>\n",
       "  </tbody>\n",
       "</table>\n",
       "</div>"
      ],
      "text/plain": [
       "          date_time swvht  wvdir  wspd  gust station_id\n",
       "0  2021-09-12 21:40  1.44  147.0  5.69  6.73        896"
      ]
     },
     "execution_count": 75,
     "metadata": {},
     "output_type": "execute_result"
    }
   ],
   "source": [
    "s.result"
   ]
  }
 ],
 "metadata": {
  "kernelspec": {
   "display_name": "Python 3 (ipykernel)",
   "language": "python",
   "name": "python3"
  },
  "language_info": {
   "codemirror_mode": {
    "name": "ipython",
    "version": 3
   },
   "file_extension": ".py",
   "mimetype": "text/x-python",
   "name": "python",
   "nbconvert_exporter": "python",
   "pygments_lexer": "ipython3",
   "version": "3.10.6"
  },
  "toc": {
   "base_numbering": 1,
   "nav_menu": {},
   "number_sections": true,
   "sideBar": true,
   "skip_h1_title": false,
   "title_cell": "Table of Contents",
   "title_sidebar": "Contents",
   "toc_cell": false,
   "toc_position": {},
   "toc_section_display": true,
   "toc_window_display": false
  }
 },
 "nbformat": 4,
 "nbformat_minor": 5
}
