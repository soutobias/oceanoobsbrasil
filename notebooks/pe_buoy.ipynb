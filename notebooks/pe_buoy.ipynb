{
 "cells": [
  {
   "cell_type": "code",
   "execution_count": 33,
   "id": "6c9739c0",
   "metadata": {
    "scrolled": true
   },
   "outputs": [
    {
     "name": "stdout",
     "output_type": "stream",
     "text": [
      "The autoreload extension is already loaded. To reload it, use:\n",
      "  %reload_ext autoreload\n"
     ]
    }
   ],
   "source": [
    "import pandas as pd\n",
    "import numpy as np\n",
    "\n",
    "from selenium import webdriver\n",
    "from selenium.webdriver.common.keys import Keys\n",
    "from selenium.webdriver.common.by import By\n",
    "from selenium.webdriver.support.ui import WebDriverWait\n",
    "from selenium.webdriver.support import expected_conditions as ec\n",
    "from selenium.webdriver.chrome.options import Options\n",
    "from datetime import datetime, timedelta\n",
    "from oceanoobsbrasil.bd import GetData\n",
    "from oceanoobsbrasil.utils import *\n",
    "from oceanoobsbrasil.get_pe_buoy import PEBuoy\n",
    "\n",
    "import os\n",
    "from dotenv import load_dotenv\n",
    "\n",
    "from bs4 import BeautifulSoup\n",
    "import re\n",
    "import chromedriver_binary\n",
    "%load_ext autoreload\n",
    "%autoreload 2"
   ]
  },
  {
   "cell_type": "code",
   "execution_count": 59,
   "id": "ba76978a",
   "metadata": {
    "scrolled": true
   },
   "outputs": [],
   "source": [
    "p = PEBuoy()"
   ]
  },
  {
   "cell_type": "code",
   "execution_count": 60,
   "id": "6fffe408",
   "metadata": {},
   "outputs": [
    {
     "name": "stdout",
     "output_type": "stream",
     "text": [
      "driver is running\n",
      "Firefox is still running, we can quit\n"
     ]
    }
   ],
   "source": [
    "p.get()"
   ]
  },
  {
   "cell_type": "code",
   "execution_count": 62,
   "id": "c78bb091",
   "metadata": {},
   "outputs": [
    {
     "data": {
      "text/html": [
       "<div>\n",
       "<style scoped>\n",
       "    .dataframe tbody tr th:only-of-type {\n",
       "        vertical-align: middle;\n",
       "    }\n",
       "\n",
       "    .dataframe tbody tr th {\n",
       "        vertical-align: top;\n",
       "    }\n",
       "\n",
       "    .dataframe thead th {\n",
       "        text-align: right;\n",
       "    }\n",
       "</style>\n",
       "<table border=\"1\" class=\"dataframe\">\n",
       "  <thead>\n",
       "    <tr style=\"text-align: right;\">\n",
       "      <th></th>\n",
       "      <th>date_time</th>\n",
       "      <th>wvdir</th>\n",
       "      <th>swvht</th>\n",
       "      <th>wvdir_sea</th>\n",
       "      <th>swvht_sea</th>\n",
       "      <th>wvdir_swell</th>\n",
       "      <th>swvht_swell</th>\n",
       "      <th>wspd</th>\n",
       "      <th>gust</th>\n",
       "      <th>wdir</th>\n",
       "      <th>station_id</th>\n",
       "    </tr>\n",
       "  </thead>\n",
       "  <tbody>\n",
       "    <tr>\n",
       "      <th>0</th>\n",
       "      <td>2021-09-12 19:50:00</td>\n",
       "      <td>125</td>\n",
       "      <td>1.52</td>\n",
       "      <td>102</td>\n",
       "      <td>1.36</td>\n",
       "      <td>138</td>\n",
       "      <td>0.69</td>\n",
       "      <td>5.19</td>\n",
       "      <td>5.96</td>\n",
       "      <td>203</td>\n",
       "      <td>895</td>\n",
       "    </tr>\n",
       "  </tbody>\n",
       "</table>\n",
       "</div>"
      ],
      "text/plain": [
       "            date_time wvdir swvht wvdir_sea swvht_sea wvdir_swell swvht_swell  \\\n",
       "0 2021-09-12 19:50:00   125  1.52       102      1.36         138        0.69   \n",
       "\n",
       "   wspd  gust wdir station_id  \n",
       "0  5.19  5.96  203        895  "
      ]
     },
     "execution_count": 62,
     "metadata": {},
     "output_type": "execute_result"
    }
   ],
   "source": [
    "p.result"
   ]
  },
  {
   "cell_type": "code",
   "execution_count": 63,
   "id": "c0172710",
   "metadata": {},
   "outputs": [
    {
     "data": {
      "text/plain": [
       "'Senhachata1!'"
      ]
     },
     "execution_count": 63,
     "metadata": {},
     "output_type": "execute_result"
    }
   ],
   "source": [
    "os.getenv('SE_PWD')"
   ]
  },
  {
   "cell_type": "code",
   "execution_count": null,
   "id": "ca09d78d",
   "metadata": {},
   "outputs": [],
   "source": []
  }
 ],
 "metadata": {
  "kernelspec": {
   "display_name": "Python 3 (ipykernel)",
   "language": "python",
   "name": "python3"
  },
  "language_info": {
   "codemirror_mode": {
    "name": "ipython",
    "version": 3
   },
   "file_extension": ".py",
   "mimetype": "text/x-python",
   "name": "python",
   "nbconvert_exporter": "python",
   "pygments_lexer": "ipython3",
   "version": "3.8.6"
  },
  "toc": {
   "base_numbering": 1,
   "nav_menu": {},
   "number_sections": true,
   "sideBar": true,
   "skip_h1_title": false,
   "title_cell": "Table of Contents",
   "title_sidebar": "Contents",
   "toc_cell": false,
   "toc_position": {},
   "toc_section_display": true,
   "toc_window_display": false
  }
 },
 "nbformat": 4,
 "nbformat_minor": 5
}
